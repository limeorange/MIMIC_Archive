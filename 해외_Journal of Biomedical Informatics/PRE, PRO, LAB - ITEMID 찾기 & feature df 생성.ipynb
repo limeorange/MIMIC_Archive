{
 "cells": [
  {
   "cell_type": "code",
   "execution_count": 19,
   "id": "b89a4f36",
   "metadata": {},
   "outputs": [],
   "source": [
    "import numpy as np, os\n",
    "import pandas as pd\n",
    "import tensorflow as tf\n",
    "from tqdm import tqdm\n",
    "\n",
    "# 결과 확인을 용이하게 하기 위한 코드\n",
    "from IPython.core.interactiveshell import InteractiveShell\n",
    "InteractiveShell.ast_node_interactivity = 'all'"
   ]
  },
  {
   "cell_type": "code",
   "execution_count": 20,
   "id": "34f875cd",
   "metadata": {},
   "outputs": [
    {
     "name": "stderr",
     "output_type": "stream",
     "text": [
      "/usr/local/lib/python3.8/dist-packages/IPython/core/interactiveshell.py:3169: DtypeWarning: Columns (11) have mixed types.Specify dtype option on import or set low_memory=False.\n",
      "  has_raised = await self.run_ast_nodes(code_ast.body, cell_name,\n"
     ]
    }
   ],
   "source": [
    "mimic_path = '/data/MIMIC_III/'\n",
    "lab = pd.read_csv(mimic_path + 'D_LABITEMS.csv')\n",
    "pro = pd.read_csv(mimic_path + 'D_ITEMS.csv')\n",
    "pre = pd.read_csv(mimic_path + 'PRESCRIPTIONS.csv') #코드만 있기 때문에 필요 없음"
   ]
  },
  {
   "cell_type": "code",
   "execution_count": 17,
   "id": "c0a8e810",
   "metadata": {},
   "outputs": [
    {
     "data": {
      "text/html": [
       "<div>\n",
       "<style scoped>\n",
       "    .dataframe tbody tr th:only-of-type {\n",
       "        vertical-align: middle;\n",
       "    }\n",
       "\n",
       "    .dataframe tbody tr th {\n",
       "        vertical-align: top;\n",
       "    }\n",
       "\n",
       "    .dataframe thead th {\n",
       "        text-align: right;\n",
       "    }\n",
       "</style>\n",
       "<table border=\"1\" class=\"dataframe\">\n",
       "  <thead>\n",
       "    <tr style=\"text-align: right;\">\n",
       "      <th></th>\n",
       "      <th>feature</th>\n",
       "      <th>feature_name</th>\n",
       "    </tr>\n",
       "  </thead>\n",
       "  <tbody>\n",
       "    <tr>\n",
       "      <th>0</th>\n",
       "      <td>50822</td>\n",
       "      <td>Potassium, Whole Blood</td>\n",
       "    </tr>\n",
       "    <tr>\n",
       "      <th>1</th>\n",
       "      <td>50821</td>\n",
       "      <td>pO2</td>\n",
       "    </tr>\n",
       "    <tr>\n",
       "      <th>2</th>\n",
       "      <td>50813</td>\n",
       "      <td>Lactate</td>\n",
       "    </tr>\n",
       "    <tr>\n",
       "      <th>3</th>\n",
       "      <td>50809</td>\n",
       "      <td>Glucose</td>\n",
       "    </tr>\n",
       "    <tr>\n",
       "      <th>4</th>\n",
       "      <td>50808</td>\n",
       "      <td>Free Calcium</td>\n",
       "    </tr>\n",
       "    <tr>\n",
       "      <th>...</th>\n",
       "      <td>...</td>\n",
       "      <td>...</td>\n",
       "    </tr>\n",
       "    <tr>\n",
       "      <th>4064</th>\n",
       "      <td>226475</td>\n",
       "      <td>Intraventricular Drain Inserted</td>\n",
       "    </tr>\n",
       "    <tr>\n",
       "      <th>4065</th>\n",
       "      <td>225460</td>\n",
       "      <td>Cervical Spine</td>\n",
       "    </tr>\n",
       "    <tr>\n",
       "      <th>4066</th>\n",
       "      <td>225461</td>\n",
       "      <td>Pelvis</td>\n",
       "    </tr>\n",
       "    <tr>\n",
       "      <th>4067</th>\n",
       "      <td>228201</td>\n",
       "      <td>Tandem Heart Access Line</td>\n",
       "    </tr>\n",
       "    <tr>\n",
       "      <th>4068</th>\n",
       "      <td>228202</td>\n",
       "      <td>Tandem Heart Return Line</td>\n",
       "    </tr>\n",
       "  </tbody>\n",
       "</table>\n",
       "<p>4069 rows × 2 columns</p>\n",
       "</div>"
      ],
      "text/plain": [
       "      feature                     feature_name\n",
       "0       50822           Potassium, Whole Blood\n",
       "1       50821                              pO2\n",
       "2       50813                          Lactate\n",
       "3       50809                          Glucose\n",
       "4       50808                     Free Calcium\n",
       "...       ...                              ...\n",
       "4064   226475  Intraventricular Drain Inserted\n",
       "4065   225460                   Cervical Spine\n",
       "4066   225461                           Pelvis\n",
       "4067   228201         Tandem Heart Access Line\n",
       "4068   228202         Tandem Heart Return Line\n",
       "\n",
       "[4069 rows x 2 columns]"
      ]
     },
     "execution_count": 17,
     "metadata": {},
     "output_type": "execute_result"
    }
   ],
   "source": [
    "df = pd.read_csv('total_data.csv')\n",
    "\n",
    "LAB_list = df[df['TYPE']=='LAB']['ITEMID'].unique()\n",
    "PRO_list = df[df['TYPE']=='PRO']['ITEMID'].unique()\n",
    "PRE_list = df[df['TYPE']=='PRE']['ITEMID'].unique()\n",
    "\n",
    "result = []\n",
    "for i in LAB_list:\n",
    "    result.append({'feature':i, 'feature_name':lab[lab['ITEMID']==i]['LABEL'].unique()[0]})\n",
    "for i in PRE_list:\n",
    "    result.append({'feature':i, 'feature_name':pre[pre['NDC']==i]['DRUG'].unique()[0]})\n",
    "for i in PRO_list:\n",
    "    result.append({'feature':i, 'feature_name':pro[pro['ITEMID']==i]['LABEL'].unique()[0]})\n",
    "\n",
    "feature_df = pd.DataFrame(result)\n",
    "feature_df"
   ]
  },
  {
   "cell_type": "code",
   "execution_count": 18,
   "id": "dbe6a5d6",
   "metadata": {},
   "outputs": [],
   "source": [
    "# feature_df.to_csv('feature_df.csv', index = False)"
   ]
  },
  {
   "cell_type": "markdown",
   "id": "ed674f00",
   "metadata": {},
   "source": [
    "# pre"
   ]
  },
  {
   "cell_type": "code",
   "execution_count": 7,
   "id": "daea6181",
   "metadata": {},
   "outputs": [
    {
     "data": {
      "text/plain": [
       "array(['Dextrose 50%', 'Dextros', 'dextrose', 'dextr'], dtype=object)"
      ]
     },
     "execution_count": 7,
     "metadata": {},
     "output_type": "execute_result"
    },
    {
     "data": {
      "text/plain": [
       "4"
      ]
     },
     "execution_count": 7,
     "metadata": {},
     "output_type": "execute_result"
    },
    {
     "data": {
      "text/plain": [
       "array(['DEX50SY'], dtype=object)"
      ]
     },
     "execution_count": 7,
     "metadata": {},
     "output_type": "execute_result"
    },
    {
     "data": {
      "text/plain": [
       "array(['50mL Syringe'], dtype=object)"
      ]
     },
     "execution_count": 7,
     "metadata": {},
     "output_type": "execute_result"
    }
   ],
   "source": [
    "itemid = 409490234\n",
    "\n",
    "pre[pre['NDC']==itemid]['DRUG'].unique()\n",
    "len(pre[pre['NDC']==itemid]['DRUG'].unique())\n",
    "pre[pre['NDC']==itemid]['FORMULARY_DRUG_CD'].unique()\n",
    "pre[pre['NDC']==itemid]['PROD_STRENGTH'].unique()"
   ]
  },
  {
   "cell_type": "markdown",
   "id": "ce298d64",
   "metadata": {},
   "source": [
    "# lab"
   ]
  },
  {
   "cell_type": "code",
   "execution_count": 21,
   "id": "333985b5",
   "metadata": {
    "scrolled": true
   },
   "outputs": [
    {
     "data": {
      "text/plain": [
       "array(['Asparate Aminotransferase (AST)'], dtype=object)"
      ]
     },
     "execution_count": 21,
     "metadata": {},
     "output_type": "execute_result"
    },
    {
     "data": {
      "text/plain": [
       "array(['1920-8'], dtype=object)"
      ]
     },
     "execution_count": 21,
     "metadata": {},
     "output_type": "execute_result"
    }
   ],
   "source": [
    "itemid = 50878\n",
    "\n",
    "lab[lab['ITEMID']==itemid]['LABEL'].unique()\n",
    "lab[lab['ITEMID']==itemid]['LOINC_CODE'].unique()"
   ]
  },
  {
   "cell_type": "markdown",
   "id": "a993c8c5",
   "metadata": {},
   "source": [
    "# pro"
   ]
  },
  {
   "cell_type": "code",
   "execution_count": 4,
   "id": "9ac189f1",
   "metadata": {
    "scrolled": true
   },
   "outputs": [
    {
     "data": {
      "text/plain": [
       "array(['20 Gauge'], dtype=object)"
      ]
     },
     "execution_count": 4,
     "metadata": {},
     "output_type": "execute_result"
    }
   ],
   "source": [
    "itemid = 224275\n",
    "\n",
    "pro[pro['ITEMID']==itemid]['LABEL'].unique()"
   ]
  }
 ],
 "metadata": {
  "kernelspec": {
   "display_name": "Python 3",
   "language": "python",
   "name": "python3"
  },
  "language_info": {
   "codemirror_mode": {
    "name": "ipython",
    "version": 3
   },
   "file_extension": ".py",
   "mimetype": "text/x-python",
   "name": "python",
   "nbconvert_exporter": "python",
   "pygments_lexer": "ipython3",
   "version": "3.8.5"
  },
  "toc": {
   "base_numbering": 1,
   "nav_menu": {},
   "number_sections": true,
   "sideBar": true,
   "skip_h1_title": false,
   "title_cell": "Table of Contents",
   "title_sidebar": "Contents",
   "toc_cell": false,
   "toc_position": {},
   "toc_section_display": true,
   "toc_window_display": false
  }
 },
 "nbformat": 4,
 "nbformat_minor": 5
}
