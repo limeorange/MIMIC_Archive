{
 "cells": [
  {
   "cell_type": "code",
   "execution_count": 43,
   "id": "8858b881",
   "metadata": {},
   "outputs": [],
   "source": [
    "import tensorflow as tf\n",
    "from tensorflow import keras\n",
    "import IPython\n",
    "\n",
    "# !pip install -q -U keras-tuner\n",
    "import keras_tuner as kt\n",
    "\n",
    "import pandas as pd\n",
    "import numpy as np\n",
    "import warnings\n",
    "warnings.filterwarnings(action='ignore')\n",
    "\n",
    "from tensorflow.keras.models import Sequential\n",
    "from tensorflow.keras.layers import Dense, LSTM\n",
    "from tensorflow.keras.layers import SimpleRNN\n",
    "from tensorflow.keras.layers import Dropout, InputLayer\n",
    "from tensorflow.keras.callbacks import EarlyStopping\n",
    "from tensorflow.keras.regularizers import l2\n",
    "from tensorflow.keras.optimizers import Adam"
   ]
  },
  {
   "cell_type": "code",
   "execution_count": 44,
   "id": "177c09c6",
   "metadata": {},
   "outputs": [
    {
     "data": {
      "text/plain": [
       "((6182, 10, 4069), (6182,), (1545, 10, 4069), (1545,))"
      ]
     },
     "execution_count": 44,
     "metadata": {},
     "output_type": "execute_result"
    }
   ],
   "source": [
    "seed_num = 48\n",
    "\n",
    "import random    \n",
    "random.seed(seed_num)\n",
    "\n",
    "x = np.load('/project/LSH/x_(7727,10,4069).npy')\n",
    "y = np.load('/project/LSH/y_(7727,1).npy')\n",
    "\n",
    "idx = list(range(len(x)))\n",
    "random.shuffle(idx)\n",
    "\n",
    "i = round(x.shape[0]*0.8)\n",
    "X_train, y_train = x[idx[:i],:,:], y[idx[:i]]\n",
    "X_test, y_test = x[idx[i:],:,:], y[idx[i:]]\n",
    "\n",
    "X_train.shape, y_train.shape, X_test.shape, y_test.shape"
   ]
  },
  {
   "cell_type": "code",
   "execution_count": 45,
   "id": "6f317100",
   "metadata": {},
   "outputs": [],
   "source": [
    "def model_builder(hp):\n",
    "    model = Sequential()\n",
    "    model.add(InputLayer(input_shape=(X_train.shape[1],X_train.shape[2])))\n",
    "    \n",
    "    hp_units1 = hp.Int('units1', min_value = 32, max_value = 512, step = 32)\n",
    "    hp_units2 = hp.Int('units2', min_value = 32, max_value = 512, step = 32)\n",
    "    hp_units3 = hp.Int('units3', min_value = 32, max_value = 512, step = 32)\n",
    "    hp_units4 = hp.Int('units4', min_value = 32, max_value = 512, step = 32)\n",
    "    \n",
    "    hp_activ1 = hp.Choice('activation1', values=['relu', 'tanh', 'hard_sigmoid'], default='hard_sigmoid')\n",
    "    hp_activ2 = hp.Choice('activation2', values=['relu', 'tanh', 'hard_sigmoid'], default='hard_sigmoid')\n",
    "    hp_activ3 = hp.Choice('activation3', values=['relu', 'tanh', 'hard_sigmoid'], default='hard_sigmoid')\n",
    "    hp_activ4 = hp.Choice('activation4', values=['relu', 'tanh', 'hard_sigmoid'], default='hard_sigmoid')\n",
    "    \n",
    "    hp_drop1 = hp.Float('dropout1', min_value=0.0,max_value=0.5,default=0.2,step=0.05)\n",
    "    hp_drop2 = hp.Float('dropout2', min_value=0.0,max_value=0.5,default=0.2,step=0.05)\n",
    "    \n",
    "    hp_activ_dense = hp.Choice('dense_activation', values=['relu', 'tanh', 'sigmoid'], default='sigmoid')\n",
    "    \n",
    "    model.add(LSTM(units = hp_units1, activation = hp_activ1, return_sequences=True))\n",
    "    model.add(LSTM(units = hp_units2, activation = hp_activ2, return_sequences=True))\n",
    "    model.add(Dropout(rate=hp_drop1))\n",
    "    model.add(LSTM(units = hp_units3, activation = hp_activ3, return_sequences=True))\n",
    "    model.add(LSTM(units = hp_units4, activation = hp_activ4, return_sequences=False))\n",
    "    model.add(Dropout(rate=hp_drop2))\n",
    "    model.add(Dense(1, activation=hp_activ_dense))\n",
    "\n",
    "    hp_learning_rate = hp.Choice('learning_rate', values = [1e-2, 1e-3, 1e-4]) \n",
    "\n",
    "    model.compile(optimizer = keras.optimizers.Adam(learning_rate = hp_learning_rate),\n",
    "                loss = \"binary_crossentropy\", \n",
    "                metrics = ['accuracy'])\n",
    "    \n",
    "    return model"
   ]
  },
  {
   "cell_type": "code",
   "execution_count": 46,
   "id": "1ff5bfaa",
   "metadata": {},
   "outputs": [],
   "source": [
    "ep = 500\n",
    "pa = 10\n",
    "early_stop = EarlyStopping(monitor='val_acc', patience=pa, verbose=1, restore_best_weights=True)\n",
    "tuner = kt.Hyperband(model_builder,\n",
    "                     objective = 'val_accuracy', \n",
    "                     max_epochs = ep,\n",
    "                     factor = 3,\n",
    "                     directory = 'my_dir1',\n",
    "                     project_name = 'intro_to_kt')"
   ]
  },
  {
   "cell_type": "code",
   "execution_count": 47,
   "id": "de113d37",
   "metadata": {},
   "outputs": [],
   "source": [
    "class ClearTrainingOutput(tf.keras.callbacks.Callback):\n",
    "    def on_train_end(*args, **kwargs):\n",
    "        IPython.display.clear_output(wait = True)"
   ]
  },
  {
   "cell_type": "code",
   "execution_count": null,
   "id": "0303542e",
   "metadata": {
    "scrolled": true
   },
   "outputs": [
    {
     "name": "stdout",
     "output_type": "stream",
     "text": [
      "Trial 48 Complete [00h 01m 28s]\n",
      "val_accuracy: 0.6284789443016052\n",
      "\n",
      "Best val_accuracy So Far: 0.8019417524337769\n",
      "Total elapsed time: 01h 02m 18s\n",
      "\n",
      "Search: Running Trial #49\n",
      "\n",
      "Hyperparameter    |Value             |Best Value So Far \n",
      "units1            |448               |128               \n",
      "units2            |384               |64                \n",
      "units3            |320               |352               \n",
      "units4            |96                |320               \n",
      "activation1       |tanh              |hard_sigmoid      \n",
      "activation2       |hard_sigmoid      |relu              \n",
      "activation3       |hard_sigmoid      |hard_sigmoid      \n",
      "activation4       |hard_sigmoid      |hard_sigmoid      \n",
      "dropout1          |0.2               |0.1               \n",
      "dropout2          |0.05              |0.05              \n",
      "dense_activation  |sigmoid           |sigmoid           \n",
      "learning_rate     |0.001             |0.001             \n",
      "tuner/epochs      |3                 |3                 \n",
      "tuner/initial_e...|0                 |0                 \n",
      "tuner/bracket     |5                 |5                 \n",
      "tuner/round       |0                 |0                 \n",
      "\n",
      "Epoch 1/3\n",
      "100/194 [==============>...............] - ETA: 10s - loss: 0.6461 - accuracy: 0.6413"
     ]
    }
   ],
   "source": [
    "%%time\n",
    "tuner.search(X_train, y_train, epochs = 10, validation_data = (X_test, y_test), callbacks = [ClearTrainingOutput()])\n",
    "\n",
    "# Get the optimal hyperparameters\n",
    "best_hps = tuner.get_best_hyperparameters(num_trials = 1)[0]"
   ]
  },
  {
   "cell_type": "code",
   "execution_count": null,
   "id": "25ab163e",
   "metadata": {},
   "outputs": [],
   "source": []
  },
  {
   "cell_type": "code",
   "execution_count": null,
   "id": "c727593f",
   "metadata": {},
   "outputs": [],
   "source": []
  },
  {
   "cell_type": "code",
   "execution_count": null,
   "id": "a231aab4",
   "metadata": {},
   "outputs": [],
   "source": []
  },
  {
   "cell_type": "code",
   "execution_count": null,
   "id": "78da87bc",
   "metadata": {},
   "outputs": [],
   "source": []
  },
  {
   "cell_type": "code",
   "execution_count": null,
   "id": "7e149551",
   "metadata": {},
   "outputs": [],
   "source": []
  },
  {
   "cell_type": "code",
   "execution_count": null,
   "id": "aa8b9399",
   "metadata": {},
   "outputs": [],
   "source": []
  },
  {
   "cell_type": "code",
   "execution_count": 21,
   "id": "95a7a584",
   "metadata": {},
   "outputs": [
    {
     "name": "stdout",
     "output_type": "stream",
     "text": [
      "Epoch 1/500\n",
      "194/194 [==============================] - 18s 68ms/step - loss: 0.6420 - accuracy: 0.6286 - val_loss: 0.5101 - val_accuracy: 0.7515\n",
      "Epoch 2/500\n",
      "194/194 [==============================] - 13s 66ms/step - loss: 0.4676 - accuracy: 0.7737 - val_loss: 0.5005 - val_accuracy: 0.7689\n",
      "Epoch 3/500\n",
      "194/194 [==============================] - 12s 63ms/step - loss: 0.3982 - accuracy: 0.8204 - val_loss: 0.5322 - val_accuracy: 0.7566\n",
      "Epoch 4/500\n",
      "194/194 [==============================] - 10s 51ms/step - loss: 0.3621 - accuracy: 0.8423 - val_loss: 0.5495 - val_accuracy: 0.7631\n",
      "Epoch 5/500\n",
      "194/194 [==============================] - 10s 53ms/step - loss: 0.3342 - accuracy: 0.8610 - val_loss: 0.4992 - val_accuracy: 0.7786\n",
      "Epoch 6/500\n",
      "194/194 [==============================] - 10s 54ms/step - loss: 0.2920 - accuracy: 0.8835 - val_loss: 0.5831 - val_accuracy: 0.7508\n",
      "Epoch 7/500\n",
      "194/194 [==============================] - 9s 47ms/step - loss: 0.2644 - accuracy: 0.8949 - val_loss: 0.5343 - val_accuracy: 0.7676\n",
      "Epoch 8/500\n",
      "194/194 [==============================] - 10s 50ms/step - loss: 0.2297 - accuracy: 0.9114 - val_loss: 0.6417 - val_accuracy: 0.7631\n",
      "Epoch 9/500\n",
      "194/194 [==============================] - 10s 51ms/step - loss: 0.1892 - accuracy: 0.9295 - val_loss: 0.6978 - val_accuracy: 0.7702\n",
      "Epoch 10/500\n",
      "194/194 [==============================] - 10s 52ms/step - loss: 0.1424 - accuracy: 0.9524 - val_loss: 0.7549 - val_accuracy: 0.7644\n",
      "Epoch 11/500\n",
      "194/194 [==============================] - 13s 67ms/step - loss: 0.1173 - accuracy: 0.9609 - val_loss: 0.9350 - val_accuracy: 0.7379\n",
      "Epoch 12/500\n",
      "194/194 [==============================] - 12s 64ms/step - loss: 0.0978 - accuracy: 0.9685 - val_loss: 1.0350 - val_accuracy: 0.7372\n",
      "Epoch 13/500\n",
      "194/194 [==============================] - 13s 65ms/step - loss: 0.0985 - accuracy: 0.9668 - val_loss: 0.9727 - val_accuracy: 0.7379\n",
      "Epoch 14/500\n",
      "194/194 [==============================] - 13s 66ms/step - loss: 0.0999 - accuracy: 0.9678 - val_loss: 0.9219 - val_accuracy: 0.7592\n",
      "Epoch 15/500\n",
      "194/194 [==============================] - 12s 64ms/step - loss: 0.0808 - accuracy: 0.9743 - val_loss: 0.9424 - val_accuracy: 0.7586\n",
      "Epoch 16/500\n",
      "194/194 [==============================] - 13s 67ms/step - loss: 0.0718 - accuracy: 0.9772 - val_loss: 0.9541 - val_accuracy: 0.7579\n",
      "Epoch 17/500\n",
      "194/194 [==============================] - 13s 65ms/step - loss: 0.0587 - accuracy: 0.9820 - val_loss: 1.0221 - val_accuracy: 0.7566\n",
      "Epoch 18/500\n",
      "194/194 [==============================] - 9s 47ms/step - loss: 0.0514 - accuracy: 0.9846 - val_loss: 1.0173 - val_accuracy: 0.7599\n",
      "Epoch 19/500\n",
      "194/194 [==============================] - 10s 51ms/step - loss: 0.0485 - accuracy: 0.9864 - val_loss: 1.0390 - val_accuracy: 0.7508\n",
      "Epoch 20/500\n",
      "194/194 [==============================] - 10s 52ms/step - loss: 0.0448 - accuracy: 0.9864 - val_loss: 1.1181 - val_accuracy: 0.7443\n",
      "Epoch 21/500\n",
      "194/194 [==============================] - 10s 50ms/step - loss: 0.0441 - accuracy: 0.9863 - val_loss: 1.1310 - val_accuracy: 0.7489\n",
      "Epoch 22/500\n",
      "194/194 [==============================] - 11s 55ms/step - loss: 0.0407 - accuracy: 0.9884 - val_loss: 1.1518 - val_accuracy: 0.7456\n",
      "Epoch 23/500\n",
      "194/194 [==============================] - 11s 56ms/step - loss: 0.0350 - accuracy: 0.9908 - val_loss: 1.2126 - val_accuracy: 0.7430\n",
      "Epoch 24/500\n",
      "194/194 [==============================] - 11s 54ms/step - loss: 0.0466 - accuracy: 0.9861 - val_loss: 1.1499 - val_accuracy: 0.7450\n",
      "Epoch 25/500\n",
      "194/194 [==============================] - 10s 52ms/step - loss: 0.0373 - accuracy: 0.9888 - val_loss: 1.1753 - val_accuracy: 0.7612\n",
      "Epoch 26/500\n",
      "194/194 [==============================] - 11s 59ms/step - loss: 0.0339 - accuracy: 0.9900 - val_loss: 1.2202 - val_accuracy: 0.7521\n",
      "Epoch 27/500\n",
      "194/194 [==============================] - 11s 58ms/step - loss: 0.0330 - accuracy: 0.9916 - val_loss: 1.2413 - val_accuracy: 0.7430\n",
      "Epoch 28/500\n",
      "194/194 [==============================] - 11s 59ms/step - loss: 0.0303 - accuracy: 0.9913 - val_loss: 1.2977 - val_accuracy: 0.7359\n",
      "Epoch 29/500\n",
      "194/194 [==============================] - 12s 60ms/step - loss: 0.0270 - accuracy: 0.9942 - val_loss: 1.3116 - val_accuracy: 0.7508\n",
      "Epoch 30/500\n",
      "194/194 [==============================] - 10s 50ms/step - loss: 0.0280 - accuracy: 0.9926 - val_loss: 1.3896 - val_accuracy: 0.7392\n",
      "Epoch 31/500\n",
      "194/194 [==============================] - 11s 59ms/step - loss: 0.0378 - accuracy: 0.9884 - val_loss: 1.2792 - val_accuracy: 0.7392\n",
      "Epoch 32/500\n",
      "194/194 [==============================] - 11s 58ms/step - loss: 0.0274 - accuracy: 0.9918 - val_loss: 1.3938 - val_accuracy: 0.7392\n",
      "Epoch 33/500\n",
      "194/194 [==============================] - 12s 62ms/step - loss: 0.0278 - accuracy: 0.9921 - val_loss: 1.3836 - val_accuracy: 0.7398\n",
      "Epoch 34/500\n",
      "194/194 [==============================] - 12s 60ms/step - loss: 0.0210 - accuracy: 0.9953 - val_loss: 1.3942 - val_accuracy: 0.7515\n",
      "Epoch 35/500\n",
      "194/194 [==============================] - 12s 62ms/step - loss: 0.0199 - accuracy: 0.9956 - val_loss: 1.4235 - val_accuracy: 0.7405\n",
      "Restoring model weights from the end of the best epoch.\n",
      "Epoch 00035: early stopping\n"
     ]
    },
    {
     "data": {
      "text/plain": [
       "<tensorflow.python.keras.callbacks.History at 0x7fdac4502610>"
      ]
     },
     "execution_count": 21,
     "metadata": {},
     "output_type": "execute_result"
    }
   ],
   "source": [
    "# Build the model with the optimal hyperparameters and train it on the data\n",
    "early_stop = EarlyStopping(monitor='val_accuracy', patience=30, verbose=1, restore_best_weights=True)\n",
    "\n",
    "model = tuner.hypermodel.build(best_hps)\n",
    "model.fit(X_train, y_train, epochs = 500, validation_data = (X_test, y_test),  callbacks=[early_stop], shuffle=False)"
   ]
  },
  {
   "cell_type": "code",
   "execution_count": null,
   "id": "28338160",
   "metadata": {},
   "outputs": [],
   "source": []
  },
  {
   "cell_type": "code",
   "execution_count": null,
   "id": "3c26606c",
   "metadata": {},
   "outputs": [],
   "source": []
  },
  {
   "cell_type": "code",
   "execution_count": null,
   "id": "158b8824",
   "metadata": {},
   "outputs": [],
   "source": []
  },
  {
   "cell_type": "code",
   "execution_count": null,
   "id": "3ab33557",
   "metadata": {},
   "outputs": [],
   "source": []
  },
  {
   "cell_type": "code",
   "execution_count": null,
   "id": "3ef56eee",
   "metadata": {},
   "outputs": [],
   "source": []
  },
  {
   "cell_type": "code",
   "execution_count": 22,
   "id": "fbb01588",
   "metadata": {},
   "outputs": [
    {
     "name": "stdout",
     "output_type": "stream",
     "text": [
      "정확도 : 0.7786407766990291\n"
     ]
    }
   ],
   "source": [
    "preds = model.predict(X_test)\n",
    "\n",
    "preds[preds>0.5]=1\n",
    "preds[preds<=0.5]=0\n",
    "\n",
    "from sklearn import metrics \n",
    "print('정확도 :', metrics.accuracy_score(y_test, preds))"
   ]
  }
 ],
 "metadata": {
  "kernelspec": {
   "display_name": "Python 3",
   "language": "python",
   "name": "python3"
  },
  "language_info": {
   "codemirror_mode": {
    "name": "ipython",
    "version": 3
   },
   "file_extension": ".py",
   "mimetype": "text/x-python",
   "name": "python",
   "nbconvert_exporter": "python",
   "pygments_lexer": "ipython3",
   "version": "3.8.5"
  },
  "toc": {
   "base_numbering": 1,
   "nav_menu": {},
   "number_sections": true,
   "sideBar": true,
   "skip_h1_title": false,
   "title_cell": "Table of Contents",
   "title_sidebar": "Contents",
   "toc_cell": false,
   "toc_position": {},
   "toc_section_display": true,
   "toc_window_display": false
  }
 },
 "nbformat": 4,
 "nbformat_minor": 5
}
