{
 "cells": [
  {
   "cell_type": "markdown",
   "id": "04a7dc45",
   "metadata": {},
   "source": [
    "# 라이브러리"
   ]
  },
  {
   "cell_type": "code",
   "execution_count": 1,
   "id": "57d301d5",
   "metadata": {},
   "outputs": [],
   "source": [
    "import pandas as pd\n",
    "import numpy as np\n",
    "\n",
    "# 결과 확인을 용이하게 하기 위한 코드\n",
    "from IPython.core.interactiveshell import InteractiveShell\n",
    "InteractiveShell.ast_node_interactivity = 'all'\n",
    "\n",
    "import seaborn as sns\n",
    "import matplotlib.pyplot as plt"
   ]
  },
  {
   "cell_type": "markdown",
   "id": "6d6e2525",
   "metadata": {},
   "source": [
    "# 7727명만을 포함한 total_data_7727.csv"
   ]
  },
  {
   "cell_type": "code",
   "execution_count": 77,
   "id": "5e3e912e",
   "metadata": {},
   "outputs": [
    {
     "data": {
      "text/html": [
       "<div>\n",
       "<style scoped>\n",
       "    .dataframe tbody tr th:only-of-type {\n",
       "        vertical-align: middle;\n",
       "    }\n",
       "\n",
       "    .dataframe tbody tr th {\n",
       "        vertical-align: top;\n",
       "    }\n",
       "\n",
       "    .dataframe thead th {\n",
       "        text-align: right;\n",
       "    }\n",
       "</style>\n",
       "<table border=\"1\" class=\"dataframe\">\n",
       "  <thead>\n",
       "    <tr style=\"text-align: right;\">\n",
       "      <th></th>\n",
       "      <th>SUBJECT_ID</th>\n",
       "      <th>ITEMID</th>\n",
       "      <th>CHARTTIME</th>\n",
       "      <th>TYPE</th>\n",
       "    </tr>\n",
       "  </thead>\n",
       "  <tbody>\n",
       "    <tr>\n",
       "      <th>0</th>\n",
       "      <td>9</td>\n",
       "      <td>50882</td>\n",
       "      <td>2149-11-09</td>\n",
       "      <td>LAB</td>\n",
       "    </tr>\n",
       "    <tr>\n",
       "      <th>1</th>\n",
       "      <td>9</td>\n",
       "      <td>50931</td>\n",
       "      <td>2149-11-09</td>\n",
       "      <td>LAB</td>\n",
       "    </tr>\n",
       "    <tr>\n",
       "      <th>2</th>\n",
       "      <td>9</td>\n",
       "      <td>50971</td>\n",
       "      <td>2149-11-09</td>\n",
       "      <td>LAB</td>\n",
       "    </tr>\n",
       "    <tr>\n",
       "      <th>3</th>\n",
       "      <td>9</td>\n",
       "      <td>51275</td>\n",
       "      <td>2149-11-09</td>\n",
       "      <td>LAB</td>\n",
       "    </tr>\n",
       "    <tr>\n",
       "      <th>4</th>\n",
       "      <td>9</td>\n",
       "      <td>51288</td>\n",
       "      <td>2149-11-09</td>\n",
       "      <td>LAB</td>\n",
       "    </tr>\n",
       "    <tr>\n",
       "      <th>...</th>\n",
       "      <td>...</td>\n",
       "      <td>...</td>\n",
       "      <td>...</td>\n",
       "      <td>...</td>\n",
       "    </tr>\n",
       "    <tr>\n",
       "      <th>9221915</th>\n",
       "      <td>99985</td>\n",
       "      <td>51288</td>\n",
       "      <td>2181-03-06</td>\n",
       "      <td>LAB</td>\n",
       "    </tr>\n",
       "    <tr>\n",
       "      <th>9221916</th>\n",
       "      <td>99985</td>\n",
       "      <td>51279</td>\n",
       "      <td>2182-03-14</td>\n",
       "      <td>LAB</td>\n",
       "    </tr>\n",
       "    <tr>\n",
       "      <th>9221917</th>\n",
       "      <td>99985</td>\n",
       "      <td>51006</td>\n",
       "      <td>2182-03-14</td>\n",
       "      <td>LAB</td>\n",
       "    </tr>\n",
       "    <tr>\n",
       "      <th>9221918</th>\n",
       "      <td>99985</td>\n",
       "      <td>51221</td>\n",
       "      <td>2182-03-14</td>\n",
       "      <td>LAB</td>\n",
       "    </tr>\n",
       "    <tr>\n",
       "      <th>9221919</th>\n",
       "      <td>99985</td>\n",
       "      <td>51222</td>\n",
       "      <td>2182-03-14</td>\n",
       "      <td>LAB</td>\n",
       "    </tr>\n",
       "  </tbody>\n",
       "</table>\n",
       "<p>9169855 rows × 4 columns</p>\n",
       "</div>"
      ],
      "text/plain": [
       "         SUBJECT_ID  ITEMID   CHARTTIME TYPE\n",
       "0                 9   50882  2149-11-09  LAB\n",
       "1                 9   50931  2149-11-09  LAB\n",
       "2                 9   50971  2149-11-09  LAB\n",
       "3                 9   51275  2149-11-09  LAB\n",
       "4                 9   51288  2149-11-09  LAB\n",
       "...             ...     ...         ...  ...\n",
       "9221915       99985   51288  2181-03-06  LAB\n",
       "9221916       99985   51279  2182-03-14  LAB\n",
       "9221917       99985   51006  2182-03-14  LAB\n",
       "9221918       99985   51221  2182-03-14  LAB\n",
       "9221919       99985   51222  2182-03-14  LAB\n",
       "\n",
       "[9169855 rows x 4 columns]"
      ]
     },
     "execution_count": 77,
     "metadata": {},
     "output_type": "execute_result"
    }
   ],
   "source": [
    "# total_data.csv -> 7727명을 포함한 total_data.csv\n",
    "x = np.load('./x_(7799,10,4069).npy')\n",
    "\n",
    "sub_sum = x.sum(axis=1).sum(axis=1)\n",
    "sub_sum[sub_sum>1] = 1\n",
    "sub_sum = pd.DataFrame(sub_sum)\n",
    "sub_sum = sub_sum.reset_index()\n",
    "sub_sum.columns = ['subid','value']\n",
    "# sub_sum\n",
    "\n",
    "zero_index = sub_sum[sub_sum['value']==0].index\n",
    "sub_df = pd.DataFrame(total_data['SUBJECT_ID'].unique())\n",
    "sub_df = sub_df.drop(index=zero_index)\n",
    "subid_7727 = sub_df[0].values\n",
    "# subid_7727\n",
    "\n",
    "total_data = pd.read_csv('total_data.csv')\n",
    "total_data2 = total_data[total_data['SUBJECT_ID'].isin(subid_7727)]\n",
    "total_data2\n",
    "\n",
    "# total_data2 -> csv로 저장\n",
    "# total_data2.to_csv('total_data_7727.csv', index=False)"
   ]
  },
  {
   "cell_type": "markdown",
   "id": "2a176f56",
   "metadata": {},
   "source": [
    "# x_(7727,10,4068)"
   ]
  },
  {
   "cell_type": "code",
   "execution_count": 6,
   "id": "334c159d",
   "metadata": {},
   "outputs": [
    {
     "data": {
      "text/plain": [
       "7727"
      ]
     },
     "execution_count": 6,
     "metadata": {},
     "output_type": "execute_result"
    },
    {
     "data": {
      "text/plain": [
       "4068"
      ]
     },
     "execution_count": 6,
     "metadata": {},
     "output_type": "execute_result"
    },
    {
     "data": {
      "text/plain": [
       "7727"
      ]
     },
     "execution_count": 6,
     "metadata": {},
     "output_type": "execute_result"
    }
   ],
   "source": [
    "total_data2 = pd.read_csv('./total_data_7727.csv')\n",
    "total_data = pd.read_csv('./total_data.csv')\n",
    "\n",
    "dic_sub2idx = {}\n",
    "for i, j in enumerate(total_data2['SUBJECT_ID'].unique()):\n",
    "    dic_sub2idx[j] = i\n",
    "\n",
    "dic_item2idx = {}\n",
    "for i, j in enumerate(total_data2['ITEMID'].sort_values().unique()): ## total_data2의 ITEMID 개수 : 4068개 \n",
    "    dic_item2idx[j] = i\n",
    "\n",
    "admission = pd.read_csv('/project/data/ADMISSIONS.csv')\n",
    "admission = admission[admission['SUBJECT_ID'].isin(total_data2['SUBJECT_ID'].unique())]\n",
    "\n",
    "# DISCHTIME열 시간 제거\n",
    "import datetime as dt\n",
    "admission['DISCHTIME'] = pd.to_datetime(admission['DISCHTIME'])\n",
    "admission['DISCHTIME'] = admission['DISCHTIME'].dt.date\n",
    "\n",
    "dic_sub2final_date = dict(admission.groupby('SUBJECT_ID')['DISCHTIME'].max())\n",
    "\n",
    "len(dic_sub2idx)\n",
    "len(dic_item2idx)\n",
    "len(dic_sub2final_date)"
   ]
  },
  {
   "cell_type": "code",
   "execution_count": 7,
   "id": "3ea4f990",
   "metadata": {},
   "outputs": [
    {
     "name": "stderr",
     "output_type": "stream",
     "text": [
      "9169855it [00:14, 643400.42it/s]\n"
     ]
    },
    {
     "name": "stdout",
     "output_type": "stream",
     "text": [
      "2042722.0\n",
      "(7727, 10, 4068)\n"
     ]
    }
   ],
   "source": [
    "from datetime import timedelta\n",
    "from tqdm import tqdm\n",
    "import datetime\n",
    "\n",
    "x = np.zeros((7727,10,4068))\n",
    "\n",
    "IF = open('total_data_7727.csv','r')\n",
    "line = IF.readline()\n",
    "for line in tqdm(IF):\n",
    "    ss = line.strip('\\n').split(',')\n",
    "    sub, item, charttime = int(ss[0]), int(ss[1]), datetime.date.fromisoformat(ss[2])\n",
    "    subidx = dic_sub2idx[sub]\n",
    "    itemidx = dic_item2idx[item]\n",
    "    finaldate = dic_sub2final_date[sub]\n",
    "    interval = (finaldate - charttime).days\n",
    "    \n",
    "    if (interval < 1) or (interval > 10): # interval : 1일이상 ~ 10일이하만 고려 \n",
    "        pass\n",
    "    else:\n",
    "        dateidx = -((finaldate - charttime).days) + 10\n",
    "        x[subidx, dateidx, itemidx] = 1\n",
    "\n",
    "IF.close()\n",
    "print(x.sum())\n",
    "print(x.shape)"
   ]
  },
  {
   "cell_type": "code",
   "execution_count": 8,
   "id": "3cc4c815",
   "metadata": {},
   "outputs": [],
   "source": [
    "# x save\n",
    "np.save('x_(7727,10,4068).npy',x)\n",
    " \n",
    "# x load\n",
    "x_4068 = np.load(\"x_(7727,10,4068).npy\")"
   ]
  },
  {
   "cell_type": "code",
   "execution_count": 10,
   "id": "a94dca82",
   "metadata": {},
   "outputs": [
    {
     "data": {
      "text/plain": [
       "2042722.0"
      ]
     },
     "execution_count": 10,
     "metadata": {},
     "output_type": "execute_result"
    }
   ],
   "source": [
    "x_4068.sum()"
   ]
  },
  {
   "cell_type": "markdown",
   "id": "f79a5b1f",
   "metadata": {},
   "source": [
    "# int = 1, total = 10 (len = 10)\n",
    "- 'x_(7727, 10, 4069).npy'로 저장"
   ]
  },
  {
   "cell_type": "code",
   "execution_count": 82,
   "id": "56e94098",
   "metadata": {},
   "outputs": [
    {
     "data": {
      "text/plain": [
       "7727"
      ]
     },
     "execution_count": 82,
     "metadata": {},
     "output_type": "execute_result"
    },
    {
     "data": {
      "text/plain": [
       "4069"
      ]
     },
     "execution_count": 82,
     "metadata": {},
     "output_type": "execute_result"
    },
    {
     "data": {
      "text/plain": [
       "7727"
      ]
     },
     "execution_count": 82,
     "metadata": {},
     "output_type": "execute_result"
    }
   ],
   "source": [
    "total_data2 = pd.read_csv('./total_data_7727.csv')\n",
    "total_data = pd.read_csv('./total_data.csv')\n",
    "\n",
    "dic_sub2idx = {}\n",
    "for i, j in enumerate(total_data2['SUBJECT_ID'].unique()):\n",
    "    dic_sub2idx[j] = i\n",
    "\n",
    "dic_item2idx = {}\n",
    "for i, j in enumerate(total_data['ITEMID'].sort_values().unique()): ## total_data2의 ITEMID 개수 : 4068개 \n",
    "    dic_item2idx[j] = i\n",
    "\n",
    "admission = pd.read_csv('/project/data/ADMISSIONS.csv')\n",
    "admission = admission[admission['SUBJECT_ID'].isin(total_data2['SUBJECT_ID'].unique())]\n",
    "\n",
    "# DISCHTIME열 시간 제거\n",
    "import datetime as dt\n",
    "admission['DISCHTIME'] = pd.to_datetime(admission['DISCHTIME'])\n",
    "admission['DISCHTIME'] = admission['DISCHTIME'].dt.date\n",
    "\n",
    "dic_sub2final_date = dict(admission.groupby('SUBJECT_ID')['DISCHTIME'].max())\n",
    "\n",
    "len(dic_sub2idx)\n",
    "len(dic_item2idx)\n",
    "len(dic_sub2final_date)"
   ]
  },
  {
   "cell_type": "code",
   "execution_count": 121,
   "id": "ed9ead86",
   "metadata": {
    "scrolled": true
   },
   "outputs": [
    {
     "name": "stderr",
     "output_type": "stream",
     "text": [
      "9169855it [00:14, 623455.64it/s]\n"
     ]
    },
    {
     "name": "stdout",
     "output_type": "stream",
     "text": [
      "2042722.0\n",
      "(7727, 10, 4069)\n"
     ]
    }
   ],
   "source": [
    "from datetime import timedelta\n",
    "from tqdm import tqdm\n",
    "import datetime\n",
    "\n",
    "x = np.zeros((7727,10,4069))\n",
    "\n",
    "IF = open('total_data_7727.csv','r')\n",
    "line = IF.readline()\n",
    "for line in tqdm(IF):\n",
    "    ss = line.strip('\\n').split(',')\n",
    "    sub, item, charttime = int(ss[0]), int(ss[1]), datetime.date.fromisoformat(ss[2])\n",
    "    subidx = dic_sub2idx[sub]\n",
    "    itemidx = dic_item2idx[item]\n",
    "    finaldate = dic_sub2final_date[sub]\n",
    "    interval = (finaldate - charttime).days\n",
    "    \n",
    "    if (interval < 1) or (interval > 10): # interval : 1일이상 ~ 10일이하만 고려 \n",
    "        pass\n",
    "    else:\n",
    "        dateidx = -((finaldate - charttime).days) + 10\n",
    "        x[subidx, dateidx, itemidx] = 1\n",
    "\n",
    "IF.close()\n",
    "print(x.sum())\n",
    "print(x.shape)"
   ]
  },
  {
   "cell_type": "code",
   "execution_count": 122,
   "id": "a89b5f78",
   "metadata": {
    "scrolled": true
   },
   "outputs": [
    {
     "data": {
      "text/plain": [
       "2042722.0"
      ]
     },
     "execution_count": 122,
     "metadata": {},
     "output_type": "execute_result"
    }
   ],
   "source": [
    "# 기존에 만든 것과 sum이 같은지 확인 \n",
    "t = np.load('x_(7727,10,4069).npy')\n",
    "t.sum()"
   ]
  },
  {
   "cell_type": "markdown",
   "id": "b748df1f",
   "metadata": {},
   "source": [
    "# int = 1, total = 30 (len = 30)"
   ]
  },
  {
   "cell_type": "code",
   "execution_count": 2,
   "id": "1b301be4",
   "metadata": {},
   "outputs": [
    {
     "data": {
      "text/plain": [
       "7727"
      ]
     },
     "execution_count": 2,
     "metadata": {},
     "output_type": "execute_result"
    },
    {
     "data": {
      "text/plain": [
       "4068"
      ]
     },
     "execution_count": 2,
     "metadata": {},
     "output_type": "execute_result"
    },
    {
     "data": {
      "text/plain": [
       "7727"
      ]
     },
     "execution_count": 2,
     "metadata": {},
     "output_type": "execute_result"
    }
   ],
   "source": [
    "total_data2 = pd.read_csv('./total_data_7727.csv')\n",
    "\n",
    "dic_sub2idx = {}\n",
    "for i, j in enumerate(total_data2['SUBJECT_ID'].unique()):\n",
    "    dic_sub2idx[j] = i\n",
    "\n",
    "dic_item2idx = {}\n",
    "for i, j in enumerate(total_data2['ITEMID'].sort_values().unique()): ## total_data2의 ITEMID 개수 : 4068개 \n",
    "    dic_item2idx[j] = i\n",
    "\n",
    "admission = pd.read_csv('/project/data/ADMISSIONS.csv')\n",
    "admission = admission[admission['SUBJECT_ID'].isin(total_data2['SUBJECT_ID'].unique())]\n",
    "\n",
    "# DISCHTIME열 시간 제거\n",
    "import datetime as dt\n",
    "admission['DISCHTIME'] = pd.to_datetime(admission['DISCHTIME'])\n",
    "admission['DISCHTIME'] = admission['DISCHTIME'].dt.date\n",
    "\n",
    "dic_sub2final_date = dict(admission.groupby('SUBJECT_ID')['DISCHTIME'].max())\n",
    "\n",
    "len(dic_sub2idx)\n",
    "len(dic_item2idx)\n",
    "len(dic_sub2final_date)"
   ]
  },
  {
   "cell_type": "markdown",
   "id": "b21f2022",
   "metadata": {},
   "source": [
    "- ★ 계산 note \n",
    "- dateidx = -(finaldate - charttime).days + 10\n",
    "- (D-?) 0 ( 1 2 3 4 5 6 7 8 9 10 )\n",
    "- (arr_index) 10 ( 9 8 7 6 5 4 3 2 1 0 )\n",
    "\n",
    "\n",
    "- dateidx = -((finaldate - charttime).days) + 30\n",
    "- (D-?) = 0 ( 1 2 3 4 5 ... 27 28 29 30 )\n",
    "- (arr_index) = 10 ( 29 28 27 26 25 ... 4 3 2 1 0 )"
   ]
  },
  {
   "cell_type": "code",
   "execution_count": 4,
   "id": "55d28205",
   "metadata": {},
   "outputs": [
    {
     "name": "stderr",
     "output_type": "stream",
     "text": [
      "9169855it [00:15, 595003.89it/s]\n"
     ]
    },
    {
     "name": "stdout",
     "output_type": "stream",
     "text": [
      "3486722.0\n",
      "(7727, 30, 4068)\n"
     ]
    }
   ],
   "source": [
    "from datetime import timedelta\n",
    "from tqdm import tqdm\n",
    "import datetime\n",
    "\n",
    "x = np.zeros((7727,30,4068))\n",
    "\n",
    "IF = open('total_data_7727.csv','r')\n",
    "line = IF.readline()\n",
    "for line in tqdm(IF):\n",
    "    ss = line.strip('\\n').split(',')\n",
    "    sub, item, charttime = int(ss[0]), int(ss[1]), datetime.date.fromisoformat(ss[2])\n",
    "    subidx = dic_sub2idx[sub]\n",
    "    itemidx = dic_item2idx[item]\n",
    "    finaldate = dic_sub2final_date[sub]\n",
    "    interval = (finaldate - charttime).days\n",
    "    \n",
    "    if (interval < 1) or (interval > 30): # interval : 1일이상 ~ 30일이하만 고려 \n",
    "        pass\n",
    "    else:\n",
    "        dateidx = -((finaldate - charttime).days) + 30\n",
    "        x[subidx, dateidx, itemidx] = 1\n",
    "\n",
    "IF.close()\n",
    "print(x.sum())\n",
    "print(x.shape)"
   ]
  },
  {
   "cell_type": "code",
   "execution_count": 5,
   "id": "67fe3988",
   "metadata": {},
   "outputs": [],
   "source": [
    "# x save\n",
    "# np.save('x_(7727,30,4068).npy',x)\n",
    " \n",
    "# x load\n",
    "x_30 = np.load(\"x_(7727,30,4068).npy\")"
   ]
  },
  {
   "cell_type": "markdown",
   "id": "5b58afa7",
   "metadata": {},
   "source": [
    "# int = 2, total = 20 (len = 10)\n",
    "- 'x_int2_(7727, 10, 4069).npy'로 저장\n",
    "- 7727명 중 data가 하나도 없는 환자 : 196명"
   ]
  },
  {
   "cell_type": "markdown",
   "id": "b22ee17e",
   "metadata": {},
   "source": [
    "- ★ 계산 note \n",
    "- dateidx = -(finaldate - charttime).days + 10\n",
    "- (D-?) 0 ( 1 2 3 4 5 6 7 8 9 10 )\n",
    "- (arr_index) 10 ( 9 8 7 6 5 4 3 2 1 0 )\n",
    "\n",
    "\n",
    "- dateidx = -((finaldate - charttime).days)//2 + 10\n",
    "- (finaldate - charttime) % 2 == 0 => 조건추가\n",
    "- (D-?) = 0 ( 2 4 6 8 10 12 14 16 18 20 )\n",
    "- (arr_index) = 10 ( 9 8 7 6 5 4 3 2 1 0 )"
   ]
  },
  {
   "cell_type": "code",
   "execution_count": 142,
   "id": "7b230d24",
   "metadata": {
    "scrolled": true
   },
   "outputs": [
    {
     "name": "stderr",
     "output_type": "stream",
     "text": [
      "9169855it [00:14, 617069.65it/s]\n"
     ]
    },
    {
     "name": "stdout",
     "output_type": "stream",
     "text": [
      "1461410.0\n",
      "(7727, 10, 4069)\n"
     ]
    }
   ],
   "source": [
    "from datetime import timedelta\n",
    "from tqdm import tqdm\n",
    "import datetime\n",
    "\n",
    "x = np.zeros((7727,10,4069))\n",
    "\n",
    "IF = open('total_data_7727.csv','r')\n",
    "line = IF.readline()\n",
    "for line in tqdm(IF):\n",
    "    ss = line.strip('\\n').split(',')\n",
    "    sub, item, charttime = int(ss[0]), int(ss[1]), datetime.date.fromisoformat(ss[2])\n",
    "    subidx = dic_sub2idx[sub]\n",
    "    itemidx = dic_item2idx[item]\n",
    "    finaldate = dic_sub2final_date[sub]\n",
    "    interval = (finaldate - charttime).days\n",
    "    \n",
    "    if (interval < 2) or (interval > 20): # interval : 2일이상 ~ 20일이하만 고려 \n",
    "        pass\n",
    "    else:\n",
    "        if ((interval % 2) == 0):\n",
    "            dateidx = -((finaldate - charttime).days)//2 + 10\n",
    "            x[subidx, dateidx, itemidx] = 1\n",
    "\n",
    "IF.close()\n",
    "print(x.sum())\n",
    "print(x.shape)"
   ]
  },
  {
   "cell_type": "code",
   "execution_count": 6,
   "id": "1c7709a0",
   "metadata": {},
   "outputs": [],
   "source": [
    "# x save\n",
    "# np.save('x_int2_(7727,10,4069).npy',x)\n",
    "\n",
    "# x load\n",
    "x_int2 = np.load(\"./data/x_int2_(7727,10,4069).npy\")"
   ]
  },
  {
   "cell_type": "markdown",
   "id": "58ce718f",
   "metadata": {},
   "source": [
    "# int = 3, total = 30 (len = 10)\n",
    "- 'x_int3_(7727, 10, 4069).npy'로 저장"
   ]
  },
  {
   "cell_type": "code",
   "execution_count": 4,
   "id": "268635e4",
   "metadata": {},
   "outputs": [
    {
     "data": {
      "text/plain": [
       "7727"
      ]
     },
     "execution_count": 4,
     "metadata": {},
     "output_type": "execute_result"
    },
    {
     "data": {
      "text/plain": [
       "4069"
      ]
     },
     "execution_count": 4,
     "metadata": {},
     "output_type": "execute_result"
    },
    {
     "data": {
      "text/plain": [
       "7727"
      ]
     },
     "execution_count": 4,
     "metadata": {},
     "output_type": "execute_result"
    }
   ],
   "source": [
    "total_data2 = pd.read_csv('./total_data_7727.csv')\n",
    "total_data = pd.read_csv('./total_data.csv')\n",
    "\n",
    "dic_sub2idx = {}\n",
    "for i, j in enumerate(total_data2['SUBJECT_ID'].unique()):\n",
    "    dic_sub2idx[j] = i\n",
    "\n",
    "dic_item2idx = {}\n",
    "for i, j in enumerate(total_data['ITEMID'].sort_values().unique()): ## total_data2의 ITEMID 개수 : 4068개 \n",
    "    dic_item2idx[j] = i\n",
    "\n",
    "admission = pd.read_csv('/project/data/ADMISSIONS.csv')\n",
    "admission = admission[admission['SUBJECT_ID'].isin(total_data2['SUBJECT_ID'].unique())]\n",
    "\n",
    "# DISCHTIME열 시간 제거\n",
    "import datetime as dt\n",
    "admission['DISCHTIME'] = pd.to_datetime(admission['DISCHTIME'])\n",
    "admission['DISCHTIME'] = admission['DISCHTIME'].dt.date\n",
    "\n",
    "dic_sub2final_date = dict(admission.groupby('SUBJECT_ID')['DISCHTIME'].max())\n",
    "\n",
    "len(dic_sub2idx)\n",
    "len(dic_item2idx)\n",
    "len(dic_sub2final_date)"
   ]
  },
  {
   "cell_type": "code",
   "execution_count": 5,
   "id": "e7af49cc",
   "metadata": {
    "scrolled": true
   },
   "outputs": [
    {
     "name": "stderr",
     "output_type": "stream",
     "text": [
      "9169855it [00:14, 638695.98it/s]\n"
     ]
    },
    {
     "name": "stdout",
     "output_type": "stream",
     "text": [
      "1095557.0\n",
      "(7727, 10, 4069)\n"
     ]
    }
   ],
   "source": [
    "from datetime import timedelta\n",
    "from tqdm import tqdm\n",
    "import datetime\n",
    "\n",
    "x = np.zeros((7727,10,4069))\n",
    "\n",
    "IF = open('./total_data_7727.csv','r')\n",
    "line = IF.readline()\n",
    "for line in tqdm(IF):\n",
    "    ss = line.strip('\\n').split(',')\n",
    "    sub, item, charttime = int(ss[0]), int(ss[1]), datetime.date.fromisoformat(ss[2])\n",
    "    subidx = dic_sub2idx[sub]\n",
    "    itemidx = dic_item2idx[item]\n",
    "    finaldate = dic_sub2final_date[sub]\n",
    "    interval = (finaldate - charttime).days\n",
    "    \n",
    "    if (interval < 3) or (interval > 30): # interval : 3일이상 ~ 30일이하만 고려 \n",
    "        pass\n",
    "    else:\n",
    "        if ((interval % 3) == 0):\n",
    "            dateidx = -((finaldate - charttime).days)//3 + 10\n",
    "            x[subidx, dateidx, itemidx] = 1\n",
    "\n",
    "IF.close()\n",
    "print(x.sum())\n",
    "print(x.shape)"
   ]
  },
  {
   "cell_type": "code",
   "execution_count": 7,
   "id": "ca614940",
   "metadata": {},
   "outputs": [
    {
     "data": {
      "text/plain": [
       "1095557.0"
      ]
     },
     "execution_count": 7,
     "metadata": {},
     "output_type": "execute_result"
    }
   ],
   "source": [
    "# x save\n",
    "# np.save('x_int3_(7727,10,4069).npy',x)\n",
    "\n",
    "# x load\n",
    "x_int2 = np.load(\"./x_int3_(7727,10,4069).npy\")\n",
    "x_int2.sum()"
   ]
  },
  {
   "cell_type": "markdown",
   "id": "ae570476",
   "metadata": {},
   "source": [
    "# int = 2, total = 60 (len = 30)\n",
    "- 'x_int2_(7727,30,4069).npy'로 저장"
   ]
  },
  {
   "cell_type": "markdown",
   "id": "f0d9f419",
   "metadata": {},
   "source": [
    "- ★ 계산 note \n",
    "- dateidx = -(finaldate - charttime).days + 10\n",
    "- (D-?) 0 ( 1 2 3 4 5 6 7 8 9 10 )\n",
    "- (arr_index) 10 ( 9 8 7 6 5 4 3 2 1 0 )\n",
    "\n",
    "\n",
    "- dateidx = -((finaldate - charttime).days)//2 + 30\n",
    "- (finaldate - charttime) % 2 == 0 => 조건추가\n",
    "- (D-?) = 0 ( 2 4 6 8 10 12 14 16 18 20 ... 58 60 )\n",
    "- (arr_index) = 30 ( 29 28 27 26 25 24 ... 3 2 1 0 )"
   ]
  },
  {
   "cell_type": "code",
   "execution_count": 141,
   "id": "85278173",
   "metadata": {
    "scrolled": true
   },
   "outputs": [
    {
     "name": "stderr",
     "output_type": "stream",
     "text": [
      "9169855it [00:15, 591364.86it/s]\n"
     ]
    },
    {
     "name": "stdout",
     "output_type": "stream",
     "text": [
      "1986925.0\n",
      "(7727, 30, 4069)\n"
     ]
    }
   ],
   "source": [
    "from datetime import timedelta\n",
    "from tqdm import tqdm\n",
    "import datetime\n",
    "\n",
    "x = np.zeros((7727,30,4069))\n",
    "\n",
    "IF = open('total_data_7727.csv','r')\n",
    "line = IF.readline()\n",
    "for line in tqdm(IF):\n",
    "    ss = line.strip('\\n').split(',')\n",
    "    sub, item, charttime = int(ss[0]), int(ss[1]), datetime.date.fromisoformat(ss[2])\n",
    "    subidx = dic_sub2idx[sub]\n",
    "    itemidx = dic_item2idx[item]\n",
    "    finaldate = dic_sub2final_date[sub]\n",
    "    interval = (finaldate - charttime).days\n",
    "    \n",
    "    if (interval < 2) or (interval > 60): # interval : 2일이상 ~ 60일이하만 고려 \n",
    "        pass\n",
    "    else:\n",
    "        if ((interval % 2) == 0):\n",
    "            dateidx = -((finaldate - charttime).days)//2 + 30\n",
    "            x[subidx, dateidx, itemidx] = 1\n",
    "\n",
    "IF.close()\n",
    "print(x.sum())\n",
    "print(x.shape)"
   ]
  },
  {
   "cell_type": "code",
   "execution_count": 3,
   "id": "b69f4707",
   "metadata": {},
   "outputs": [],
   "source": [
    "# x save\n",
    "# np.save('x_int2_(7727,30,4069).npy',x)\n",
    "\n",
    "# x load\n",
    "x_int2_30 = np.load(\"./data/x_int2_(7727,30,4069).npy\")"
   ]
  },
  {
   "cell_type": "markdown",
   "id": "e5853a1a",
   "metadata": {},
   "source": [
    "# int = 3, total = 90 (len = 30)\n",
    "- 'x_int3_(7727, 30, 4069).npy'로 저장"
   ]
  },
  {
   "cell_type": "markdown",
   "id": "8b6176a2",
   "metadata": {},
   "source": [
    "- ★ 계산 note \n",
    "- dateidx = -(finaldate - charttime).days + 10\n",
    "- (D-?) 0 ( 1 2 3 4 5 6 7 8 9 10 )\n",
    "- (arr_index) 10 ( 9 8 7 6 5 4 3 2 1 0 )\n",
    "\n",
    "\n",
    "- dateidx = -((finaldate - charttime).days)//3 + 30\n",
    "- (finaldate - charttime) % 3 == 0 => 조건추가\n",
    "- (D-?) = 0 ( 3 6 9 12 15 ... 87 90 )\n",
    "- (arr_index) = 30 ( 29 28 27 26 25 24 ... 3 2 1 0 )"
   ]
  },
  {
   "cell_type": "code",
   "execution_count": 140,
   "id": "4bc58381",
   "metadata": {},
   "outputs": [
    {
     "name": "stderr",
     "output_type": "stream",
     "text": [
      "9169855it [00:14, 617086.22it/s]\n"
     ]
    },
    {
     "name": "stdout",
     "output_type": "stream",
     "text": [
      "1380745.0\n",
      "(7727, 30, 4069)\n"
     ]
    }
   ],
   "source": [
    "from datetime import timedelta\n",
    "from tqdm import tqdm\n",
    "import datetime\n",
    "\n",
    "x = np.zeros((7727,30,4069))\n",
    "\n",
    "IF = open('total_data_7727.csv','r')\n",
    "line = IF.readline()\n",
    "for line in tqdm(IF):\n",
    "    ss = line.strip('\\n').split(',')\n",
    "    sub, item, charttime = int(ss[0]), int(ss[1]), datetime.date.fromisoformat(ss[2])\n",
    "    subidx = dic_sub2idx[sub]\n",
    "    itemidx = dic_item2idx[item]\n",
    "    finaldate = dic_sub2final_date[sub]\n",
    "    interval = (finaldate - charttime).days\n",
    "    \n",
    "    if (interval < 3) or (interval > 90): # interval : 3일이상 ~ 90일이하만 고려 \n",
    "        pass\n",
    "    else:\n",
    "        if ((interval % 3) == 0):\n",
    "            dateidx = -((finaldate - charttime).days)//3 + 30\n",
    "            x[subidx, dateidx, itemidx] = 1\n",
    "\n",
    "IF.close()\n",
    "print(x.sum())\n",
    "print(x.shape)"
   ]
  }
 ],
 "metadata": {
  "kernelspec": {
   "display_name": "Python 3",
   "language": "python",
   "name": "python3"
  },
  "language_info": {
   "codemirror_mode": {
    "name": "ipython",
    "version": 3
   },
   "file_extension": ".py",
   "mimetype": "text/x-python",
   "name": "python",
   "nbconvert_exporter": "python",
   "pygments_lexer": "ipython3",
   "version": "3.8.5"
  },
  "toc": {
   "base_numbering": 1,
   "nav_menu": {},
   "number_sections": true,
   "sideBar": true,
   "skip_h1_title": false,
   "title_cell": "Table of Contents",
   "title_sidebar": "Contents",
   "toc_cell": false,
   "toc_position": {
    "height": "calc(100% - 180px)",
    "left": "10px",
    "top": "150px",
    "width": "290.44px"
   },
   "toc_section_display": true,
   "toc_window_display": false
  }
 },
 "nbformat": 4,
 "nbformat_minor": 5
}
