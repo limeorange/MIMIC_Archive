{
 "cells": [
  {
   "cell_type": "code",
   "execution_count": 2,
   "id": "3b827763",
   "metadata": {},
   "outputs": [],
   "source": [
    "import pandas as pd\n",
    "import numpy as np\n",
    "\n",
    "# 결과 확인을 용이하게 하기 위한 코드\n",
    "from IPython.core.interactiveshell import InteractiveShell\n",
    "InteractiveShell.ast_node_interactivity = 'all'"
   ]
  },
  {
   "cell_type": "markdown",
   "id": "d280c603",
   "metadata": {},
   "source": [
    "# Data Load"
   ]
  },
  {
   "cell_type": "code",
   "execution_count": 2,
   "id": "72295892",
   "metadata": {},
   "outputs": [
    {
     "data": {
      "text/plain": [
       "((6239, 10, 4069), (6239,), (1560, 10, 4069), (1560,))"
      ]
     },
     "execution_count": 2,
     "metadata": {},
     "output_type": "execute_result"
    }
   ],
   "source": [
    "x = np.load('./x_(7799,10,4069).npy')\n",
    "y = np.load('./y_(7799,1).npy')\n",
    "\n",
    "i = round(x.shape[0]*0.8)\n",
    "X_train, y_train = x[:i,:,:], y[:i]\n",
    "X_test, y_test = x[i:,:,:], y[i:]\n",
    "\n",
    "X_train.shape, y_train.shape, X_test.shape, y_test.shape"
   ]
  },
  {
   "cell_type": "markdown",
   "id": "a7202f99",
   "metadata": {},
   "source": [
    "# X : (7799, 10, 4069) - LSTM"
   ]
  },
  {
   "cell_type": "markdown",
   "id": "a4145833",
   "metadata": {},
   "source": [
    "## LSTM 1 (dropout)"
   ]
  },
  {
   "cell_type": "code",
   "execution_count": 16,
   "id": "3138c24b",
   "metadata": {
    "scrolled": true
   },
   "outputs": [],
   "source": [
    "from keras.models import Sequential\n",
    "from keras.layers import Dense\n",
    "from keras.layers import LSTM\n",
    "from keras.layers import Dropout\n",
    "from keras.layers import *\n",
    "\n",
    "lstm = Sequential()\n",
    "lstm.add(InputLayer(input_shape=(X_train.shape[1],X_train.shape[2])))\n",
    "lstm.add(LSTM(units=128, activation='sigmoid', return_sequences=True))\n",
    "lstm.add(LSTM(units=64, activation='sigmoid', return_sequences=True))\n",
    "lstm.add(Dropout(0.2))\n",
    "lstm.add(LSTM(units=64, activation='sigmoid', return_sequences=True))\n",
    "lstm.add(LSTM(units=32, activation='sigmoid', return_sequences=False))\n",
    "lstm.add(Dropout(0.2))\n",
    "lstm.add(Dense(units=1))\n",
    "# lstm.summary()"
   ]
  },
  {
   "cell_type": "markdown",
   "id": "91612254",
   "metadata": {},
   "source": [
    "### ep = 100, pa = 20 (5회)"
   ]
  },
  {
   "cell_type": "code",
   "execution_count": 88,
   "id": "893f1ed4",
   "metadata": {
    "scrolled": true
   },
   "outputs": [
    {
     "name": "stdout",
     "output_type": "stream",
     "text": [
      "Epoch 1/100\n",
      "37/37 [==============================] - 6s 71ms/step - loss: 1.2304 - acc: 0.5646 - val_loss: 0.7056 - val_acc: 0.4974\n",
      "Epoch 2/100\n",
      "37/37 [==============================] - 2s 46ms/step - loss: 0.7969 - acc: 0.5783 - val_loss: 0.7050 - val_acc: 0.4974\n",
      "Epoch 3/100\n",
      "37/37 [==============================] - 2s 46ms/step - loss: 0.7309 - acc: 0.5951 - val_loss: 0.7217 - val_acc: 0.4974\n",
      "Epoch 4/100\n",
      "37/37 [==============================] - 2s 46ms/step - loss: 0.7345 - acc: 0.5910 - val_loss: 0.7253 - val_acc: 0.4974\n",
      "Epoch 5/100\n",
      "37/37 [==============================] - 3s 75ms/step - loss: 0.7190 - acc: 0.5813 - val_loss: 0.6907 - val_acc: 0.4974\n",
      "Epoch 6/100\n",
      "37/37 [==============================] - 2s 47ms/step - loss: 0.6927 - acc: 0.5900 - val_loss: 0.6881 - val_acc: 0.4974\n",
      "Epoch 7/100\n",
      "37/37 [==============================] - 2s 46ms/step - loss: 0.6892 - acc: 0.5959 - val_loss: 0.7254 - val_acc: 0.4974\n",
      "Epoch 8/100\n",
      "37/37 [==============================] - 2s 46ms/step - loss: 0.6529 - acc: 0.6329 - val_loss: 0.7203 - val_acc: 0.4974\n",
      "Epoch 9/100\n",
      "37/37 [==============================] - 2s 46ms/step - loss: 0.6396 - acc: 0.6533 - val_loss: 0.7022 - val_acc: 0.4974\n",
      "Epoch 10/100\n",
      "37/37 [==============================] - 2s 46ms/step - loss: 0.6095 - acc: 0.6781 - val_loss: 0.6699 - val_acc: 0.4974\n",
      "Epoch 11/100\n",
      "37/37 [==============================] - 2s 46ms/step - loss: 0.5629 - acc: 0.7065 - val_loss: 0.6191 - val_acc: 0.6917\n",
      "Epoch 12/100\n",
      "37/37 [==============================] - 2s 46ms/step - loss: 0.5090 - acc: 0.7544 - val_loss: 0.5965 - val_acc: 0.7173\n",
      "Epoch 13/100\n",
      "37/37 [==============================] - 2s 47ms/step - loss: 0.5082 - acc: 0.7780 - val_loss: 0.6832 - val_acc: 0.7301\n",
      "Epoch 14/100\n",
      "37/37 [==============================] - 2s 47ms/step - loss: 0.5030 - acc: 0.8178 - val_loss: 0.8167 - val_acc: 0.7103\n",
      "Epoch 15/100\n",
      "37/37 [==============================] - 2s 46ms/step - loss: 0.5088 - acc: 0.7932 - val_loss: 0.5846 - val_acc: 0.7173\n",
      "Epoch 16/100\n",
      "37/37 [==============================] - 2s 46ms/step - loss: 0.4461 - acc: 0.8209 - val_loss: 0.5588 - val_acc: 0.7340\n",
      "Epoch 17/100\n",
      "37/37 [==============================] - 2s 46ms/step - loss: 0.7116 - acc: 0.7377 - val_loss: 0.6672 - val_acc: 0.5397\n",
      "Epoch 18/100\n",
      "37/37 [==============================] - 2s 46ms/step - loss: 0.5763 - acc: 0.6888 - val_loss: 0.6317 - val_acc: 0.6109\n",
      "Epoch 19/100\n",
      "37/37 [==============================] - 2s 46ms/step - loss: 0.5301 - acc: 0.7123 - val_loss: 0.5765 - val_acc: 0.7237\n",
      "Epoch 20/100\n",
      "37/37 [==============================] - 2s 47ms/step - loss: 0.4995 - acc: 0.7680 - val_loss: 0.5797 - val_acc: 0.7212\n",
      "Epoch 21/100\n",
      "37/37 [==============================] - 2s 46ms/step - loss: 0.4589 - acc: 0.8061 - val_loss: 0.7710 - val_acc: 0.7192\n",
      "Epoch 22/100\n",
      "37/37 [==============================] - 2s 47ms/step - loss: 0.4405 - acc: 0.8200 - val_loss: 0.7881 - val_acc: 0.7391\n",
      "Epoch 23/100\n",
      "37/37 [==============================] - 2s 46ms/step - loss: 0.4262 - acc: 0.8395 - val_loss: 0.7784 - val_acc: 0.7295\n",
      "Epoch 24/100\n",
      "37/37 [==============================] - 2s 46ms/step - loss: 0.4366 - acc: 0.8395 - val_loss: 0.7986 - val_acc: 0.5904\n",
      "Epoch 25/100\n",
      "37/37 [==============================] - 2s 46ms/step - loss: 0.8436 - acc: 0.5605 - val_loss: 1.1061 - val_acc: 0.4974\n",
      "Epoch 26/100\n",
      "37/37 [==============================] - 2s 46ms/step - loss: 0.4663 - acc: 0.7475 - val_loss: 1.0005 - val_acc: 0.6987\n",
      "Epoch 27/100\n",
      "37/37 [==============================] - 2s 46ms/step - loss: 0.4292 - acc: 0.7888 - val_loss: 1.0382 - val_acc: 0.7083\n",
      "Epoch 28/100\n",
      "37/37 [==============================] - 2s 47ms/step - loss: 0.4184 - acc: 0.8167 - val_loss: 1.2211 - val_acc: 0.7173\n",
      "Epoch 29/100\n",
      "37/37 [==============================] - 2s 46ms/step - loss: 0.4045 - acc: 0.8326 - val_loss: 1.3585 - val_acc: 0.7154\n",
      "Epoch 30/100\n",
      "37/37 [==============================] - 2s 46ms/step - loss: 0.3981 - acc: 0.8604 - val_loss: 1.4360 - val_acc: 0.7224\n",
      "Epoch 31/100\n",
      "37/37 [==============================] - 2s 47ms/step - loss: 0.3860 - acc: 0.8685 - val_loss: 1.3081 - val_acc: 0.7276\n",
      "Epoch 32/100\n",
      "37/37 [==============================] - 2s 47ms/step - loss: 0.3611 - acc: 0.8774 - val_loss: 1.2350 - val_acc: 0.7340\n",
      "Epoch 33/100\n",
      "37/37 [==============================] - 2s 47ms/step - loss: 0.4120 - acc: 0.8390 - val_loss: 1.3933 - val_acc: 0.7256\n",
      "Epoch 34/100\n",
      "37/37 [==============================] - 2s 47ms/step - loss: 0.3493 - acc: 0.8653 - val_loss: 1.5668 - val_acc: 0.7224\n",
      "Epoch 35/100\n",
      "37/37 [==============================] - 2s 46ms/step - loss: 0.3763 - acc: 0.8770 - val_loss: 1.6238 - val_acc: 0.7218\n",
      "Epoch 36/100\n",
      "37/37 [==============================] - 2s 47ms/step - loss: 0.3375 - acc: 0.8916 - val_loss: 1.7851 - val_acc: 0.7154\n",
      "Epoch 37/100\n",
      "37/37 [==============================] - 2s 46ms/step - loss: 0.3743 - acc: 0.8980 - val_loss: 1.8729 - val_acc: 0.7135\n",
      "Epoch 38/100\n",
      "37/37 [==============================] - 2s 47ms/step - loss: 0.3374 - acc: 0.9048 - val_loss: 1.8609 - val_acc: 0.7160\n",
      "Epoch 39/100\n",
      "37/37 [==============================] - 2s 46ms/step - loss: 0.3325 - acc: 0.9040 - val_loss: 1.6431 - val_acc: 0.7244\n",
      "Epoch 40/100\n",
      "37/37 [==============================] - 2s 47ms/step - loss: 0.3742 - acc: 0.9028 - val_loss: 1.9646 - val_acc: 0.7147\n",
      "Epoch 41/100\n",
      "37/37 [==============================] - 2s 46ms/step - loss: 0.3144 - acc: 0.9059 - val_loss: 1.6254 - val_acc: 0.7128\n",
      "Epoch 42/100\n",
      "37/37 [==============================] - 2s 46ms/step - loss: 0.3276 - acc: 0.9018 - val_loss: 1.1728 - val_acc: 0.7186\n",
      "Restoring model weights from the end of the best epoch.\n",
      "Epoch 00042: early stopping\n",
      "정확도 : 0.7269230769230769\n"
     ]
    }
   ],
   "source": [
    "import sklearn.metrics \n",
    "from keras.callbacks import EarlyStopping\n",
    "\n",
    "early_stop = EarlyStopping(monitor='val_acc', patience=20, verbose=1, restore_best_weights=True)\n",
    "lstm.compile(optimizer= \"adam\", loss = \"binary_crossentropy\", metrics=['acc'])\n",
    "history = lstm.fit(X_train, y_train, validation_split=0.25, batch_size=128, epochs=100,  callbacks=[early_stop], shuffle=False)\n",
    "\n",
    "preds = lstm.predict(X_test)\n",
    "\n",
    "preds[preds>0.5]=1\n",
    "preds[preds<=0.5]=0\n",
    "\n",
    "from sklearn import metrics \n",
    "print('정확도 :', metrics.accuracy_score(y_test, preds))"
   ]
  },
  {
   "cell_type": "markdown",
   "id": "61639126",
   "metadata": {},
   "source": [
    "### ep = 500, pa = 30, 50, 80, 150\n",
    "- patience = 30 : 73.8 / 72.5 / 72.8\n",
    "- patience = 50 : 71.5 / 72.5\n",
    "- patience = 80 : 72.5 / 73.5\n",
    "- patience = 150 : 71.5 / 70.8"
   ]
  },
  {
   "cell_type": "code",
   "execution_count": 4,
   "id": "72ba9a0c",
   "metadata": {
    "scrolled": true
   },
   "outputs": [
    {
     "name": "stdout",
     "output_type": "stream",
     "text": [
      "Epoch 1/500\n",
      "37/37 [==============================] - 26s 102ms/step - loss: 1.2454 - acc: 0.5525 - val_loss: 0.7167 - val_acc: 0.5026\n",
      "Epoch 2/500\n",
      "37/37 [==============================] - 2s 47ms/step - loss: 0.9853 - acc: 0.5113 - val_loss: 0.7154 - val_acc: 0.4974\n",
      "Epoch 3/500\n",
      "37/37 [==============================] - 2s 47ms/step - loss: 0.7612 - acc: 0.5620 - val_loss: 0.7210 - val_acc: 0.4974\n",
      "Epoch 4/500\n",
      "37/37 [==============================] - 2s 46ms/step - loss: 0.7234 - acc: 0.6043 - val_loss: 0.7294 - val_acc: 0.4974\n",
      "Epoch 5/500\n",
      "37/37 [==============================] - 2s 45ms/step - loss: 0.6801 - acc: 0.6181 - val_loss: 0.7330 - val_acc: 0.4974\n",
      "Epoch 6/500\n",
      "37/37 [==============================] - 2s 46ms/step - loss: 0.6945 - acc: 0.6220 - val_loss: 0.7307 - val_acc: 0.4974\n",
      "Epoch 7/500\n",
      "37/37 [==============================] - 2s 46ms/step - loss: 0.6880 - acc: 0.6159 - val_loss: 0.7248 - val_acc: 0.4974\n",
      "Epoch 8/500\n",
      "37/37 [==============================] - 2s 46ms/step - loss: 0.6753 - acc: 0.6234 - val_loss: 0.7272 - val_acc: 0.4974\n",
      "Epoch 9/500\n",
      "37/37 [==============================] - 2s 45ms/step - loss: 0.6552 - acc: 0.6389 - val_loss: 0.7119 - val_acc: 0.4974\n",
      "Epoch 10/500\n",
      "37/37 [==============================] - 2s 46ms/step - loss: 0.6429 - acc: 0.6408 - val_loss: 0.6864 - val_acc: 0.4974\n",
      "Epoch 11/500\n",
      "37/37 [==============================] - 2s 46ms/step - loss: 0.6004 - acc: 0.6801 - val_loss: 0.6471 - val_acc: 0.4974\n",
      "Epoch 12/500\n",
      "37/37 [==============================] - 2s 45ms/step - loss: 0.5856 - acc: 0.6813 - val_loss: 0.6226 - val_acc: 0.6859\n",
      "Epoch 13/500\n",
      "37/37 [==============================] - 2s 46ms/step - loss: 0.5803 - acc: 0.7352 - val_loss: 0.5856 - val_acc: 0.7269\n",
      "Epoch 14/500\n",
      "37/37 [==============================] - 2s 45ms/step - loss: 0.5168 - acc: 0.7771 - val_loss: 0.5638 - val_acc: 0.7244\n",
      "Epoch 15/500\n",
      "37/37 [==============================] - 2s 45ms/step - loss: 0.4806 - acc: 0.7857 - val_loss: 0.5697 - val_acc: 0.7167\n",
      "Epoch 16/500\n",
      "37/37 [==============================] - 2s 46ms/step - loss: 0.5168 - acc: 0.8097 - val_loss: 0.9430 - val_acc: 0.7301\n",
      "Epoch 17/500\n",
      "37/37 [==============================] - 2s 46ms/step - loss: 0.4885 - acc: 0.7808 - val_loss: 0.6655 - val_acc: 0.6500\n",
      "Epoch 18/500\n",
      "37/37 [==============================] - 2s 46ms/step - loss: 0.5822 - acc: 0.7104 - val_loss: 0.6570 - val_acc: 0.7359\n",
      "Epoch 19/500\n",
      "37/37 [==============================] - 2s 46ms/step - loss: 0.4694 - acc: 0.8079 - val_loss: 0.8867 - val_acc: 0.7353\n",
      "Epoch 20/500\n",
      "37/37 [==============================] - 2s 46ms/step - loss: 0.4455 - acc: 0.8064 - val_loss: 0.7624 - val_acc: 0.7397\n",
      "Epoch 21/500\n",
      "37/37 [==============================] - 2s 45ms/step - loss: 0.4507 - acc: 0.8317 - val_loss: 0.7231 - val_acc: 0.7135\n",
      "Epoch 22/500\n",
      "37/37 [==============================] - 2s 46ms/step - loss: 0.4595 - acc: 0.7860 - val_loss: 0.5835 - val_acc: 0.7051\n",
      "Epoch 23/500\n",
      "37/37 [==============================] - 2s 45ms/step - loss: 0.5705 - acc: 0.7158 - val_loss: 0.5469 - val_acc: 0.7288\n",
      "Epoch 24/500\n",
      "37/37 [==============================] - 2s 46ms/step - loss: 0.4329 - acc: 0.8129 - val_loss: 0.9838 - val_acc: 0.7237\n",
      "Epoch 25/500\n",
      "37/37 [==============================] - 2s 46ms/step - loss: 0.5990 - acc: 0.7324 - val_loss: 1.0531 - val_acc: 0.6949\n",
      "Epoch 26/500\n",
      "37/37 [==============================] - 2s 45ms/step - loss: 0.5017 - acc: 0.8080 - val_loss: 1.1352 - val_acc: 0.7128\n",
      "Epoch 27/500\n",
      "37/37 [==============================] - 2s 45ms/step - loss: 0.4652 - acc: 0.7903 - val_loss: 0.6327 - val_acc: 0.7282\n",
      "Epoch 28/500\n",
      "37/37 [==============================] - 2s 45ms/step - loss: 0.4102 - acc: 0.8228 - val_loss: 1.2699 - val_acc: 0.7109\n",
      "Epoch 29/500\n",
      "37/37 [==============================] - 2s 46ms/step - loss: 0.4074 - acc: 0.8373 - val_loss: 1.4281 - val_acc: 0.7141\n",
      "Epoch 30/500\n",
      "37/37 [==============================] - 2s 46ms/step - loss: 0.4036 - acc: 0.8437 - val_loss: 1.5085 - val_acc: 0.7160\n",
      "Epoch 31/500\n",
      "37/37 [==============================] - 2s 46ms/step - loss: 0.3662 - acc: 0.8623 - val_loss: 1.4077 - val_acc: 0.7186\n",
      "Epoch 32/500\n",
      "37/37 [==============================] - 2s 46ms/step - loss: 0.3698 - acc: 0.8723 - val_loss: 1.7038 - val_acc: 0.7173\n",
      "Epoch 33/500\n",
      "37/37 [==============================] - 2s 46ms/step - loss: 0.3553 - acc: 0.8816 - val_loss: 1.6731 - val_acc: 0.7205\n",
      "Epoch 34/500\n",
      "37/37 [==============================] - 2s 46ms/step - loss: 0.3465 - acc: 0.8846 - val_loss: 1.3181 - val_acc: 0.7147\n",
      "Epoch 35/500\n",
      "37/37 [==============================] - 2s 46ms/step - loss: 0.4245 - acc: 0.8393 - val_loss: 1.5046 - val_acc: 0.7205\n",
      "Epoch 36/500\n",
      "37/37 [==============================] - 2s 63ms/step - loss: 0.3566 - acc: 0.8827 - val_loss: 1.5784 - val_acc: 0.7160\n",
      "Epoch 37/500\n",
      "37/37 [==============================] - 2s 51ms/step - loss: 0.3376 - acc: 0.8874 - val_loss: 1.8212 - val_acc: 0.7160\n",
      "Epoch 38/500\n",
      "37/37 [==============================] - 2s 66ms/step - loss: 0.3580 - acc: 0.8992 - val_loss: 1.7807 - val_acc: 0.7167\n",
      "Epoch 39/500\n",
      "37/37 [==============================] - 2s 66ms/step - loss: 0.3282 - acc: 0.9064 - val_loss: 1.7913 - val_acc: 0.7192\n",
      "Epoch 40/500\n",
      "37/37 [==============================] - 2s 66ms/step - loss: 0.3189 - acc: 0.9147 - val_loss: 1.8885 - val_acc: 0.7179\n",
      "Epoch 41/500\n",
      "37/37 [==============================] - 2s 66ms/step - loss: 0.3070 - acc: 0.9220 - val_loss: 1.9967 - val_acc: 0.7154\n",
      "Epoch 42/500\n",
      "37/37 [==============================] - 2s 66ms/step - loss: 0.3024 - acc: 0.9219 - val_loss: 1.8921 - val_acc: 0.7154\n",
      "Epoch 43/500\n",
      "37/37 [==============================] - 2s 66ms/step - loss: 0.6830 - acc: 0.7853 - val_loss: 0.7089 - val_acc: 0.7109\n",
      "Epoch 44/500\n",
      "37/37 [==============================] - 2s 67ms/step - loss: 0.5275 - acc: 0.6820 - val_loss: 0.9655 - val_acc: 0.4974\n",
      "Epoch 45/500\n",
      "37/37 [==============================] - 2s 66ms/step - loss: 0.4854 - acc: 0.7012 - val_loss: 1.1649 - val_acc: 0.4974\n",
      "Epoch 46/500\n",
      "37/37 [==============================] - 2s 67ms/step - loss: 0.4469 - acc: 0.7338 - val_loss: 1.3886 - val_acc: 0.6622\n",
      "Epoch 47/500\n",
      "37/37 [==============================] - 2s 66ms/step - loss: 0.4301 - acc: 0.7703 - val_loss: 1.4460 - val_acc: 0.6859\n",
      "Epoch 48/500\n",
      "37/37 [==============================] - 2s 66ms/step - loss: 0.4066 - acc: 0.8119 - val_loss: 1.4975 - val_acc: 0.6929\n",
      "Epoch 49/500\n",
      "37/37 [==============================] - 2s 66ms/step - loss: 0.3905 - acc: 0.8265 - val_loss: 1.6405 - val_acc: 0.6910\n",
      "Epoch 50/500\n",
      "37/37 [==============================] - 2s 66ms/step - loss: 0.3774 - acc: 0.8497 - val_loss: 1.8198 - val_acc: 0.7026\n",
      "Restoring model weights from the end of the best epoch.\n",
      "Epoch 00050: early stopping\n",
      "정확도 : 0.7282051282051282\n"
     ]
    }
   ],
   "source": [
    "## import sklearn.metrics \n",
    "from keras.callbacks import EarlyStopping\n",
    "\n",
    "# -------- 수정할 부분 ---------\n",
    "ep = 500\n",
    "pa = 30\n",
    "# -----------------------------\n",
    "\n",
    "early_stop = EarlyStopping(monitor='val_acc', patience=pa, verbose=1, restore_best_weights=True)\n",
    "lstm.compile(optimizer= \"adam\", loss = \"binary_crossentropy\", metrics=['acc'])\n",
    "history = lstm.fit(X_train, y_train, validation_split=0.25, batch_size=128, epochs=ep,  callbacks=[early_stop], shuffle=False)\n",
    "\n",
    "preds = lstm.predict(X_test)\n",
    "\n",
    "preds[preds>0.5]=1\n",
    "preds[preds<=0.5]=0\n",
    "\n",
    "from sklearn import metrics \n",
    "print('정확도 :', metrics.accuracy_score(y_test, preds))"
   ]
  },
  {
   "cell_type": "markdown",
   "id": "dcdb8852",
   "metadata": {},
   "source": [
    "### acc, loss 그래프"
   ]
  },
  {
   "cell_type": "code",
   "execution_count": 5,
   "id": "a98913b7",
   "metadata": {},
   "outputs": [
    {
     "data": {
      "image/png": "[encoded data removed]",
      "text/plain": [
       "<Figure size 432x288 with 2 Axes>"
      ]
     },
     "metadata": {
      "needs_background": "light"
     },
     "output_type": "display_data"
    }
   ],
   "source": [
    "import matplotlib.pyplot as plt\n",
    "\n",
    "fig, loss_ax = plt.subplots()\n",
    "\n",
    "acc_ax = loss_ax.twinx()\n",
    "\n",
    "_=loss_ax.plot(history.history['loss'], 'y', label='train loss')\n",
    "_=loss_ax.plot(history.history['val_loss'], 'r', label='val loss')\n",
    "\n",
    "_=acc_ax.plot(history.history['acc'], 'b', label='train acc')\n",
    "_=acc_ax.plot(history.history['val_acc'], 'g', label='val acc')\n",
    "\n",
    "_=loss_ax.set_xlabel('epoch')\n",
    "_=loss_ax.set_ylabel('loss')\n",
    "_=acc_ax.set_ylabel('accuracy')\n",
    "\n",
    "_=loss_ax.legend(loc='upper left')\n",
    "_=acc_ax.legend(loc='lower left')\n",
    "\n",
    "plt.show()"
   ]
  },
  {
   "cell_type": "markdown",
   "id": "f32e7c1d",
   "metadata": {},
   "source": [
    "## LSTM 2"
   ]
  },
  {
   "cell_type": "code",
   "execution_count": 23,
   "id": "f4e0d561",
   "metadata": {},
   "outputs": [],
   "source": [
    "from keras.models import Sequential\n",
    "from keras.layers import Dense\n",
    "from keras.layers import LSTM\n",
    "from keras.layers import Dropout\n",
    "from keras.layers import *\n",
    "\n",
    "lstm2 = Sequential()\n",
    "lstm2.add(InputLayer(input_shape=(X_train.shape[1],X_train.shape[2])))\n",
    "lstm2.add(LSTM(units=512, activation='tanh', return_sequences=True))\n",
    "lstm2.add(LSTM(units=256, activation='tanh', return_sequences=True))\n",
    "lstm2.add(LSTM(units=128, activation='tanh', return_sequences=True))\n",
    "lstm2.add(LSTM(units=64, activation='sigmoid', return_sequences=True))\n",
    "lstm2.add(LSTM(units=32, activation='sigmoid', return_sequences=False))\n",
    "lstm2.add(Dense(units=1))\n",
    "# lstm2.summary()"
   ]
  },
  {
   "cell_type": "markdown",
   "id": "f35c1a94",
   "metadata": {},
   "source": [
    "### ep = 100, pa = 20 (5회)"
   ]
  },
  {
   "cell_type": "code",
   "execution_count": 24,
   "id": "c88fbce2",
   "metadata": {
    "scrolled": true
   },
   "outputs": [
    {
     "name": "stdout",
     "output_type": "stream",
     "text": [
      "Epoch 1/100\n",
      "37/37 [==============================] - 12s 215ms/step - loss: 10.6881 - acc: 0.3071 - val_loss: 7.6729 - val_acc: 0.5026\n",
      "Epoch 2/100\n",
      "37/37 [==============================] - 7s 188ms/step - loss: 10.6881 - acc: 0.3071 - val_loss: 7.6729 - val_acc: 0.5026\n",
      "Epoch 3/100\n",
      "37/37 [==============================] - 7s 188ms/step - loss: 10.6881 - acc: 0.3071 - val_loss: 7.6729 - val_acc: 0.5026\n",
      "Epoch 4/100\n",
      "37/37 [==============================] - 7s 188ms/step - loss: 10.6881 - acc: 0.3071 - val_loss: 7.6729 - val_acc: 0.5026\n",
      "Epoch 5/100\n",
      "37/37 [==============================] - 7s 189ms/step - loss: 10.6881 - acc: 0.3071 - val_loss: 7.6729 - val_acc: 0.5026\n",
      "Epoch 6/100\n",
      "37/37 [==============================] - 7s 187ms/step - loss: 10.6881 - acc: 0.3071 - val_loss: 7.6729 - val_acc: 0.5026\n",
      "Epoch 7/100\n",
      "37/37 [==============================] - 7s 186ms/step - loss: 10.6881 - acc: 0.3071 - val_loss: 7.6729 - val_acc: 0.5026\n",
      "Epoch 8/100\n",
      "37/37 [==============================] - 7s 186ms/step - loss: 10.6881 - acc: 0.3071 - val_loss: 7.6729 - val_acc: 0.5026\n",
      "Epoch 9/100\n",
      "37/37 [==============================] - 7s 186ms/step - loss: 10.6881 - acc: 0.3071 - val_loss: 7.6729 - val_acc: 0.5026\n",
      "Epoch 10/100\n",
      "37/37 [==============================] - 7s 187ms/step - loss: 10.6881 - acc: 0.3071 - val_loss: 7.6729 - val_acc: 0.5026\n",
      "Epoch 11/100\n",
      "37/37 [==============================] - 7s 188ms/step - loss: 10.6881 - acc: 0.3071 - val_loss: 7.6729 - val_acc: 0.5026\n",
      "Epoch 12/100\n",
      "37/37 [==============================] - 7s 187ms/step - loss: 10.6881 - acc: 0.3071 - val_loss: 7.6729 - val_acc: 0.5026\n",
      "Epoch 13/100\n",
      "37/37 [==============================] - 7s 186ms/step - loss: 10.6881 - acc: 0.3071 - val_loss: 7.6729 - val_acc: 0.5026\n",
      "Epoch 14/100\n",
      "37/37 [==============================] - 7s 186ms/step - loss: 10.6881 - acc: 0.3071 - val_loss: 7.6729 - val_acc: 0.5026\n",
      "Epoch 15/100\n",
      "37/37 [==============================] - 7s 186ms/step - loss: 10.6881 - acc: 0.3071 - val_loss: 7.6729 - val_acc: 0.5026\n",
      "Epoch 16/100\n",
      "37/37 [==============================] - 7s 185ms/step - loss: 10.6881 - acc: 0.3071 - val_loss: 7.6729 - val_acc: 0.5026\n",
      "Epoch 17/100\n",
      "37/37 [==============================] - 7s 187ms/step - loss: 10.6881 - acc: 0.3071 - val_loss: 7.6729 - val_acc: 0.5026\n",
      "Epoch 18/100\n",
      "37/37 [==============================] - 7s 186ms/step - loss: 10.6881 - acc: 0.3071 - val_loss: 7.6729 - val_acc: 0.5026\n",
      "Epoch 19/100\n",
      "37/37 [==============================] - 7s 186ms/step - loss: 10.6881 - acc: 0.3071 - val_loss: 7.6729 - val_acc: 0.5026\n",
      "Epoch 20/100\n",
      "37/37 [==============================] - 7s 186ms/step - loss: 10.6881 - acc: 0.3071 - val_loss: 7.6729 - val_acc: 0.5026\n",
      "Epoch 21/100\n",
      "37/37 [==============================] - 7s 186ms/step - loss: 10.6881 - acc: 0.3071 - val_loss: 7.6729 - val_acc: 0.5026\n",
      "Restoring model weights from the end of the best epoch.\n",
      "Epoch 00021: early stopping\n",
      "정확도 : 0.5064102564102564\n"
     ]
    }
   ],
   "source": [
    "import sklearn.metrics \n",
    "from keras.callbacks import EarlyStopping\n",
    "\n",
    "early_stop = EarlyStopping(monitor='val_acc', patience=20, verbose=1, restore_best_weights=True)\n",
    "lstm2.compile(optimizer= \"adam\", loss = \"binary_crossentropy\", metrics=['acc'])\n",
    "history = lstm2.fit(X_train, y_train, validation_split=0.25, batch_size=128, epochs=100,  callbacks=[early_stop], shuffle=False)\n",
    "\n",
    "preds = lstm2.predict(X_test)\n",
    "\n",
    "preds[preds>0.5]=1\n",
    "preds[preds<=0.5]=0\n",
    "\n",
    "from sklearn import metrics \n",
    "print('정확도 :', metrics.accuracy_score(y_test, preds))"
   ]
  },
  {
   "cell_type": "markdown",
   "id": "dc7b8bda",
   "metadata": {},
   "source": [
    "### ep = 500, pa = 30, 50, 80, 150\n",
    "- patience = 30 : 50.6\n",
    "- patience = 50 : 50.6 \n",
    "- patience = 80 : 50.6\n",
    "- patience = 150 : 50.6"
   ]
  },
  {
   "cell_type": "code",
   "execution_count": 16,
   "id": "2572c346",
   "metadata": {
    "scrolled": true
   },
   "outputs": [
    {
     "name": "stdout",
     "output_type": "stream",
     "text": [
      "Epoch 1/500\n",
      "37/37 [==============================] - 12s 215ms/step - loss: 10.6881 - acc: 0.3071 - val_loss: 7.6729 - val_acc: 0.5026\n",
      "Epoch 2/500\n",
      "37/37 [==============================] - 7s 188ms/step - loss: 10.6881 - acc: 0.3071 - val_loss: 7.6729 - val_acc: 0.5026\n",
      "Epoch 3/500\n",
      "37/37 [==============================] - 7s 188ms/step - loss: 10.6881 - acc: 0.3071 - val_loss: 7.6729 - val_acc: 0.5026\n",
      "Epoch 4/500\n",
      "37/37 [==============================] - 7s 189ms/step - loss: 10.6881 - acc: 0.3071 - val_loss: 7.6729 - val_acc: 0.5026\n",
      "Epoch 5/500\n",
      "37/37 [==============================] - 7s 188ms/step - loss: 10.6881 - acc: 0.3071 - val_loss: 7.6729 - val_acc: 0.5026\n",
      "Epoch 6/500\n",
      "37/37 [==============================] - 7s 188ms/step - loss: 10.6881 - acc: 0.3071 - val_loss: 7.6729 - val_acc: 0.5026\n",
      "Epoch 7/500\n",
      "37/37 [==============================] - 7s 189ms/step - loss: 10.6881 - acc: 0.3071 - val_loss: 7.6729 - val_acc: 0.5026\n",
      "Epoch 8/500\n",
      "37/37 [==============================] - 7s 188ms/step - loss: 10.6881 - acc: 0.3071 - val_loss: 7.6729 - val_acc: 0.5026\n",
      "Epoch 9/500\n",
      "37/37 [==============================] - 7s 187ms/step - loss: 10.6881 - acc: 0.3071 - val_loss: 7.6729 - val_acc: 0.5026\n",
      "Epoch 10/500\n",
      "37/37 [==============================] - 7s 188ms/step - loss: 10.6881 - acc: 0.3071 - val_loss: 7.6729 - val_acc: 0.5026\n",
      "Epoch 11/500\n",
      "37/37 [==============================] - 7s 188ms/step - loss: 10.6881 - acc: 0.3071 - val_loss: 7.6729 - val_acc: 0.5026\n",
      "Epoch 12/500\n",
      "37/37 [==============================] - 7s 187ms/step - loss: 10.6881 - acc: 0.3071 - val_loss: 7.6729 - val_acc: 0.5026\n",
      "Epoch 13/500\n",
      "37/37 [==============================] - 7s 188ms/step - loss: 10.6881 - acc: 0.3071 - val_loss: 7.6729 - val_acc: 0.5026\n",
      "Epoch 14/500\n",
      "37/37 [==============================] - 7s 188ms/step - loss: 10.6881 - acc: 0.3071 - val_loss: 7.6729 - val_acc: 0.5026\n",
      "Epoch 15/500\n",
      "37/37 [==============================] - 7s 188ms/step - loss: 10.6881 - acc: 0.3071 - val_loss: 7.6729 - val_acc: 0.5026\n",
      "Epoch 16/500\n",
      "37/37 [==============================] - 7s 188ms/step - loss: 10.6881 - acc: 0.3071 - val_loss: 7.6729 - val_acc: 0.5026\n",
      "Epoch 17/500\n",
      "37/37 [==============================] - 7s 188ms/step - loss: 10.6881 - acc: 0.3071 - val_loss: 7.6729 - val_acc: 0.5026\n",
      "Epoch 18/500\n",
      "37/37 [==============================] - 7s 187ms/step - loss: 10.6881 - acc: 0.3071 - val_loss: 7.6729 - val_acc: 0.5026\n",
      "Epoch 19/500\n",
      "37/37 [==============================] - 7s 187ms/step - loss: 10.6881 - acc: 0.3071 - val_loss: 7.6729 - val_acc: 0.5026\n",
      "Epoch 20/500\n",
      "37/37 [==============================] - 7s 188ms/step - loss: 10.6881 - acc: 0.3071 - val_loss: 7.6729 - val_acc: 0.5026\n",
      "Epoch 21/500\n",
      "37/37 [==============================] - 7s 187ms/step - loss: 10.6881 - acc: 0.3071 - val_loss: 7.6729 - val_acc: 0.5026\n",
      "Epoch 22/500\n",
      "37/37 [==============================] - 7s 187ms/step - loss: 10.6881 - acc: 0.3071 - val_loss: 7.6729 - val_acc: 0.5026\n",
      "Epoch 23/500\n",
      "37/37 [==============================] - 7s 187ms/step - loss: 10.6881 - acc: 0.3071 - val_loss: 7.6729 - val_acc: 0.5026\n",
      "Epoch 24/500\n",
      "37/37 [==============================] - 7s 188ms/step - loss: 10.6881 - acc: 0.3071 - val_loss: 7.6729 - val_acc: 0.5026\n",
      "Epoch 25/500\n",
      "37/37 [==============================] - 7s 188ms/step - loss: 10.6881 - acc: 0.3071 - val_loss: 7.6729 - val_acc: 0.5026\n",
      "Epoch 26/500\n",
      "37/37 [==============================] - 7s 188ms/step - loss: 10.6881 - acc: 0.3071 - val_loss: 7.6729 - val_acc: 0.5026\n",
      "Epoch 27/500\n",
      "37/37 [==============================] - 7s 187ms/step - loss: 10.6881 - acc: 0.3071 - val_loss: 7.6729 - val_acc: 0.5026\n",
      "Epoch 28/500\n",
      "37/37 [==============================] - 7s 188ms/step - loss: 10.6881 - acc: 0.3071 - val_loss: 7.6729 - val_acc: 0.5026\n",
      "Epoch 29/500\n",
      "37/37 [==============================] - 7s 187ms/step - loss: 10.6881 - acc: 0.3071 - val_loss: 7.6729 - val_acc: 0.5026\n",
      "Epoch 30/500\n",
      "37/37 [==============================] - 7s 186ms/step - loss: 10.6881 - acc: 0.3071 - val_loss: 7.6729 - val_acc: 0.5026\n",
      "Epoch 31/500\n",
      "37/37 [==============================] - 7s 187ms/step - loss: 10.6881 - acc: 0.3071 - val_loss: 7.6729 - val_acc: 0.5026\n",
      "Epoch 32/500\n",
      "37/37 [==============================] - 7s 187ms/step - loss: 10.6881 - acc: 0.3071 - val_loss: 7.6729 - val_acc: 0.5026\n",
      "Epoch 33/500\n",
      "37/37 [==============================] - 7s 187ms/step - loss: 10.6881 - acc: 0.3071 - val_loss: 7.6729 - val_acc: 0.5026\n",
      "Epoch 34/500\n",
      "37/37 [==============================] - 7s 187ms/step - loss: 10.6881 - acc: 0.3071 - val_loss: 7.6729 - val_acc: 0.5026\n",
      "Epoch 35/500\n",
      "37/37 [==============================] - 7s 186ms/step - loss: 10.6881 - acc: 0.3071 - val_loss: 7.6729 - val_acc: 0.5026\n",
      "Epoch 36/500\n",
      "37/37 [==============================] - 7s 187ms/step - loss: 10.6881 - acc: 0.3071 - val_loss: 7.6729 - val_acc: 0.5026\n",
      "Epoch 37/500\n",
      "37/37 [==============================] - 7s 187ms/step - loss: 10.6881 - acc: 0.3071 - val_loss: 7.6729 - val_acc: 0.5026\n",
      "Epoch 38/500\n",
      "37/37 [==============================] - 7s 187ms/step - loss: 10.6881 - acc: 0.3071 - val_loss: 7.6729 - val_acc: 0.5026\n",
      "Epoch 39/500\n",
      "37/37 [==============================] - 7s 187ms/step - loss: 10.6881 - acc: 0.3071 - val_loss: 7.6729 - val_acc: 0.5026\n",
      "Epoch 40/500\n",
      "37/37 [==============================] - 7s 189ms/step - loss: 10.6881 - acc: 0.3071 - val_loss: 7.6729 - val_acc: 0.5026\n",
      "Epoch 41/500\n",
      "37/37 [==============================] - 7s 188ms/step - loss: 10.6881 - acc: 0.3071 - val_loss: 7.6729 - val_acc: 0.5026\n",
      "Epoch 42/500\n",
      "37/37 [==============================] - 7s 187ms/step - loss: 10.6881 - acc: 0.3071 - val_loss: 7.6729 - val_acc: 0.5026\n",
      "Epoch 43/500\n",
      "37/37 [==============================] - 7s 187ms/step - loss: 10.6881 - acc: 0.3071 - val_loss: 7.6729 - val_acc: 0.5026\n",
      "Epoch 44/500\n",
      "37/37 [==============================] - 7s 188ms/step - loss: 10.6881 - acc: 0.3071 - val_loss: 7.6729 - val_acc: 0.5026\n",
      "Epoch 45/500\n",
      "37/37 [==============================] - 7s 187ms/step - loss: 10.6881 - acc: 0.3071 - val_loss: 7.6729 - val_acc: 0.5026\n",
      "Epoch 46/500\n",
      "37/37 [==============================] - 7s 187ms/step - loss: 10.6881 - acc: 0.3071 - val_loss: 7.6729 - val_acc: 0.5026\n",
      "Epoch 47/500\n",
      "37/37 [==============================] - 7s 186ms/step - loss: 10.6881 - acc: 0.3071 - val_loss: 7.6729 - val_acc: 0.5026\n",
      "Epoch 48/500\n",
      "37/37 [==============================] - 7s 187ms/step - loss: 10.6881 - acc: 0.3071 - val_loss: 7.6729 - val_acc: 0.5026\n",
      "Epoch 49/500\n",
      "37/37 [==============================] - 7s 188ms/step - loss: 10.6881 - acc: 0.3071 - val_loss: 7.6729 - val_acc: 0.5026\n",
      "Epoch 50/500\n",
      "37/37 [==============================] - 7s 187ms/step - loss: 10.6881 - acc: 0.3071 - val_loss: 7.6729 - val_acc: 0.5026\n",
      "Epoch 51/500\n",
      "37/37 [==============================] - 7s 187ms/step - loss: 10.6881 - acc: 0.3071 - val_loss: 7.6729 - val_acc: 0.5026\n",
      "Epoch 52/500\n",
      "37/37 [==============================] - 7s 187ms/step - loss: 10.6881 - acc: 0.3071 - val_loss: 7.6729 - val_acc: 0.5026\n",
      "Epoch 53/500\n",
      "37/37 [==============================] - 7s 186ms/step - loss: 10.6881 - acc: 0.3071 - val_loss: 7.6729 - val_acc: 0.5026\n",
      "Epoch 54/500\n",
      "37/37 [==============================] - 7s 187ms/step - loss: 10.6881 - acc: 0.3071 - val_loss: 7.6729 - val_acc: 0.5026\n",
      "Epoch 55/500\n",
      "37/37 [==============================] - 7s 187ms/step - loss: 10.6881 - acc: 0.3071 - val_loss: 7.6729 - val_acc: 0.5026\n",
      "Epoch 56/500\n",
      "37/37 [==============================] - 7s 188ms/step - loss: 10.6881 - acc: 0.3071 - val_loss: 7.6729 - val_acc: 0.5026\n",
      "Epoch 57/500\n",
      "37/37 [==============================] - 7s 187ms/step - loss: 10.6881 - acc: 0.3071 - val_loss: 7.6729 - val_acc: 0.5026\n",
      "Epoch 58/500\n",
      "37/37 [==============================] - 7s 187ms/step - loss: 10.6881 - acc: 0.3071 - val_loss: 7.6729 - val_acc: 0.5026\n",
      "Epoch 59/500\n",
      "37/37 [==============================] - 7s 187ms/step - loss: 10.6881 - acc: 0.3071 - val_loss: 7.6729 - val_acc: 0.5026\n",
      "Epoch 60/500\n",
      "37/37 [==============================] - 7s 187ms/step - loss: 10.6881 - acc: 0.3071 - val_loss: 7.6729 - val_acc: 0.5026\n",
      "Epoch 61/500\n",
      "37/37 [==============================] - 7s 187ms/step - loss: 10.6881 - acc: 0.3071 - val_loss: 7.6729 - val_acc: 0.5026\n"
     ]
    },
    {
     "name": "stdout",
     "output_type": "stream",
     "text": [
      "Epoch 62/500\n",
      "37/37 [==============================] - 7s 187ms/step - loss: 10.6881 - acc: 0.3071 - val_loss: 7.6729 - val_acc: 0.5026\n",
      "Epoch 63/500\n",
      "37/37 [==============================] - 7s 187ms/step - loss: 10.6881 - acc: 0.3071 - val_loss: 7.6729 - val_acc: 0.5026\n",
      "Epoch 64/500\n",
      "37/37 [==============================] - 7s 187ms/step - loss: 10.6881 - acc: 0.3071 - val_loss: 7.6729 - val_acc: 0.5026\n",
      "Epoch 65/500\n",
      "37/37 [==============================] - 7s 187ms/step - loss: 10.6881 - acc: 0.3071 - val_loss: 7.6729 - val_acc: 0.5026\n",
      "Epoch 66/500\n",
      "37/37 [==============================] - 7s 188ms/step - loss: 10.6881 - acc: 0.3071 - val_loss: 7.6729 - val_acc: 0.5026\n",
      "Epoch 67/500\n",
      "37/37 [==============================] - 7s 187ms/step - loss: 10.6881 - acc: 0.3071 - val_loss: 7.6729 - val_acc: 0.5026\n",
      "Epoch 68/500\n",
      "37/37 [==============================] - 7s 188ms/step - loss: 10.6881 - acc: 0.3071 - val_loss: 7.6729 - val_acc: 0.5026\n",
      "Epoch 69/500\n",
      "37/37 [==============================] - 7s 187ms/step - loss: 10.6881 - acc: 0.3071 - val_loss: 7.6729 - val_acc: 0.5026\n",
      "Epoch 70/500\n",
      "37/37 [==============================] - 7s 186ms/step - loss: 10.6881 - acc: 0.3071 - val_loss: 7.6729 - val_acc: 0.5026\n",
      "Epoch 71/500\n",
      "37/37 [==============================] - 7s 187ms/step - loss: 10.6881 - acc: 0.3071 - val_loss: 7.6729 - val_acc: 0.5026\n",
      "Epoch 72/500\n",
      "37/37 [==============================] - 7s 187ms/step - loss: 10.6881 - acc: 0.3071 - val_loss: 7.6729 - val_acc: 0.5026\n",
      "Epoch 73/500\n",
      "37/37 [==============================] - 7s 187ms/step - loss: 10.6881 - acc: 0.3071 - val_loss: 7.6729 - val_acc: 0.5026\n",
      "Epoch 74/500\n",
      "37/37 [==============================] - 7s 186ms/step - loss: 10.6881 - acc: 0.3071 - val_loss: 7.6729 - val_acc: 0.5026\n",
      "Epoch 75/500\n",
      "37/37 [==============================] - 7s 186ms/step - loss: 10.6881 - acc: 0.3071 - val_loss: 7.6729 - val_acc: 0.5026\n",
      "Epoch 76/500\n",
      "37/37 [==============================] - 7s 186ms/step - loss: 10.6881 - acc: 0.3071 - val_loss: 7.6729 - val_acc: 0.5026\n",
      "Epoch 77/500\n",
      "37/37 [==============================] - 7s 187ms/step - loss: 10.6881 - acc: 0.3071 - val_loss: 7.6729 - val_acc: 0.5026\n",
      "Epoch 78/500\n",
      "37/37 [==============================] - 7s 187ms/step - loss: 10.6881 - acc: 0.3071 - val_loss: 7.6729 - val_acc: 0.5026\n",
      "Epoch 79/500\n",
      "37/37 [==============================] - 7s 187ms/step - loss: 10.6881 - acc: 0.3071 - val_loss: 7.6729 - val_acc: 0.5026\n",
      "Epoch 80/500\n",
      "37/37 [==============================] - 7s 188ms/step - loss: 10.6881 - acc: 0.3071 - val_loss: 7.6729 - val_acc: 0.5026\n",
      "Epoch 81/500\n",
      "37/37 [==============================] - 7s 187ms/step - loss: 10.6881 - acc: 0.3071 - val_loss: 7.6729 - val_acc: 0.5026\n",
      "Restoring model weights from the end of the best epoch.\n",
      "Epoch 00081: early stopping\n",
      "정확도 : 0.5064102564102564\n"
     ]
    }
   ],
   "source": [
    "import sklearn.metrics \n",
    "from keras.callbacks import EarlyStopping\n",
    "\n",
    "early_stop = EarlyStopping(monitor='val_acc', patience=80, verbose=1, restore_best_weights=True)\n",
    "lstm2.compile(optimizer= \"adam\", loss = \"binary_crossentropy\", metrics=['acc'])\n",
    "history = lstm2.fit(X_train, y_train, validation_split=0.25, batch_size=128, epochs=500,  callbacks=[early_stop], shuffle=False)\n",
    "\n",
    "preds = lstm2.predict(X_test)\n",
    "\n",
    "preds[preds>0.5]=1\n",
    "preds[preds<=0.5]=0\n",
    "\n",
    "from sklearn import metrics \n",
    "print('정확도 :', metrics.accuracy_score(y_test, preds))"
   ]
  },
  {
   "cell_type": "markdown",
   "id": "12a7bf14",
   "metadata": {},
   "source": [
    "### acc, loss 그래프"
   ]
  },
  {
   "cell_type": "code",
   "execution_count": 25,
   "id": "8ae82200",
   "metadata": {},
   "outputs": [
    {
     "data": {
      "image/png": "[encoded data removed]",
      "text/plain": [
       "<Figure size 432x288 with 2 Axes>"
      ]
     },
     "metadata": {
      "needs_background": "light"
     },
     "output_type": "display_data"
    }
   ],
   "source": [
    "import matplotlib.pyplot as plt\n",
    "\n",
    "fig, loss_ax = plt.subplots()\n",
    "\n",
    "acc_ax = loss_ax.twinx()\n",
    "\n",
    "_=loss_ax.plot(history.history['loss'], 'y', label='train loss')\n",
    "_=loss_ax.plot(history.history['val_loss'], 'r', label='val loss')\n",
    "\n",
    "_=acc_ax.plot(history.history['acc'], 'b', label='train acc')\n",
    "_=acc_ax.plot(history.history['val_acc'], 'g', label='val acc')\n",
    "\n",
    "_=loss_ax.set_xlabel('epoch')\n",
    "_=loss_ax.set_ylabel('loss')\n",
    "_=acc_ax.set_ylabel('accuracy')\n",
    "\n",
    "_=loss_ax.legend(loc='upper left')\n",
    "_=acc_ax.legend(loc='lower left')\n",
    "\n",
    "plt.show()"
   ]
  },
  {
   "cell_type": "markdown",
   "id": "e1fc6432",
   "metadata": {},
   "source": [
    "### history 함수 직접 정의\n",
    "- 기본적인 모델의 학습 상태 모니터링은 앞서 소개한 히스토리 콜백함수나 텐서보드를 이용하면 되지만, 순환신경망 모델인 경우에는 fit 함수를 여러번 호출되기 때문에 제대로 학습상태를 볼 수가 없습니다. \n",
    "- https://tykimos.github.io/2017/07/09/Training_Monitoring/"
   ]
  },
  {
   "cell_type": "code",
   "execution_count": 26,
   "id": "dd36d3a2",
   "metadata": {
    "scrolled": true
   },
   "outputs": [
    {
     "name": "stdout",
     "output_type": "stream",
     "text": [
      "epochs : 0\n",
      "37/37 [==============================] - 13s 212ms/step - loss: 10.7468 - acc: 0.3033 - val_loss: 7.6729 - val_acc: 0.5026\n"
     ]
    },
    {
     "data": {
      "text/plain": [
       "<keras.callbacks.History at 0x7f0b242284f0>"
      ]
     },
     "execution_count": 26,
     "metadata": {},
     "output_type": "execute_result"
    },
    {
     "name": "stdout",
     "output_type": "stream",
     "text": [
      "epochs : 1\n",
      "37/37 [==============================] - 7s 185ms/step - loss: 10.6448 - acc: 0.3099 - val_loss: 7.6729 - val_acc: 0.5026\n"
     ]
    },
    {
     "data": {
      "text/plain": [
       "<keras.callbacks.History at 0x7f0fec230a60>"
      ]
     },
     "execution_count": 26,
     "metadata": {},
     "output_type": "execute_result"
    },
    {
     "name": "stdout",
     "output_type": "stream",
     "text": [
      "epochs : 2\n",
      "37/37 [==============================] - 7s 188ms/step - loss: 10.6448 - acc: 0.3099 - val_loss: 7.6729 - val_acc: 0.5026\n"
     ]
    },
    {
     "data": {
      "text/plain": [
       "<keras.callbacks.History at 0x7f0d2c37a820>"
      ]
     },
     "execution_count": 26,
     "metadata": {},
     "output_type": "execute_result"
    },
    {
     "name": "stdout",
     "output_type": "stream",
     "text": [
      "epochs : 3\n",
      "37/37 [==============================] - 7s 187ms/step - loss: 10.6448 - acc: 0.3099 - val_loss: 7.6729 - val_acc: 0.5026\n"
     ]
    },
    {
     "data": {
      "text/plain": [
       "<keras.callbacks.History at 0x7f0b6c6eea00>"
      ]
     },
     "execution_count": 26,
     "metadata": {},
     "output_type": "execute_result"
    },
    {
     "name": "stdout",
     "output_type": "stream",
     "text": [
      "epochs : 4\n",
      "37/37 [==============================] - 7s 188ms/step - loss: 10.6448 - acc: 0.3099 - val_loss: 7.6729 - val_acc: 0.5026\n"
     ]
    },
    {
     "data": {
      "text/plain": [
       "<keras.callbacks.History at 0x7f0dcc0b6130>"
      ]
     },
     "execution_count": 26,
     "metadata": {},
     "output_type": "execute_result"
    },
    {
     "name": "stdout",
     "output_type": "stream",
     "text": [
      "epochs : 5\n",
      "37/37 [==============================] - 7s 190ms/step - loss: 10.6448 - acc: 0.3099 - val_loss: 7.6729 - val_acc: 0.5026\n"
     ]
    },
    {
     "data": {
      "text/plain": [
       "<keras.callbacks.History at 0x7f0bcc078d60>"
      ]
     },
     "execution_count": 26,
     "metadata": {},
     "output_type": "execute_result"
    },
    {
     "name": "stdout",
     "output_type": "stream",
     "text": [
      "epochs : 6\n",
      "37/37 [==============================] - 7s 187ms/step - loss: 10.6448 - acc: 0.3099 - val_loss: 7.6729 - val_acc: 0.5026\n"
     ]
    },
    {
     "data": {
      "text/plain": [
       "<keras.callbacks.History at 0x7f0d4c0e9940>"
      ]
     },
     "execution_count": 26,
     "metadata": {},
     "output_type": "execute_result"
    },
    {
     "name": "stdout",
     "output_type": "stream",
     "text": [
      "epochs : 7\n",
      "37/37 [==============================] - 7s 187ms/step - loss: 10.6448 - acc: 0.3099 - val_loss: 7.6729 - val_acc: 0.5026\n"
     ]
    },
    {
     "data": {
      "text/plain": [
       "<keras.callbacks.History at 0x7f0d6c067e20>"
      ]
     },
     "execution_count": 26,
     "metadata": {},
     "output_type": "execute_result"
    },
    {
     "name": "stdout",
     "output_type": "stream",
     "text": [
      "epochs : 8\n",
      "37/37 [==============================] - 7s 189ms/step - loss: 10.6448 - acc: 0.3099 - val_loss: 7.6729 - val_acc: 0.5026\n"
     ]
    },
    {
     "data": {
      "text/plain": [
       "<keras.callbacks.History at 0x7f0c2c136610>"
      ]
     },
     "execution_count": 26,
     "metadata": {},
     "output_type": "execute_result"
    },
    {
     "name": "stdout",
     "output_type": "stream",
     "text": [
      "epochs : 9\n",
      "37/37 [==============================] - 7s 185ms/step - loss: 10.6448 - acc: 0.3099 - val_loss: 7.6729 - val_acc: 0.5026\n"
     ]
    },
    {
     "data": {
      "text/plain": [
       "<keras.callbacks.History at 0x7f0c0c285370>"
      ]
     },
     "execution_count": 26,
     "metadata": {},
     "output_type": "execute_result"
    },
    {
     "name": "stdout",
     "output_type": "stream",
     "text": [
      "epochs : 10\n",
      "37/37 [==============================] - 7s 187ms/step - loss: 10.6448 - acc: 0.3099 - val_loss: 7.6729 - val_acc: 0.5026\n"
     ]
    },
    {
     "data": {
      "text/plain": [
       "<keras.callbacks.History at 0x7f0dcc07e220>"
      ]
     },
     "execution_count": 26,
     "metadata": {},
     "output_type": "execute_result"
    },
    {
     "name": "stdout",
     "output_type": "stream",
     "text": [
      "epochs : 11\n",
      "37/37 [==============================] - 7s 187ms/step - loss: 10.6448 - acc: 0.3099 - val_loss: 7.6729 - val_acc: 0.5026\n"
     ]
    },
    {
     "data": {
      "text/plain": [
       "<keras.callbacks.History at 0x7f0d6c389760>"
      ]
     },
     "execution_count": 26,
     "metadata": {},
     "output_type": "execute_result"
    },
    {
     "name": "stdout",
     "output_type": "stream",
     "text": [
      "epochs : 12\n",
      "37/37 [==============================] - 7s 186ms/step - loss: 10.6448 - acc: 0.3099 - val_loss: 7.6729 - val_acc: 0.5026\n"
     ]
    },
    {
     "data": {
      "text/plain": [
       "<keras.callbacks.History at 0x7f0dec0efcd0>"
      ]
     },
     "execution_count": 26,
     "metadata": {},
     "output_type": "execute_result"
    },
    {
     "name": "stdout",
     "output_type": "stream",
     "text": [
      "epochs : 13\n",
      "37/37 [==============================] - 7s 188ms/step - loss: 10.6448 - acc: 0.3099 - val_loss: 7.6729 - val_acc: 0.5026\n"
     ]
    },
    {
     "data": {
      "text/plain": [
       "<keras.callbacks.History at 0x7f0d4c604430>"
      ]
     },
     "execution_count": 26,
     "metadata": {},
     "output_type": "execute_result"
    },
    {
     "name": "stdout",
     "output_type": "stream",
     "text": [
      "epochs : 14\n",
      "37/37 [==============================] - 7s 187ms/step - loss: 10.6448 - acc: 0.3099 - val_loss: 7.6729 - val_acc: 0.5026\n"
     ]
    },
    {
     "data": {
      "text/plain": [
       "<keras.callbacks.History at 0x7f0d2c37ab50>"
      ]
     },
     "execution_count": 26,
     "metadata": {},
     "output_type": "execute_result"
    },
    {
     "name": "stdout",
     "output_type": "stream",
     "text": [
      "epochs : 15\n",
      "37/37 [==============================] - 7s 189ms/step - loss: 10.6448 - acc: 0.3099 - val_loss: 7.6729 - val_acc: 0.5026\n"
     ]
    },
    {
     "data": {
      "text/plain": [
       "<keras.callbacks.History at 0x7f0c0c29d040>"
      ]
     },
     "execution_count": 26,
     "metadata": {},
     "output_type": "execute_result"
    },
    {
     "name": "stdout",
     "output_type": "stream",
     "text": [
      "epochs : 16\n",
      "37/37 [==============================] - 7s 186ms/step - loss: 10.6448 - acc: 0.3099 - val_loss: 7.6729 - val_acc: 0.5026\n"
     ]
    },
    {
     "data": {
      "text/plain": [
       "<keras.callbacks.History at 0x7f0d4c4a0550>"
      ]
     },
     "execution_count": 26,
     "metadata": {},
     "output_type": "execute_result"
    },
    {
     "name": "stdout",
     "output_type": "stream",
     "text": [
      "epochs : 17\n",
      "37/37 [==============================] - 7s 189ms/step - loss: 10.6448 - acc: 0.3099 - val_loss: 7.6729 - val_acc: 0.5026\n"
     ]
    },
    {
     "data": {
      "text/plain": [
       "<keras.callbacks.History at 0x7f0c0c60ee20>"
      ]
     },
     "execution_count": 26,
     "metadata": {},
     "output_type": "execute_result"
    },
    {
     "name": "stdout",
     "output_type": "stream",
     "text": [
      "epochs : 18\n",
      "37/37 [==============================] - 7s 189ms/step - loss: 10.6448 - acc: 0.3099 - val_loss: 7.6729 - val_acc: 0.5026\n"
     ]
    },
    {
     "data": {
      "text/plain": [
       "<keras.callbacks.History at 0x7f0e6c04af40>"
      ]
     },
     "execution_count": 26,
     "metadata": {},
     "output_type": "execute_result"
    },
    {
     "name": "stdout",
     "output_type": "stream",
     "text": [
      "epochs : 19\n",
      "37/37 [==============================] - 7s 186ms/step - loss: 10.6448 - acc: 0.3099 - val_loss: 7.6729 - val_acc: 0.5026\n"
     ]
    },
    {
     "data": {
      "text/plain": [
       "<keras.callbacks.History at 0x7f0d2c639790>"
      ]
     },
     "execution_count": 26,
     "metadata": {},
     "output_type": "execute_result"
    },
    {
     "name": "stdout",
     "output_type": "stream",
     "text": [
      "epochs : 20\n",
      "37/37 [==============================] - 7s 187ms/step - loss: 10.6448 - acc: 0.3099 - val_loss: 7.6729 - val_acc: 0.5026\n"
     ]
    },
    {
     "data": {
      "text/plain": [
       "<keras.callbacks.History at 0x7f0d4c7df850>"
      ]
     },
     "execution_count": 26,
     "metadata": {},
     "output_type": "execute_result"
    },
    {
     "name": "stdout",
     "output_type": "stream",
     "text": [
      "epochs : 21\n",
      "37/37 [==============================] - 7s 188ms/step - loss: 10.6448 - acc: 0.3099 - val_loss: 7.6729 - val_acc: 0.5026\n"
     ]
    },
    {
     "data": {
      "text/plain": [
       "<keras.callbacks.History at 0x7f0d4c3ccb20>"
      ]
     },
     "execution_count": 26,
     "metadata": {},
     "output_type": "execute_result"
    },
    {
     "name": "stdout",
     "output_type": "stream",
     "text": [
      "epochs : 22\n",
      "37/37 [==============================] - 7s 186ms/step - loss: 10.6448 - acc: 0.3099 - val_loss: 7.6729 - val_acc: 0.5026\n"
     ]
    },
    {
     "data": {
      "text/plain": [
       "<keras.callbacks.History at 0x7f0d6c2e7d60>"
      ]
     },
     "execution_count": 26,
     "metadata": {},
     "output_type": "execute_result"
    },
    {
     "name": "stdout",
     "output_type": "stream",
     "text": [
      "epochs : 23\n",
      "37/37 [==============================] - 7s 188ms/step - loss: 10.6448 - acc: 0.3099 - val_loss: 7.6729 - val_acc: 0.5026\n"
     ]
    },
    {
     "data": {
      "text/plain": [
       "<keras.callbacks.History at 0x7f0d6c20bd30>"
      ]
     },
     "execution_count": 26,
     "metadata": {},
     "output_type": "execute_result"
    },
    {
     "name": "stdout",
     "output_type": "stream",
     "text": [
      "epochs : 24\n",
      "37/37 [==============================] - 7s 188ms/step - loss: 10.6448 - acc: 0.3099 - val_loss: 7.6729 - val_acc: 0.5026\n"
     ]
    },
    {
     "data": {
      "text/plain": [
       "<keras.callbacks.History at 0x7f0d6c389cd0>"
      ]
     },
     "execution_count": 26,
     "metadata": {},
     "output_type": "execute_result"
    },
    {
     "name": "stdout",
     "output_type": "stream",
     "text": [
      "epochs : 25\n",
      "37/37 [==============================] - 7s 186ms/step - loss: 10.6448 - acc: 0.3099 - val_loss: 7.6729 - val_acc: 0.5026\n"
     ]
    },
    {
     "data": {
      "text/plain": [
       "<keras.callbacks.History at 0x7f0c0c285d90>"
      ]
     },
     "execution_count": 26,
     "metadata": {},
     "output_type": "execute_result"
    },
    {
     "name": "stdout",
     "output_type": "stream",
     "text": [
      "epochs : 26\n",
      "37/37 [==============================] - 7s 188ms/step - loss: 10.6448 - acc: 0.3099 - val_loss: 7.6729 - val_acc: 0.5026\n"
     ]
    },
    {
     "data": {
      "text/plain": [
       "<keras.callbacks.History at 0x7f0d6c067a00>"
      ]
     },
     "execution_count": 26,
     "metadata": {},
     "output_type": "execute_result"
    },
    {
     "name": "stdout",
     "output_type": "stream",
     "text": [
      "epochs : 27\n",
      "37/37 [==============================] - 7s 188ms/step - loss: 10.6448 - acc: 0.3099 - val_loss: 7.6729 - val_acc: 0.5026\n"
     ]
    },
    {
     "data": {
      "text/plain": [
       "<keras.callbacks.History at 0x7f0d6c20b490>"
      ]
     },
     "execution_count": 26,
     "metadata": {},
     "output_type": "execute_result"
    },
    {
     "name": "stdout",
     "output_type": "stream",
     "text": [
      "epochs : 28\n",
      "37/37 [==============================] - 7s 187ms/step - loss: 10.6448 - acc: 0.3099 - val_loss: 7.6729 - val_acc: 0.5026\n"
     ]
    },
    {
     "data": {
      "text/plain": [
       "<keras.callbacks.History at 0x7f0d6c067250>"
      ]
     },
     "execution_count": 26,
     "metadata": {},
     "output_type": "execute_result"
    },
    {
     "name": "stdout",
     "output_type": "stream",
     "text": [
      "epochs : 29\n",
      "37/37 [==============================] - 7s 188ms/step - loss: 10.6448 - acc: 0.3099 - val_loss: 7.6729 - val_acc: 0.5026\n"
     ]
    },
    {
     "data": {
      "text/plain": [
       "<keras.callbacks.History at 0x7f0d2c6f3ca0>"
      ]
     },
     "execution_count": 26,
     "metadata": {},
     "output_type": "execute_result"
    },
    {
     "name": "stdout",
     "output_type": "stream",
     "text": [
      "epochs : 30\n",
      "37/37 [==============================] - 7s 187ms/step - loss: 10.6448 - acc: 0.3099 - val_loss: 7.6729 - val_acc: 0.5026\n"
     ]
    },
    {
     "data": {
      "text/plain": [
       "<keras.callbacks.History at 0x7f0d4c3cc370>"
      ]
     },
     "execution_count": 26,
     "metadata": {},
     "output_type": "execute_result"
    },
    {
     "name": "stdout",
     "output_type": "stream",
     "text": [
      "epochs : 31\n",
      "37/37 [==============================] - 7s 187ms/step - loss: 10.6448 - acc: 0.3099 - val_loss: 7.6729 - val_acc: 0.5026\n"
     ]
    },
    {
     "data": {
      "text/plain": [
       "<keras.callbacks.History at 0x7f0d4c7df040>"
      ]
     },
     "execution_count": 26,
     "metadata": {},
     "output_type": "execute_result"
    },
    {
     "name": "stdout",
     "output_type": "stream",
     "text": [
      "epochs : 32\n",
      "37/37 [==============================] - 7s 187ms/step - loss: 10.6448 - acc: 0.3099 - val_loss: 7.6729 - val_acc: 0.5026\n"
     ]
    },
    {
     "data": {
      "text/plain": [
       "<keras.callbacks.History at 0x7f0d4c5e2c10>"
      ]
     },
     "execution_count": 26,
     "metadata": {},
     "output_type": "execute_result"
    },
    {
     "name": "stdout",
     "output_type": "stream",
     "text": [
      "epochs : 33\n",
      "37/37 [==============================] - 7s 188ms/step - loss: 10.6448 - acc: 0.3099 - val_loss: 7.6729 - val_acc: 0.5026\n"
     ]
    },
    {
     "data": {
      "text/plain": [
       "<keras.callbacks.History at 0x7f0e4c081340>"
      ]
     },
     "execution_count": 26,
     "metadata": {},
     "output_type": "execute_result"
    },
    {
     "name": "stdout",
     "output_type": "stream",
     "text": [
      "epochs : 34\n",
      "37/37 [==============================] - 7s 186ms/step - loss: 10.6448 - acc: 0.3099 - val_loss: 7.6729 - val_acc: 0.5026\n"
     ]
    },
    {
     "data": {
      "text/plain": [
       "<keras.callbacks.History at 0x7f0e4c071430>"
      ]
     },
     "execution_count": 26,
     "metadata": {},
     "output_type": "execute_result"
    },
    {
     "name": "stdout",
     "output_type": "stream",
     "text": [
      "epochs : 35\n",
      "37/37 [==============================] - 7s 188ms/step - loss: 10.6448 - acc: 0.3099 - val_loss: 7.6729 - val_acc: 0.5026\n"
     ]
    },
    {
     "data": {
      "text/plain": [
       "<keras.callbacks.History at 0x7f0d4c6d8280>"
      ]
     },
     "execution_count": 26,
     "metadata": {},
     "output_type": "execute_result"
    },
    {
     "name": "stdout",
     "output_type": "stream",
     "text": [
      "epochs : 36\n",
      "37/37 [==============================] - 7s 188ms/step - loss: 10.6448 - acc: 0.3099 - val_loss: 7.6729 - val_acc: 0.5026\n"
     ]
    },
    {
     "data": {
      "text/plain": [
       "<keras.callbacks.History at 0x7f0d4c1bfac0>"
      ]
     },
     "execution_count": 26,
     "metadata": {},
     "output_type": "execute_result"
    },
    {
     "name": "stdout",
     "output_type": "stream",
     "text": [
      "epochs : 37\n",
      "37/37 [==============================] - 7s 187ms/step - loss: 10.6448 - acc: 0.3099 - val_loss: 7.6729 - val_acc: 0.5026\n"
     ]
    },
    {
     "data": {
      "text/plain": [
       "<keras.callbacks.History at 0x7f0d4c3cc1c0>"
      ]
     },
     "execution_count": 26,
     "metadata": {},
     "output_type": "execute_result"
    },
    {
     "name": "stdout",
     "output_type": "stream",
     "text": [
      "epochs : 38\n",
      "37/37 [==============================] - 7s 188ms/step - loss: 10.6448 - acc: 0.3099 - val_loss: 7.6729 - val_acc: 0.5026\n"
     ]
    },
    {
     "data": {
      "text/plain": [
       "<keras.callbacks.History at 0x7f0d900e9250>"
      ]
     },
     "execution_count": 26,
     "metadata": {},
     "output_type": "execute_result"
    },
    {
     "name": "stdout",
     "output_type": "stream",
     "text": [
      "epochs : 39\n",
      "37/37 [==============================] - 7s 187ms/step - loss: 10.6448 - acc: 0.3099 - val_loss: 7.6729 - val_acc: 0.5026\n"
     ]
    },
    {
     "data": {
      "text/plain": [
       "<keras.callbacks.History at 0x7f0d4c4a0310>"
      ]
     },
     "execution_count": 26,
     "metadata": {},
     "output_type": "execute_result"
    },
    {
     "name": "stdout",
     "output_type": "stream",
     "text": [
      "epochs : 40\n",
      "37/37 [==============================] - 7s 187ms/step - loss: 10.6448 - acc: 0.3099 - val_loss: 7.6729 - val_acc: 0.5026\n"
     ]
    },
    {
     "data": {
      "text/plain": [
       "<keras.callbacks.History at 0x7f0d2c6cd8e0>"
      ]
     },
     "execution_count": 26,
     "metadata": {},
     "output_type": "execute_result"
    },
    {
     "name": "stdout",
     "output_type": "stream",
     "text": [
      "epochs : 41\n",
      "37/37 [==============================] - 7s 188ms/step - loss: 10.6448 - acc: 0.3099 - val_loss: 7.6729 - val_acc: 0.5026\n"
     ]
    },
    {
     "data": {
      "text/plain": [
       "<keras.callbacks.History at 0x7f0d6c20b5e0>"
      ]
     },
     "execution_count": 26,
     "metadata": {},
     "output_type": "execute_result"
    },
    {
     "name": "stdout",
     "output_type": "stream",
     "text": [
      "epochs : 42\n",
      "37/37 [==============================] - 7s 188ms/step - loss: 10.6448 - acc: 0.3099 - val_loss: 7.6729 - val_acc: 0.5026\n"
     ]
    },
    {
     "data": {
      "text/plain": [
       "<keras.callbacks.History at 0x7f0d4c6048b0>"
      ]
     },
     "execution_count": 26,
     "metadata": {},
     "output_type": "execute_result"
    },
    {
     "name": "stdout",
     "output_type": "stream",
     "text": [
      "epochs : 43\n",
      "37/37 [==============================] - 7s 186ms/step - loss: 10.6448 - acc: 0.3099 - val_loss: 7.6729 - val_acc: 0.5026\n"
     ]
    },
    {
     "data": {
      "text/plain": [
       "<keras.callbacks.History at 0x7f0d6c1fe100>"
      ]
     },
     "execution_count": 26,
     "metadata": {},
     "output_type": "execute_result"
    },
    {
     "name": "stdout",
     "output_type": "stream",
     "text": [
      "epochs : 44\n",
      "37/37 [==============================] - 7s 188ms/step - loss: 10.6448 - acc: 0.3099 - val_loss: 7.6729 - val_acc: 0.5026\n"
     ]
    },
    {
     "data": {
      "text/plain": [
       "<keras.callbacks.History at 0x7f0d4c5ed250>"
      ]
     },
     "execution_count": 26,
     "metadata": {},
     "output_type": "execute_result"
    },
    {
     "name": "stdout",
     "output_type": "stream",
     "text": [
      "epochs : 45\n",
      "37/37 [==============================] - 7s 188ms/step - loss: 10.6448 - acc: 0.3099 - val_loss: 7.6729 - val_acc: 0.5026\n"
     ]
    },
    {
     "data": {
      "text/plain": [
       "<keras.callbacks.History at 0x7f0d4c59ff10>"
      ]
     },
     "execution_count": 26,
     "metadata": {},
     "output_type": "execute_result"
    },
    {
     "name": "stdout",
     "output_type": "stream",
     "text": [
      "epochs : 46\n",
      "37/37 [==============================] - 7s 186ms/step - loss: 10.6448 - acc: 0.3099 - val_loss: 7.6729 - val_acc: 0.5026\n"
     ]
    },
    {
     "data": {
      "text/plain": [
       "<keras.callbacks.History at 0x7f0d2c6cd430>"
      ]
     },
     "execution_count": 26,
     "metadata": {},
     "output_type": "execute_result"
    },
    {
     "name": "stdout",
     "output_type": "stream",
     "text": [
      "epochs : 47\n",
      "37/37 [==============================] - 7s 188ms/step - loss: 10.6448 - acc: 0.3099 - val_loss: 7.6729 - val_acc: 0.5026\n"
     ]
    },
    {
     "data": {
      "text/plain": [
       "<keras.callbacks.History at 0x7f0d2c639b50>"
      ]
     },
     "execution_count": 26,
     "metadata": {},
     "output_type": "execute_result"
    },
    {
     "name": "stdout",
     "output_type": "stream",
     "text": [
      "epochs : 48\n",
      "37/37 [==============================] - 7s 187ms/step - loss: 10.6448 - acc: 0.3099 - val_loss: 7.6729 - val_acc: 0.5026\n"
     ]
    },
    {
     "data": {
      "text/plain": [
       "<keras.callbacks.History at 0x7f0e6c091370>"
      ]
     },
     "execution_count": 26,
     "metadata": {},
     "output_type": "execute_result"
    },
    {
     "name": "stdout",
     "output_type": "stream",
     "text": [
      "epochs : 49\n",
      "37/37 [==============================] - 7s 186ms/step - loss: 10.6448 - acc: 0.3099 - val_loss: 7.6729 - val_acc: 0.5026\n"
     ]
    },
    {
     "data": {
      "text/plain": [
       "<keras.callbacks.History at 0x7f0d4c3cca90>"
      ]
     },
     "execution_count": 26,
     "metadata": {},
     "output_type": "execute_result"
    },
    {
     "name": "stdout",
     "output_type": "stream",
     "text": [
      "epochs : 50\n",
      "37/37 [==============================] - 7s 187ms/step - loss: 10.6448 - acc: 0.3099 - val_loss: 7.6729 - val_acc: 0.5026\n"
     ]
    },
    {
     "data": {
      "text/plain": [
       "<keras.callbacks.History at 0x7f0d0c6c6160>"
      ]
     },
     "execution_count": 26,
     "metadata": {},
     "output_type": "execute_result"
    },
    {
     "name": "stdout",
     "output_type": "stream",
     "text": [
      "epochs : 51\n",
      "37/37 [==============================] - 7s 188ms/step - loss: 10.6448 - acc: 0.3099 - val_loss: 7.6729 - val_acc: 0.5026\n"
     ]
    },
    {
     "data": {
      "text/plain": [
       "<keras.callbacks.History at 0x7f0d4c214940>"
      ]
     },
     "execution_count": 26,
     "metadata": {},
     "output_type": "execute_result"
    },
    {
     "name": "stdout",
     "output_type": "stream",
     "text": [
      "epochs : 52\n",
      "37/37 [==============================] - ETA: 0s - loss: 10.6448 - acc: 0.3099"
     ]
    },
    {
     "ename": "KeyboardInterrupt",
     "evalue": "",
     "output_type": "error",
     "traceback": [
      "\u001b[0;31m---------------------------------------------------------------------------\u001b[0m",
      "\u001b[0;31mKeyboardInterrupt\u001b[0m                         Traceback (most recent call last)",
      "\u001b[0;32m<ipython-input-26-3e017f5d80a8>\u001b[0m in \u001b[0;36m<module>\u001b[0;34m\u001b[0m\n\u001b[1;32m     44\u001b[0m \u001b[0;32mfor\u001b[0m \u001b[0mepoch_idx\u001b[0m \u001b[0;32min\u001b[0m \u001b[0mrange\u001b[0m\u001b[0;34m(\u001b[0m\u001b[0;36m100\u001b[0m\u001b[0;34m)\u001b[0m\u001b[0;34m:\u001b[0m\u001b[0;34m\u001b[0m\u001b[0;34m\u001b[0m\u001b[0m\n\u001b[1;32m     45\u001b[0m     \u001b[0mprint\u001b[0m \u001b[0;34m(\u001b[0m\u001b[0;34m'epochs : '\u001b[0m \u001b[0;34m+\u001b[0m \u001b[0mstr\u001b[0m\u001b[0;34m(\u001b[0m\u001b[0mepoch_idx\u001b[0m\u001b[0;34m)\u001b[0m \u001b[0;34m)\u001b[0m\u001b[0;34m\u001b[0m\u001b[0;34m\u001b[0m\u001b[0m\n\u001b[0;32m---> 46\u001b[0;31m     \u001b[0mlstm2\u001b[0m\u001b[0;34m.\u001b[0m\u001b[0mfit\u001b[0m\u001b[0;34m(\u001b[0m\u001b[0mX_train\u001b[0m\u001b[0;34m,\u001b[0m \u001b[0my_train\u001b[0m\u001b[0;34m,\u001b[0m \u001b[0mepochs\u001b[0m\u001b[0;34m=\u001b[0m\u001b[0;36m1\u001b[0m\u001b[0;34m,\u001b[0m \u001b[0mbatch_size\u001b[0m\u001b[0;34m=\u001b[0m\u001b[0;36m128\u001b[0m\u001b[0;34m,\u001b[0m \u001b[0mvalidation_split\u001b[0m\u001b[0;34m=\u001b[0m\u001b[0;36m0.25\u001b[0m\u001b[0;34m,\u001b[0m \u001b[0mcallbacks\u001b[0m\u001b[0;34m=\u001b[0m\u001b[0;34m[\u001b[0m\u001b[0mcustom_hist\u001b[0m\u001b[0;34m,\u001b[0m \u001b[0mearly_stop\u001b[0m\u001b[0;34m]\u001b[0m\u001b[0;34m)\u001b[0m\u001b[0;34m\u001b[0m\u001b[0;34m\u001b[0m\u001b[0m\n\u001b[0m\u001b[1;32m     47\u001b[0m \u001b[0;34m\u001b[0m\u001b[0m\n\u001b[1;32m     48\u001b[0m \u001b[0mpreds\u001b[0m \u001b[0;34m=\u001b[0m \u001b[0mlstm2\u001b[0m\u001b[0;34m.\u001b[0m\u001b[0mpredict\u001b[0m\u001b[0;34m(\u001b[0m\u001b[0mX_test\u001b[0m\u001b[0;34m)\u001b[0m\u001b[0;34m\u001b[0m\u001b[0;34m\u001b[0m\u001b[0m\n",
      "\u001b[0;32m/usr/local/lib/python3.8/dist-packages/keras/engine/training.py\u001b[0m in \u001b[0;36mfit\u001b[0;34m(self, x, y, batch_size, epochs, verbose, callbacks, validation_split, validation_data, shuffle, class_weight, sample_weight, initial_epoch, steps_per_epoch, validation_steps, validation_batch_size, validation_freq, max_queue_size, workers, use_multiprocessing)\u001b[0m\n\u001b[1;32m   1187\u001b[0m                 \u001b[0mmodel\u001b[0m\u001b[0;34m=\u001b[0m\u001b[0mself\u001b[0m\u001b[0;34m,\u001b[0m\u001b[0;34m\u001b[0m\u001b[0;34m\u001b[0m\u001b[0m\n\u001b[1;32m   1188\u001b[0m                 steps_per_execution=self._steps_per_execution)\n\u001b[0;32m-> 1189\u001b[0;31m           val_logs = self.evaluate(\n\u001b[0m\u001b[1;32m   1190\u001b[0m               \u001b[0mx\u001b[0m\u001b[0;34m=\u001b[0m\u001b[0mval_x\u001b[0m\u001b[0;34m,\u001b[0m\u001b[0;34m\u001b[0m\u001b[0;34m\u001b[0m\u001b[0m\n\u001b[1;32m   1191\u001b[0m               \u001b[0my\u001b[0m\u001b[0;34m=\u001b[0m\u001b[0mval_y\u001b[0m\u001b[0;34m,\u001b[0m\u001b[0;34m\u001b[0m\u001b[0;34m\u001b[0m\u001b[0m\n",
      "\u001b[0;32m/usr/local/lib/python3.8/dist-packages/keras/engine/training.py\u001b[0m in \u001b[0;36mevaluate\u001b[0;34m(self, x, y, batch_size, verbose, sample_weight, steps, callbacks, max_queue_size, workers, use_multiprocessing, return_dict, **kwargs)\u001b[0m\n\u001b[1;32m   1462\u001b[0m             \u001b[0;32mwith\u001b[0m \u001b[0mtf\u001b[0m\u001b[0;34m.\u001b[0m\u001b[0mprofiler\u001b[0m\u001b[0;34m.\u001b[0m\u001b[0mexperimental\u001b[0m\u001b[0;34m.\u001b[0m\u001b[0mTrace\u001b[0m\u001b[0;34m(\u001b[0m\u001b[0;34m'test'\u001b[0m\u001b[0;34m,\u001b[0m \u001b[0mstep_num\u001b[0m\u001b[0;34m=\u001b[0m\u001b[0mstep\u001b[0m\u001b[0;34m,\u001b[0m \u001b[0m_r\u001b[0m\u001b[0;34m=\u001b[0m\u001b[0;36m1\u001b[0m\u001b[0;34m)\u001b[0m\u001b[0;34m:\u001b[0m\u001b[0;34m\u001b[0m\u001b[0;34m\u001b[0m\u001b[0m\n\u001b[1;32m   1463\u001b[0m               \u001b[0mcallbacks\u001b[0m\u001b[0;34m.\u001b[0m\u001b[0mon_test_batch_begin\u001b[0m\u001b[0;34m(\u001b[0m\u001b[0mstep\u001b[0m\u001b[0;34m)\u001b[0m\u001b[0;34m\u001b[0m\u001b[0;34m\u001b[0m\u001b[0m\n\u001b[0;32m-> 1464\u001b[0;31m               \u001b[0mtmp_logs\u001b[0m \u001b[0;34m=\u001b[0m \u001b[0mself\u001b[0m\u001b[0;34m.\u001b[0m\u001b[0mtest_function\u001b[0m\u001b[0;34m(\u001b[0m\u001b[0miterator\u001b[0m\u001b[0;34m)\u001b[0m\u001b[0;34m\u001b[0m\u001b[0;34m\u001b[0m\u001b[0m\n\u001b[0m\u001b[1;32m   1465\u001b[0m               \u001b[0;32mif\u001b[0m \u001b[0mdata_handler\u001b[0m\u001b[0;34m.\u001b[0m\u001b[0mshould_sync\u001b[0m\u001b[0;34m:\u001b[0m\u001b[0;34m\u001b[0m\u001b[0;34m\u001b[0m\u001b[0m\n\u001b[1;32m   1466\u001b[0m                 \u001b[0mcontext\u001b[0m\u001b[0;34m.\u001b[0m\u001b[0masync_wait\u001b[0m\u001b[0;34m(\u001b[0m\u001b[0;34m)\u001b[0m\u001b[0;34m\u001b[0m\u001b[0;34m\u001b[0m\u001b[0m\n",
      "\u001b[0;32m/usr/local/lib/python3.8/dist-packages/tensorflow/python/eager/def_function.py\u001b[0m in \u001b[0;36m__call__\u001b[0;34m(self, *args, **kwds)\u001b[0m\n\u001b[1;32m    887\u001b[0m \u001b[0;34m\u001b[0m\u001b[0m\n\u001b[1;32m    888\u001b[0m       \u001b[0;32mwith\u001b[0m \u001b[0mOptionalXlaContext\u001b[0m\u001b[0;34m(\u001b[0m\u001b[0mself\u001b[0m\u001b[0;34m.\u001b[0m\u001b[0m_jit_compile\u001b[0m\u001b[0;34m)\u001b[0m\u001b[0;34m:\u001b[0m\u001b[0;34m\u001b[0m\u001b[0;34m\u001b[0m\u001b[0m\n\u001b[0;32m--> 889\u001b[0;31m         \u001b[0mresult\u001b[0m \u001b[0;34m=\u001b[0m \u001b[0mself\u001b[0m\u001b[0;34m.\u001b[0m\u001b[0m_call\u001b[0m\u001b[0;34m(\u001b[0m\u001b[0;34m*\u001b[0m\u001b[0margs\u001b[0m\u001b[0;34m,\u001b[0m \u001b[0;34m**\u001b[0m\u001b[0mkwds\u001b[0m\u001b[0;34m)\u001b[0m\u001b[0;34m\u001b[0m\u001b[0;34m\u001b[0m\u001b[0m\n\u001b[0m\u001b[1;32m    890\u001b[0m \u001b[0;34m\u001b[0m\u001b[0m\n\u001b[1;32m    891\u001b[0m       \u001b[0mnew_tracing_count\u001b[0m \u001b[0;34m=\u001b[0m \u001b[0mself\u001b[0m\u001b[0;34m.\u001b[0m\u001b[0mexperimental_get_tracing_count\u001b[0m\u001b[0;34m(\u001b[0m\u001b[0;34m)\u001b[0m\u001b[0;34m\u001b[0m\u001b[0;34m\u001b[0m\u001b[0m\n",
      "\u001b[0;32m/usr/local/lib/python3.8/dist-packages/tensorflow/python/eager/def_function.py\u001b[0m in \u001b[0;36m_call\u001b[0;34m(self, *args, **kwds)\u001b[0m\n\u001b[1;32m    922\u001b[0m       \u001b[0;31m# In this case we have not created variables on the first call. So we can\u001b[0m\u001b[0;34m\u001b[0m\u001b[0;34m\u001b[0m\u001b[0;34m\u001b[0m\u001b[0m\n\u001b[1;32m    923\u001b[0m       \u001b[0;31m# run the first trace but we should fail if variables are created.\u001b[0m\u001b[0;34m\u001b[0m\u001b[0;34m\u001b[0m\u001b[0;34m\u001b[0m\u001b[0m\n\u001b[0;32m--> 924\u001b[0;31m       \u001b[0mresults\u001b[0m \u001b[0;34m=\u001b[0m \u001b[0mself\u001b[0m\u001b[0;34m.\u001b[0m\u001b[0m_stateful_fn\u001b[0m\u001b[0;34m(\u001b[0m\u001b[0;34m*\u001b[0m\u001b[0margs\u001b[0m\u001b[0;34m,\u001b[0m \u001b[0;34m**\u001b[0m\u001b[0mkwds\u001b[0m\u001b[0;34m)\u001b[0m\u001b[0;34m\u001b[0m\u001b[0;34m\u001b[0m\u001b[0m\n\u001b[0m\u001b[1;32m    925\u001b[0m       \u001b[0;32mif\u001b[0m \u001b[0mself\u001b[0m\u001b[0;34m.\u001b[0m\u001b[0m_created_variables\u001b[0m\u001b[0;34m:\u001b[0m\u001b[0;34m\u001b[0m\u001b[0;34m\u001b[0m\u001b[0m\n\u001b[1;32m    926\u001b[0m         raise ValueError(\"Creating variables on a non-first call to a function\"\n",
      "\u001b[0;32m/usr/local/lib/python3.8/dist-packages/tensorflow/python/eager/function.py\u001b[0m in \u001b[0;36m__call__\u001b[0;34m(self, *args, **kwargs)\u001b[0m\n\u001b[1;32m   3021\u001b[0m       (graph_function,\n\u001b[1;32m   3022\u001b[0m        filtered_flat_args) = self._maybe_define_function(args, kwargs)\n\u001b[0;32m-> 3023\u001b[0;31m     return graph_function._call_flat(\n\u001b[0m\u001b[1;32m   3024\u001b[0m         filtered_flat_args, captured_inputs=graph_function.captured_inputs)  # pylint: disable=protected-access\n\u001b[1;32m   3025\u001b[0m \u001b[0;34m\u001b[0m\u001b[0m\n",
      "\u001b[0;32m/usr/local/lib/python3.8/dist-packages/tensorflow/python/eager/function.py\u001b[0m in \u001b[0;36m_call_flat\u001b[0;34m(self, args, captured_inputs, cancellation_manager)\u001b[0m\n\u001b[1;32m   1958\u001b[0m         and executing_eagerly):\n\u001b[1;32m   1959\u001b[0m       \u001b[0;31m# No tape is watching; skip to running the function.\u001b[0m\u001b[0;34m\u001b[0m\u001b[0;34m\u001b[0m\u001b[0;34m\u001b[0m\u001b[0m\n\u001b[0;32m-> 1960\u001b[0;31m       return self._build_call_outputs(self._inference_function.call(\n\u001b[0m\u001b[1;32m   1961\u001b[0m           ctx, args, cancellation_manager=cancellation_manager))\n\u001b[1;32m   1962\u001b[0m     forward_backward = self._select_forward_and_backward_functions(\n",
      "\u001b[0;32m/usr/local/lib/python3.8/dist-packages/tensorflow/python/eager/function.py\u001b[0m in \u001b[0;36mcall\u001b[0;34m(self, ctx, args, cancellation_manager)\u001b[0m\n\u001b[1;32m    589\u001b[0m       \u001b[0;32mwith\u001b[0m \u001b[0m_InterpolateFunctionError\u001b[0m\u001b[0;34m(\u001b[0m\u001b[0mself\u001b[0m\u001b[0;34m)\u001b[0m\u001b[0;34m:\u001b[0m\u001b[0;34m\u001b[0m\u001b[0;34m\u001b[0m\u001b[0m\n\u001b[1;32m    590\u001b[0m         \u001b[0;32mif\u001b[0m \u001b[0mcancellation_manager\u001b[0m \u001b[0;32mis\u001b[0m \u001b[0;32mNone\u001b[0m\u001b[0;34m:\u001b[0m\u001b[0;34m\u001b[0m\u001b[0;34m\u001b[0m\u001b[0m\n\u001b[0;32m--> 591\u001b[0;31m           outputs = execute.execute(\n\u001b[0m\u001b[1;32m    592\u001b[0m               \u001b[0mstr\u001b[0m\u001b[0;34m(\u001b[0m\u001b[0mself\u001b[0m\u001b[0;34m.\u001b[0m\u001b[0msignature\u001b[0m\u001b[0;34m.\u001b[0m\u001b[0mname\u001b[0m\u001b[0;34m)\u001b[0m\u001b[0;34m,\u001b[0m\u001b[0;34m\u001b[0m\u001b[0;34m\u001b[0m\u001b[0m\n\u001b[1;32m    593\u001b[0m               \u001b[0mnum_outputs\u001b[0m\u001b[0;34m=\u001b[0m\u001b[0mself\u001b[0m\u001b[0;34m.\u001b[0m\u001b[0m_num_outputs\u001b[0m\u001b[0;34m,\u001b[0m\u001b[0;34m\u001b[0m\u001b[0;34m\u001b[0m\u001b[0m\n",
      "\u001b[0;32m/usr/local/lib/python3.8/dist-packages/tensorflow/python/eager/execute.py\u001b[0m in \u001b[0;36mquick_execute\u001b[0;34m(op_name, num_outputs, inputs, attrs, ctx, name)\u001b[0m\n\u001b[1;32m     57\u001b[0m   \u001b[0;32mtry\u001b[0m\u001b[0;34m:\u001b[0m\u001b[0;34m\u001b[0m\u001b[0;34m\u001b[0m\u001b[0m\n\u001b[1;32m     58\u001b[0m     \u001b[0mctx\u001b[0m\u001b[0;34m.\u001b[0m\u001b[0mensure_initialized\u001b[0m\u001b[0;34m(\u001b[0m\u001b[0;34m)\u001b[0m\u001b[0;34m\u001b[0m\u001b[0;34m\u001b[0m\u001b[0m\n\u001b[0;32m---> 59\u001b[0;31m     tensors = pywrap_tfe.TFE_Py_Execute(ctx._handle, device_name, op_name,\n\u001b[0m\u001b[1;32m     60\u001b[0m                                         inputs, attrs, num_outputs)\n\u001b[1;32m     61\u001b[0m   \u001b[0;32mexcept\u001b[0m \u001b[0mcore\u001b[0m\u001b[0;34m.\u001b[0m\u001b[0m_NotOkStatusException\u001b[0m \u001b[0;32mas\u001b[0m \u001b[0me\u001b[0m\u001b[0;34m:\u001b[0m\u001b[0;34m\u001b[0m\u001b[0;34m\u001b[0m\u001b[0m\n",
      "\u001b[0;31mKeyboardInterrupt\u001b[0m: "
     ]
    }
   ],
   "source": [
    "import keras\n",
    "\n",
    "# 사용자 정의 히스토리 클래스 정의\n",
    "class CustomHistory(keras.callbacks.Callback):\n",
    "    def init(self):\n",
    "        self.train_loss = []\n",
    "        self.val_loss = []\n",
    "        self.train_acc = []\n",
    "        self.val_acc = []        \n",
    "        \n",
    "    def on_epoch_end(self, batch, logs={}):\n",
    "        self.train_loss.append(logs.get('loss'))\n",
    "        self.val_loss.append(logs.get('val_loss'))\n",
    "        self.train_acc.append(logs.get('acc'))\n",
    "        self.val_acc.append(logs.get('val_acc'))\n",
    "    \n",
    "from keras.utils import np_utils\n",
    "from keras.datasets import mnist\n",
    "from keras.models import Sequential\n",
    "from keras.layers import Dense, Activation\n",
    "from keras.layers import LSTM\n",
    "from keras.layers import Dropout\n",
    "from keras.layers import *\n",
    "import numpy as np\n",
    "from keras.callbacks import EarlyStopping\n",
    "\n",
    "np.random.seed(3)\n",
    "\n",
    "lstm2 = Sequential()\n",
    "lstm2.add(InputLayer(input_shape=(X_train.shape[1],X_train.shape[2])))\n",
    "lstm2.add(LSTM(units=512, activation='tanh', return_sequences=True))\n",
    "lstm2.add(LSTM(units=256, activation='tanh', return_sequences=True))\n",
    "lstm2.add(LSTM(units=128, activation='tanh', return_sequences=True))\n",
    "lstm2.add(LSTM(units=64, activation='sigmoid', return_sequences=True))\n",
    "lstm2.add(LSTM(units=32, activation='sigmoid', return_sequences=False))\n",
    "lstm2.add(Dense(units=1))\n",
    "\n",
    "custom_hist = CustomHistory()\n",
    "custom_hist.init()\n",
    "\n",
    "lstm2.compile(optimizer= \"adam\", loss = \"binary_crossentropy\", metrics=['acc'])\n",
    "early_stop = EarlyStopping(monitor='val_acc', patience=20, verbose=1, restore_best_weights=True)\n",
    "\n",
    "for epoch_idx in range(100):\n",
    "    print ('epochs : ' + str(epoch_idx) )\n",
    "    lstm2.fit(X_train, y_train, epochs=1, batch_size=128, validation_split=0.25, callbacks=[custom_hist, early_stop])\n",
    "    \n",
    "preds = lstm2.predict(X_test)\n",
    "\n",
    "preds[preds>0.5]=1\n",
    "preds[preds<=0.5]=0\n",
    "\n",
    "from sklearn import metrics \n",
    "print('정확도 :', metrics.accuracy_score(y_test, preds))"
   ]
  },
  {
   "cell_type": "markdown",
   "id": "3ce610e7",
   "metadata": {},
   "source": [
    "### acc, loss 그래프"
   ]
  },
  {
   "cell_type": "code",
   "execution_count": 27,
   "id": "be902543",
   "metadata": {},
   "outputs": [
    {
     "data": {
      "text/plain": [
       "[<matplotlib.lines.Line2D at 0x7f0d4c4a0040>]"
      ]
     },
     "execution_count": 27,
     "metadata": {},
     "output_type": "execute_result"
    },
    {
     "data": {
      "text/plain": [
       "[<matplotlib.lines.Line2D at 0x7f0d4c4a0f70>]"
      ]
     },
     "execution_count": 27,
     "metadata": {},
     "output_type": "execute_result"
    },
    {
     "data": {
      "text/plain": [
       "[<matplotlib.lines.Line2D at 0x7f0d2c48c6a0>]"
      ]
     },
     "execution_count": 27,
     "metadata": {},
     "output_type": "execute_result"
    },
    {
     "data": {
      "text/plain": [
       "[<matplotlib.lines.Line2D at 0x7f0d6c2e7370>]"
      ]
     },
     "execution_count": 27,
     "metadata": {},
     "output_type": "execute_result"
    },
    {
     "data": {
      "text/plain": [
       "Text(0.5, 0, 'epoch')"
      ]
     },
     "execution_count": 27,
     "metadata": {},
     "output_type": "execute_result"
    },
    {
     "data": {
      "text/plain": [
       "Text(0, 0.5, 'loss')"
      ]
     },
     "execution_count": 27,
     "metadata": {},
     "output_type": "execute_result"
    },
    {
     "data": {
      "text/plain": [
       "Text(0, 0.5, 'accuray')"
      ]
     },
     "execution_count": 27,
     "metadata": {},
     "output_type": "execute_result"
    },
    {
     "data": {
      "text/plain": [
       "<matplotlib.legend.Legend at 0x7f0b24348f40>"
      ]
     },
     "execution_count": 27,
     "metadata": {},
     "output_type": "execute_result"
    },
    {
     "data": {
      "text/plain": [
       "<matplotlib.legend.Legend at 0x7f0d4c4a0ca0>"
      ]
     },
     "execution_count": 27,
     "metadata": {},
     "output_type": "execute_result"
    },
    {
     "data": {
      "image/png": "[encoded data removed]",
      "text/plain": [
       "<Figure size 432x288 with 2 Axes>"
      ]
     },
     "metadata": {
      "needs_background": "light"
     },
     "output_type": "display_data"
    }
   ],
   "source": [
    "%matplotlib inline\n",
    "import matplotlib.pyplot as plt\n",
    "\n",
    "fig, loss_ax = plt.subplots()\n",
    "\n",
    "acc_ax = loss_ax.twinx()\n",
    "\n",
    "loss_ax.plot(custom_hist.train_loss, 'y', label='train loss')\n",
    "loss_ax.plot(custom_hist.val_loss, 'r', label='val loss')\n",
    "\n",
    "acc_ax.plot(custom_hist.train_acc, 'b', label='train acc')\n",
    "acc_ax.plot(custom_hist.val_acc, 'g', label='val acc')\n",
    "\n",
    "loss_ax.set_xlabel('epoch')\n",
    "loss_ax.set_ylabel('loss')\n",
    "acc_ax.set_ylabel('accuray')\n",
    "\n",
    "loss_ax.legend(loc='upper left')\n",
    "acc_ax.legend(loc='lower left')\n",
    "\n",
    "plt.show()"
   ]
  },
  {
   "cell_type": "markdown",
   "id": "0c858193",
   "metadata": {},
   "source": [
    "## LSTM 1 + L2 reg\n",
    "### ep = 500, pa = 30, 50, 80, 150\n",
    "- patience = 30 : 72.0\n",
    "- patience = 50 : 72.8\n",
    "- patience = 80 : 72.7\n",
    "- patience = 150 : 72.9"
   ]
  },
  {
   "cell_type": "code",
   "execution_count": 17,
   "id": "ab966ed3",
   "metadata": {
    "scrolled": true
   },
   "outputs": [
    {
     "name": "stdout",
     "output_type": "stream",
     "text": [
      "Epoch 1/500\n",
      "37/37 [==============================] - 6s 70ms/step - loss: 1.1633 - acc: 0.5281 - val_loss: 0.7413 - val_acc: 0.4974\n",
      "Epoch 2/500\n",
      "37/37 [==============================] - 2s 45ms/step - loss: 1.0239 - acc: 0.5086 - val_loss: 0.7494 - val_acc: 0.4974\n",
      "Epoch 3/500\n",
      "37/37 [==============================] - 2s 62ms/step - loss: 0.8858 - acc: 0.6095 - val_loss: 0.7584 - val_acc: 0.4974\n",
      "Epoch 4/500\n",
      "37/37 [==============================] - 2s 54ms/step - loss: 0.8724 - acc: 0.5880 - val_loss: 0.8794 - val_acc: 0.5026\n",
      "Epoch 5/500\n",
      "37/37 [==============================] - 2s 64ms/step - loss: 2.2296 - acc: 0.3291 - val_loss: 0.8263 - val_acc: 0.5026\n",
      "Epoch 6/500\n",
      "37/37 [==============================] - 2s 64ms/step - loss: 1.4269 - acc: 0.3544 - val_loss: 0.7385 - val_acc: 0.5026\n",
      "Epoch 7/500\n",
      "37/37 [==============================] - 2s 63ms/step - loss: 1.0356 - acc: 0.4098 - val_loss: 0.7231 - val_acc: 0.5026\n",
      "Epoch 8/500\n",
      "37/37 [==============================] - 2s 65ms/step - loss: 0.9310 - acc: 0.4415 - val_loss: 0.7140 - val_acc: 0.5026\n",
      "Epoch 9/500\n",
      "37/37 [==============================] - 2s 64ms/step - loss: 0.8511 - acc: 0.4769 - val_loss: 0.7105 - val_acc: 0.5026\n",
      "Epoch 10/500\n",
      "37/37 [==============================] - 2s 64ms/step - loss: 0.8030 - acc: 0.4905 - val_loss: 0.7095 - val_acc: 0.5026\n",
      "Epoch 11/500\n",
      "37/37 [==============================] - 2s 64ms/step - loss: 0.8050 - acc: 0.5100 - val_loss: 0.7099 - val_acc: 0.4974\n",
      "Epoch 12/500\n",
      "37/37 [==============================] - 2s 63ms/step - loss: 0.7778 - acc: 0.5200 - val_loss: 0.7114 - val_acc: 0.4974\n",
      "Epoch 13/500\n",
      "37/37 [==============================] - 2s 64ms/step - loss: 0.7832 - acc: 0.5359 - val_loss: 0.7140 - val_acc: 0.4974\n",
      "Epoch 14/500\n",
      "37/37 [==============================] - 2s 64ms/step - loss: 0.7550 - acc: 0.5509 - val_loss: 0.7159 - val_acc: 0.4974\n",
      "Epoch 15/500\n",
      "37/37 [==============================] - 2s 64ms/step - loss: 0.7249 - acc: 0.5730 - val_loss: 0.7184 - val_acc: 0.4974\n",
      "Epoch 16/500\n",
      "37/37 [==============================] - 2s 63ms/step - loss: 0.7603 - acc: 0.5732 - val_loss: 0.7224 - val_acc: 0.4974\n",
      "Epoch 17/500\n",
      "37/37 [==============================] - 2s 63ms/step - loss: 0.7539 - acc: 0.5769 - val_loss: 0.7250 - val_acc: 0.4974\n",
      "Epoch 18/500\n",
      "37/37 [==============================] - 2s 64ms/step - loss: 0.7333 - acc: 0.5939 - val_loss: 0.7256 - val_acc: 0.4974\n",
      "Epoch 19/500\n",
      "37/37 [==============================] - 2s 64ms/step - loss: 0.7232 - acc: 0.5894 - val_loss: 0.7272 - val_acc: 0.4974\n",
      "Epoch 20/500\n",
      "37/37 [==============================] - 2s 64ms/step - loss: 0.7459 - acc: 0.5895 - val_loss: 0.7302 - val_acc: 0.4974\n",
      "Epoch 21/500\n",
      "37/37 [==============================] - 2s 64ms/step - loss: 0.7348 - acc: 0.5959 - val_loss: 0.7334 - val_acc: 0.4974\n",
      "Epoch 22/500\n",
      "37/37 [==============================] - 2s 64ms/step - loss: 0.7389 - acc: 0.5915 - val_loss: 0.7349 - val_acc: 0.4974\n",
      "Epoch 23/500\n",
      "37/37 [==============================] - 2s 65ms/step - loss: 0.7310 - acc: 0.6130 - val_loss: 0.7372 - val_acc: 0.4974\n",
      "Epoch 24/500\n",
      "37/37 [==============================] - 2s 65ms/step - loss: 0.7260 - acc: 0.6155 - val_loss: 0.7366 - val_acc: 0.4974\n",
      "Epoch 25/500\n",
      "37/37 [==============================] - 2s 63ms/step - loss: 0.7145 - acc: 0.5930 - val_loss: 0.7374 - val_acc: 0.4974\n",
      "Epoch 26/500\n",
      "37/37 [==============================] - 2s 63ms/step - loss: 0.7200 - acc: 0.6091 - val_loss: 0.7351 - val_acc: 0.4974\n",
      "Epoch 27/500\n",
      "37/37 [==============================] - 2s 63ms/step - loss: 0.7353 - acc: 0.6033 - val_loss: 0.7355 - val_acc: 0.4974\n",
      "Epoch 28/500\n",
      "37/37 [==============================] - 2s 57ms/step - loss: 0.7433 - acc: 0.6036 - val_loss: 0.7354 - val_acc: 0.4974\n",
      "Epoch 29/500\n",
      "37/37 [==============================] - 2s 47ms/step - loss: 0.7033 - acc: 0.6207 - val_loss: 0.7349 - val_acc: 0.4974\n",
      "Epoch 30/500\n",
      "37/37 [==============================] - 2s 46ms/step - loss: 0.7331 - acc: 0.6089 - val_loss: 0.7306 - val_acc: 0.4974\n",
      "Epoch 31/500\n",
      "37/37 [==============================] - 2s 45ms/step - loss: 0.7001 - acc: 0.6214 - val_loss: 0.7309 - val_acc: 0.4974\n",
      "Epoch 32/500\n",
      "37/37 [==============================] - 2s 45ms/step - loss: 0.7046 - acc: 0.6157 - val_loss: 0.7286 - val_acc: 0.4974\n",
      "Epoch 33/500\n",
      "37/37 [==============================] - 2s 45ms/step - loss: 0.6978 - acc: 0.6308 - val_loss: 0.7274 - val_acc: 0.4974\n",
      "Epoch 34/500\n",
      "37/37 [==============================] - 2s 45ms/step - loss: 0.6958 - acc: 0.6110 - val_loss: 0.7284 - val_acc: 0.4974\n",
      "Epoch 35/500\n",
      "37/37 [==============================] - 2s 45ms/step - loss: 0.7033 - acc: 0.6271 - val_loss: 0.7288 - val_acc: 0.4974\n",
      "Epoch 36/500\n",
      "37/37 [==============================] - 2s 46ms/step - loss: 0.7002 - acc: 0.6182 - val_loss: 0.7285 - val_acc: 0.4974\n",
      "Epoch 37/500\n",
      "37/37 [==============================] - 2s 45ms/step - loss: 0.6951 - acc: 0.6257 - val_loss: 0.7267 - val_acc: 0.4974\n",
      "Epoch 38/500\n",
      "37/37 [==============================] - 2s 46ms/step - loss: 0.6908 - acc: 0.6395 - val_loss: 0.7229 - val_acc: 0.4974\n",
      "Epoch 39/500\n",
      "37/37 [==============================] - 2s 45ms/step - loss: 0.6723 - acc: 0.6352 - val_loss: 0.7238 - val_acc: 0.4974\n",
      "Epoch 40/500\n",
      "37/37 [==============================] - 2s 46ms/step - loss: 0.6802 - acc: 0.6318 - val_loss: 0.7208 - val_acc: 0.4974\n",
      "Epoch 41/500\n",
      "37/37 [==============================] - 2s 46ms/step - loss: 0.6910 - acc: 0.6357 - val_loss: 0.7186 - val_acc: 0.4974\n",
      "Epoch 42/500\n",
      "37/37 [==============================] - 2s 46ms/step - loss: 0.6687 - acc: 0.6576 - val_loss: 0.7176 - val_acc: 0.4974\n",
      "Epoch 43/500\n",
      "37/37 [==============================] - 2s 53ms/step - loss: 0.7859 - acc: 0.5093 - val_loss: 0.7182 - val_acc: 0.5026\n",
      "Epoch 44/500\n",
      "37/37 [==============================] - 2s 56ms/step - loss: 0.8365 - acc: 0.4300 - val_loss: 0.6876 - val_acc: 0.5026\n",
      "Epoch 45/500\n",
      "37/37 [==============================] - 2s 61ms/step - loss: 0.7407 - acc: 0.5184 - val_loss: 0.6767 - val_acc: 0.6885\n",
      "Epoch 46/500\n",
      "37/37 [==============================] - 2s 64ms/step - loss: 0.6976 - acc: 0.5748 - val_loss: 0.6693 - val_acc: 0.6936\n",
      "Epoch 47/500\n",
      "37/37 [==============================] - 2s 64ms/step - loss: 0.6637 - acc: 0.6288 - val_loss: 0.6678 - val_acc: 0.6590\n",
      "Epoch 48/500\n",
      "37/37 [==============================] - 2s 65ms/step - loss: 0.6373 - acc: 0.6707 - val_loss: 0.6702 - val_acc: 0.4974\n",
      "Epoch 49/500\n",
      "37/37 [==============================] - 2s 65ms/step - loss: 0.6153 - acc: 0.6840 - val_loss: 0.6716 - val_acc: 0.4974\n",
      "Epoch 50/500\n",
      "37/37 [==============================] - 2s 66ms/step - loss: 0.6025 - acc: 0.7039 - val_loss: 0.6706 - val_acc: 0.4974\n",
      "Epoch 51/500\n",
      "37/37 [==============================] - 2s 65ms/step - loss: 0.5856 - acc: 0.7120 - val_loss: 0.6737 - val_acc: 0.4974\n",
      "Epoch 52/500\n",
      "37/37 [==============================] - 2s 65ms/step - loss: 0.5863 - acc: 0.7089 - val_loss: 0.6730 - val_acc: 0.4974\n",
      "Epoch 53/500\n",
      "37/37 [==============================] - 2s 65ms/step - loss: 0.5664 - acc: 0.7199 - val_loss: 0.6746 - val_acc: 0.4974\n",
      "Epoch 54/500\n",
      "37/37 [==============================] - 2s 66ms/step - loss: 0.5569 - acc: 0.7272 - val_loss: 0.6705 - val_acc: 0.4974\n",
      "Epoch 55/500\n",
      "37/37 [==============================] - 2s 65ms/step - loss: 0.5613 - acc: 0.7272 - val_loss: 0.6618 - val_acc: 0.4974\n",
      "Epoch 56/500\n",
      "37/37 [==============================] - 2s 66ms/step - loss: 0.5448 - acc: 0.7462 - val_loss: 0.6598 - val_acc: 0.6192\n",
      "Epoch 57/500\n",
      "37/37 [==============================] - 2s 66ms/step - loss: 0.5303 - acc: 0.7648 - val_loss: 0.6587 - val_acc: 0.6712\n",
      "Epoch 58/500\n",
      "37/37 [==============================] - 2s 66ms/step - loss: 0.5477 - acc: 0.7386 - val_loss: 0.6888 - val_acc: 0.6474\n",
      "Epoch 59/500\n",
      "37/37 [==============================] - 2s 66ms/step - loss: 0.5596 - acc: 0.7354 - val_loss: 0.6671 - val_acc: 0.6724\n",
      "Epoch 60/500\n",
      "37/37 [==============================] - 2s 66ms/step - loss: 0.4883 - acc: 0.7689 - val_loss: 0.6200 - val_acc: 0.7244\n",
      "Epoch 61/500\n",
      "37/37 [==============================] - 2s 66ms/step - loss: 0.5417 - acc: 0.7402 - val_loss: 0.6319 - val_acc: 0.7019\n",
      "Epoch 62/500\n",
      "37/37 [==============================] - 2s 65ms/step - loss: 0.5018 - acc: 0.7773 - val_loss: 0.6173 - val_acc: 0.7218\n",
      "Epoch 63/500\n",
      "37/37 [==============================] - 2s 66ms/step - loss: 0.4924 - acc: 0.8101 - val_loss: 0.6227 - val_acc: 0.7224\n",
      "Epoch 64/500\n",
      "37/37 [==============================] - 2s 66ms/step - loss: 0.4733 - acc: 0.8239 - val_loss: 0.6358 - val_acc: 0.7199\n",
      "Epoch 65/500\n",
      "37/37 [==============================] - 2s 66ms/step - loss: 0.4455 - acc: 0.8390 - val_loss: 0.6375 - val_acc: 0.7282\n",
      "Epoch 66/500\n",
      "37/37 [==============================] - 2s 66ms/step - loss: 0.4704 - acc: 0.8420 - val_loss: 0.6499 - val_acc: 0.7282\n",
      "Epoch 67/500\n",
      "37/37 [==============================] - 2s 65ms/step - loss: 0.4435 - acc: 0.8699 - val_loss: 0.6640 - val_acc: 0.7199\n",
      "Epoch 68/500\n",
      "37/37 [==============================] - 3s 73ms/step - loss: 0.4342 - acc: 0.8768 - val_loss: 0.7033 - val_acc: 0.7160\n",
      "Epoch 69/500\n",
      "37/37 [==============================] - 2s 57ms/step - loss: 0.4425 - acc: 0.8757 - val_loss: 0.8375 - val_acc: 0.7141\n",
      "Epoch 70/500\n",
      "37/37 [==============================] - 2s 48ms/step - loss: 0.4585 - acc: 0.8820 - val_loss: 1.1471 - val_acc: 0.7109\n",
      "Epoch 71/500\n",
      "37/37 [==============================] - 2s 45ms/step - loss: 0.4261 - acc: 0.8853 - val_loss: 1.4435 - val_acc: 0.7109\n",
      "Epoch 72/500\n",
      "37/37 [==============================] - 2s 45ms/step - loss: 0.4477 - acc: 0.8826 - val_loss: 1.4048 - val_acc: 0.7231\n",
      "Epoch 73/500\n",
      "37/37 [==============================] - 2s 45ms/step - loss: 0.4392 - acc: 0.8936 - val_loss: 0.6747 - val_acc: 0.7013\n",
      "Epoch 74/500\n",
      "37/37 [==============================] - 2s 45ms/step - loss: 0.4728 - acc: 0.8624 - val_loss: 1.4832 - val_acc: 0.7019\n",
      "Epoch 75/500\n",
      "37/37 [==============================] - 2s 45ms/step - loss: 0.3793 - acc: 0.9037 - val_loss: 1.6050 - val_acc: 0.7064\n",
      "Epoch 76/500\n",
      "37/37 [==============================] - 2s 46ms/step - loss: 0.4418 - acc: 0.9071 - val_loss: 0.6857 - val_acc: 0.6801\n",
      "Epoch 77/500\n",
      "37/37 [==============================] - 2s 45ms/step - loss: 0.5983 - acc: 0.7801 - val_loss: 0.5962 - val_acc: 0.7083\n",
      "Epoch 78/500\n",
      "37/37 [==============================] - 2s 46ms/step - loss: 0.5145 - acc: 0.8049 - val_loss: 0.6660 - val_acc: 0.6494\n",
      "Epoch 79/500\n",
      "37/37 [==============================] - 2s 46ms/step - loss: 0.6798 - acc: 0.6223 - val_loss: 0.6067 - val_acc: 0.7128\n",
      "Epoch 80/500\n",
      "37/37 [==============================] - 2s 46ms/step - loss: 0.4827 - acc: 0.8235 - val_loss: 0.5990 - val_acc: 0.7167\n",
      "Epoch 81/500\n",
      "37/37 [==============================] - 2s 45ms/step - loss: 0.4087 - acc: 0.8878 - val_loss: 0.6105 - val_acc: 0.7160\n",
      "Epoch 82/500\n",
      "37/37 [==============================] - 2s 46ms/step - loss: 0.4055 - acc: 0.9028 - val_loss: 0.6366 - val_acc: 0.7103\n",
      "Epoch 83/500\n",
      "37/37 [==============================] - 2s 46ms/step - loss: 0.3802 - acc: 0.9206 - val_loss: 0.6574 - val_acc: 0.7083\n",
      "Epoch 84/500\n",
      "37/37 [==============================] - 2s 45ms/step - loss: 0.3333 - acc: 0.9221 - val_loss: 0.7263 - val_acc: 0.7064\n",
      "Epoch 85/500\n",
      "37/37 [==============================] - 2s 45ms/step - loss: 0.3462 - acc: 0.9261 - val_loss: 0.6900 - val_acc: 0.7141\n",
      "Epoch 86/500\n",
      "37/37 [==============================] - 2s 45ms/step - loss: 0.3454 - acc: 0.9344 - val_loss: 0.7329 - val_acc: 0.7064\n",
      "Epoch 87/500\n",
      "37/37 [==============================] - 2s 46ms/step - loss: 0.3597 - acc: 0.9345 - val_loss: 0.8071 - val_acc: 0.7045\n",
      "Epoch 88/500\n",
      "37/37 [==============================] - 2s 46ms/step - loss: 0.3470 - acc: 0.9342 - val_loss: 1.5952 - val_acc: 0.7103\n",
      "Epoch 89/500\n",
      "37/37 [==============================] - 2s 46ms/step - loss: 0.3207 - acc: 0.9353 - val_loss: 1.8642 - val_acc: 0.7064\n",
      "Epoch 90/500\n",
      "37/37 [==============================] - 2s 45ms/step - loss: 0.3183 - acc: 0.9354 - val_loss: 1.8279 - val_acc: 0.6994\n",
      "Epoch 91/500\n",
      "37/37 [==============================] - 2s 63ms/step - loss: 0.3559 - acc: 0.9375 - val_loss: 0.7161 - val_acc: 0.7006\n",
      "Epoch 92/500\n",
      "37/37 [==============================] - 2s 51ms/step - loss: 0.3618 - acc: 0.9366 - val_loss: 0.8265 - val_acc: 0.7064\n",
      "Epoch 93/500\n",
      "37/37 [==============================] - 2s 66ms/step - loss: 0.3267 - acc: 0.9400 - val_loss: 1.8842 - val_acc: 0.7026\n",
      "Epoch 94/500\n",
      "37/37 [==============================] - 2s 66ms/step - loss: 0.3345 - acc: 0.9370 - val_loss: 1.8220 - val_acc: 0.7045\n",
      "Epoch 95/500\n",
      "37/37 [==============================] - 2s 66ms/step - loss: 0.3398 - acc: 0.9423 - val_loss: 2.2838 - val_acc: 0.7013\n",
      "Epoch 96/500\n",
      "37/37 [==============================] - 2s 66ms/step - loss: 0.3802 - acc: 0.9428 - val_loss: 1.8569 - val_acc: 0.7026\n",
      "Epoch 97/500\n",
      "37/37 [==============================] - 2s 65ms/step - loss: 0.2897 - acc: 0.9455 - val_loss: 1.6613 - val_acc: 0.6949\n",
      "Epoch 98/500\n",
      "37/37 [==============================] - 2s 65ms/step - loss: 0.5695 - acc: 0.9111 - val_loss: 0.6220 - val_acc: 0.7212\n",
      "Epoch 99/500\n",
      "37/37 [==============================] - 2s 65ms/step - loss: 0.4708 - acc: 0.8356 - val_loss: 0.7490 - val_acc: 0.6147\n",
      "Epoch 100/500\n",
      "37/37 [==============================] - 2s 66ms/step - loss: 0.5142 - acc: 0.8136 - val_loss: 0.6006 - val_acc: 0.7135\n",
      "Epoch 101/500\n",
      "37/37 [==============================] - 2s 65ms/step - loss: 0.4269 - acc: 0.8807 - val_loss: 0.6287 - val_acc: 0.7071\n",
      "Epoch 102/500\n",
      "37/37 [==============================] - 2s 65ms/step - loss: 0.3978 - acc: 0.8932 - val_loss: 0.6665 - val_acc: 0.7071\n",
      "Epoch 103/500\n",
      "37/37 [==============================] - 2s 65ms/step - loss: 0.3585 - acc: 0.9109 - val_loss: 0.7319 - val_acc: 0.7128\n",
      "Epoch 104/500\n",
      "37/37 [==============================] - 2s 67ms/step - loss: 0.3318 - acc: 0.9165 - val_loss: 0.6684 - val_acc: 0.7128\n",
      "Epoch 105/500\n",
      "37/37 [==============================] - 2s 65ms/step - loss: 0.3284 - acc: 0.9270 - val_loss: 1.1775 - val_acc: 0.7115\n",
      "Epoch 106/500\n",
      "37/37 [==============================] - 2s 66ms/step - loss: 0.3044 - acc: 0.9339 - val_loss: 1.7200 - val_acc: 0.7103\n",
      "Epoch 107/500\n",
      "37/37 [==============================] - 2s 65ms/step - loss: 0.3241 - acc: 0.9352 - val_loss: 1.6154 - val_acc: 0.7122\n",
      "Epoch 108/500\n",
      "37/37 [==============================] - 2s 65ms/step - loss: 0.2927 - acc: 0.9346 - val_loss: 2.0230 - val_acc: 0.7109\n",
      "Epoch 109/500\n",
      "37/37 [==============================] - 2s 66ms/step - loss: 0.3258 - acc: 0.9420 - val_loss: 2.1025 - val_acc: 0.7096\n",
      "Epoch 110/500\n",
      "37/37 [==============================] - 2s 66ms/step - loss: 0.3077 - acc: 0.9386 - val_loss: 0.7523 - val_acc: 0.6667\n",
      "Epoch 111/500\n",
      "37/37 [==============================] - 2s 67ms/step - loss: 0.8627 - acc: 0.6674 - val_loss: 1.9454 - val_acc: 0.4974\n",
      "Epoch 112/500\n",
      "37/37 [==============================] - 2s 65ms/step - loss: 0.5729 - acc: 0.6972 - val_loss: 1.2567 - val_acc: 0.4974\n",
      "Epoch 113/500\n",
      "37/37 [==============================] - 2s 66ms/step - loss: 0.4896 - acc: 0.7169 - val_loss: 0.7947 - val_acc: 0.4974\n",
      "Epoch 114/500\n",
      "37/37 [==============================] - 2s 65ms/step - loss: 0.4615 - acc: 0.7375 - val_loss: 1.1497 - val_acc: 0.4974\n",
      "Epoch 115/500\n",
      "37/37 [==============================] - 2s 65ms/step - loss: 0.4390 - acc: 0.7378 - val_loss: 1.4161 - val_acc: 0.4974\n",
      "Epoch 116/500\n",
      "37/37 [==============================] - 2s 64ms/step - loss: 0.4483 - acc: 0.7591 - val_loss: 1.5755 - val_acc: 0.4974\n",
      "Epoch 117/500\n",
      "37/37 [==============================] - 2s 50ms/step - loss: 0.4967 - acc: 0.7445 - val_loss: 0.6597 - val_acc: 0.6365\n",
      "Epoch 118/500\n",
      "37/37 [==============================] - 2s 45ms/step - loss: 0.6767 - acc: 0.5921 - val_loss: 0.6299 - val_acc: 0.7077\n",
      "Epoch 119/500\n",
      "37/37 [==============================] - 2s 46ms/step - loss: 0.5753 - acc: 0.7575 - val_loss: 0.6253 - val_acc: 0.7032\n",
      "Epoch 120/500\n",
      "37/37 [==============================] - 2s 45ms/step - loss: 0.4796 - acc: 0.8278 - val_loss: 0.6483 - val_acc: 0.6929\n",
      "Epoch 121/500\n",
      "37/37 [==============================] - 2s 45ms/step - loss: 0.4334 - acc: 0.8221 - val_loss: 0.6903 - val_acc: 0.6968\n",
      "Epoch 122/500\n",
      "37/37 [==============================] - 2s 45ms/step - loss: 0.4100 - acc: 0.8327 - val_loss: 0.7683 - val_acc: 0.6974\n",
      "Epoch 123/500\n"
     ]
    },
    {
     "name": "stdout",
     "output_type": "stream",
     "text": [
      "37/37 [==============================] - 2s 45ms/step - loss: 0.3856 - acc: 0.8448 - val_loss: 0.6947 - val_acc: 0.7006\n",
      "Epoch 124/500\n",
      "37/37 [==============================] - 2s 45ms/step - loss: 0.3706 - acc: 0.8907 - val_loss: 0.7500 - val_acc: 0.7045\n",
      "Epoch 125/500\n",
      "37/37 [==============================] - 2s 45ms/step - loss: 0.3618 - acc: 0.8924 - val_loss: 1.2722 - val_acc: 0.7051\n",
      "Epoch 126/500\n",
      "37/37 [==============================] - 2s 45ms/step - loss: 0.3676 - acc: 0.8985 - val_loss: 1.6938 - val_acc: 0.7038\n",
      "Epoch 127/500\n",
      "37/37 [==============================] - 2s 45ms/step - loss: 0.3570 - acc: 0.9149 - val_loss: 1.7162 - val_acc: 0.7032\n",
      "Epoch 128/500\n",
      "37/37 [==============================] - 2s 45ms/step - loss: 0.3329 - acc: 0.9225 - val_loss: 0.9606 - val_acc: 0.7032\n",
      "Epoch 129/500\n",
      "37/37 [==============================] - 2s 45ms/step - loss: 0.3725 - acc: 0.9316 - val_loss: 1.8498 - val_acc: 0.7019\n",
      "Epoch 130/500\n",
      "37/37 [==============================] - 2s 46ms/step - loss: 0.3032 - acc: 0.9386 - val_loss: 1.9935 - val_acc: 0.7032\n",
      "Epoch 131/500\n",
      "37/37 [==============================] - 2s 46ms/step - loss: 0.3283 - acc: 0.9353 - val_loss: 0.8267 - val_acc: 0.7026\n",
      "Epoch 132/500\n",
      "37/37 [==============================] - 2s 45ms/step - loss: 0.3559 - acc: 0.8855 - val_loss: 0.9004 - val_acc: 0.6962\n",
      "Epoch 133/500\n",
      "37/37 [==============================] - 2s 46ms/step - loss: 0.3240 - acc: 0.9145 - val_loss: 1.9048 - val_acc: 0.6987\n",
      "Epoch 134/500\n",
      "37/37 [==============================] - 2s 45ms/step - loss: 0.3125 - acc: 0.9382 - val_loss: 2.1029 - val_acc: 0.6974\n",
      "Epoch 135/500\n",
      "37/37 [==============================] - 2s 46ms/step - loss: 0.3054 - acc: 0.9388 - val_loss: 2.0068 - val_acc: 0.7013\n",
      "Epoch 136/500\n",
      "37/37 [==============================] - 2s 45ms/step - loss: 0.2778 - acc: 0.9418 - val_loss: 2.1534 - val_acc: 0.7045\n",
      "Epoch 137/500\n",
      "37/37 [==============================] - 2s 46ms/step - loss: 0.3118 - acc: 0.9414 - val_loss: 1.7080 - val_acc: 0.7032\n",
      "Epoch 138/500\n",
      "37/37 [==============================] - 2s 46ms/step - loss: 0.2962 - acc: 0.9331 - val_loss: 2.1818 - val_acc: 0.6994\n",
      "Epoch 139/500\n",
      "37/37 [==============================] - 2s 46ms/step - loss: 0.2619 - acc: 0.9416 - val_loss: 2.2437 - val_acc: 0.7026\n",
      "Epoch 140/500\n",
      "37/37 [==============================] - 2s 45ms/step - loss: 0.2821 - acc: 0.9437 - val_loss: 2.2729 - val_acc: 0.7000\n",
      "Epoch 141/500\n",
      "37/37 [==============================] - 2s 46ms/step - loss: 0.2997 - acc: 0.9444 - val_loss: 2.3527 - val_acc: 0.6987\n",
      "Epoch 142/500\n",
      "37/37 [==============================] - 2s 46ms/step - loss: 0.2557 - acc: 0.9443 - val_loss: 2.3243 - val_acc: 0.6949\n",
      "Epoch 143/500\n",
      "37/37 [==============================] - 2s 46ms/step - loss: 0.2684 - acc: 0.9512 - val_loss: 2.3151 - val_acc: 0.6955\n",
      "Epoch 144/500\n",
      "37/37 [==============================] - 2s 45ms/step - loss: 0.2843 - acc: 0.9495 - val_loss: 2.4520 - val_acc: 0.6994\n",
      "Epoch 145/500\n",
      "37/37 [==============================] - 2s 46ms/step - loss: 0.2712 - acc: 0.9508 - val_loss: 2.4296 - val_acc: 0.6994\n",
      "Epoch 146/500\n",
      "37/37 [==============================] - 2s 46ms/step - loss: 0.2507 - acc: 0.9508 - val_loss: 2.4226 - val_acc: 0.7019\n",
      "Epoch 147/500\n",
      "37/37 [==============================] - 2s 45ms/step - loss: 0.2597 - acc: 0.9473 - val_loss: 2.5751 - val_acc: 0.6987\n",
      "Epoch 148/500\n",
      "37/37 [==============================] - 2s 46ms/step - loss: 0.2529 - acc: 0.9476 - val_loss: 2.4481 - val_acc: 0.6987\n",
      "Epoch 149/500\n",
      "37/37 [==============================] - 2s 46ms/step - loss: 0.2776 - acc: 0.9502 - val_loss: 2.4696 - val_acc: 0.6974\n",
      "Epoch 150/500\n",
      "37/37 [==============================] - 2s 46ms/step - loss: 0.2771 - acc: 0.9520 - val_loss: 2.5413 - val_acc: 0.7006\n",
      "Epoch 151/500\n",
      "37/37 [==============================] - 2s 46ms/step - loss: 0.2595 - acc: 0.9546 - val_loss: 2.4470 - val_acc: 0.6955\n",
      "Epoch 152/500\n",
      "37/37 [==============================] - 2s 46ms/step - loss: 0.2323 - acc: 0.9428 - val_loss: 2.6578 - val_acc: 0.6936\n",
      "Epoch 153/500\n",
      "37/37 [==============================] - 2s 46ms/step - loss: 0.2554 - acc: 0.9481 - val_loss: 2.5651 - val_acc: 0.7038\n",
      "Epoch 154/500\n",
      "37/37 [==============================] - 2s 46ms/step - loss: 0.2707 - acc: 0.9558 - val_loss: 2.6498 - val_acc: 0.7013\n",
      "Epoch 155/500\n",
      "37/37 [==============================] - 2s 46ms/step - loss: 0.2652 - acc: 0.9579 - val_loss: 2.6363 - val_acc: 0.6994\n",
      "Epoch 156/500\n",
      "37/37 [==============================] - 2s 46ms/step - loss: 0.2470 - acc: 0.9587 - val_loss: 2.4736 - val_acc: 0.6974\n",
      "Epoch 157/500\n",
      "37/37 [==============================] - 2s 45ms/step - loss: 0.2290 - acc: 0.9524 - val_loss: 2.7318 - val_acc: 0.6968\n",
      "Epoch 158/500\n",
      "37/37 [==============================] - 2s 46ms/step - loss: 0.2180 - acc: 0.9574 - val_loss: 2.6069 - val_acc: 0.6955\n",
      "Epoch 159/500\n",
      "37/37 [==============================] - 2s 45ms/step - loss: 0.2643 - acc: 0.9542 - val_loss: 2.7271 - val_acc: 0.6955\n",
      "Epoch 160/500\n",
      "37/37 [==============================] - 2s 45ms/step - loss: 0.2562 - acc: 0.9601 - val_loss: 2.4611 - val_acc: 0.6981\n",
      "Epoch 161/500\n",
      "37/37 [==============================] - 2s 46ms/step - loss: 0.2622 - acc: 0.9307 - val_loss: 2.7086 - val_acc: 0.6904\n",
      "Epoch 162/500\n",
      "37/37 [==============================] - 2s 46ms/step - loss: 0.2518 - acc: 0.9539 - val_loss: 2.6836 - val_acc: 0.6987\n",
      "Epoch 163/500\n",
      "37/37 [==============================] - 2s 46ms/step - loss: 0.2294 - acc: 0.9544 - val_loss: 2.5699 - val_acc: 0.6968\n",
      "Epoch 164/500\n",
      "37/37 [==============================] - 2s 46ms/step - loss: 0.2672 - acc: 0.9560 - val_loss: 2.7878 - val_acc: 0.6955\n",
      "Epoch 165/500\n",
      "37/37 [==============================] - 2s 46ms/step - loss: 0.2644 - acc: 0.9577 - val_loss: 2.7389 - val_acc: 0.6974\n",
      "Epoch 166/500\n",
      "37/37 [==============================] - 2s 46ms/step - loss: 0.2351 - acc: 0.9602 - val_loss: 2.5369 - val_acc: 0.6968\n",
      "Epoch 167/500\n",
      "37/37 [==============================] - 2s 45ms/step - loss: 0.2377 - acc: 0.9480 - val_loss: 2.8100 - val_acc: 0.6923\n",
      "Epoch 168/500\n",
      "37/37 [==============================] - 2s 46ms/step - loss: 0.2386 - acc: 0.9614 - val_loss: 2.7285 - val_acc: 0.6962\n",
      "Epoch 169/500\n",
      "37/37 [==============================] - 2s 46ms/step - loss: 0.2305 - acc: 0.9623 - val_loss: 2.7185 - val_acc: 0.6987\n",
      "Epoch 170/500\n",
      "37/37 [==============================] - 2s 46ms/step - loss: 0.2332 - acc: 0.9613 - val_loss: 2.7338 - val_acc: 0.6981\n",
      "Epoch 171/500\n",
      "37/37 [==============================] - 2s 46ms/step - loss: 0.2262 - acc: 0.9604 - val_loss: 2.6512 - val_acc: 0.6987\n",
      "Epoch 172/500\n",
      "37/37 [==============================] - 2s 46ms/step - loss: 0.2185 - acc: 0.9625 - val_loss: 2.7570 - val_acc: 0.6974\n",
      "Epoch 173/500\n",
      "37/37 [==============================] - 2s 46ms/step - loss: 0.2375 - acc: 0.9649 - val_loss: 2.7726 - val_acc: 0.6981\n",
      "Epoch 174/500\n",
      "37/37 [==============================] - 2s 45ms/step - loss: 0.2332 - acc: 0.9601 - val_loss: 2.5947 - val_acc: 0.6987\n",
      "Epoch 175/500\n",
      "37/37 [==============================] - 2s 46ms/step - loss: 0.2496 - acc: 0.9637 - val_loss: 2.8419 - val_acc: 0.6974\n",
      "Epoch 176/500\n",
      "37/37 [==============================] - 2s 46ms/step - loss: 0.2613 - acc: 0.9639 - val_loss: 2.7039 - val_acc: 0.6974\n",
      "Epoch 177/500\n",
      "37/37 [==============================] - 2s 46ms/step - loss: 0.2384 - acc: 0.9649 - val_loss: 2.7128 - val_acc: 0.6994\n",
      "Epoch 178/500\n",
      "37/37 [==============================] - 2s 46ms/step - loss: 0.2149 - acc: 0.9624 - val_loss: 2.7393 - val_acc: 0.6968\n",
      "Epoch 179/500\n",
      "37/37 [==============================] - 2s 46ms/step - loss: 0.2307 - acc: 0.9647 - val_loss: 2.7936 - val_acc: 0.6891\n",
      "Epoch 180/500\n",
      "37/37 [==============================] - 2s 46ms/step - loss: 0.2658 - acc: 0.9444 - val_loss: 1.3700 - val_acc: 0.6609\n",
      "Epoch 181/500\n",
      "37/37 [==============================] - 2s 46ms/step - loss: 0.6819 - acc: 0.7673 - val_loss: 1.9670 - val_acc: 0.6788\n",
      "Epoch 182/500\n",
      "37/37 [==============================] - 2s 46ms/step - loss: 0.4052 - acc: 0.8367 - val_loss: 1.7978 - val_acc: 0.6859\n",
      "Epoch 183/500\n",
      "37/37 [==============================] - 2s 46ms/step - loss: 0.3529 - acc: 0.8680 - val_loss: 2.0076 - val_acc: 0.6853\n",
      "Epoch 184/500\n",
      "37/37 [==============================] - 2s 46ms/step - loss: 0.3383 - acc: 0.8832 - val_loss: 2.2395 - val_acc: 0.6840\n",
      "Epoch 185/500\n",
      "37/37 [==============================] - 2s 46ms/step - loss: 0.3340 - acc: 0.8879 - val_loss: 2.3532 - val_acc: 0.6859\n",
      "Epoch 186/500\n",
      "37/37 [==============================] - 2s 46ms/step - loss: 0.3242 - acc: 0.8927 - val_loss: 2.4553 - val_acc: 0.6859\n",
      "Epoch 187/500\n",
      "37/37 [==============================] - 2s 46ms/step - loss: 0.3151 - acc: 0.8940 - val_loss: 2.4957 - val_acc: 0.6872\n",
      "Epoch 188/500\n",
      "37/37 [==============================] - 2s 46ms/step - loss: 0.3023 - acc: 0.8991 - val_loss: 2.5644 - val_acc: 0.6846\n",
      "Epoch 189/500\n",
      "37/37 [==============================] - 2s 46ms/step - loss: 0.3102 - acc: 0.9034 - val_loss: 2.5802 - val_acc: 0.6859\n",
      "Epoch 190/500\n",
      "37/37 [==============================] - 2s 46ms/step - loss: 0.2748 - acc: 0.9141 - val_loss: 2.5820 - val_acc: 0.6865\n",
      "Epoch 191/500\n",
      "37/37 [==============================] - 2s 46ms/step - loss: 0.2844 - acc: 0.9132 - val_loss: 2.6032 - val_acc: 0.6872\n",
      "Epoch 192/500\n",
      "37/37 [==============================] - 2s 46ms/step - loss: 0.2799 - acc: 0.9189 - val_loss: 2.5502 - val_acc: 0.6897\n",
      "Epoch 193/500\n",
      "37/37 [==============================] - 2s 46ms/step - loss: 0.2693 - acc: 0.9272 - val_loss: 2.5831 - val_acc: 0.6891\n",
      "Epoch 194/500\n",
      "37/37 [==============================] - 2s 46ms/step - loss: 0.2726 - acc: 0.9277 - val_loss: 2.5825 - val_acc: 0.6917\n",
      "Epoch 195/500\n",
      "37/37 [==============================] - 2s 46ms/step - loss: 0.2494 - acc: 0.9323 - val_loss: 2.5535 - val_acc: 0.6936\n",
      "Epoch 196/500\n",
      "37/37 [==============================] - 2s 46ms/step - loss: 0.2260 - acc: 0.9328 - val_loss: 2.5500 - val_acc: 0.6942\n",
      "Epoch 197/500\n",
      "37/37 [==============================] - 2s 46ms/step - loss: 0.2270 - acc: 0.9426 - val_loss: 2.5666 - val_acc: 0.6904\n",
      "Epoch 198/500\n",
      "37/37 [==============================] - 2s 46ms/step - loss: 0.2356 - acc: 0.9451 - val_loss: 2.5492 - val_acc: 0.6917\n",
      "Epoch 199/500\n",
      "37/37 [==============================] - 2s 45ms/step - loss: 0.2277 - acc: 0.9471 - val_loss: 2.5267 - val_acc: 0.6936\n",
      "Epoch 200/500\n",
      "37/37 [==============================] - 2s 46ms/step - loss: 0.2126 - acc: 0.9477 - val_loss: 2.5711 - val_acc: 0.6981\n",
      "Epoch 201/500\n",
      "37/37 [==============================] - 2s 46ms/step - loss: 0.2207 - acc: 0.9436 - val_loss: 2.5584 - val_acc: 0.6987\n",
      "Epoch 202/500\n",
      "37/37 [==============================] - 2s 46ms/step - loss: 0.2168 - acc: 0.9550 - val_loss: 2.5371 - val_acc: 0.6955\n",
      "Epoch 203/500\n",
      "37/37 [==============================] - 2s 46ms/step - loss: 0.2185 - acc: 0.9532 - val_loss: 2.6470 - val_acc: 0.6974\n",
      "Epoch 204/500\n",
      "37/37 [==============================] - 2s 46ms/step - loss: 2.0733 - acc: 0.7459 - val_loss: 0.7383 - val_acc: 0.6551\n",
      "Epoch 205/500\n",
      "37/37 [==============================] - 2s 45ms/step - loss: 0.7527 - acc: 0.6905 - val_loss: 0.6710 - val_acc: 0.6705\n",
      "Epoch 206/500\n",
      "37/37 [==============================] - 2s 45ms/step - loss: 0.5522 - acc: 0.7306 - val_loss: 0.6254 - val_acc: 0.6891\n",
      "Epoch 207/500\n",
      "37/37 [==============================] - 2s 46ms/step - loss: 0.5894 - acc: 0.7422 - val_loss: 0.6269 - val_acc: 0.6910\n",
      "Epoch 208/500\n",
      "37/37 [==============================] - 2s 46ms/step - loss: 0.5018 - acc: 0.7619 - val_loss: 0.6693 - val_acc: 0.6897\n",
      "Epoch 209/500\n",
      "37/37 [==============================] - 2s 46ms/step - loss: 0.4590 - acc: 0.7620 - val_loss: 0.7041 - val_acc: 0.6910\n",
      "Epoch 210/500\n",
      "37/37 [==============================] - 2s 46ms/step - loss: 0.4304 - acc: 0.7897 - val_loss: 0.6978 - val_acc: 0.6891\n",
      "Epoch 211/500\n",
      "37/37 [==============================] - 2s 46ms/step - loss: 0.4168 - acc: 0.8180 - val_loss: 0.8989 - val_acc: 0.6904\n",
      "Epoch 212/500\n",
      "37/37 [==============================] - 2s 45ms/step - loss: 0.3983 - acc: 0.8344 - val_loss: 1.7111 - val_acc: 0.6865\n",
      "Epoch 213/500\n",
      "37/37 [==============================] - 2s 46ms/step - loss: 0.3862 - acc: 0.8342 - val_loss: 1.9573 - val_acc: 0.6846\n",
      "Epoch 214/500\n",
      "37/37 [==============================] - 2s 46ms/step - loss: 0.3865 - acc: 0.8473 - val_loss: 2.0718 - val_acc: 0.6840\n",
      "Epoch 215/500\n",
      "37/37 [==============================] - 2s 46ms/step - loss: 0.3776 - acc: 0.8600 - val_loss: 2.1795 - val_acc: 0.6840\n",
      "Restoring model weights from the end of the best epoch.\n",
      "Epoch 00215: early stopping\n",
      "정확도 : 0.7294871794871794\n"
     ]
    }
   ],
   "source": [
    "from keras.models import Sequential\n",
    "from keras.layers import Dense\n",
    "from keras.layers import LSTM\n",
    "from keras.layers import Dropout\n",
    "from keras.layers import *\n",
    "import sklearn.metrics \n",
    "from keras.callbacks import EarlyStopping\n",
    "from tensorflow.keras import regularizers\n",
    "\n",
    "lstm = Sequential()\n",
    "lstm.add(InputLayer(input_shape=(X_train.shape[1],X_train.shape[2])))\n",
    "lstm.add(LSTM(units=128, activation='sigmoid', return_sequences=True))\n",
    "lstm.add(LSTM(units=64, activation='sigmoid', return_sequences=True))\n",
    "lstm.add(Dropout(0.2))\n",
    "lstm.add(LSTM(units=64, activation='sigmoid', return_sequences=True))\n",
    "lstm.add(LSTM(units=32, activation='sigmoid', return_sequences=False))\n",
    "lstm.add(Dropout(0.2))\n",
    "lstm.add(Dense(units=1, kernel_regularizer='l2'))\n",
    "# lstm.summary()\n",
    "\n",
    "\n",
    "# -------- 수정할 부분 ---------\n",
    "ep = 500\n",
    "pa = 150\n",
    "# -----------------------------\n",
    "\n",
    "early_stop = EarlyStopping(monitor='val_acc', patience=pa, verbose=1, restore_best_weights=True)\n",
    "lstm.compile(optimizer= \"adam\", loss = \"binary_crossentropy\", metrics=['acc'])\n",
    "history = lstm.fit(X_train, y_train, validation_split=0.25, batch_size=128, epochs=ep,  callbacks=[early_stop], shuffle=False)\n",
    "\n",
    "preds = lstm.predict(X_test)\n",
    "\n",
    "preds[preds>0.5]=1\n",
    "preds[preds<=0.5]=0\n",
    "\n",
    "from sklearn import metrics \n",
    "print('정확도 :', metrics.accuracy_score(y_test, preds))"
   ]
  },
  {
   "cell_type": "code",
   "execution_count": 18,
   "id": "2bfa40ee",
   "metadata": {},
   "outputs": [
    {
     "data": {
      "image/png": "[encoded data removed]",
      "text/plain": [
       "<Figure size 432x288 with 2 Axes>"
      ]
     },
     "metadata": {
      "needs_background": "light"
     },
     "output_type": "display_data"
    }
   ],
   "source": [
    "import matplotlib.pyplot as plt\n",
    "\n",
    "fig, loss_ax = plt.subplots()\n",
    "\n",
    "acc_ax = loss_ax.twinx()\n",
    "\n",
    "_=loss_ax.plot(history.history['loss'], 'y', label='train loss')\n",
    "_=loss_ax.plot(history.history['val_loss'], 'r', label='val loss')\n",
    "\n",
    "_=acc_ax.plot(history.history['acc'], 'b', label='train acc')\n",
    "_=acc_ax.plot(history.history['val_acc'], 'g', label='val acc')\n",
    "\n",
    "_=loss_ax.set_xlabel('epoch')\n",
    "_=loss_ax.set_ylabel('loss')\n",
    "_=acc_ax.set_ylabel('accuracy')\n",
    "\n",
    "_=loss_ax.legend(loc='upper left')\n",
    "_=acc_ax.legend(loc='lower left')\n",
    "\n",
    "plt.show()"
   ]
  },
  {
   "cell_type": "markdown",
   "id": "fcc01598",
   "metadata": {},
   "source": [
    "# 비시계열 model"
   ]
  },
  {
   "cell_type": "markdown",
   "id": "9d177dc5",
   "metadata": {},
   "source": [
    "### X : (7799, 4069)"
   ]
  },
  {
   "cell_type": "code",
   "execution_count": 90,
   "id": "47968bc9",
   "metadata": {
    "scrolled": true
   },
   "outputs": [
    {
     "data": {
      "text/plain": [
       "((6239, 4069), (1560, 4069), (6239,), (1560,))"
      ]
     },
     "execution_count": 90,
     "metadata": {},
     "output_type": "execute_result"
    }
   ],
   "source": [
    "x = np.load('./x_(7799,10,4069).npy')\n",
    "y = np.load('./y_(7799,1).npy')\n",
    "\n",
    "# x를 2차원으로 축소 \n",
    "x1 = x.sum(axis=1)\n",
    "\n",
    "# 2이상인 값 -> 1로 변경 \n",
    "x1[x1>1]=1\n",
    "\n",
    "i = round(x1.shape[0]*0.8)\n",
    "X_train, y_train = x1[:i,:], y[:i]\n",
    "X_test, y_test = x1[i:,:], y[i:]\n",
    "\n",
    "X_train.shape, X_test.shape, y_train.shape, y_test.shape"
   ]
  },
  {
   "cell_type": "code",
   "execution_count": 93,
   "id": "62eb55c7",
   "metadata": {},
   "outputs": [
    {
     "data": {
      "text/plain": [
       "SVC()"
      ]
     },
     "execution_count": 93,
     "metadata": {},
     "output_type": "execute_result"
    },
    {
     "name": "stdout",
     "output_type": "stream",
     "text": [
      "Support vector machine: 0.905433563071005 0.7467948717948718\n"
     ]
    },
    {
     "data": {
      "text/plain": [
       "GaussianNB()"
      ]
     },
     "execution_count": 93,
     "metadata": {},
     "output_type": "execute_result"
    },
    {
     "name": "stdout",
     "output_type": "stream",
     "text": [
      "Gaussian naive bayes: 0.5377464337233531 0.5474358974358975\n"
     ]
    },
    {
     "data": {
      "text/plain": [
       "KNeighborsClassifier()"
      ]
     },
     "execution_count": 93,
     "metadata": {},
     "output_type": "execute_result"
    },
    {
     "name": "stdout",
     "output_type": "stream",
     "text": [
      "K nearest neighbor: 0.7523641609232249 0.5666666666666667\n"
     ]
    },
    {
     "data": {
      "text/plain": [
       "RandomForestClassifier()"
      ]
     },
     "execution_count": 93,
     "metadata": {},
     "output_type": "execute_result"
    },
    {
     "name": "stdout",
     "output_type": "stream",
     "text": [
      "Random forest: 0.9980766148421222 0.7051282051282052\n"
     ]
    },
    {
     "data": {
      "text/plain": [
       "GradientBoostingClassifier()"
      ]
     },
     "execution_count": 93,
     "metadata": {},
     "output_type": "execute_result"
    },
    {
     "name": "stdout",
     "output_type": "stream",
     "text": [
      "Gradient boosing: 0.7901907356948229 0.7121794871794872\n"
     ]
    },
    {
     "data": {
      "text/plain": [
       "MLPClassifier(max_iter=1000)"
      ]
     },
     "execution_count": 93,
     "metadata": {},
     "output_type": "execute_result"
    },
    {
     "name": "stdout",
     "output_type": "stream",
     "text": [
      "Neural network: 0.9980766148421222 0.7121794871794872\n"
     ]
    },
    {
     "data": {
      "text/plain": [
       "AdaBoostClassifier(learning_rate=0.1, n_estimators=500, random_state=10)"
      ]
     },
     "execution_count": 93,
     "metadata": {},
     "output_type": "execute_result"
    },
    {
     "name": "stdout",
     "output_type": "stream",
     "text": [
      "AdaBoost 정확도: 0.7244\n"
     ]
    }
   ],
   "source": [
    "from sklearn.svm import SVC\n",
    "from sklearn.metrics import accuracy_score\n",
    "\n",
    "# Support vector machine\n",
    "model = SVC()\n",
    "model.fit(X_train, y_train)\n",
    "y_pred_train = model.predict(X_train)\n",
    "y_pred_test = model.predict(X_test)\n",
    "print(\"Support vector machine:\", accuracy_score(y_train, y_pred_train), accuracy_score(y_test, y_pred_test))\n",
    "\n",
    "# Gaussian naive bayes\n",
    "from sklearn.naive_bayes import GaussianNB\n",
    "model = GaussianNB()\n",
    "model.fit(X_train, y_train)\n",
    "y_pred_train = model.predict(X_train)\n",
    "y_pred_test = model.predict(X_test)\n",
    "print(\"Gaussian naive bayes:\", accuracy_score(y_train, y_pred_train), accuracy_score(y_test, y_pred_test))\n",
    "\n",
    "# K nearest neighbor\n",
    "from sklearn.neighbors import KNeighborsClassifier\n",
    "model = KNeighborsClassifier()\n",
    "model.fit(X_train, y_train)\n",
    "y_pred_train = model.predict(X_train)\n",
    "y_pred_test = model.predict(X_test)\n",
    "print(\"K nearest neighbor:\", accuracy_score(y_train, y_pred_train), accuracy_score(y_test, y_pred_test))\n",
    "\n",
    "# Random Forest\n",
    "from sklearn.ensemble import RandomForestClassifier\n",
    "model = RandomForestClassifier()\n",
    "model.fit(X_train, y_train)\n",
    "y_pred_train = model.predict(X_train)\n",
    "y_pred_test = model.predict(X_test)\n",
    "print(\"Random forest:\", accuracy_score(y_train, y_pred_train), accuracy_score(y_test, y_pred_test))\n",
    "\n",
    "# Gradient boosting\n",
    "from sklearn.ensemble import GradientBoostingClassifier\n",
    "model = GradientBoostingClassifier()\n",
    "model.fit(X_train, y_train)\n",
    "y_pred_train = model.predict(X_train)\n",
    "y_pred_test = model.predict(X_test)\n",
    "print(\"Gradient boosing:\", accuracy_score(y_train, y_pred_train), accuracy_score(y_test, y_pred_test))\n",
    "\n",
    "# Neural network\n",
    "from sklearn.neural_network import MLPClassifier\n",
    "model = MLPClassifier(max_iter=1000)\n",
    "model.fit(X_train, y_train)\n",
    "y_pred_train = model.predict(X_train)\n",
    "y_pred_test = model.predict(X_test)\n",
    "print(\"Neural network:\", accuracy_score(y_train, y_pred_train), accuracy_score(y_test, y_pred_test))\n",
    "\n",
    "# AdaBoost\n",
    "from sklearn.ensemble import AdaBoostClassifier\n",
    "from sklearn.metrics import accuracy_score\n",
    "\n",
    "clf = AdaBoostClassifier(n_estimators=500, \n",
    "                        random_state=10, \n",
    "                        learning_rate=0.1)\n",
    "clf.fit(X_train, y_train)\n",
    "pred = clf.predict(X_test)\n",
    "print('AdaBoost 정확도: {:.4f}'.format(accuracy_score(y_test, pred)))"
   ]
  },
  {
   "cell_type": "markdown",
   "id": "2db9adbc",
   "metadata": {},
   "source": [
    "### X : (7727, 4069)"
   ]
  },
  {
   "cell_type": "code",
   "execution_count": 96,
   "id": "a6607d19",
   "metadata": {},
   "outputs": [
    {
     "data": {
      "text/plain": [
       "((6182, 4069), (1545, 4069), (6182,), (1545,))"
      ]
     },
     "execution_count": 96,
     "metadata": {},
     "output_type": "execute_result"
    }
   ],
   "source": [
    "x = np.load('./x_(7727,4069).npy')\n",
    "y = np.load('./y_(7727,1).npy')\n",
    "\n",
    "x1 = x\n",
    "# 2이상인 값 -> 1로 변경 \n",
    "x1[x1>1]=1\n",
    "\n",
    "i = round(x1.shape[0]*0.8)\n",
    "X_train, y_train = x1[:i,:], y[:i]\n",
    "X_test, y_test = x1[i:,:], y[i:]\n",
    "\n",
    "X_train.shape, X_test.shape, y_train.shape, y_test.shape"
   ]
  },
  {
   "cell_type": "code",
   "execution_count": 97,
   "id": "4aa49720",
   "metadata": {},
   "outputs": [
    {
     "data": {
      "text/plain": [
       "SVC()"
      ]
     },
     "execution_count": 97,
     "metadata": {},
     "output_type": "execute_result"
    },
    {
     "name": "stdout",
     "output_type": "stream",
     "text": [
      "Support vector machine: 0.9060174700744096 0.7398058252427184\n"
     ]
    },
    {
     "data": {
      "text/plain": [
       "GaussianNB()"
      ]
     },
     "execution_count": 97,
     "metadata": {},
     "output_type": "execute_result"
    },
    {
     "name": "stdout",
     "output_type": "stream",
     "text": [
      "Gaussian naive bayes: 0.5402782271109673 0.5495145631067961\n"
     ]
    },
    {
     "data": {
      "text/plain": [
       "KNeighborsClassifier()"
      ]
     },
     "execution_count": 97,
     "metadata": {},
     "output_type": "execute_result"
    },
    {
     "name": "stdout",
     "output_type": "stream",
     "text": [
      "K nearest neighbor: 0.749595600129408 0.565695792880259\n"
     ]
    },
    {
     "data": {
      "text/plain": [
       "RandomForestClassifier()"
      ]
     },
     "execution_count": 97,
     "metadata": {},
     "output_type": "execute_result"
    },
    {
     "name": "stdout",
     "output_type": "stream",
     "text": [
      "Random forest: 1.0 0.7132686084142394\n"
     ]
    },
    {
     "data": {
      "text/plain": [
       "GradientBoostingClassifier()"
      ]
     },
     "execution_count": 97,
     "metadata": {},
     "output_type": "execute_result"
    },
    {
     "name": "stdout",
     "output_type": "stream",
     "text": [
      "Gradient boosing: 0.7979618246522161 0.7216828478964401\n"
     ]
    },
    {
     "data": {
      "text/plain": [
       "MLPClassifier(max_iter=1000)"
      ]
     },
     "execution_count": 97,
     "metadata": {},
     "output_type": "execute_result"
    },
    {
     "name": "stdout",
     "output_type": "stream",
     "text": [
      "Neural network: 1.0 0.7145631067961165\n"
     ]
    },
    {
     "data": {
      "text/plain": [
       "AdaBoostClassifier(learning_rate=0.1, n_estimators=500, random_state=10)"
      ]
     },
     "execution_count": 97,
     "metadata": {},
     "output_type": "execute_result"
    },
    {
     "name": "stdout",
     "output_type": "stream",
     "text": [
      "AdaBoost 정확도: 0.7256\n"
     ]
    }
   ],
   "source": [
    "from sklearn.svm import SVC\n",
    "from sklearn.metrics import accuracy_score\n",
    "\n",
    "# Support vector machine\n",
    "model = SVC()\n",
    "model.fit(X_train, y_train)\n",
    "y_pred_train = model.predict(X_train)\n",
    "y_pred_test = model.predict(X_test)\n",
    "print(\"Support vector machine:\", accuracy_score(y_train, y_pred_train), accuracy_score(y_test, y_pred_test))\n",
    "\n",
    "# Gaussian naive bayes\n",
    "from sklearn.naive_bayes import GaussianNB\n",
    "model = GaussianNB()\n",
    "model.fit(X_train, y_train)\n",
    "y_pred_train = model.predict(X_train)\n",
    "y_pred_test = model.predict(X_test)\n",
    "print(\"Gaussian naive bayes:\", accuracy_score(y_train, y_pred_train), accuracy_score(y_test, y_pred_test))\n",
    "\n",
    "# K nearest neighbor\n",
    "from sklearn.neighbors import KNeighborsClassifier\n",
    "model = KNeighborsClassifier()\n",
    "model.fit(X_train, y_train)\n",
    "y_pred_train = model.predict(X_train)\n",
    "y_pred_test = model.predict(X_test)\n",
    "print(\"K nearest neighbor:\", accuracy_score(y_train, y_pred_train), accuracy_score(y_test, y_pred_test))\n",
    "\n",
    "# Random Forest\n",
    "from sklearn.ensemble import RandomForestClassifier\n",
    "model = RandomForestClassifier()\n",
    "model.fit(X_train, y_train)\n",
    "y_pred_train = model.predict(X_train)\n",
    "y_pred_test = model.predict(X_test)\n",
    "print(\"Random forest:\", accuracy_score(y_train, y_pred_train), accuracy_score(y_test, y_pred_test))\n",
    "\n",
    "# Gradient boosting\n",
    "from sklearn.ensemble import GradientBoostingClassifier\n",
    "model = GradientBoostingClassifier()\n",
    "model.fit(X_train, y_train)\n",
    "y_pred_train = model.predict(X_train)\n",
    "y_pred_test = model.predict(X_test)\n",
    "print(\"Gradient boosing:\", accuracy_score(y_train, y_pred_train), accuracy_score(y_test, y_pred_test))\n",
    "\n",
    "# Neural network\n",
    "from sklearn.neural_network import MLPClassifier\n",
    "model = MLPClassifier(max_iter=1000)\n",
    "model.fit(X_train, y_train)\n",
    "y_pred_train = model.predict(X_train)\n",
    "y_pred_test = model.predict(X_test)\n",
    "print(\"Neural network:\", accuracy_score(y_train, y_pred_train), accuracy_score(y_test, y_pred_test))\n",
    "\n",
    "# AdaBoost\n",
    "from sklearn.ensemble import AdaBoostClassifier\n",
    "from sklearn.metrics import accuracy_score\n",
    "\n",
    "clf = AdaBoostClassifier(n_estimators=500, \n",
    "                        random_state=10, \n",
    "                        learning_rate=0.1)\n",
    "clf.fit(X_train, y_train)\n",
    "pred = clf.predict(X_test)\n",
    "print('AdaBoost 정확도: {:.4f}'.format(accuracy_score(y_test, pred)))"
   ]
  },
  {
   "cell_type": "markdown",
   "id": "3bd05748",
   "metadata": {},
   "source": [
    "# X splitting method"
   ]
  },
  {
   "cell_type": "markdown",
   "id": "eeface3c",
   "metadata": {},
   "source": [
    "## X : (7799, 10, 4069) -> (7727, 10, 4069)"
   ]
  },
  {
   "cell_type": "code",
   "execution_count": 120,
   "id": "8981f479",
   "metadata": {
    "scrolled": false
   },
   "outputs": [
    {
     "data": {
      "text/html": [
       "<div>\n",
       "<style scoped>\n",
       "    .dataframe tbody tr th:only-of-type {\n",
       "        vertical-align: middle;\n",
       "    }\n",
       "\n",
       "    .dataframe tbody tr th {\n",
       "        vertical-align: top;\n",
       "    }\n",
       "\n",
       "    .dataframe thead th {\n",
       "        text-align: right;\n",
       "    }\n",
       "</style>\n",
       "<table border=\"1\" class=\"dataframe\">\n",
       "  <thead>\n",
       "    <tr style=\"text-align: right;\">\n",
       "      <th></th>\n",
       "      <th>subid</th>\n",
       "      <th>value</th>\n",
       "    </tr>\n",
       "  </thead>\n",
       "  <tbody>\n",
       "    <tr>\n",
       "      <th>0</th>\n",
       "      <td>0</td>\n",
       "      <td>1.0</td>\n",
       "    </tr>\n",
       "    <tr>\n",
       "      <th>1</th>\n",
       "      <td>1</td>\n",
       "      <td>1.0</td>\n",
       "    </tr>\n",
       "    <tr>\n",
       "      <th>2</th>\n",
       "      <td>2</td>\n",
       "      <td>1.0</td>\n",
       "    </tr>\n",
       "    <tr>\n",
       "      <th>3</th>\n",
       "      <td>3</td>\n",
       "      <td>1.0</td>\n",
       "    </tr>\n",
       "    <tr>\n",
       "      <th>4</th>\n",
       "      <td>4</td>\n",
       "      <td>1.0</td>\n",
       "    </tr>\n",
       "    <tr>\n",
       "      <th>...</th>\n",
       "      <td>...</td>\n",
       "      <td>...</td>\n",
       "    </tr>\n",
       "    <tr>\n",
       "      <th>7794</th>\n",
       "      <td>7794</td>\n",
       "      <td>1.0</td>\n",
       "    </tr>\n",
       "    <tr>\n",
       "      <th>7795</th>\n",
       "      <td>7795</td>\n",
       "      <td>1.0</td>\n",
       "    </tr>\n",
       "    <tr>\n",
       "      <th>7796</th>\n",
       "      <td>7796</td>\n",
       "      <td>1.0</td>\n",
       "    </tr>\n",
       "    <tr>\n",
       "      <th>7797</th>\n",
       "      <td>7797</td>\n",
       "      <td>1.0</td>\n",
       "    </tr>\n",
       "    <tr>\n",
       "      <th>7798</th>\n",
       "      <td>7798</td>\n",
       "      <td>1.0</td>\n",
       "    </tr>\n",
       "  </tbody>\n",
       "</table>\n",
       "<p>7799 rows × 2 columns</p>\n",
       "</div>"
      ],
      "text/plain": [
       "      subid  value\n",
       "0         0    1.0\n",
       "1         1    1.0\n",
       "2         2    1.0\n",
       "3         3    1.0\n",
       "4         4    1.0\n",
       "...     ...    ...\n",
       "7794   7794    1.0\n",
       "7795   7795    1.0\n",
       "7796   7796    1.0\n",
       "7797   7797    1.0\n",
       "7798   7798    1.0\n",
       "\n",
       "[7799 rows x 2 columns]"
      ]
     },
     "execution_count": 120,
     "metadata": {},
     "output_type": "execute_result"
    }
   ],
   "source": [
    "x = np.load('./x_(7799,10,4069).npy')\n",
    "y = np.load('./y_(7799,1).npy')\n",
    "\n",
    "sub_sum = x.sum(axis=1).sum(axis=1)\n",
    "sub_sum[sub_sum>1] = 1\n",
    "sub_sum = pd.DataFrame(sub_sum)\n",
    "sub_sum = sub_sum.reset_index()\n",
    "sub_sum.columns = ['subid','value']\n",
    "sub_sum"
   ]
  },
  {
   "cell_type": "code",
   "execution_count": 121,
   "id": "1f5a362f",
   "metadata": {},
   "outputs": [
    {
     "data": {
      "text/plain": [
       "Int64Index([  13,  125,  345,  631,  655,  746,  850,  901, 1003, 1063, 1110,\n",
       "            1265, 1453, 1608, 1672, 1713, 1756, 2060, 2122, 2365, 2443, 2475,\n",
       "            2587, 2603, 2740, 2787, 2853, 3226, 3308, 3464, 3570, 3637, 3687,\n",
       "            3756, 3793, 3915, 4044, 4093, 4260, 4405, 4503, 4533, 4614, 4689,\n",
       "            4899, 4961, 5140, 5169, 5235, 5338, 5373, 5473, 5558, 5630, 5722,\n",
       "            5886, 6006, 6014, 6036, 6046, 6318, 6385, 6519, 6761, 6781, 6923,\n",
       "            7288, 7388, 7515, 7527, 7593, 7755],\n",
       "           dtype='int64')"
      ]
     },
     "execution_count": 121,
     "metadata": {},
     "output_type": "execute_result"
    }
   ],
   "source": [
    "zero_index = sub_sum[sub_sum['value']==0].index\n",
    "zero_index"
   ]
  },
  {
   "cell_type": "code",
   "execution_count": 123,
   "id": "8766cbb8",
   "metadata": {
    "scrolled": true
   },
   "outputs": [
    {
     "data": {
      "text/plain": [
       "1    57\n",
       "0    15\n",
       "Name: 0, dtype: int64"
      ]
     },
     "execution_count": 123,
     "metadata": {},
     "output_type": "execute_result"
    }
   ],
   "source": [
    "y_df = pd.DataFrame(y).reset_index()\n",
    "y_df.loc[zero_index][0].value_counts()"
   ]
  },
  {
   "cell_type": "code",
   "execution_count": 124,
   "id": "08a0e000",
   "metadata": {},
   "outputs": [
    {
     "data": {
      "text/plain": [
       "261.9210155148096"
      ]
     },
     "execution_count": 124,
     "metadata": {},
     "output_type": "execute_result"
    },
    {
     "data": {
      "text/plain": [
       "875.0"
      ]
     },
     "execution_count": 124,
     "metadata": {},
     "output_type": "execute_result"
    },
    {
     "data": {
      "text/plain": [
       "0.0"
      ]
     },
     "execution_count": 124,
     "metadata": {},
     "output_type": "execute_result"
    }
   ],
   "source": [
    "# 2이상인 sum을 1로 안바꿨을때 (subid별 itemid의 합을 온전히 보기 위함)\n",
    "x = np.load('./x_(7799,10,4069).npy')\n",
    "y = np.load('./y_(7799,1).npy')\n",
    "\n",
    "sub_sum = x.sum(axis=1).sum(axis=1)\n",
    "sub_sum = pd.DataFrame(sub_sum)\n",
    "sub_sum = sub_sum.reset_index()\n",
    "sub_sum.columns = ['subid','sum']\n",
    "\n",
    "sub_sum['sum'].mean()\n",
    "sub_sum['sum'].max()\n",
    "sub_sum['sum'].min()"
   ]
  },
  {
   "cell_type": "code",
   "execution_count": 152,
   "id": "4218ff89",
   "metadata": {},
   "outputs": [
    {
     "data": {
      "text/html": [
       "<div>\n",
       "<style scoped>\n",
       "    .dataframe tbody tr th:only-of-type {\n",
       "        vertical-align: middle;\n",
       "    }\n",
       "\n",
       "    .dataframe tbody tr th {\n",
       "        vertical-align: top;\n",
       "    }\n",
       "\n",
       "    .dataframe thead th {\n",
       "        text-align: right;\n",
       "    }\n",
       "</style>\n",
       "<table border=\"1\" class=\"dataframe\">\n",
       "  <thead>\n",
       "    <tr style=\"text-align: right;\">\n",
       "      <th></th>\n",
       "      <th>subid</th>\n",
       "      <th>sum</th>\n",
       "    </tr>\n",
       "  </thead>\n",
       "  <tbody>\n",
       "    <tr>\n",
       "      <th>0</th>\n",
       "      <td>0</td>\n",
       "      <td>161.0</td>\n",
       "    </tr>\n",
       "    <tr>\n",
       "      <th>1</th>\n",
       "      <td>1</td>\n",
       "      <td>341.0</td>\n",
       "    </tr>\n",
       "    <tr>\n",
       "      <th>2</th>\n",
       "      <td>2</td>\n",
       "      <td>273.0</td>\n",
       "    </tr>\n",
       "    <tr>\n",
       "      <th>3</th>\n",
       "      <td>3</td>\n",
       "      <td>370.0</td>\n",
       "    </tr>\n",
       "    <tr>\n",
       "      <th>4</th>\n",
       "      <td>4</td>\n",
       "      <td>180.0</td>\n",
       "    </tr>\n",
       "    <tr>\n",
       "      <th>...</th>\n",
       "      <td>...</td>\n",
       "      <td>...</td>\n",
       "    </tr>\n",
       "    <tr>\n",
       "      <th>7794</th>\n",
       "      <td>7794</td>\n",
       "      <td>370.0</td>\n",
       "    </tr>\n",
       "    <tr>\n",
       "      <th>7795</th>\n",
       "      <td>7795</td>\n",
       "      <td>173.0</td>\n",
       "    </tr>\n",
       "    <tr>\n",
       "      <th>7796</th>\n",
       "      <td>7796</td>\n",
       "      <td>233.0</td>\n",
       "    </tr>\n",
       "    <tr>\n",
       "      <th>7797</th>\n",
       "      <td>7797</td>\n",
       "      <td>205.0</td>\n",
       "    </tr>\n",
       "    <tr>\n",
       "      <th>7798</th>\n",
       "      <td>7798</td>\n",
       "      <td>442.0</td>\n",
       "    </tr>\n",
       "  </tbody>\n",
       "</table>\n",
       "<p>7799 rows × 2 columns</p>\n",
       "</div>"
      ],
      "text/plain": [
       "      subid    sum\n",
       "0         0  161.0\n",
       "1         1  341.0\n",
       "2         2  273.0\n",
       "3         3  370.0\n",
       "4         4  180.0\n",
       "...     ...    ...\n",
       "7794   7794  370.0\n",
       "7795   7795  173.0\n",
       "7796   7796  233.0\n",
       "7797   7797  205.0\n",
       "7798   7798  442.0\n",
       "\n",
       "[7799 rows x 2 columns]"
      ]
     },
     "execution_count": 152,
     "metadata": {},
     "output_type": "execute_result"
    }
   ],
   "source": [
    "sub_sum"
   ]
  },
  {
   "cell_type": "code",
   "execution_count": 155,
   "id": "e2b0aaf1",
   "metadata": {},
   "outputs": [
    {
     "data": {
      "text/plain": [
       "<AxesSubplot:ylabel='Count'>"
      ]
     },
     "execution_count": 155,
     "metadata": {},
     "output_type": "execute_result"
    },
    {
     "data": {
      "image/png": "[encoded data removed]",
      "text/plain": [
       "<Figure size 432x288 with 1 Axes>"
      ]
     },
     "metadata": {},
     "output_type": "display_data"
    }
   ],
   "source": [
    "# 2이상인 sum을 1로 안바꿨을때 (subid별 itemid의 합을 온전히 보기 위함)\n",
    "sub_sum = pd.DataFrame(sub_sum['sum'])\n",
    "import seaborn as sns\n",
    "sns.histplot(data=sub_sum)"
   ]
  },
  {
   "cell_type": "code",
   "execution_count": 68,
   "id": "1094f0f2",
   "metadata": {},
   "outputs": [
    {
     "data": {
      "text/plain": [
       "(7727,)"
      ]
     },
     "execution_count": 68,
     "metadata": {},
     "output_type": "execute_result"
    }
   ],
   "source": [
    "real_index = set(range(7799))-set(zero_index)\n",
    "real_index = list(real_index)\n",
    "real_index = np.array(real_index)\n",
    "real_index.shape"
   ]
  },
  {
   "cell_type": "code",
   "execution_count": 78,
   "id": "42480eee",
   "metadata": {},
   "outputs": [
    {
     "data": {
      "text/plain": [
       "(7727, 10, 4069)"
      ]
     },
     "execution_count": 78,
     "metadata": {},
     "output_type": "execute_result"
    },
    {
     "data": {
      "text/plain": [
       "(7727,)"
      ]
     },
     "execution_count": 78,
     "metadata": {},
     "output_type": "execute_result"
    },
    {
     "data": {
      "text/plain": [
       "(7727, 4069)"
      ]
     },
     "execution_count": 78,
     "metadata": {},
     "output_type": "execute_result"
    }
   ],
   "source": [
    "x = np.load('./x_(7799,10,4069).npy')\n",
    "y = np.load('./y_(7799,1).npy')\n",
    "\n",
    "real_x = x[real_index,:,:]\n",
    "real_x.shape\n",
    "\n",
    "real_y = y[real_index]\n",
    "real_y.shape\n",
    "\n",
    "np.save('x_(7727,10,4069)', real_x)\n",
    "np.save('y_(7727,1)',real_y)\n",
    "\n",
    "real_x_2d = real_x.sum(axis=1\n",
    "real_x_2d.shape\n",
    "\n",
    "np.save('x_(7727,4069)', real_x_2d)"
   ]
  },
  {
   "cell_type": "markdown",
   "id": "8944feba",
   "metadata": {},
   "source": [
    "# X : (7727, 10, 4069) - LSTM"
   ]
  },
  {
   "cell_type": "markdown",
   "id": "40a9669e",
   "metadata": {},
   "source": [
    "## 220114 Fri Feedback"
   ]
  },
  {
   "cell_type": "markdown",
   "id": "590274bf",
   "metadata": {},
   "source": [
    "- regularization : 안정성\n",
    "- L1, L2 : cost에 대한 규제 \n",
    "- ★ seed 여러개 설정 : 최적화 (10가지 정도로 해보기 42~52)\n",
    "- dropout : 노드의 onoff 랜덤\n",
    "- batch normalization : \n",
    "- K-fold cross validation \n",
    "- plot 부드럽게... \n",
    "- ★ epoch, patience 충분히 크게 해서 적당한 곳 찾기 \n",
    "- 비시계열, voting과 비교 \n",
    "- model.summary() -> parameter 개수 근거?"
   ]
  },
  {
   "cell_type": "markdown",
   "id": "c3c4ce73",
   "metadata": {},
   "source": [
    "### data seed : 42 / model seed : 42\n",
    "- epoch = 500, patience = 30, 50, 80, 100, 150\n",
    "- epoch = 1000, patience = 200, 400, 600"
   ]
  },
  {
   "cell_type": "code",
   "execution_count": 8,
   "id": "7b53c998",
   "metadata": {
    "scrolled": true
   },
   "outputs": [
    {
     "name": "stderr",
     "output_type": "stream",
     "text": [
      "\r",
      "  0%|          | 0/3 [00:00<?, ?it/s]"
     ]
    },
    {
     "name": "stdout",
     "output_type": "stream",
     "text": [
      "Epoch 1/1000\n",
      "37/37 [==============================] - 9s 96ms/step - loss: 1.3006 - acc: 0.5089 - val_loss: 0.6670 - val_acc: 0.6177\n",
      "Epoch 2/1000\n",
      "37/37 [==============================] - 2s 61ms/step - loss: 0.9530 - acc: 0.5512 - val_loss: 0.6719 - val_acc: 0.6177\n",
      "Epoch 3/1000\n",
      "37/37 [==============================] - 2s 62ms/step - loss: 0.7605 - acc: 0.5361 - val_loss: 0.6616 - val_acc: 0.6177\n",
      "Epoch 4/1000\n",
      "37/37 [==============================] - 2s 62ms/step - loss: 0.7046 - acc: 0.5623 - val_loss: 0.6517 - val_acc: 0.6177\n",
      "Epoch 5/1000\n",
      "37/37 [==============================] - 2s 62ms/step - loss: 0.6935 - acc: 0.5996 - val_loss: 0.6171 - val_acc: 0.6177\n",
      "Epoch 6/1000\n",
      "37/37 [==============================] - 2s 61ms/step - loss: 0.6489 - acc: 0.6197 - val_loss: 0.5613 - val_acc: 0.7549\n",
      "Epoch 7/1000\n",
      "37/37 [==============================] - 2s 61ms/step - loss: 0.5793 - acc: 0.7240 - val_loss: 0.5058 - val_acc: 0.7730\n",
      "Epoch 8/1000\n",
      "37/37 [==============================] - 2s 61ms/step - loss: 0.6030 - acc: 0.7675 - val_loss: 0.6245 - val_acc: 0.6177\n",
      "Epoch 9/1000\n",
      "37/37 [==============================] - 2s 62ms/step - loss: 0.6394 - acc: 0.6991 - val_loss: 0.5313 - val_acc: 0.7626\n",
      "Epoch 10/1000\n",
      "37/37 [==============================] - 2s 61ms/step - loss: 0.5062 - acc: 0.7832 - val_loss: 0.5101 - val_acc: 0.7658\n",
      "Epoch 11/1000\n",
      "37/37 [==============================] - 2s 62ms/step - loss: 0.4802 - acc: 0.8219 - val_loss: 0.7636 - val_acc: 0.7613\n",
      "Epoch 12/1000\n",
      "37/37 [==============================] - 2s 61ms/step - loss: 0.5573 - acc: 0.7977 - val_loss: 0.5162 - val_acc: 0.7542\n",
      "Epoch 13/1000\n",
      "37/37 [==============================] - 2s 61ms/step - loss: 0.4479 - acc: 0.8406 - val_loss: 0.5503 - val_acc: 0.7807\n",
      "Epoch 14/1000\n",
      "37/37 [==============================] - 2s 62ms/step - loss: 0.4113 - acc: 0.8599 - val_loss: 0.9574 - val_acc: 0.7704\n",
      "Epoch 15/1000\n",
      "37/37 [==============================] - 2s 61ms/step - loss: 0.4676 - acc: 0.8655 - val_loss: 1.1032 - val_acc: 0.7749\n",
      "Epoch 16/1000\n",
      "37/37 [==============================] - 2s 61ms/step - loss: 0.4783 - acc: 0.8793 - val_loss: 1.0737 - val_acc: 0.7451\n",
      "Epoch 17/1000\n",
      "37/37 [==============================] - 2s 62ms/step - loss: 0.4773 - acc: 0.8554 - val_loss: 0.7432 - val_acc: 0.6953\n",
      "Epoch 18/1000\n",
      "37/37 [==============================] - 2s 61ms/step - loss: 0.5046 - acc: 0.7552 - val_loss: 1.0105 - val_acc: 0.7510\n",
      "Epoch 19/1000\n",
      "37/37 [==============================] - 2s 62ms/step - loss: 0.3729 - acc: 0.8822 - val_loss: 1.1242 - val_acc: 0.7697\n",
      "Epoch 20/1000\n",
      "37/37 [==============================] - 2s 61ms/step - loss: 0.4087 - acc: 0.8873 - val_loss: 0.8721 - val_acc: 0.7257\n",
      "Epoch 21/1000\n",
      "37/37 [==============================] - 2s 49ms/step - loss: 0.3717 - acc: 0.8810 - val_loss: 1.1940 - val_acc: 0.7574\n",
      "Epoch 22/1000\n",
      "37/37 [==============================] - 2s 46ms/step - loss: 0.3817 - acc: 0.9016 - val_loss: 1.4427 - val_acc: 0.7704\n",
      "Epoch 23/1000\n",
      "37/37 [==============================] - 2s 46ms/step - loss: 0.9163 - acc: 0.7590 - val_loss: 0.6662 - val_acc: 0.6177\n",
      "Epoch 24/1000\n",
      "37/37 [==============================] - 2s 45ms/step - loss: 0.5873 - acc: 0.6534 - val_loss: 0.6387 - val_acc: 0.6177\n",
      "Epoch 25/1000\n",
      "37/37 [==============================] - 2s 45ms/step - loss: 0.5312 - acc: 0.7025 - val_loss: 0.5871 - val_acc: 0.7206\n",
      "Epoch 26/1000\n",
      "37/37 [==============================] - 2s 45ms/step - loss: 0.5043 - acc: 0.7622 - val_loss: 0.7943 - val_acc: 0.7206\n",
      "Epoch 27/1000\n",
      "37/37 [==============================] - 2s 45ms/step - loss: 0.4806 - acc: 0.8022 - val_loss: 0.9253 - val_acc: 0.7193\n",
      "Epoch 28/1000\n",
      "37/37 [==============================] - 2s 46ms/step - loss: 0.4532 - acc: 0.8266 - val_loss: 1.0353 - val_acc: 0.7154\n",
      "Epoch 29/1000\n",
      "37/37 [==============================] - 2s 46ms/step - loss: 0.4228 - acc: 0.8471 - val_loss: 1.3081 - val_acc: 0.7238\n",
      "Epoch 30/1000\n",
      "37/37 [==============================] - 2s 45ms/step - loss: 0.4228 - acc: 0.8562 - val_loss: 1.3664 - val_acc: 0.7212\n",
      "Epoch 31/1000\n",
      "37/37 [==============================] - 2s 45ms/step - loss: 0.4082 - acc: 0.8763 - val_loss: 1.4298 - val_acc: 0.7212\n",
      "Epoch 32/1000\n",
      "37/37 [==============================] - 2s 45ms/step - loss: 0.3662 - acc: 0.8864 - val_loss: 1.5264 - val_acc: 0.7251\n",
      "Epoch 33/1000\n",
      "37/37 [==============================] - 2s 46ms/step - loss: 0.3584 - acc: 0.8927 - val_loss: 1.5891 - val_acc: 0.7251\n",
      "Epoch 34/1000\n",
      "37/37 [==============================] - 2s 45ms/step - loss: 0.3402 - acc: 0.8991 - val_loss: 1.6302 - val_acc: 0.7277\n",
      "Epoch 35/1000\n",
      "37/37 [==============================] - 2s 45ms/step - loss: 0.3344 - acc: 0.9107 - val_loss: 1.6453 - val_acc: 0.7335\n",
      "Epoch 36/1000\n",
      "37/37 [==============================] - 2s 46ms/step - loss: 0.3217 - acc: 0.9096 - val_loss: 1.6731 - val_acc: 0.7354\n",
      "Epoch 37/1000\n",
      "37/37 [==============================] - 2s 45ms/step - loss: 0.3066 - acc: 0.9177 - val_loss: 1.3954 - val_acc: 0.7257\n",
      "Epoch 38/1000\n",
      "37/37 [==============================] - 2s 45ms/step - loss: 0.3240 - acc: 0.9095 - val_loss: 1.4896 - val_acc: 0.7367\n",
      "Epoch 39/1000\n",
      "37/37 [==============================] - 2s 46ms/step - loss: 0.2882 - acc: 0.9211 - val_loss: 1.6191 - val_acc: 0.7406\n",
      "Epoch 40/1000\n",
      "37/37 [==============================] - 2s 45ms/step - loss: 0.2858 - acc: 0.9263 - val_loss: 1.7125 - val_acc: 0.7393\n",
      "Epoch 41/1000\n",
      "37/37 [==============================] - 2s 45ms/step - loss: 0.2792 - acc: 0.9309 - val_loss: 1.7118 - val_acc: 0.7426\n",
      "Epoch 42/1000\n",
      "37/37 [==============================] - 2s 45ms/step - loss: 0.2663 - acc: 0.9350 - val_loss: 1.8616 - val_acc: 0.7458\n",
      "Epoch 43/1000\n",
      "37/37 [==============================] - 2s 45ms/step - loss: 0.2710 - acc: 0.9379 - val_loss: 1.7395 - val_acc: 0.7490\n",
      "Epoch 44/1000\n",
      "37/37 [==============================] - 2s 45ms/step - loss: 0.2674 - acc: 0.9435 - val_loss: 1.7956 - val_acc: 0.7503\n",
      "Epoch 45/1000\n",
      "37/37 [==============================] - 2s 45ms/step - loss: 0.2642 - acc: 0.9358 - val_loss: 1.7912 - val_acc: 0.7451\n",
      "Epoch 46/1000\n",
      "37/37 [==============================] - 2s 45ms/step - loss: 0.2454 - acc: 0.9440 - val_loss: 1.8984 - val_acc: 0.7471\n",
      "Epoch 47/1000\n",
      "37/37 [==============================] - 2s 45ms/step - loss: 0.2423 - acc: 0.9471 - val_loss: 1.8953 - val_acc: 0.7490\n",
      "Epoch 48/1000\n",
      "37/37 [==============================] - 2s 46ms/step - loss: 0.2357 - acc: 0.9500 - val_loss: 1.8891 - val_acc: 0.7484\n",
      "Epoch 49/1000\n",
      "37/37 [==============================] - 2s 46ms/step - loss: 0.2313 - acc: 0.9548 - val_loss: 1.9684 - val_acc: 0.7490\n",
      "Epoch 50/1000\n",
      "37/37 [==============================] - 2s 46ms/step - loss: 0.2293 - acc: 0.9538 - val_loss: 2.0225 - val_acc: 0.7477\n",
      "Epoch 51/1000\n",
      "37/37 [==============================] - 2s 46ms/step - loss: 0.2192 - acc: 0.9590 - val_loss: 2.2245 - val_acc: 0.7400\n",
      "Epoch 52/1000\n",
      "37/37 [==============================] - 2s 46ms/step - loss: 0.2272 - acc: 0.9550 - val_loss: 1.8923 - val_acc: 0.7516\n",
      "Epoch 53/1000\n",
      "37/37 [==============================] - 2s 46ms/step - loss: 0.2486 - acc: 0.9590 - val_loss: 2.0427 - val_acc: 0.7432\n",
      "Epoch 54/1000\n",
      "37/37 [==============================] - 2s 46ms/step - loss: 0.2154 - acc: 0.9634 - val_loss: 2.0646 - val_acc: 0.7451\n",
      "Epoch 55/1000\n",
      "37/37 [==============================] - 2s 46ms/step - loss: 0.2195 - acc: 0.9656 - val_loss: 2.1954 - val_acc: 0.7380\n",
      "Epoch 56/1000\n",
      "37/37 [==============================] - 2s 46ms/step - loss: 0.2315 - acc: 0.9420 - val_loss: 2.0486 - val_acc: 0.7335\n",
      "Epoch 57/1000\n",
      "37/37 [==============================] - 2s 46ms/step - loss: 0.2103 - acc: 0.9593 - val_loss: 1.9442 - val_acc: 0.7374\n",
      "Epoch 58/1000\n",
      "37/37 [==============================] - 2s 46ms/step - loss: 0.2142 - acc: 0.9620 - val_loss: 1.4504 - val_acc: 0.7464\n",
      "Epoch 59/1000\n",
      "37/37 [==============================] - 2s 46ms/step - loss: 0.3378 - acc: 0.9393 - val_loss: 1.7241 - val_acc: 0.7432\n",
      "Epoch 60/1000\n",
      "37/37 [==============================] - 2s 46ms/step - loss: 0.2902 - acc: 0.9479 - val_loss: 2.2480 - val_acc: 0.7083\n",
      "Epoch 61/1000\n",
      "37/37 [==============================] - 2s 46ms/step - loss: 0.3781 - acc: 0.9182 - val_loss: 1.9796 - val_acc: 0.7154\n",
      "Epoch 62/1000\n"
     ]
    },
    {
     "name": "stdout",
     "output_type": "stream",
     "text": [
      "37/37 [==============================] - 2s 45ms/step - loss: 0.2390 - acc: 0.9541 - val_loss: 1.9410 - val_acc: 0.7329\n",
      "Epoch 63/1000\n",
      "37/37 [==============================] - 2s 46ms/step - loss: 0.2046 - acc: 0.9624 - val_loss: 1.9908 - val_acc: 0.7354\n",
      "Epoch 64/1000\n",
      "37/37 [==============================] - 2s 46ms/step - loss: 0.2040 - acc: 0.9653 - val_loss: 2.0153 - val_acc: 0.7406\n",
      "Epoch 65/1000\n",
      "37/37 [==============================] - 2s 46ms/step - loss: 0.2245 - acc: 0.9659 - val_loss: 2.2085 - val_acc: 0.7354\n",
      "Epoch 66/1000\n",
      "37/37 [==============================] - 2s 46ms/step - loss: 0.1954 - acc: 0.9679 - val_loss: 1.8724 - val_acc: 0.7322\n",
      "Epoch 67/1000\n",
      "37/37 [==============================] - 2s 46ms/step - loss: 0.1645 - acc: 0.9689 - val_loss: 2.0977 - val_acc: 0.7419\n",
      "Epoch 68/1000\n",
      "37/37 [==============================] - 2s 46ms/step - loss: 0.2672 - acc: 0.9398 - val_loss: 1.7006 - val_acc: 0.7122\n",
      "Epoch 69/1000\n",
      "37/37 [==============================] - 2s 45ms/step - loss: 0.2115 - acc: 0.9477 - val_loss: 1.9088 - val_acc: 0.7290\n",
      "Epoch 70/1000\n",
      "37/37 [==============================] - 2s 46ms/step - loss: 0.1926 - acc: 0.9641 - val_loss: 1.8776 - val_acc: 0.7419\n",
      "Epoch 71/1000\n",
      "37/37 [==============================] - 2s 46ms/step - loss: 0.1685 - acc: 0.9688 - val_loss: 1.9004 - val_acc: 0.7387\n",
      "Epoch 72/1000\n",
      "37/37 [==============================] - 2s 46ms/step - loss: 0.1826 - acc: 0.9695 - val_loss: 1.9268 - val_acc: 0.7380\n",
      "Epoch 73/1000\n",
      "37/37 [==============================] - 2s 46ms/step - loss: 0.1686 - acc: 0.9710 - val_loss: 2.0377 - val_acc: 0.7393\n",
      "Epoch 74/1000\n",
      "37/37 [==============================] - 2s 45ms/step - loss: 0.1786 - acc: 0.9726 - val_loss: 2.0261 - val_acc: 0.7380\n",
      "Epoch 75/1000\n",
      "37/37 [==============================] - 2s 46ms/step - loss: 0.2257 - acc: 0.9596 - val_loss: 2.0702 - val_acc: 0.7303\n",
      "Epoch 76/1000\n",
      "37/37 [==============================] - 2s 46ms/step - loss: 0.2189 - acc: 0.9654 - val_loss: 1.8508 - val_acc: 0.7329\n",
      "Epoch 77/1000\n",
      "37/37 [==============================] - 2s 46ms/step - loss: 0.1686 - acc: 0.9718 - val_loss: 1.8456 - val_acc: 0.7380\n",
      "Epoch 78/1000\n",
      "37/37 [==============================] - 2s 46ms/step - loss: 0.1630 - acc: 0.9738 - val_loss: 1.8977 - val_acc: 0.7406\n",
      "Epoch 79/1000\n",
      "37/37 [==============================] - 2s 46ms/step - loss: 0.1534 - acc: 0.9749 - val_loss: 1.9582 - val_acc: 0.7419\n",
      "Epoch 80/1000\n",
      "37/37 [==============================] - 2s 46ms/step - loss: 0.1736 - acc: 0.9779 - val_loss: 2.2901 - val_acc: 0.7296\n",
      "Epoch 81/1000\n",
      "37/37 [==============================] - 2s 46ms/step - loss: 0.1794 - acc: 0.9685 - val_loss: 2.4663 - val_acc: 0.7400\n",
      "Epoch 82/1000\n",
      "37/37 [==============================] - 2s 46ms/step - loss: 0.1574 - acc: 0.9749 - val_loss: 2.4688 - val_acc: 0.7374\n",
      "Epoch 83/1000\n",
      "37/37 [==============================] - 2s 46ms/step - loss: 0.1662 - acc: 0.9776 - val_loss: 2.6547 - val_acc: 0.7348\n",
      "Epoch 84/1000\n",
      "37/37 [==============================] - 2s 46ms/step - loss: 0.1649 - acc: 0.9773 - val_loss: 2.5724 - val_acc: 0.7413\n",
      "Epoch 85/1000\n",
      "37/37 [==============================] - 2s 46ms/step - loss: 0.3940 - acc: 0.9382 - val_loss: 1.0506 - val_acc: 0.6772\n",
      "Epoch 86/1000\n",
      "37/37 [==============================] - 2s 45ms/step - loss: 0.4038 - acc: 0.8767 - val_loss: 1.3000 - val_acc: 0.7471\n",
      "Epoch 87/1000\n",
      "37/37 [==============================] - 2s 46ms/step - loss: 0.2643 - acc: 0.9456 - val_loss: 1.6371 - val_acc: 0.7322\n",
      "Epoch 88/1000\n",
      "37/37 [==============================] - 2s 46ms/step - loss: 0.2116 - acc: 0.9646 - val_loss: 1.7317 - val_acc: 0.7393\n",
      "Epoch 89/1000\n",
      "37/37 [==============================] - 2s 46ms/step - loss: 0.1818 - acc: 0.9707 - val_loss: 1.7919 - val_acc: 0.7464\n",
      "Epoch 90/1000\n",
      "37/37 [==============================] - 2s 46ms/step - loss: 0.1626 - acc: 0.9740 - val_loss: 1.8409 - val_acc: 0.7451\n",
      "Epoch 91/1000\n",
      "37/37 [==============================] - 2s 45ms/step - loss: 0.1407 - acc: 0.9752 - val_loss: 1.9502 - val_acc: 0.7484\n",
      "Epoch 92/1000\n",
      "37/37 [==============================] - 2s 45ms/step - loss: 0.1445 - acc: 0.9789 - val_loss: 1.9730 - val_acc: 0.7451\n",
      "Epoch 93/1000\n",
      "37/37 [==============================] - 2s 45ms/step - loss: 0.1269 - acc: 0.9797 - val_loss: 2.2407 - val_acc: 0.7432\n",
      "Epoch 94/1000\n",
      "37/37 [==============================] - 2s 46ms/step - loss: 0.6542 - acc: 0.8933 - val_loss: 0.5882 - val_acc: 0.6850\n",
      "Epoch 95/1000\n",
      "37/37 [==============================] - 2s 46ms/step - loss: 0.3390 - acc: 0.8852 - val_loss: 1.3744 - val_acc: 0.7238\n",
      "Epoch 96/1000\n",
      "37/37 [==============================] - 2s 46ms/step - loss: 0.2831 - acc: 0.9361 - val_loss: 1.3545 - val_acc: 0.7147\n",
      "Epoch 97/1000\n",
      "37/37 [==============================] - 2s 45ms/step - loss: 0.2359 - acc: 0.9524 - val_loss: 1.7116 - val_acc: 0.7206\n",
      "Epoch 98/1000\n",
      "37/37 [==============================] - 2s 45ms/step - loss: 0.2178 - acc: 0.9617 - val_loss: 1.7608 - val_acc: 0.7251\n",
      "Epoch 99/1000\n",
      "37/37 [==============================] - 2s 46ms/step - loss: 0.1988 - acc: 0.9643 - val_loss: 1.8219 - val_acc: 0.7277\n",
      "Epoch 100/1000\n",
      "37/37 [==============================] - 2s 46ms/step - loss: 0.1828 - acc: 0.9679 - val_loss: 1.8428 - val_acc: 0.7277\n",
      "Epoch 101/1000\n",
      "37/37 [==============================] - 2s 46ms/step - loss: 0.1695 - acc: 0.9730 - val_loss: 1.8616 - val_acc: 0.7309\n",
      "Epoch 102/1000\n",
      "37/37 [==============================] - 2s 46ms/step - loss: 0.1587 - acc: 0.9721 - val_loss: 1.9012 - val_acc: 0.7329\n",
      "Epoch 103/1000\n",
      "37/37 [==============================] - 2s 46ms/step - loss: 0.1433 - acc: 0.9740 - val_loss: 1.9087 - val_acc: 0.7374\n",
      "Epoch 104/1000\n",
      "37/37 [==============================] - 2s 46ms/step - loss: 0.1420 - acc: 0.9770 - val_loss: 1.9416 - val_acc: 0.7374\n",
      "Epoch 105/1000\n",
      "37/37 [==============================] - 2s 46ms/step - loss: 0.1314 - acc: 0.9770 - val_loss: 1.8163 - val_acc: 0.7374\n",
      "Epoch 106/1000\n",
      "37/37 [==============================] - 2s 46ms/step - loss: 0.1360 - acc: 0.9731 - val_loss: 2.0052 - val_acc: 0.7393\n",
      "Epoch 107/1000\n",
      "37/37 [==============================] - 2s 46ms/step - loss: 0.1343 - acc: 0.9776 - val_loss: 1.9407 - val_acc: 0.7380\n",
      "Epoch 108/1000\n",
      "37/37 [==============================] - 2s 46ms/step - loss: 0.1267 - acc: 0.9769 - val_loss: 2.0072 - val_acc: 0.7400\n",
      "Epoch 109/1000\n",
      "37/37 [==============================] - 2s 46ms/step - loss: 0.1325 - acc: 0.9780 - val_loss: 2.0572 - val_acc: 0.7400\n",
      "Epoch 110/1000\n",
      "37/37 [==============================] - 2s 46ms/step - loss: 0.1300 - acc: 0.9785 - val_loss: 2.7011 - val_acc: 0.6798\n",
      "Epoch 111/1000\n",
      "37/37 [==============================] - 2s 46ms/step - loss: 0.3919 - acc: 0.8831 - val_loss: 2.0187 - val_acc: 0.7083\n",
      "Epoch 112/1000\n",
      "37/37 [==============================] - 2s 46ms/step - loss: 0.1736 - acc: 0.9569 - val_loss: 2.0986 - val_acc: 0.7251\n",
      "Epoch 113/1000\n",
      "37/37 [==============================] - 2s 46ms/step - loss: 0.1574 - acc: 0.9717 - val_loss: 2.0899 - val_acc: 0.7316\n",
      "Epoch 114/1000\n",
      "37/37 [==============================] - 2s 46ms/step - loss: 0.1282 - acc: 0.9760 - val_loss: 2.0970 - val_acc: 0.7361\n",
      "Epoch 115/1000\n",
      "37/37 [==============================] - 2s 46ms/step - loss: 0.1275 - acc: 0.9771 - val_loss: 2.0785 - val_acc: 0.7400\n",
      "Epoch 116/1000\n",
      "37/37 [==============================] - 2s 46ms/step - loss: 0.1204 - acc: 0.9778 - val_loss: 2.2607 - val_acc: 0.7380\n",
      "Epoch 117/1000\n",
      "37/37 [==============================] - 2s 46ms/step - loss: 0.1383 - acc: 0.9707 - val_loss: 2.4836 - val_acc: 0.7135\n",
      "Epoch 118/1000\n",
      "37/37 [==============================] - 2s 46ms/step - loss: 0.1453 - acc: 0.9710 - val_loss: 2.3113 - val_acc: 0.7309\n",
      "Epoch 119/1000\n",
      "37/37 [==============================] - 2s 46ms/step - loss: 0.1240 - acc: 0.9765 - val_loss: 2.4192 - val_acc: 0.7335\n",
      "Epoch 120/1000\n",
      "37/37 [==============================] - 2s 46ms/step - loss: 0.1209 - acc: 0.9798 - val_loss: 2.5932 - val_acc: 0.7342\n",
      "Epoch 121/1000\n",
      "37/37 [==============================] - 2s 46ms/step - loss: 0.1278 - acc: 0.9784 - val_loss: 2.6882 - val_acc: 0.7342\n",
      "Epoch 122/1000\n",
      "37/37 [==============================] - 2s 46ms/step - loss: 0.1168 - acc: 0.9793 - val_loss: 2.6490 - val_acc: 0.7329\n",
      "Epoch 123/1000\n"
     ]
    },
    {
     "name": "stdout",
     "output_type": "stream",
     "text": [
      "37/37 [==============================] - 2s 46ms/step - loss: 0.4973 - acc: 0.9433 - val_loss: 5.9896 - val_acc: 0.4955\n",
      "Epoch 124/1000\n",
      "37/37 [==============================] - 2s 46ms/step - loss: 2.0385 - acc: 0.6215 - val_loss: 0.8840 - val_acc: 0.6701\n",
      "Epoch 125/1000\n",
      "37/37 [==============================] - 2s 46ms/step - loss: 0.4673 - acc: 0.8406 - val_loss: 1.3073 - val_acc: 0.6805\n",
      "Epoch 126/1000\n",
      "37/37 [==============================] - 2s 46ms/step - loss: 0.4325 - acc: 0.8658 - val_loss: 1.3768 - val_acc: 0.6843\n",
      "Epoch 127/1000\n",
      "37/37 [==============================] - 2s 46ms/step - loss: 0.3850 - acc: 0.8710 - val_loss: 1.3811 - val_acc: 0.6779\n",
      "Epoch 128/1000\n",
      "37/37 [==============================] - 2s 46ms/step - loss: 0.3470 - acc: 0.8927 - val_loss: 1.5615 - val_acc: 0.6876\n",
      "Epoch 129/1000\n",
      "37/37 [==============================] - 2s 46ms/step - loss: 0.3214 - acc: 0.9008 - val_loss: 0.8789 - val_acc: 0.6734\n",
      "Epoch 130/1000\n",
      "37/37 [==============================] - 2s 46ms/step - loss: 0.3558 - acc: 0.8730 - val_loss: 0.6520 - val_acc: 0.6708\n",
      "Epoch 131/1000\n",
      "37/37 [==============================] - 2s 46ms/step - loss: 0.3641 - acc: 0.8642 - val_loss: 1.1997 - val_acc: 0.6837\n",
      "Epoch 132/1000\n",
      "37/37 [==============================] - 2s 46ms/step - loss: 0.3240 - acc: 0.9013 - val_loss: 1.5369 - val_acc: 0.6902\n",
      "Epoch 133/1000\n",
      "37/37 [==============================] - 2s 46ms/step - loss: 0.3119 - acc: 0.9127 - val_loss: 1.6367 - val_acc: 0.6889\n",
      "Epoch 134/1000\n",
      "37/37 [==============================] - 2s 46ms/step - loss: 0.2791 - acc: 0.9220 - val_loss: 1.7491 - val_acc: 0.6915\n",
      "Epoch 135/1000\n",
      "37/37 [==============================] - 2s 46ms/step - loss: 0.2751 - acc: 0.9250 - val_loss: 1.7312 - val_acc: 0.6902\n",
      "Epoch 136/1000\n",
      "37/37 [==============================] - 2s 46ms/step - loss: 0.2536 - acc: 0.9338 - val_loss: 1.8297 - val_acc: 0.6934\n",
      "Epoch 137/1000\n",
      "37/37 [==============================] - 2s 46ms/step - loss: 0.2467 - acc: 0.9363 - val_loss: 1.8966 - val_acc: 0.6934\n",
      "Epoch 138/1000\n",
      "37/37 [==============================] - 2s 46ms/step - loss: 0.2457 - acc: 0.9363 - val_loss: 1.9133 - val_acc: 0.6979\n",
      "Epoch 139/1000\n",
      "37/37 [==============================] - 2s 46ms/step - loss: 0.2351 - acc: 0.9419 - val_loss: 1.9262 - val_acc: 0.6986\n",
      "Epoch 140/1000\n",
      "37/37 [==============================] - 2s 46ms/step - loss: 0.2237 - acc: 0.9434 - val_loss: 1.9319 - val_acc: 0.6979\n",
      "Epoch 141/1000\n",
      "37/37 [==============================] - 2s 46ms/step - loss: 0.2134 - acc: 0.9444 - val_loss: 1.9450 - val_acc: 0.7005\n",
      "Epoch 142/1000\n",
      "37/37 [==============================] - 2s 46ms/step - loss: 0.2088 - acc: 0.9461 - val_loss: 1.9501 - val_acc: 0.7025\n",
      "Epoch 143/1000\n",
      "37/37 [==============================] - 2s 46ms/step - loss: 0.1965 - acc: 0.9528 - val_loss: 1.9747 - val_acc: 0.7044\n",
      "Epoch 144/1000\n",
      "37/37 [==============================] - 2s 46ms/step - loss: 0.1883 - acc: 0.9527 - val_loss: 1.9403 - val_acc: 0.7050\n",
      "Epoch 145/1000\n",
      "37/37 [==============================] - 2s 45ms/step - loss: 0.1813 - acc: 0.9561 - val_loss: 1.9991 - val_acc: 0.7070\n",
      "Epoch 146/1000\n",
      "37/37 [==============================] - 2s 46ms/step - loss: 0.1678 - acc: 0.9610 - val_loss: 2.0014 - val_acc: 0.7109\n",
      "Epoch 147/1000\n",
      "37/37 [==============================] - 2s 46ms/step - loss: 0.1593 - acc: 0.9622 - val_loss: 2.0405 - val_acc: 0.7160\n",
      "Epoch 148/1000\n",
      "37/37 [==============================] - 2s 46ms/step - loss: 0.1434 - acc: 0.9690 - val_loss: 2.0489 - val_acc: 0.7264\n",
      "Epoch 149/1000\n",
      "37/37 [==============================] - 2s 46ms/step - loss: 0.1349 - acc: 0.9691 - val_loss: 2.0672 - val_acc: 0.7309\n",
      "Epoch 150/1000\n",
      "37/37 [==============================] - 2s 46ms/step - loss: 0.1362 - acc: 0.9712 - val_loss: 2.0926 - val_acc: 0.7374\n",
      "Epoch 151/1000\n",
      "37/37 [==============================] - 2s 46ms/step - loss: 0.1345 - acc: 0.9712 - val_loss: 2.1291 - val_acc: 0.7413\n",
      "Epoch 152/1000\n",
      "37/37 [==============================] - 2s 45ms/step - loss: 0.1291 - acc: 0.9730 - val_loss: 2.1832 - val_acc: 0.7406\n",
      "Epoch 153/1000\n",
      "37/37 [==============================] - 2s 46ms/step - loss: 0.1311 - acc: 0.9748 - val_loss: 2.6159 - val_acc: 0.7419\n",
      "Epoch 154/1000\n",
      "37/37 [==============================] - 2s 46ms/step - loss: 0.1330 - acc: 0.9775 - val_loss: 2.7750 - val_acc: 0.7426\n",
      "Epoch 155/1000\n",
      "37/37 [==============================] - 2s 46ms/step - loss: 0.1230 - acc: 0.9726 - val_loss: 2.8246 - val_acc: 0.7380\n",
      "Epoch 156/1000\n",
      "37/37 [==============================] - 2s 46ms/step - loss: 0.1208 - acc: 0.9759 - val_loss: 2.8913 - val_acc: 0.7296\n",
      "Epoch 157/1000\n",
      "37/37 [==============================] - 2s 46ms/step - loss: 0.1240 - acc: 0.9727 - val_loss: 2.9721 - val_acc: 0.7245\n",
      "Epoch 158/1000\n",
      "37/37 [==============================] - 2s 46ms/step - loss: 0.1349 - acc: 0.9699 - val_loss: 2.8349 - val_acc: 0.7361\n",
      "Epoch 159/1000\n",
      "37/37 [==============================] - 2s 46ms/step - loss: 0.1144 - acc: 0.9737 - val_loss: 2.9284 - val_acc: 0.7393\n",
      "Epoch 160/1000\n",
      "37/37 [==============================] - 2s 46ms/step - loss: 0.1133 - acc: 0.9786 - val_loss: 2.9426 - val_acc: 0.7426\n",
      "Epoch 161/1000\n",
      "37/37 [==============================] - 2s 46ms/step - loss: 0.1119 - acc: 0.9769 - val_loss: 3.0288 - val_acc: 0.7374\n",
      "Epoch 162/1000\n",
      "37/37 [==============================] - 2s 46ms/step - loss: 0.1137 - acc: 0.9778 - val_loss: 2.9838 - val_acc: 0.7354\n",
      "Epoch 163/1000\n",
      "37/37 [==============================] - 2s 46ms/step - loss: 0.1107 - acc: 0.9788 - val_loss: 2.9917 - val_acc: 0.7400\n",
      "Epoch 164/1000\n",
      "37/37 [==============================] - 2s 46ms/step - loss: 0.1070 - acc: 0.9796 - val_loss: 2.9779 - val_acc: 0.7413\n",
      "Epoch 165/1000\n",
      "37/37 [==============================] - 2s 46ms/step - loss: 0.1176 - acc: 0.9786 - val_loss: 2.9887 - val_acc: 0.7413\n",
      "Epoch 166/1000\n",
      "37/37 [==============================] - 2s 46ms/step - loss: 0.1138 - acc: 0.9792 - val_loss: 3.0478 - val_acc: 0.7413\n",
      "Epoch 167/1000\n",
      "37/37 [==============================] - 2s 46ms/step - loss: 0.1150 - acc: 0.9794 - val_loss: 3.0880 - val_acc: 0.7413\n",
      "Epoch 168/1000\n",
      "37/37 [==============================] - 2s 46ms/step - loss: 0.1127 - acc: 0.9796 - val_loss: 3.2200 - val_acc: 0.7186\n",
      "Epoch 169/1000\n",
      "37/37 [==============================] - 2s 46ms/step - loss: 0.1602 - acc: 0.9719 - val_loss: 2.9908 - val_acc: 0.7419\n",
      "Epoch 170/1000\n",
      "37/37 [==============================] - 2s 46ms/step - loss: 0.1124 - acc: 0.9791 - val_loss: 3.0484 - val_acc: 0.7387\n",
      "Epoch 171/1000\n",
      "37/37 [==============================] - 2s 46ms/step - loss: 0.1074 - acc: 0.9808 - val_loss: 3.0648 - val_acc: 0.7419\n",
      "Epoch 172/1000\n",
      "37/37 [==============================] - 2s 46ms/step - loss: 0.1122 - acc: 0.9789 - val_loss: 3.0880 - val_acc: 0.7419\n",
      "Epoch 173/1000\n",
      "37/37 [==============================] - 2s 46ms/step - loss: 0.1128 - acc: 0.9798 - val_loss: 3.0716 - val_acc: 0.7393\n",
      "Epoch 174/1000\n",
      "37/37 [==============================] - 2s 46ms/step - loss: 0.1078 - acc: 0.9819 - val_loss: 3.1054 - val_acc: 0.7426\n",
      "Epoch 175/1000\n",
      "37/37 [==============================] - 2s 46ms/step - loss: 0.1092 - acc: 0.9820 - val_loss: 3.1229 - val_acc: 0.7426\n",
      "Epoch 176/1000\n",
      "37/37 [==============================] - 2s 46ms/step - loss: 0.1138 - acc: 0.9787 - val_loss: 3.1189 - val_acc: 0.7426\n",
      "Epoch 177/1000\n",
      "37/37 [==============================] - 2s 46ms/step - loss: 0.1095 - acc: 0.9783 - val_loss: 3.1217 - val_acc: 0.7400\n",
      "Epoch 178/1000\n",
      "37/37 [==============================] - 2s 46ms/step - loss: 0.1118 - acc: 0.9820 - val_loss: 3.1503 - val_acc: 0.7406\n",
      "Epoch 179/1000\n",
      "37/37 [==============================] - 2s 46ms/step - loss: 0.1234 - acc: 0.9846 - val_loss: 3.1666 - val_acc: 0.7426\n",
      "Epoch 180/1000\n",
      "37/37 [==============================] - 2s 46ms/step - loss: 0.1121 - acc: 0.9812 - val_loss: 3.1489 - val_acc: 0.7400\n",
      "Epoch 181/1000\n",
      "37/37 [==============================] - 2s 46ms/step - loss: 0.1057 - acc: 0.9817 - val_loss: 3.1522 - val_acc: 0.7393\n",
      "Epoch 182/1000\n",
      "37/37 [==============================] - 2s 46ms/step - loss: 0.1049 - acc: 0.9807 - val_loss: 3.1395 - val_acc: 0.7406\n",
      "Epoch 183/1000\n",
      "37/37 [==============================] - 2s 46ms/step - loss: 0.1067 - acc: 0.9809 - val_loss: 3.1629 - val_acc: 0.7367\n"
     ]
    },
    {
     "name": "stdout",
     "output_type": "stream",
     "text": [
      "Epoch 184/1000\n",
      "37/37 [==============================] - 2s 46ms/step - loss: 0.1052 - acc: 0.9834 - val_loss: 3.1274 - val_acc: 0.7380\n",
      "Epoch 185/1000\n",
      "37/37 [==============================] - 2s 46ms/step - loss: 0.1023 - acc: 0.9824 - val_loss: 3.1554 - val_acc: 0.7380\n",
      "Epoch 186/1000\n",
      "37/37 [==============================] - 2s 46ms/step - loss: 0.1041 - acc: 0.9824 - val_loss: 3.1925 - val_acc: 0.7400\n",
      "Epoch 187/1000\n",
      "37/37 [==============================] - 2s 46ms/step - loss: 0.1095 - acc: 0.9840 - val_loss: 3.2053 - val_acc: 0.7393\n",
      "Epoch 188/1000\n",
      "37/37 [==============================] - 2s 46ms/step - loss: 0.1054 - acc: 0.9829 - val_loss: 3.1643 - val_acc: 0.7367\n",
      "Epoch 189/1000\n",
      "37/37 [==============================] - 2s 46ms/step - loss: 0.1198 - acc: 0.9822 - val_loss: 3.1913 - val_acc: 0.7374\n",
      "Epoch 190/1000\n",
      "37/37 [==============================] - 2s 46ms/step - loss: 0.1411 - acc: 0.9791 - val_loss: 2.8671 - val_acc: 0.7102\n",
      "Epoch 191/1000\n",
      "37/37 [==============================] - 2s 46ms/step - loss: 0.1251 - acc: 0.9751 - val_loss: 2.6994 - val_acc: 0.7322\n",
      "Epoch 192/1000\n",
      "37/37 [==============================] - 2s 46ms/step - loss: 0.1104 - acc: 0.9803 - val_loss: 2.8535 - val_acc: 0.7400\n",
      "Epoch 193/1000\n",
      "37/37 [==============================] - 2s 46ms/step - loss: 0.1110 - acc: 0.9794 - val_loss: 3.0205 - val_acc: 0.7439\n",
      "Epoch 194/1000\n",
      "37/37 [==============================] - 2s 46ms/step - loss: 0.1073 - acc: 0.9789 - val_loss: 3.0872 - val_acc: 0.7432\n",
      "Epoch 195/1000\n",
      "37/37 [==============================] - 2s 46ms/step - loss: 0.1054 - acc: 0.9836 - val_loss: 3.1146 - val_acc: 0.7400\n",
      "Epoch 196/1000\n",
      "37/37 [==============================] - 2s 46ms/step - loss: 0.1069 - acc: 0.9853 - val_loss: 3.1478 - val_acc: 0.7439\n",
      "Epoch 197/1000\n",
      "37/37 [==============================] - 2s 45ms/step - loss: 0.1026 - acc: 0.9822 - val_loss: 3.1682 - val_acc: 0.7432\n",
      "Epoch 198/1000\n",
      "37/37 [==============================] - 2s 45ms/step - loss: 0.1027 - acc: 0.9825 - val_loss: 3.2130 - val_acc: 0.7387\n",
      "Epoch 199/1000\n",
      "37/37 [==============================] - 2s 45ms/step - loss: 0.1025 - acc: 0.9849 - val_loss: 3.2418 - val_acc: 0.7393\n",
      "Epoch 200/1000\n",
      "37/37 [==============================] - 2s 46ms/step - loss: 0.0987 - acc: 0.9866 - val_loss: 3.2696 - val_acc: 0.7296\n",
      "Epoch 201/1000\n",
      "37/37 [==============================] - 2s 46ms/step - loss: 0.2666 - acc: 0.9754 - val_loss: 3.0308 - val_acc: 0.7406\n",
      "Epoch 202/1000\n",
      "37/37 [==============================] - 2s 46ms/step - loss: 0.1063 - acc: 0.9834 - val_loss: 3.0730 - val_acc: 0.7387\n",
      "Epoch 203/1000\n",
      "37/37 [==============================] - 2s 46ms/step - loss: 0.1038 - acc: 0.9828 - val_loss: 3.1322 - val_acc: 0.7374\n",
      "Epoch 204/1000\n",
      "37/37 [==============================] - 2s 46ms/step - loss: 0.1036 - acc: 0.9835 - val_loss: 3.1535 - val_acc: 0.7367\n",
      "Epoch 205/1000\n",
      "37/37 [==============================] - 2s 46ms/step - loss: 0.1016 - acc: 0.9838 - val_loss: 2.7853 - val_acc: 0.7374\n",
      "Epoch 206/1000\n",
      "37/37 [==============================] - 2s 46ms/step - loss: 0.1125 - acc: 0.9837 - val_loss: 1.9733 - val_acc: 0.7393\n",
      "Epoch 207/1000\n",
      "37/37 [==============================] - 2s 46ms/step - loss: 0.1083 - acc: 0.9846 - val_loss: 2.8207 - val_acc: 0.7451\n",
      "Epoch 208/1000\n",
      "37/37 [==============================] - 2s 46ms/step - loss: 0.1004 - acc: 0.9850 - val_loss: 3.1633 - val_acc: 0.7374\n",
      "Epoch 209/1000\n",
      "37/37 [==============================] - 2s 46ms/step - loss: 0.0992 - acc: 0.9870 - val_loss: 3.2340 - val_acc: 0.7426\n",
      "Epoch 210/1000\n",
      "37/37 [==============================] - 2s 46ms/step - loss: 0.0975 - acc: 0.9864 - val_loss: 3.2571 - val_acc: 0.7426\n",
      "Epoch 211/1000\n",
      "37/37 [==============================] - 2s 45ms/step - loss: 0.0969 - acc: 0.9870 - val_loss: 3.2895 - val_acc: 0.7432\n",
      "Epoch 212/1000\n",
      "37/37 [==============================] - 2s 46ms/step - loss: 0.0938 - acc: 0.9865 - val_loss: 3.3148 - val_acc: 0.7270\n",
      "Epoch 213/1000\n",
      "37/37 [==============================] - 2s 46ms/step - loss: 0.2145 - acc: 0.9691 - val_loss: 2.9177 - val_acc: 0.7413\n",
      "Restoring model weights from the end of the best epoch.\n",
      "Epoch 00213: early stopping\n"
     ]
    },
    {
     "name": "stderr",
     "output_type": "stream",
     "text": [
      "\r",
      "  0%|          | 0/3 [06:20<?, ?it/s]"
     ]
    },
    {
     "name": "stdout",
     "output_type": "stream",
     "text": [
      "정확도 : 0.7631067961165049\n"
     ]
    },
    {
     "name": "stderr",
     "output_type": "stream",
     "text": [
      "\n"
     ]
    },
    {
     "ename": "NameError",
     "evalue": "name 'y_test' is not defined",
     "output_type": "error",
     "traceback": [
      "\u001b[0;31m---------------------------------------------------------------------------\u001b[0m",
      "\u001b[0;31mNameError\u001b[0m                                 Traceback (most recent call last)",
      "\u001b[0;32m<ipython-input-8-c4f0bb62c1ba>\u001b[0m in \u001b[0;36m<module>\u001b[0;34m\u001b[0m\n\u001b[1;32m     65\u001b[0m \u001b[0;32mfor\u001b[0m \u001b[0mi\u001b[0m \u001b[0;32min\u001b[0m \u001b[0mtqdm\u001b[0m\u001b[0;34m(\u001b[0m\u001b[0mpa_list\u001b[0m\u001b[0;34m)\u001b[0m\u001b[0;34m:\u001b[0m\u001b[0;34m\u001b[0m\u001b[0;34m\u001b[0m\u001b[0m\n\u001b[1;32m     66\u001b[0m     \u001b[0mpred\u001b[0m \u001b[0;34m=\u001b[0m \u001b[0mlstm2\u001b[0m\u001b[0;34m(\u001b[0m\u001b[0mi\u001b[0m\u001b[0;34m)\u001b[0m\u001b[0;34m\u001b[0m\u001b[0;34m\u001b[0m\u001b[0m\n\u001b[0;32m---> 67\u001b[0;31m     \u001b[0m정확도_list\u001b[0m\u001b[0;34m.\u001b[0m\u001b[0mappend\u001b[0m\u001b[0;34m(\u001b[0m\u001b[0mmetrics\u001b[0m\u001b[0;34m.\u001b[0m\u001b[0maccuracy_score\u001b[0m\u001b[0;34m(\u001b[0m\u001b[0my_test\u001b[0m\u001b[0;34m,\u001b[0m \u001b[0mpred\u001b[0m\u001b[0;34m)\u001b[0m\u001b[0;34m)\u001b[0m\u001b[0;34m\u001b[0m\u001b[0;34m\u001b[0m\u001b[0m\n\u001b[0m",
      "\u001b[0;31mNameError\u001b[0m: name 'y_test' is not defined"
     ]
    }
   ],
   "source": [
    "# pa_list = [30, 50, 80, 100, 150]\n",
    "pa_list = [200, 400, 600]\n",
    "정확도_list = []\n",
    "\n",
    "def lstm2(pa):\n",
    "    seed_num = 42\n",
    "    import random\n",
    "    random.seed(seed_num) # data shuffle할 때의 random seed \n",
    "\n",
    "    x = np.load('/project/LSH/x_(7727,10,4069).npy')\n",
    "    y = np.load('/project/LSH/y_(7727,1).npy')\n",
    "\n",
    "    idx = list(range(len(x)))\n",
    "    random.shuffle(idx)\n",
    "\n",
    "    i = round(x.shape[0]*0.8)\n",
    "    X_train, y_train = x[idx[:i],:,:], y[idx[:i]]\n",
    "    X_test, y_test = x[idx[i:],:,:], y[idx[i:]]\n",
    "\n",
    "\n",
    "    from keras.models import Sequential\n",
    "    from keras.layers import Dense\n",
    "    from keras.layers import LSTM\n",
    "    from keras.layers import Dropout\n",
    "    from keras.layers import InputLayer\n",
    "    import tensorflow as tf\n",
    "    \n",
    "    tf.random.set_seed(seed_num) # 초기 weight를 어떻게 줄 것인가 \n",
    "\n",
    "    lstm = Sequential()\n",
    "    lstm.add(InputLayer(input_shape=(X_train.shape[1],X_train.shape[2])))\n",
    "    lstm.add(LSTM(units=128, activation='sigmoid', return_sequences=True))\n",
    "    lstm.add(LSTM(units=64, activation='sigmoid', return_sequences=True))\n",
    "    lstm.add(Dropout(0.2))\n",
    "    lstm.add(LSTM(units=64, activation='sigmoid', return_sequences=True))\n",
    "    lstm.add(LSTM(units=32, activation='sigmoid', return_sequences=False))\n",
    "    lstm.add(Dropout(0.2))\n",
    "    lstm.add(Dense(units=1))\n",
    "#     lstm.summary()\n",
    "\n",
    "    import sklearn.metrics\n",
    "    from keras.callbacks import EarlyStopping\n",
    "\n",
    "    # -------- 수정할 부분 ---------\n",
    "    ep = 1000\n",
    "#     pa = 30\n",
    "    # -----------------------------\n",
    "\n",
    "    early_stop = EarlyStopping(monitor='val_acc', patience=pa, verbose=1, restore_best_weights=True)\n",
    "    lstm.compile(optimizer= \"adam\", loss = \"binary_crossentropy\", metrics=['acc'])\n",
    "    history = lstm.fit(X_train, y_train, validation_split=0.25, batch_size=128, epochs=ep,  callbacks=[early_stop], shuffle=False)\n",
    "\n",
    "    preds = lstm.predict(X_test)\n",
    "\n",
    "    preds[preds>0.5]=1\n",
    "    preds[preds<=0.5]=0\n",
    "\n",
    "#     from sklearn import metrics \n",
    "    print('정확도 :', metrics.accuracy_score(y_test, preds))\n",
    "    정확도_list.append(metrics.accuracy_score(y_test, pred))\n",
    "\n",
    "from tqdm import tqdm\n",
    "from sklearn import metrics \n",
    "\n",
    "for i in tqdm(pa_list):\n",
    "    pred = lstm2(i)\n"
   ]
  },
  {
   "cell_type": "code",
   "execution_count": null,
   "id": "e4062e01",
   "metadata": {},
   "outputs": [],
   "source": [
    "정확도_list"
   ]
  },
  {
   "cell_type": "code",
   "execution_count": 147,
   "id": "9c230d4f",
   "metadata": {},
   "outputs": [
    {
     "data": {
      "image/png": "[encoded data removed]",
      "text/plain": [
       "<Figure size 432x288 with 2 Axes>"
      ]
     },
     "metadata": {},
     "output_type": "display_data"
    }
   ],
   "source": [
    "import matplotlib.pyplot as plt\n",
    "\n",
    "fig, loss_ax = plt.subplots()\n",
    "\n",
    "acc_ax = loss_ax.twinx()\n",
    "\n",
    "_=loss_ax.plot(history.history['loss'], 'y', label='train loss')\n",
    "_=loss_ax.plot(history.history['val_loss'], 'r', label='val loss')\n",
    "\n",
    "_=acc_ax.plot(history.history['acc'], 'b', label='train acc')\n",
    "_=acc_ax.plot(history.history['val_acc'], 'g', label='val acc')\n",
    "\n",
    "_=loss_ax.set_xlabel('epoch')\n",
    "_=loss_ax.set_ylabel('loss')\n",
    "_=acc_ax.set_ylabel('accuracy')\n",
    "\n",
    "_=loss_ax.legend(loc='upper left')\n",
    "_=acc_ax.legend(loc='lower left')\n",
    "\n",
    "plt.show()"
   ]
  },
  {
   "cell_type": "code",
   "execution_count": null,
   "id": "98dc115d",
   "metadata": {
    "scrolled": true
   },
   "outputs": [
    {
     "name": "stderr",
     "output_type": "stream",
     "text": [
      "\r",
      "  0%|          | 0/3 [00:00<?, ?it/s]"
     ]
    },
    {
     "name": "stdout",
     "output_type": "stream",
     "text": [
      "Epoch 1/1000\n",
      "37/37 [==============================] - 6s 69ms/step - loss: 1.3006 - acc: 0.5089 - val_loss: 0.6670 - val_acc: 0.6177\n",
      "Epoch 2/1000\n",
      "37/37 [==============================] - 2s 45ms/step - loss: 0.9530 - acc: 0.5512 - val_loss: 0.6719 - val_acc: 0.6177\n",
      "Epoch 3/1000\n",
      "37/37 [==============================] - 2s 45ms/step - loss: 0.7605 - acc: 0.5361 - val_loss: 0.6616 - val_acc: 0.6177\n",
      "Epoch 4/1000\n",
      "37/37 [==============================] - 2s 46ms/step - loss: 0.7046 - acc: 0.5623 - val_loss: 0.6517 - val_acc: 0.6177\n",
      "Epoch 5/1000\n",
      "37/37 [==============================] - 2s 46ms/step - loss: 0.6935 - acc: 0.5996 - val_loss: 0.6171 - val_acc: 0.6177\n",
      "Epoch 6/1000\n",
      "37/37 [==============================] - 2s 45ms/step - loss: 0.6489 - acc: 0.6197 - val_loss: 0.5613 - val_acc: 0.7549\n",
      "Epoch 7/1000\n",
      "37/37 [==============================] - 2s 45ms/step - loss: 0.5793 - acc: 0.7240 - val_loss: 0.5058 - val_acc: 0.7730\n",
      "Epoch 8/1000\n",
      "37/37 [==============================] - 2s 45ms/step - loss: 0.6030 - acc: 0.7675 - val_loss: 0.6245 - val_acc: 0.6177\n",
      "Epoch 9/1000\n",
      "37/37 [==============================] - 2s 45ms/step - loss: 0.6394 - acc: 0.6991 - val_loss: 0.5313 - val_acc: 0.7626\n",
      "Epoch 10/1000\n",
      "37/37 [==============================] - 2s 45ms/step - loss: 0.5062 - acc: 0.7832 - val_loss: 0.5101 - val_acc: 0.7658\n",
      "Epoch 11/1000\n",
      "37/37 [==============================] - 2s 46ms/step - loss: 0.4802 - acc: 0.8219 - val_loss: 0.7636 - val_acc: 0.7613\n",
      "Epoch 12/1000\n",
      "37/37 [==============================] - 2s 46ms/step - loss: 0.5573 - acc: 0.7977 - val_loss: 0.5162 - val_acc: 0.7542\n",
      "Epoch 13/1000\n",
      "37/37 [==============================] - 2s 46ms/step - loss: 0.4479 - acc: 0.8406 - val_loss: 0.5503 - val_acc: 0.7807\n",
      "Epoch 14/1000\n",
      "37/37 [==============================] - 2s 46ms/step - loss: 0.4113 - acc: 0.8599 - val_loss: 0.9574 - val_acc: 0.7704\n",
      "Epoch 15/1000\n",
      "37/37 [==============================] - 2s 45ms/step - loss: 0.4676 - acc: 0.8655 - val_loss: 1.1032 - val_acc: 0.7749\n",
      "Epoch 16/1000\n",
      "37/37 [==============================] - 2s 46ms/step - loss: 0.4783 - acc: 0.8793 - val_loss: 1.0737 - val_acc: 0.7451\n",
      "Epoch 17/1000\n",
      "37/37 [==============================] - 2s 46ms/step - loss: 0.4773 - acc: 0.8554 - val_loss: 0.7432 - val_acc: 0.6953\n",
      "Epoch 18/1000\n",
      "37/37 [==============================] - 2s 45ms/step - loss: 0.5046 - acc: 0.7552 - val_loss: 1.0105 - val_acc: 0.7510\n",
      "Epoch 19/1000\n",
      "37/37 [==============================] - 2s 46ms/step - loss: 0.3729 - acc: 0.8822 - val_loss: 1.1242 - val_acc: 0.7697\n",
      "Epoch 20/1000\n",
      "37/37 [==============================] - 2s 46ms/step - loss: 0.4087 - acc: 0.8873 - val_loss: 0.8721 - val_acc: 0.7257\n",
      "Epoch 21/1000\n",
      "37/37 [==============================] - 2s 46ms/step - loss: 0.3717 - acc: 0.8810 - val_loss: 1.1940 - val_acc: 0.7574\n",
      "Epoch 22/1000\n",
      "37/37 [==============================] - 2s 46ms/step - loss: 0.3817 - acc: 0.9016 - val_loss: 1.4427 - val_acc: 0.7704\n",
      "Epoch 23/1000\n",
      "37/37 [==============================] - 2s 46ms/step - loss: 0.9163 - acc: 0.7590 - val_loss: 0.6662 - val_acc: 0.6177\n",
      "Epoch 24/1000\n",
      "37/37 [==============================] - 2s 46ms/step - loss: 0.5873 - acc: 0.6534 - val_loss: 0.6387 - val_acc: 0.6177\n",
      "Epoch 25/1000\n",
      "37/37 [==============================] - 2s 46ms/step - loss: 0.5312 - acc: 0.7025 - val_loss: 0.5871 - val_acc: 0.7206\n",
      "Epoch 26/1000\n",
      "37/37 [==============================] - 2s 46ms/step - loss: 0.5043 - acc: 0.7622 - val_loss: 0.7943 - val_acc: 0.7206\n",
      "Epoch 27/1000\n",
      "37/37 [==============================] - 2s 46ms/step - loss: 0.4806 - acc: 0.8022 - val_loss: 0.9253 - val_acc: 0.7193\n",
      "Epoch 28/1000\n",
      "37/37 [==============================] - 2s 46ms/step - loss: 0.4532 - acc: 0.8266 - val_loss: 1.0353 - val_acc: 0.7154\n",
      "Epoch 29/1000\n",
      "37/37 [==============================] - 2s 46ms/step - loss: 0.4228 - acc: 0.8471 - val_loss: 1.3081 - val_acc: 0.7238\n",
      "Epoch 30/1000\n",
      "37/37 [==============================] - 2s 46ms/step - loss: 0.4228 - acc: 0.8562 - val_loss: 1.3664 - val_acc: 0.7212\n",
      "Epoch 31/1000\n",
      "37/37 [==============================] - 2s 46ms/step - loss: 0.4082 - acc: 0.8763 - val_loss: 1.4298 - val_acc: 0.7212\n",
      "Epoch 32/1000\n",
      "37/37 [==============================] - 2s 46ms/step - loss: 0.3662 - acc: 0.8864 - val_loss: 1.5264 - val_acc: 0.7251\n",
      "Epoch 33/1000\n",
      "37/37 [==============================] - 2s 46ms/step - loss: 0.3584 - acc: 0.8927 - val_loss: 1.5891 - val_acc: 0.7251\n",
      "Epoch 34/1000\n",
      "37/37 [==============================] - 2s 46ms/step - loss: 0.3402 - acc: 0.8991 - val_loss: 1.6302 - val_acc: 0.7277\n",
      "Epoch 35/1000\n",
      "37/37 [==============================] - 2s 46ms/step - loss: 0.3344 - acc: 0.9107 - val_loss: 1.6453 - val_acc: 0.7335\n",
      "Epoch 36/1000\n",
      "37/37 [==============================] - 2s 46ms/step - loss: 0.3217 - acc: 0.9096 - val_loss: 1.6731 - val_acc: 0.7354\n",
      "Epoch 37/1000\n",
      "37/37 [==============================] - 2s 45ms/step - loss: 0.3066 - acc: 0.9177 - val_loss: 1.3954 - val_acc: 0.7257\n",
      "Epoch 38/1000\n",
      "37/37 [==============================] - 2s 46ms/step - loss: 0.3240 - acc: 0.9095 - val_loss: 1.4896 - val_acc: 0.7367\n",
      "Epoch 39/1000\n",
      "37/37 [==============================] - 2s 46ms/step - loss: 0.2882 - acc: 0.9211 - val_loss: 1.6191 - val_acc: 0.7406\n",
      "Epoch 40/1000\n",
      "37/37 [==============================] - 2s 46ms/step - loss: 0.2858 - acc: 0.9263 - val_loss: 1.7125 - val_acc: 0.7393\n",
      "Epoch 41/1000\n",
      "37/37 [==============================] - 2s 45ms/step - loss: 0.2792 - acc: 0.9309 - val_loss: 1.7118 - val_acc: 0.7426\n",
      "Epoch 42/1000\n",
      "37/37 [==============================] - 2s 46ms/step - loss: 0.2663 - acc: 0.9350 - val_loss: 1.8616 - val_acc: 0.7458\n",
      "Epoch 43/1000\n",
      "37/37 [==============================] - 2s 45ms/step - loss: 0.2710 - acc: 0.9379 - val_loss: 1.7395 - val_acc: 0.7490\n",
      "Epoch 44/1000\n",
      "37/37 [==============================] - 2s 45ms/step - loss: 0.2674 - acc: 0.9435 - val_loss: 1.7956 - val_acc: 0.7503\n",
      "Epoch 45/1000\n",
      "37/37 [==============================] - 2s 46ms/step - loss: 0.2642 - acc: 0.9358 - val_loss: 1.7912 - val_acc: 0.7451\n",
      "Epoch 46/1000\n",
      "37/37 [==============================] - 2s 46ms/step - loss: 0.2454 - acc: 0.9440 - val_loss: 1.8984 - val_acc: 0.7471\n",
      "Epoch 47/1000\n",
      "37/37 [==============================] - 2s 46ms/step - loss: 0.2423 - acc: 0.9471 - val_loss: 1.8953 - val_acc: 0.7490\n",
      "Epoch 48/1000\n",
      "37/37 [==============================] - 2s 46ms/step - loss: 0.2357 - acc: 0.9500 - val_loss: 1.8891 - val_acc: 0.7484\n",
      "Epoch 49/1000\n",
      "37/37 [==============================] - 2s 46ms/step - loss: 0.2313 - acc: 0.9548 - val_loss: 1.9684 - val_acc: 0.7490\n",
      "Epoch 50/1000\n",
      "37/37 [==============================] - 2s 46ms/step - loss: 0.2293 - acc: 0.9538 - val_loss: 2.0225 - val_acc: 0.7477\n",
      "Epoch 51/1000\n",
      "37/37 [==============================] - 2s 46ms/step - loss: 0.2192 - acc: 0.9590 - val_loss: 2.2245 - val_acc: 0.7400\n",
      "Epoch 52/1000\n",
      "37/37 [==============================] - 2s 46ms/step - loss: 0.2272 - acc: 0.9550 - val_loss: 1.8923 - val_acc: 0.7516\n",
      "Epoch 53/1000\n",
      "37/37 [==============================] - 2s 46ms/step - loss: 0.2486 - acc: 0.9590 - val_loss: 2.0427 - val_acc: 0.7432\n",
      "Epoch 54/1000\n",
      "37/37 [==============================] - 2s 46ms/step - loss: 0.2154 - acc: 0.9634 - val_loss: 2.0646 - val_acc: 0.7451\n",
      "Epoch 55/1000\n",
      "37/37 [==============================] - 2s 45ms/step - loss: 0.2195 - acc: 0.9656 - val_loss: 2.1954 - val_acc: 0.7380\n",
      "Epoch 56/1000\n",
      "37/37 [==============================] - 2s 50ms/step - loss: 0.2315 - acc: 0.9420 - val_loss: 2.0486 - val_acc: 0.7335\n",
      "Epoch 57/1000\n",
      "37/37 [==============================] - 2s 46ms/step - loss: 0.2103 - acc: 0.9593 - val_loss: 1.9442 - val_acc: 0.7374\n",
      "Epoch 58/1000\n",
      "37/37 [==============================] - 2s 46ms/step - loss: 0.2142 - acc: 0.9620 - val_loss: 1.4504 - val_acc: 0.7464\n",
      "Epoch 59/1000\n",
      "37/37 [==============================] - 2s 46ms/step - loss: 0.3378 - acc: 0.9393 - val_loss: 1.7241 - val_acc: 0.7432\n",
      "Epoch 60/1000\n",
      "37/37 [==============================] - 2s 46ms/step - loss: 0.2902 - acc: 0.9479 - val_loss: 2.2480 - val_acc: 0.7083\n",
      "Epoch 61/1000\n",
      "37/37 [==============================] - 2s 45ms/step - loss: 0.3781 - acc: 0.9182 - val_loss: 1.9796 - val_acc: 0.7154\n",
      "Epoch 62/1000\n"
     ]
    },
    {
     "name": "stdout",
     "output_type": "stream",
     "text": [
      "37/37 [==============================] - 2s 46ms/step - loss: 0.2390 - acc: 0.9541 - val_loss: 1.9410 - val_acc: 0.7329\n",
      "Epoch 63/1000\n",
      "37/37 [==============================] - 2s 46ms/step - loss: 0.2046 - acc: 0.9624 - val_loss: 1.9908 - val_acc: 0.7354\n",
      "Epoch 64/1000\n",
      "37/37 [==============================] - 2s 46ms/step - loss: 0.2040 - acc: 0.9653 - val_loss: 2.0153 - val_acc: 0.7406\n",
      "Epoch 65/1000\n",
      "37/37 [==============================] - 2s 46ms/step - loss: 0.2245 - acc: 0.9659 - val_loss: 2.2085 - val_acc: 0.7354\n",
      "Epoch 66/1000\n",
      "37/37 [==============================] - 2s 46ms/step - loss: 0.1954 - acc: 0.9679 - val_loss: 1.8724 - val_acc: 0.7322\n",
      "Epoch 67/1000\n",
      "37/37 [==============================] - 2s 46ms/step - loss: 0.1645 - acc: 0.9689 - val_loss: 2.0977 - val_acc: 0.7419\n",
      "Epoch 68/1000\n",
      "37/37 [==============================] - 2s 46ms/step - loss: 0.2672 - acc: 0.9398 - val_loss: 1.7006 - val_acc: 0.7122\n",
      "Epoch 69/1000\n",
      "37/37 [==============================] - 2s 46ms/step - loss: 0.2115 - acc: 0.9477 - val_loss: 1.9088 - val_acc: 0.7290\n",
      "Epoch 70/1000\n",
      "37/37 [==============================] - 2s 46ms/step - loss: 0.1926 - acc: 0.9641 - val_loss: 1.8776 - val_acc: 0.7419\n",
      "Epoch 71/1000\n",
      "37/37 [==============================] - 2s 46ms/step - loss: 0.1685 - acc: 0.9688 - val_loss: 1.9004 - val_acc: 0.7387\n",
      "Epoch 72/1000\n",
      "37/37 [==============================] - 2s 46ms/step - loss: 0.1826 - acc: 0.9695 - val_loss: 1.9268 - val_acc: 0.7380\n",
      "Epoch 73/1000\n",
      "37/37 [==============================] - 2s 46ms/step - loss: 0.1686 - acc: 0.9710 - val_loss: 2.0377 - val_acc: 0.7393\n",
      "Epoch 74/1000\n",
      "37/37 [==============================] - 2s 45ms/step - loss: 0.1786 - acc: 0.9726 - val_loss: 2.0261 - val_acc: 0.7380\n",
      "Epoch 75/1000\n",
      "37/37 [==============================] - 2s 46ms/step - loss: 0.2257 - acc: 0.9596 - val_loss: 2.0702 - val_acc: 0.7303\n",
      "Epoch 76/1000\n",
      "37/37 [==============================] - 2s 46ms/step - loss: 0.2189 - acc: 0.9654 - val_loss: 1.8508 - val_acc: 0.7329\n",
      "Epoch 77/1000\n",
      "37/37 [==============================] - 2s 46ms/step - loss: 0.1686 - acc: 0.9718 - val_loss: 1.8456 - val_acc: 0.7380\n",
      "Epoch 78/1000\n",
      "37/37 [==============================] - 2s 46ms/step - loss: 0.1630 - acc: 0.9738 - val_loss: 1.8977 - val_acc: 0.7406\n",
      "Epoch 79/1000\n",
      "37/37 [==============================] - 2s 46ms/step - loss: 0.1534 - acc: 0.9749 - val_loss: 1.9582 - val_acc: 0.7419\n",
      "Epoch 80/1000\n",
      "37/37 [==============================] - 2s 46ms/step - loss: 0.1736 - acc: 0.9779 - val_loss: 2.2901 - val_acc: 0.7296\n",
      "Epoch 81/1000\n",
      "37/37 [==============================] - 2s 46ms/step - loss: 0.1794 - acc: 0.9685 - val_loss: 2.4663 - val_acc: 0.7400\n",
      "Epoch 82/1000\n",
      "37/37 [==============================] - 2s 46ms/step - loss: 0.1574 - acc: 0.9749 - val_loss: 2.4688 - val_acc: 0.7374\n",
      "Epoch 83/1000\n",
      "37/37 [==============================] - 2s 46ms/step - loss: 0.1662 - acc: 0.9776 - val_loss: 2.6547 - val_acc: 0.7348\n",
      "Epoch 84/1000\n",
      "37/37 [==============================] - 2s 46ms/step - loss: 0.1649 - acc: 0.9773 - val_loss: 2.5724 - val_acc: 0.7413\n",
      "Epoch 85/1000\n",
      "37/37 [==============================] - 2s 46ms/step - loss: 0.3940 - acc: 0.9382 - val_loss: 1.0506 - val_acc: 0.6772\n",
      "Epoch 86/1000\n",
      "37/37 [==============================] - 2s 46ms/step - loss: 0.4038 - acc: 0.8767 - val_loss: 1.3000 - val_acc: 0.7471\n",
      "Epoch 87/1000\n",
      "37/37 [==============================] - 2s 46ms/step - loss: 0.2643 - acc: 0.9456 - val_loss: 1.6371 - val_acc: 0.7322\n",
      "Epoch 88/1000\n",
      "37/37 [==============================] - 2s 46ms/step - loss: 0.2116 - acc: 0.9646 - val_loss: 1.7317 - val_acc: 0.7393\n",
      "Epoch 89/1000\n",
      "37/37 [==============================] - 2s 46ms/step - loss: 0.1818 - acc: 0.9707 - val_loss: 1.7919 - val_acc: 0.7464\n",
      "Epoch 90/1000\n",
      "37/37 [==============================] - 2s 46ms/step - loss: 0.1626 - acc: 0.9740 - val_loss: 1.8409 - val_acc: 0.7451\n",
      "Epoch 91/1000\n",
      "37/37 [==============================] - 2s 46ms/step - loss: 0.1407 - acc: 0.9752 - val_loss: 1.9502 - val_acc: 0.7484\n",
      "Epoch 92/1000\n",
      "37/37 [==============================] - 2s 46ms/step - loss: 0.1445 - acc: 0.9789 - val_loss: 1.9730 - val_acc: 0.7451\n",
      "Epoch 93/1000\n",
      "37/37 [==============================] - 2s 46ms/step - loss: 0.1269 - acc: 0.9797 - val_loss: 2.2407 - val_acc: 0.7432\n",
      "Epoch 94/1000\n",
      "37/37 [==============================] - 2s 46ms/step - loss: 0.6542 - acc: 0.8933 - val_loss: 0.5882 - val_acc: 0.6850\n",
      "Epoch 95/1000\n",
      "37/37 [==============================] - 2s 46ms/step - loss: 0.3390 - acc: 0.8852 - val_loss: 1.3744 - val_acc: 0.7238\n",
      "Epoch 96/1000\n",
      "37/37 [==============================] - 2s 46ms/step - loss: 0.2831 - acc: 0.9361 - val_loss: 1.3545 - val_acc: 0.7147\n",
      "Epoch 97/1000\n",
      "37/37 [==============================] - 2s 46ms/step - loss: 0.2359 - acc: 0.9524 - val_loss: 1.7116 - val_acc: 0.7206\n",
      "Epoch 98/1000\n",
      "37/37 [==============================] - 2s 46ms/step - loss: 0.2178 - acc: 0.9617 - val_loss: 1.7608 - val_acc: 0.7251\n",
      "Epoch 99/1000\n",
      "37/37 [==============================] - 2s 46ms/step - loss: 0.1988 - acc: 0.9643 - val_loss: 1.8219 - val_acc: 0.7277\n",
      "Epoch 100/1000\n",
      "37/37 [==============================] - 2s 46ms/step - loss: 0.1828 - acc: 0.9679 - val_loss: 1.8428 - val_acc: 0.7277\n",
      "Epoch 101/1000\n",
      "37/37 [==============================] - 2s 46ms/step - loss: 0.1695 - acc: 0.9730 - val_loss: 1.8616 - val_acc: 0.7309\n",
      "Epoch 102/1000\n",
      "37/37 [==============================] - 2s 46ms/step - loss: 0.1587 - acc: 0.9721 - val_loss: 1.9012 - val_acc: 0.7329\n",
      "Epoch 103/1000\n",
      "37/37 [==============================] - 2s 46ms/step - loss: 0.1433 - acc: 0.9740 - val_loss: 1.9087 - val_acc: 0.7374\n",
      "Epoch 104/1000\n",
      "37/37 [==============================] - 2s 45ms/step - loss: 0.1420 - acc: 0.9770 - val_loss: 1.9416 - val_acc: 0.7374\n",
      "Epoch 105/1000\n",
      "37/37 [==============================] - 2s 46ms/step - loss: 0.1314 - acc: 0.9770 - val_loss: 1.8163 - val_acc: 0.7374\n",
      "Epoch 106/1000\n",
      "37/37 [==============================] - 2s 46ms/step - loss: 0.1360 - acc: 0.9731 - val_loss: 2.0052 - val_acc: 0.7393\n",
      "Epoch 107/1000\n",
      "37/37 [==============================] - 2s 46ms/step - loss: 0.1343 - acc: 0.9776 - val_loss: 1.9407 - val_acc: 0.7380\n",
      "Epoch 108/1000\n",
      "37/37 [==============================] - 2s 46ms/step - loss: 0.1267 - acc: 0.9769 - val_loss: 2.0072 - val_acc: 0.7400\n",
      "Epoch 109/1000\n",
      "37/37 [==============================] - 2s 46ms/step - loss: 0.1325 - acc: 0.9780 - val_loss: 2.0572 - val_acc: 0.7400\n",
      "Epoch 110/1000\n",
      "37/37 [==============================] - 2s 46ms/step - loss: 0.1300 - acc: 0.9785 - val_loss: 2.7011 - val_acc: 0.6798\n",
      "Epoch 111/1000\n",
      "37/37 [==============================] - 2s 46ms/step - loss: 0.3919 - acc: 0.8831 - val_loss: 2.0187 - val_acc: 0.7083\n",
      "Epoch 112/1000\n",
      "37/37 [==============================] - 2s 46ms/step - loss: 0.1736 - acc: 0.9569 - val_loss: 2.0986 - val_acc: 0.7251\n",
      "Epoch 113/1000\n",
      "37/37 [==============================] - 2s 46ms/step - loss: 0.1574 - acc: 0.9717 - val_loss: 2.0899 - val_acc: 0.7316\n",
      "Epoch 114/1000\n",
      "37/37 [==============================] - 2s 46ms/step - loss: 0.1282 - acc: 0.9760 - val_loss: 2.0970 - val_acc: 0.7361\n",
      "Epoch 115/1000\n",
      "37/37 [==============================] - 2s 46ms/step - loss: 0.1275 - acc: 0.9771 - val_loss: 2.0785 - val_acc: 0.7400\n",
      "Epoch 116/1000\n",
      "37/37 [==============================] - 2s 46ms/step - loss: 0.1204 - acc: 0.9778 - val_loss: 2.2607 - val_acc: 0.7380\n",
      "Epoch 117/1000\n",
      "37/37 [==============================] - 2s 45ms/step - loss: 0.1383 - acc: 0.9707 - val_loss: 2.4836 - val_acc: 0.7135\n",
      "Epoch 118/1000\n",
      "37/37 [==============================] - 2s 46ms/step - loss: 0.1453 - acc: 0.9710 - val_loss: 2.3113 - val_acc: 0.7309\n",
      "Epoch 119/1000\n",
      "37/37 [==============================] - 2s 46ms/step - loss: 0.1240 - acc: 0.9765 - val_loss: 2.4192 - val_acc: 0.7335\n",
      "Epoch 120/1000\n",
      "37/37 [==============================] - 2s 46ms/step - loss: 0.1209 - acc: 0.9798 - val_loss: 2.5932 - val_acc: 0.7342\n",
      "Epoch 121/1000\n",
      "37/37 [==============================] - 2s 45ms/step - loss: 0.1278 - acc: 0.9784 - val_loss: 2.6882 - val_acc: 0.7342\n",
      "Epoch 122/1000\n",
      "37/37 [==============================] - 2s 46ms/step - loss: 0.1168 - acc: 0.9793 - val_loss: 2.6490 - val_acc: 0.7329\n",
      "Epoch 123/1000\n"
     ]
    },
    {
     "name": "stdout",
     "output_type": "stream",
     "text": [
      "37/37 [==============================] - 2s 46ms/step - loss: 0.4973 - acc: 0.9433 - val_loss: 5.9896 - val_acc: 0.4955\n",
      "Epoch 124/1000\n",
      "37/37 [==============================] - 2s 46ms/step - loss: 2.0385 - acc: 0.6215 - val_loss: 0.8840 - val_acc: 0.6701\n",
      "Epoch 125/1000\n",
      "37/37 [==============================] - 2s 46ms/step - loss: 0.4673 - acc: 0.8406 - val_loss: 1.3073 - val_acc: 0.6805\n",
      "Epoch 126/1000\n",
      "37/37 [==============================] - 2s 46ms/step - loss: 0.4325 - acc: 0.8658 - val_loss: 1.3768 - val_acc: 0.6843\n",
      "Epoch 127/1000\n",
      "37/37 [==============================] - 2s 46ms/step - loss: 0.3850 - acc: 0.8710 - val_loss: 1.3811 - val_acc: 0.6779\n",
      "Epoch 128/1000\n",
      "37/37 [==============================] - 2s 46ms/step - loss: 0.3470 - acc: 0.8927 - val_loss: 1.5615 - val_acc: 0.6876\n",
      "Epoch 129/1000\n",
      "37/37 [==============================] - 2s 46ms/step - loss: 0.3214 - acc: 0.9008 - val_loss: 0.8789 - val_acc: 0.6734\n",
      "Epoch 130/1000\n",
      "37/37 [==============================] - 2s 46ms/step - loss: 0.3558 - acc: 0.8730 - val_loss: 0.6520 - val_acc: 0.6708\n",
      "Epoch 131/1000\n",
      "37/37 [==============================] - 2s 46ms/step - loss: 0.3641 - acc: 0.8642 - val_loss: 1.1997 - val_acc: 0.6837\n",
      "Epoch 132/1000\n",
      "37/37 [==============================] - 2s 46ms/step - loss: 0.3240 - acc: 0.9013 - val_loss: 1.5369 - val_acc: 0.6902\n",
      "Epoch 133/1000\n",
      "37/37 [==============================] - 2s 45ms/step - loss: 0.3119 - acc: 0.9127 - val_loss: 1.6367 - val_acc: 0.6889\n",
      "Epoch 134/1000\n",
      "37/37 [==============================] - 2s 46ms/step - loss: 0.2791 - acc: 0.9220 - val_loss: 1.7491 - val_acc: 0.6915\n",
      "Epoch 135/1000\n",
      "37/37 [==============================] - 2s 46ms/step - loss: 0.2751 - acc: 0.9250 - val_loss: 1.7312 - val_acc: 0.6902\n",
      "Epoch 136/1000\n",
      "37/37 [==============================] - 2s 46ms/step - loss: 0.2536 - acc: 0.9338 - val_loss: 1.8297 - val_acc: 0.6934\n",
      "Epoch 137/1000\n",
      "37/37 [==============================] - 2s 46ms/step - loss: 0.2467 - acc: 0.9363 - val_loss: 1.8966 - val_acc: 0.6934\n",
      "Epoch 138/1000\n",
      "37/37 [==============================] - 2s 46ms/step - loss: 0.2457 - acc: 0.9363 - val_loss: 1.9133 - val_acc: 0.6979\n",
      "Epoch 139/1000\n",
      "37/37 [==============================] - 2s 46ms/step - loss: 0.2351 - acc: 0.9419 - val_loss: 1.9262 - val_acc: 0.6986\n",
      "Epoch 140/1000\n",
      "37/37 [==============================] - 2s 46ms/step - loss: 0.2237 - acc: 0.9434 - val_loss: 1.9319 - val_acc: 0.6979\n",
      "Epoch 141/1000\n",
      "37/37 [==============================] - 2s 46ms/step - loss: 0.2134 - acc: 0.9444 - val_loss: 1.9450 - val_acc: 0.7005\n",
      "Epoch 142/1000\n",
      "37/37 [==============================] - 2s 46ms/step - loss: 0.2088 - acc: 0.9461 - val_loss: 1.9501 - val_acc: 0.7025\n",
      "Epoch 143/1000\n",
      "37/37 [==============================] - 2s 46ms/step - loss: 0.1965 - acc: 0.9528 - val_loss: 1.9747 - val_acc: 0.7044\n",
      "Epoch 144/1000\n",
      "37/37 [==============================] - 2s 46ms/step - loss: 0.1883 - acc: 0.9527 - val_loss: 1.9403 - val_acc: 0.7050\n",
      "Epoch 145/1000\n",
      "37/37 [==============================] - 2s 46ms/step - loss: 0.1813 - acc: 0.9561 - val_loss: 1.9991 - val_acc: 0.7070\n",
      "Epoch 146/1000\n",
      "37/37 [==============================] - 2s 46ms/step - loss: 0.1678 - acc: 0.9610 - val_loss: 2.0014 - val_acc: 0.7109\n",
      "Epoch 147/1000\n",
      "37/37 [==============================] - 2s 46ms/step - loss: 0.1593 - acc: 0.9622 - val_loss: 2.0405 - val_acc: 0.7160\n",
      "Epoch 148/1000\n",
      "37/37 [==============================] - 2s 46ms/step - loss: 0.1434 - acc: 0.9690 - val_loss: 2.0489 - val_acc: 0.7264\n",
      "Epoch 149/1000\n",
      "37/37 [==============================] - 2s 46ms/step - loss: 0.1349 - acc: 0.9691 - val_loss: 2.0672 - val_acc: 0.7309\n",
      "Epoch 150/1000\n",
      "37/37 [==============================] - 2s 46ms/step - loss: 0.1362 - acc: 0.9712 - val_loss: 2.0926 - val_acc: 0.7374\n",
      "Epoch 151/1000\n",
      "37/37 [==============================] - 2s 46ms/step - loss: 0.1345 - acc: 0.9712 - val_loss: 2.1291 - val_acc: 0.7413\n",
      "Epoch 152/1000\n",
      "37/37 [==============================] - 2s 46ms/step - loss: 0.1291 - acc: 0.9730 - val_loss: 2.1832 - val_acc: 0.7406\n",
      "Epoch 153/1000\n",
      "37/37 [==============================] - 2s 46ms/step - loss: 0.1311 - acc: 0.9748 - val_loss: 2.6159 - val_acc: 0.7419\n",
      "Epoch 154/1000\n",
      "37/37 [==============================] - 2s 46ms/step - loss: 0.1330 - acc: 0.9775 - val_loss: 2.7750 - val_acc: 0.7426\n",
      "Epoch 155/1000\n",
      "37/37 [==============================] - 2s 46ms/step - loss: 0.1230 - acc: 0.9726 - val_loss: 2.8246 - val_acc: 0.7380\n",
      "Epoch 156/1000\n",
      "37/37 [==============================] - 2s 46ms/step - loss: 0.1208 - acc: 0.9759 - val_loss: 2.8913 - val_acc: 0.7296\n",
      "Epoch 157/1000\n",
      "37/37 [==============================] - 2s 46ms/step - loss: 0.1240 - acc: 0.9727 - val_loss: 2.9721 - val_acc: 0.7245\n",
      "Epoch 158/1000\n",
      "37/37 [==============================] - 2s 46ms/step - loss: 0.1349 - acc: 0.9699 - val_loss: 2.8349 - val_acc: 0.7361\n",
      "Epoch 159/1000\n",
      "37/37 [==============================] - 2s 46ms/step - loss: 0.1144 - acc: 0.9737 - val_loss: 2.9284 - val_acc: 0.7393\n",
      "Epoch 160/1000\n",
      "37/37 [==============================] - 2s 46ms/step - loss: 0.1133 - acc: 0.9786 - val_loss: 2.9426 - val_acc: 0.7426\n",
      "Epoch 161/1000\n",
      "37/37 [==============================] - 2s 46ms/step - loss: 0.1119 - acc: 0.9769 - val_loss: 3.0288 - val_acc: 0.7374\n",
      "Epoch 162/1000\n",
      "37/37 [==============================] - 2s 46ms/step - loss: 0.1137 - acc: 0.9778 - val_loss: 2.9838 - val_acc: 0.7354\n",
      "Epoch 163/1000\n",
      "37/37 [==============================] - 2s 46ms/step - loss: 0.1107 - acc: 0.9788 - val_loss: 2.9917 - val_acc: 0.7400\n",
      "Epoch 164/1000\n",
      "37/37 [==============================] - 2s 46ms/step - loss: 0.1070 - acc: 0.9796 - val_loss: 2.9779 - val_acc: 0.7413\n",
      "Epoch 165/1000\n",
      "37/37 [==============================] - 2s 46ms/step - loss: 0.1176 - acc: 0.9786 - val_loss: 2.9887 - val_acc: 0.7413\n",
      "Epoch 166/1000\n",
      "37/37 [==============================] - 2s 46ms/step - loss: 0.1138 - acc: 0.9792 - val_loss: 3.0478 - val_acc: 0.7413\n",
      "Epoch 167/1000\n",
      "37/37 [==============================] - 2s 46ms/step - loss: 0.1150 - acc: 0.9794 - val_loss: 3.0880 - val_acc: 0.7413\n",
      "Epoch 168/1000\n",
      "37/37 [==============================] - 2s 46ms/step - loss: 0.1127 - acc: 0.9796 - val_loss: 3.2200 - val_acc: 0.7186\n",
      "Epoch 169/1000\n",
      "37/37 [==============================] - 2s 46ms/step - loss: 0.1602 - acc: 0.9719 - val_loss: 2.9908 - val_acc: 0.7419\n",
      "Epoch 170/1000\n",
      "37/37 [==============================] - 2s 46ms/step - loss: 0.1124 - acc: 0.9791 - val_loss: 3.0484 - val_acc: 0.7387\n",
      "Epoch 171/1000\n",
      "37/37 [==============================] - 2s 46ms/step - loss: 0.1074 - acc: 0.9808 - val_loss: 3.0648 - val_acc: 0.7419\n",
      "Epoch 172/1000\n",
      "37/37 [==============================] - 2s 46ms/step - loss: 0.1122 - acc: 0.9789 - val_loss: 3.0880 - val_acc: 0.7419\n",
      "Epoch 173/1000\n",
      "37/37 [==============================] - 2s 47ms/step - loss: 0.1128 - acc: 0.9798 - val_loss: 3.0716 - val_acc: 0.7393\n",
      "Epoch 174/1000\n",
      "37/37 [==============================] - 2s 46ms/step - loss: 0.1078 - acc: 0.9819 - val_loss: 3.1054 - val_acc: 0.7426\n",
      "Epoch 175/1000\n",
      "37/37 [==============================] - 2s 46ms/step - loss: 0.1092 - acc: 0.9820 - val_loss: 3.1229 - val_acc: 0.7426\n",
      "Epoch 176/1000\n",
      "37/37 [==============================] - 2s 46ms/step - loss: 0.1138 - acc: 0.9787 - val_loss: 3.1189 - val_acc: 0.7426\n",
      "Epoch 177/1000\n",
      "37/37 [==============================] - 2s 46ms/step - loss: 0.1095 - acc: 0.9783 - val_loss: 3.1217 - val_acc: 0.7400\n",
      "Epoch 178/1000\n",
      "37/37 [==============================] - 2s 46ms/step - loss: 0.1118 - acc: 0.9820 - val_loss: 3.1503 - val_acc: 0.7406\n",
      "Epoch 179/1000\n",
      "37/37 [==============================] - 2s 46ms/step - loss: 0.1234 - acc: 0.9846 - val_loss: 3.1666 - val_acc: 0.7426\n",
      "Epoch 180/1000\n",
      "37/37 [==============================] - 2s 46ms/step - loss: 0.1121 - acc: 0.9812 - val_loss: 3.1489 - val_acc: 0.7400\n",
      "Epoch 181/1000\n",
      "37/37 [==============================] - 2s 46ms/step - loss: 0.1057 - acc: 0.9817 - val_loss: 3.1522 - val_acc: 0.7393\n",
      "Epoch 182/1000\n",
      "37/37 [==============================] - 2s 46ms/step - loss: 0.1049 - acc: 0.9807 - val_loss: 3.1395 - val_acc: 0.7406\n",
      "Epoch 183/1000\n",
      "37/37 [==============================] - 2s 46ms/step - loss: 0.1067 - acc: 0.9809 - val_loss: 3.1629 - val_acc: 0.7367\n"
     ]
    },
    {
     "name": "stdout",
     "output_type": "stream",
     "text": [
      "Epoch 184/1000\n",
      "37/37 [==============================] - 2s 46ms/step - loss: 0.1052 - acc: 0.9834 - val_loss: 3.1274 - val_acc: 0.7380\n",
      "Epoch 185/1000\n",
      "37/37 [==============================] - 2s 46ms/step - loss: 0.1023 - acc: 0.9824 - val_loss: 3.1554 - val_acc: 0.7380\n",
      "Epoch 186/1000\n",
      "37/37 [==============================] - 2s 46ms/step - loss: 0.1041 - acc: 0.9824 - val_loss: 3.1925 - val_acc: 0.7400\n",
      "Epoch 187/1000\n",
      "37/37 [==============================] - 2s 45ms/step - loss: 0.1095 - acc: 0.9840 - val_loss: 3.2053 - val_acc: 0.7393\n",
      "Epoch 188/1000\n",
      "37/37 [==============================] - 2s 46ms/step - loss: 0.1054 - acc: 0.9829 - val_loss: 3.1643 - val_acc: 0.7367\n",
      "Epoch 189/1000\n",
      "37/37 [==============================] - 2s 47ms/step - loss: 0.1198 - acc: 0.9822 - val_loss: 3.1913 - val_acc: 0.7374\n",
      "Epoch 190/1000\n",
      "37/37 [==============================] - 2s 46ms/step - loss: 0.1411 - acc: 0.9791 - val_loss: 2.8671 - val_acc: 0.7102\n",
      "Epoch 191/1000\n",
      "37/37 [==============================] - 2s 46ms/step - loss: 0.1251 - acc: 0.9751 - val_loss: 2.6994 - val_acc: 0.7322\n",
      "Epoch 192/1000\n",
      "37/37 [==============================] - 2s 46ms/step - loss: 0.1104 - acc: 0.9803 - val_loss: 2.8535 - val_acc: 0.7400\n",
      "Epoch 193/1000\n",
      "37/37 [==============================] - 2s 46ms/step - loss: 0.1110 - acc: 0.9794 - val_loss: 3.0205 - val_acc: 0.7439\n",
      "Epoch 194/1000\n",
      "37/37 [==============================] - 2s 46ms/step - loss: 0.1073 - acc: 0.9789 - val_loss: 3.0872 - val_acc: 0.7432\n",
      "Epoch 195/1000\n",
      "37/37 [==============================] - 2s 46ms/step - loss: 0.1054 - acc: 0.9836 - val_loss: 3.1146 - val_acc: 0.7400\n",
      "Epoch 196/1000\n",
      "37/37 [==============================] - 2s 46ms/step - loss: 0.1069 - acc: 0.9853 - val_loss: 3.1478 - val_acc: 0.7439\n",
      "Epoch 197/1000\n",
      "37/37 [==============================] - 2s 46ms/step - loss: 0.1026 - acc: 0.9822 - val_loss: 3.1682 - val_acc: 0.7432\n",
      "Epoch 198/1000\n",
      "37/37 [==============================] - 2s 46ms/step - loss: 0.1027 - acc: 0.9825 - val_loss: 3.2130 - val_acc: 0.7387\n",
      "Epoch 199/1000\n",
      "37/37 [==============================] - 2s 46ms/step - loss: 0.1025 - acc: 0.9849 - val_loss: 3.2418 - val_acc: 0.7393\n",
      "Epoch 200/1000\n",
      "37/37 [==============================] - 2s 46ms/step - loss: 0.0987 - acc: 0.9866 - val_loss: 3.2696 - val_acc: 0.7296\n",
      "Epoch 201/1000\n",
      "37/37 [==============================] - 2s 46ms/step - loss: 0.2666 - acc: 0.9754 - val_loss: 3.0308 - val_acc: 0.7406\n",
      "Epoch 202/1000\n",
      "37/37 [==============================] - 2s 46ms/step - loss: 0.1063 - acc: 0.9834 - val_loss: 3.0730 - val_acc: 0.7387\n",
      "Epoch 203/1000\n",
      "37/37 [==============================] - 2s 46ms/step - loss: 0.1038 - acc: 0.9828 - val_loss: 3.1322 - val_acc: 0.7374\n",
      "Epoch 204/1000\n",
      "37/37 [==============================] - 2s 46ms/step - loss: 0.1036 - acc: 0.9835 - val_loss: 3.1535 - val_acc: 0.7367\n",
      "Epoch 205/1000\n",
      "37/37 [==============================] - 2s 46ms/step - loss: 0.1016 - acc: 0.9838 - val_loss: 2.7853 - val_acc: 0.7374\n",
      "Epoch 206/1000\n",
      "37/37 [==============================] - 2s 46ms/step - loss: 0.1125 - acc: 0.9837 - val_loss: 1.9733 - val_acc: 0.7393\n",
      "Epoch 207/1000\n",
      "37/37 [==============================] - 2s 46ms/step - loss: 0.1083 - acc: 0.9846 - val_loss: 2.8207 - val_acc: 0.7451\n",
      "Epoch 208/1000\n",
      "37/37 [==============================] - 2s 46ms/step - loss: 0.1004 - acc: 0.9850 - val_loss: 3.1633 - val_acc: 0.7374\n",
      "Epoch 209/1000\n",
      "37/37 [==============================] - 2s 46ms/step - loss: 0.0992 - acc: 0.9870 - val_loss: 3.2340 - val_acc: 0.7426\n",
      "Epoch 210/1000\n",
      "37/37 [==============================] - 2s 46ms/step - loss: 0.0975 - acc: 0.9864 - val_loss: 3.2571 - val_acc: 0.7426\n",
      "Epoch 211/1000\n",
      "37/37 [==============================] - 2s 47ms/step - loss: 0.0969 - acc: 0.9870 - val_loss: 3.2895 - val_acc: 0.7432\n",
      "Epoch 212/1000\n",
      "37/37 [==============================] - 2s 46ms/step - loss: 0.0938 - acc: 0.9865 - val_loss: 3.3148 - val_acc: 0.7270\n",
      "Epoch 213/1000\n",
      "37/37 [==============================] - 2s 46ms/step - loss: 0.2145 - acc: 0.9691 - val_loss: 2.9177 - val_acc: 0.7413\n",
      "Restoring model weights from the end of the best epoch.\n",
      "Epoch 00213: early stopping\n"
     ]
    },
    {
     "name": "stderr",
     "output_type": "stream",
     "text": [
      "\r",
      " 33%|███▎      | 1/3 [06:05<12:11, 365.70s/it]"
     ]
    },
    {
     "name": "stdout",
     "output_type": "stream",
     "text": [
      "정확도 : 0.7631067961165049\n",
      "Epoch 1/1000\n",
      "37/37 [==============================] - 6s 70ms/step - loss: 1.3006 - acc: 0.5089 - val_loss: 0.6670 - val_acc: 0.6177\n",
      "Epoch 2/1000\n",
      "37/37 [==============================] - 2s 46ms/step - loss: 0.9530 - acc: 0.5512 - val_loss: 0.6719 - val_acc: 0.6177\n",
      "Epoch 3/1000\n",
      "37/37 [==============================] - 2s 45ms/step - loss: 0.7605 - acc: 0.5361 - val_loss: 0.6616 - val_acc: 0.6177\n",
      "Epoch 4/1000\n",
      "37/37 [==============================] - 2s 46ms/step - loss: 0.7046 - acc: 0.5623 - val_loss: 0.6517 - val_acc: 0.6177\n",
      "Epoch 5/1000\n",
      "37/37 [==============================] - 2s 45ms/step - loss: 0.6935 - acc: 0.5996 - val_loss: 0.6171 - val_acc: 0.6177\n",
      "Epoch 6/1000\n",
      "37/37 [==============================] - 2s 45ms/step - loss: 0.6489 - acc: 0.6197 - val_loss: 0.5613 - val_acc: 0.7549\n",
      "Epoch 7/1000\n",
      "37/37 [==============================] - 2s 45ms/step - loss: 0.5793 - acc: 0.7240 - val_loss: 0.5058 - val_acc: 0.7730\n",
      "Epoch 8/1000\n",
      "37/37 [==============================] - 2s 46ms/step - loss: 0.6030 - acc: 0.7675 - val_loss: 0.6245 - val_acc: 0.6177\n",
      "Epoch 9/1000\n",
      "37/37 [==============================] - 2s 45ms/step - loss: 0.6394 - acc: 0.6991 - val_loss: 0.5313 - val_acc: 0.7626\n",
      "Epoch 10/1000\n",
      "37/37 [==============================] - 2s 46ms/step - loss: 0.5062 - acc: 0.7832 - val_loss: 0.5101 - val_acc: 0.7658\n",
      "Epoch 11/1000\n",
      "37/37 [==============================] - 2s 46ms/step - loss: 0.4802 - acc: 0.8219 - val_loss: 0.7636 - val_acc: 0.7613\n",
      "Epoch 12/1000\n",
      "37/37 [==============================] - 2s 46ms/step - loss: 0.5573 - acc: 0.7977 - val_loss: 0.5162 - val_acc: 0.7542\n",
      "Epoch 13/1000\n",
      "37/37 [==============================] - 2s 46ms/step - loss: 0.4479 - acc: 0.8406 - val_loss: 0.5503 - val_acc: 0.7807\n",
      "Epoch 14/1000\n",
      "37/37 [==============================] - 2s 46ms/step - loss: 0.4113 - acc: 0.8599 - val_loss: 0.9574 - val_acc: 0.7704\n",
      "Epoch 15/1000\n",
      "37/37 [==============================] - 2s 45ms/step - loss: 0.4676 - acc: 0.8655 - val_loss: 1.1032 - val_acc: 0.7749\n",
      "Epoch 16/1000\n",
      "37/37 [==============================] - 2s 46ms/step - loss: 0.4783 - acc: 0.8793 - val_loss: 1.0737 - val_acc: 0.7451\n",
      "Epoch 17/1000\n",
      "37/37 [==============================] - 2s 45ms/step - loss: 0.4773 - acc: 0.8554 - val_loss: 0.7432 - val_acc: 0.6953\n",
      "Epoch 18/1000\n",
      "37/37 [==============================] - 2s 46ms/step - loss: 0.5046 - acc: 0.7552 - val_loss: 1.0105 - val_acc: 0.7510\n",
      "Epoch 19/1000\n",
      "37/37 [==============================] - 2s 45ms/step - loss: 0.3729 - acc: 0.8822 - val_loss: 1.1242 - val_acc: 0.7697\n",
      "Epoch 20/1000\n",
      "37/37 [==============================] - 2s 45ms/step - loss: 0.4087 - acc: 0.8873 - val_loss: 0.8721 - val_acc: 0.7257\n",
      "Epoch 21/1000\n",
      "37/37 [==============================] - 2s 46ms/step - loss: 0.3717 - acc: 0.8810 - val_loss: 1.1940 - val_acc: 0.7574\n",
      "Epoch 22/1000\n",
      "37/37 [==============================] - 2s 46ms/step - loss: 0.3817 - acc: 0.9016 - val_loss: 1.4427 - val_acc: 0.7704\n",
      "Epoch 23/1000\n",
      "37/37 [==============================] - 2s 46ms/step - loss: 0.9163 - acc: 0.7590 - val_loss: 0.6662 - val_acc: 0.6177\n",
      "Epoch 24/1000\n",
      "37/37 [==============================] - 2s 46ms/step - loss: 0.5873 - acc: 0.6534 - val_loss: 0.6387 - val_acc: 0.6177\n",
      "Epoch 25/1000\n",
      "37/37 [==============================] - 2s 46ms/step - loss: 0.5312 - acc: 0.7025 - val_loss: 0.5871 - val_acc: 0.7206\n",
      "Epoch 26/1000\n",
      "37/37 [==============================] - 2s 46ms/step - loss: 0.5043 - acc: 0.7622 - val_loss: 0.7943 - val_acc: 0.7206\n",
      "Epoch 27/1000\n",
      "37/37 [==============================] - 2s 46ms/step - loss: 0.4806 - acc: 0.8022 - val_loss: 0.9253 - val_acc: 0.7193\n",
      "Epoch 28/1000\n",
      "37/37 [==============================] - 2s 46ms/step - loss: 0.4532 - acc: 0.8266 - val_loss: 1.0353 - val_acc: 0.7154\n",
      "Epoch 29/1000\n",
      "37/37 [==============================] - 2s 46ms/step - loss: 0.4228 - acc: 0.8471 - val_loss: 1.3081 - val_acc: 0.7238\n",
      "Epoch 30/1000\n",
      "37/37 [==============================] - 2s 46ms/step - loss: 0.4228 - acc: 0.8562 - val_loss: 1.3664 - val_acc: 0.7212\n",
      "Epoch 31/1000\n",
      "37/37 [==============================] - 2s 46ms/step - loss: 0.4082 - acc: 0.8763 - val_loss: 1.4298 - val_acc: 0.7212\n",
      "Epoch 32/1000\n",
      "37/37 [==============================] - 2s 46ms/step - loss: 0.3662 - acc: 0.8864 - val_loss: 1.5264 - val_acc: 0.7251\n",
      "Epoch 33/1000\n",
      "37/37 [==============================] - 2s 46ms/step - loss: 0.3584 - acc: 0.8927 - val_loss: 1.5891 - val_acc: 0.7251\n",
      "Epoch 34/1000\n",
      "37/37 [==============================] - 2s 45ms/step - loss: 0.3402 - acc: 0.8991 - val_loss: 1.6302 - val_acc: 0.7277\n",
      "Epoch 35/1000\n",
      "37/37 [==============================] - 2s 46ms/step - loss: 0.3344 - acc: 0.9107 - val_loss: 1.6453 - val_acc: 0.7335\n",
      "Epoch 36/1000\n",
      "37/37 [==============================] - 2s 46ms/step - loss: 0.3217 - acc: 0.9096 - val_loss: 1.6731 - val_acc: 0.7354\n",
      "Epoch 37/1000\n",
      "37/37 [==============================] - 2s 46ms/step - loss: 0.3066 - acc: 0.9177 - val_loss: 1.3954 - val_acc: 0.7257\n",
      "Epoch 38/1000\n",
      "37/37 [==============================] - 2s 46ms/step - loss: 0.3240 - acc: 0.9095 - val_loss: 1.4896 - val_acc: 0.7367\n",
      "Epoch 39/1000\n",
      "37/37 [==============================] - 2s 46ms/step - loss: 0.2882 - acc: 0.9211 - val_loss: 1.6191 - val_acc: 0.7406\n",
      "Epoch 40/1000\n",
      "37/37 [==============================] - 2s 46ms/step - loss: 0.2858 - acc: 0.9263 - val_loss: 1.7125 - val_acc: 0.7393\n",
      "Epoch 41/1000\n",
      "37/37 [==============================] - 2s 46ms/step - loss: 0.2792 - acc: 0.9309 - val_loss: 1.7118 - val_acc: 0.7426\n",
      "Epoch 42/1000\n",
      "37/37 [==============================] - 2s 46ms/step - loss: 0.2663 - acc: 0.9350 - val_loss: 1.8616 - val_acc: 0.7458\n",
      "Epoch 43/1000\n",
      "37/37 [==============================] - 2s 46ms/step - loss: 0.2710 - acc: 0.9379 - val_loss: 1.7395 - val_acc: 0.7490\n",
      "Epoch 44/1000\n",
      "37/37 [==============================] - 2s 46ms/step - loss: 0.2674 - acc: 0.9435 - val_loss: 1.7956 - val_acc: 0.7503\n",
      "Epoch 45/1000\n",
      "37/37 [==============================] - 2s 46ms/step - loss: 0.2642 - acc: 0.9358 - val_loss: 1.7912 - val_acc: 0.7451\n",
      "Epoch 46/1000\n",
      "37/37 [==============================] - 2s 46ms/step - loss: 0.2454 - acc: 0.9440 - val_loss: 1.8984 - val_acc: 0.7471\n",
      "Epoch 47/1000\n",
      "37/37 [==============================] - 2s 46ms/step - loss: 0.2423 - acc: 0.9471 - val_loss: 1.8953 - val_acc: 0.7490\n",
      "Epoch 48/1000\n",
      "37/37 [==============================] - 2s 46ms/step - loss: 0.2357 - acc: 0.9500 - val_loss: 1.8891 - val_acc: 0.7484\n",
      "Epoch 49/1000\n",
      "37/37 [==============================] - 2s 46ms/step - loss: 0.2313 - acc: 0.9548 - val_loss: 1.9684 - val_acc: 0.7490\n",
      "Epoch 50/1000\n",
      "37/37 [==============================] - 2s 46ms/step - loss: 0.2293 - acc: 0.9538 - val_loss: 2.0225 - val_acc: 0.7477\n",
      "Epoch 51/1000\n",
      "37/37 [==============================] - 2s 46ms/step - loss: 0.2192 - acc: 0.9590 - val_loss: 2.2245 - val_acc: 0.7400\n",
      "Epoch 52/1000\n",
      "37/37 [==============================] - 2s 46ms/step - loss: 0.2272 - acc: 0.9550 - val_loss: 1.8923 - val_acc: 0.7516\n",
      "Epoch 53/1000\n",
      "37/37 [==============================] - 2s 46ms/step - loss: 0.2486 - acc: 0.9590 - val_loss: 2.0427 - val_acc: 0.7432\n",
      "Epoch 54/1000\n",
      "37/37 [==============================] - 2s 46ms/step - loss: 0.2154 - acc: 0.9634 - val_loss: 2.0646 - val_acc: 0.7451\n",
      "Epoch 55/1000\n",
      "37/37 [==============================] - 2s 46ms/step - loss: 0.2195 - acc: 0.9656 - val_loss: 2.1954 - val_acc: 0.7380\n",
      "Epoch 56/1000\n",
      "37/37 [==============================] - 2s 46ms/step - loss: 0.2315 - acc: 0.9420 - val_loss: 2.0486 - val_acc: 0.7335\n",
      "Epoch 57/1000\n",
      "37/37 [==============================] - 2s 46ms/step - loss: 0.2103 - acc: 0.9593 - val_loss: 1.9442 - val_acc: 0.7374\n",
      "Epoch 58/1000\n",
      "37/37 [==============================] - 2s 46ms/step - loss: 0.2142 - acc: 0.9620 - val_loss: 1.4504 - val_acc: 0.7464\n",
      "Epoch 59/1000\n",
      "37/37 [==============================] - 2s 46ms/step - loss: 0.3378 - acc: 0.9393 - val_loss: 1.7241 - val_acc: 0.7432\n",
      "Epoch 60/1000\n",
      "37/37 [==============================] - 2s 46ms/step - loss: 0.2902 - acc: 0.9479 - val_loss: 2.2480 - val_acc: 0.7083\n",
      "Epoch 61/1000\n",
      "37/37 [==============================] - 2s 46ms/step - loss: 0.3781 - acc: 0.9182 - val_loss: 1.9796 - val_acc: 0.7154\n",
      "Epoch 62/1000\n"
     ]
    },
    {
     "name": "stdout",
     "output_type": "stream",
     "text": [
      "37/37 [==============================] - 2s 46ms/step - loss: 0.2390 - acc: 0.9541 - val_loss: 1.9410 - val_acc: 0.7329\n",
      "Epoch 63/1000\n",
      "37/37 [==============================] - 2s 46ms/step - loss: 0.2046 - acc: 0.9624 - val_loss: 1.9908 - val_acc: 0.7354\n",
      "Epoch 64/1000\n",
      "37/37 [==============================] - 2s 46ms/step - loss: 0.2040 - acc: 0.9653 - val_loss: 2.0153 - val_acc: 0.7406\n",
      "Epoch 65/1000\n",
      "37/37 [==============================] - 2s 46ms/step - loss: 0.2245 - acc: 0.9659 - val_loss: 2.2085 - val_acc: 0.7354\n",
      "Epoch 66/1000\n",
      "37/37 [==============================] - 2s 46ms/step - loss: 0.1954 - acc: 0.9679 - val_loss: 1.8724 - val_acc: 0.7322\n",
      "Epoch 67/1000\n",
      "37/37 [==============================] - 2s 46ms/step - loss: 0.1645 - acc: 0.9689 - val_loss: 2.0977 - val_acc: 0.7419\n",
      "Epoch 68/1000\n",
      "37/37 [==============================] - 2s 46ms/step - loss: 0.2672 - acc: 0.9398 - val_loss: 1.7006 - val_acc: 0.7122\n",
      "Epoch 69/1000\n",
      "37/37 [==============================] - 2s 46ms/step - loss: 0.2115 - acc: 0.9477 - val_loss: 1.9088 - val_acc: 0.7290\n",
      "Epoch 70/1000\n",
      "37/37 [==============================] - 2s 46ms/step - loss: 0.1926 - acc: 0.9641 - val_loss: 1.8776 - val_acc: 0.7419\n",
      "Epoch 71/1000\n",
      "37/37 [==============================] - 2s 46ms/step - loss: 0.1685 - acc: 0.9688 - val_loss: 1.9004 - val_acc: 0.7387\n",
      "Epoch 72/1000\n",
      "37/37 [==============================] - 2s 46ms/step - loss: 0.1826 - acc: 0.9695 - val_loss: 1.9268 - val_acc: 0.7380\n",
      "Epoch 73/1000\n",
      "37/37 [==============================] - 2s 46ms/step - loss: 0.1686 - acc: 0.9710 - val_loss: 2.0377 - val_acc: 0.7393\n",
      "Epoch 74/1000\n",
      "37/37 [==============================] - 2s 46ms/step - loss: 0.1786 - acc: 0.9726 - val_loss: 2.0261 - val_acc: 0.7380\n",
      "Epoch 75/1000\n",
      "37/37 [==============================] - 2s 46ms/step - loss: 0.2257 - acc: 0.9596 - val_loss: 2.0702 - val_acc: 0.7303\n",
      "Epoch 76/1000\n",
      "37/37 [==============================] - 2s 46ms/step - loss: 0.2189 - acc: 0.9654 - val_loss: 1.8508 - val_acc: 0.7329\n",
      "Epoch 77/1000\n",
      "37/37 [==============================] - 2s 46ms/step - loss: 0.1686 - acc: 0.9718 - val_loss: 1.8456 - val_acc: 0.7380\n",
      "Epoch 78/1000\n",
      "37/37 [==============================] - 2s 46ms/step - loss: 0.1630 - acc: 0.9738 - val_loss: 1.8977 - val_acc: 0.7406\n",
      "Epoch 79/1000\n",
      "37/37 [==============================] - 2s 46ms/step - loss: 0.1534 - acc: 0.9749 - val_loss: 1.9582 - val_acc: 0.7419\n",
      "Epoch 80/1000\n",
      "37/37 [==============================] - 2s 46ms/step - loss: 0.1736 - acc: 0.9779 - val_loss: 2.2901 - val_acc: 0.7296\n",
      "Epoch 81/1000\n",
      "37/37 [==============================] - 2s 46ms/step - loss: 0.1794 - acc: 0.9685 - val_loss: 2.4663 - val_acc: 0.7400\n",
      "Epoch 82/1000\n",
      "37/37 [==============================] - 2s 46ms/step - loss: 0.1574 - acc: 0.9749 - val_loss: 2.4688 - val_acc: 0.7374\n",
      "Epoch 83/1000\n",
      "37/37 [==============================] - 2s 46ms/step - loss: 0.1662 - acc: 0.9776 - val_loss: 2.6547 - val_acc: 0.7348\n",
      "Epoch 84/1000\n",
      "37/37 [==============================] - 2s 46ms/step - loss: 0.1649 - acc: 0.9773 - val_loss: 2.5724 - val_acc: 0.7413\n",
      "Epoch 85/1000\n",
      "37/37 [==============================] - 2s 46ms/step - loss: 0.3940 - acc: 0.9382 - val_loss: 1.0506 - val_acc: 0.6772\n",
      "Epoch 86/1000\n",
      "37/37 [==============================] - 2s 46ms/step - loss: 0.4038 - acc: 0.8767 - val_loss: 1.3000 - val_acc: 0.7471\n",
      "Epoch 87/1000\n",
      "37/37 [==============================] - 2s 46ms/step - loss: 0.2643 - acc: 0.9456 - val_loss: 1.6371 - val_acc: 0.7322\n",
      "Epoch 88/1000\n",
      "37/37 [==============================] - 2s 46ms/step - loss: 0.2116 - acc: 0.9646 - val_loss: 1.7317 - val_acc: 0.7393\n",
      "Epoch 89/1000\n",
      "37/37 [==============================] - 2s 46ms/step - loss: 0.1818 - acc: 0.9707 - val_loss: 1.7919 - val_acc: 0.7464\n",
      "Epoch 90/1000\n",
      "37/37 [==============================] - 2s 46ms/step - loss: 0.1626 - acc: 0.9740 - val_loss: 1.8409 - val_acc: 0.7451\n",
      "Epoch 91/1000\n",
      "37/37 [==============================] - 2s 46ms/step - loss: 0.1407 - acc: 0.9752 - val_loss: 1.9502 - val_acc: 0.7484\n",
      "Epoch 92/1000\n",
      "37/37 [==============================] - 2s 46ms/step - loss: 0.1445 - acc: 0.9789 - val_loss: 1.9730 - val_acc: 0.7451\n",
      "Epoch 93/1000\n",
      "37/37 [==============================] - 2s 46ms/step - loss: 0.1269 - acc: 0.9797 - val_loss: 2.2407 - val_acc: 0.7432\n",
      "Epoch 94/1000\n",
      "37/37 [==============================] - 2s 47ms/step - loss: 0.6542 - acc: 0.8933 - val_loss: 0.5882 - val_acc: 0.6850\n",
      "Epoch 95/1000\n",
      "37/37 [==============================] - 2s 46ms/step - loss: 0.3390 - acc: 0.8852 - val_loss: 1.3744 - val_acc: 0.7238\n",
      "Epoch 96/1000\n",
      "37/37 [==============================] - 2s 46ms/step - loss: 0.2831 - acc: 0.9361 - val_loss: 1.3545 - val_acc: 0.7147\n",
      "Epoch 97/1000\n",
      "37/37 [==============================] - 2s 46ms/step - loss: 0.2359 - acc: 0.9524 - val_loss: 1.7116 - val_acc: 0.7206\n",
      "Epoch 98/1000\n",
      "37/37 [==============================] - 2s 46ms/step - loss: 0.2178 - acc: 0.9617 - val_loss: 1.7608 - val_acc: 0.7251\n",
      "Epoch 99/1000\n",
      "37/37 [==============================] - 2s 46ms/step - loss: 0.1988 - acc: 0.9643 - val_loss: 1.8219 - val_acc: 0.7277\n",
      "Epoch 100/1000\n",
      "37/37 [==============================] - 2s 46ms/step - loss: 0.1828 - acc: 0.9679 - val_loss: 1.8428 - val_acc: 0.7277\n",
      "Epoch 101/1000\n",
      "37/37 [==============================] - 2s 46ms/step - loss: 0.1695 - acc: 0.9730 - val_loss: 1.8616 - val_acc: 0.7309\n",
      "Epoch 102/1000\n",
      "37/37 [==============================] - 2s 46ms/step - loss: 0.1587 - acc: 0.9721 - val_loss: 1.9012 - val_acc: 0.7329\n",
      "Epoch 103/1000\n",
      "37/37 [==============================] - 2s 46ms/step - loss: 0.1433 - acc: 0.9740 - val_loss: 1.9087 - val_acc: 0.7374\n",
      "Epoch 104/1000\n",
      "37/37 [==============================] - 2s 46ms/step - loss: 0.1420 - acc: 0.9770 - val_loss: 1.9416 - val_acc: 0.7374\n",
      "Epoch 105/1000\n",
      "37/37 [==============================] - 2s 46ms/step - loss: 0.1314 - acc: 0.9770 - val_loss: 1.8163 - val_acc: 0.7374\n",
      "Epoch 106/1000\n",
      "37/37 [==============================] - 2s 46ms/step - loss: 0.1360 - acc: 0.9731 - val_loss: 2.0052 - val_acc: 0.7393\n",
      "Epoch 107/1000\n",
      "37/37 [==============================] - 2s 46ms/step - loss: 0.1343 - acc: 0.9776 - val_loss: 1.9407 - val_acc: 0.7380\n",
      "Epoch 108/1000\n",
      "37/37 [==============================] - 2s 46ms/step - loss: 0.1267 - acc: 0.9769 - val_loss: 2.0072 - val_acc: 0.7400\n",
      "Epoch 109/1000\n",
      "37/37 [==============================] - 2s 46ms/step - loss: 0.1325 - acc: 0.9780 - val_loss: 2.0572 - val_acc: 0.7400\n",
      "Epoch 110/1000\n",
      "37/37 [==============================] - 2s 46ms/step - loss: 0.1300 - acc: 0.9785 - val_loss: 2.7011 - val_acc: 0.6798\n",
      "Epoch 111/1000\n",
      "37/37 [==============================] - 2s 46ms/step - loss: 0.3919 - acc: 0.8831 - val_loss: 2.0187 - val_acc: 0.7083\n",
      "Epoch 112/1000\n",
      "37/37 [==============================] - 2s 46ms/step - loss: 0.1736 - acc: 0.9569 - val_loss: 2.0986 - val_acc: 0.7251\n",
      "Epoch 113/1000\n",
      "37/37 [==============================] - 2s 46ms/step - loss: 0.1574 - acc: 0.9717 - val_loss: 2.0899 - val_acc: 0.7316\n",
      "Epoch 114/1000\n",
      "37/37 [==============================] - 2s 46ms/step - loss: 0.1282 - acc: 0.9760 - val_loss: 2.0970 - val_acc: 0.7361\n",
      "Epoch 115/1000\n",
      "37/37 [==============================] - 2s 46ms/step - loss: 0.1275 - acc: 0.9771 - val_loss: 2.0785 - val_acc: 0.7400\n",
      "Epoch 116/1000\n",
      "37/37 [==============================] - 2s 46ms/step - loss: 0.1204 - acc: 0.9778 - val_loss: 2.2607 - val_acc: 0.7380\n",
      "Epoch 117/1000\n",
      "37/37 [==============================] - 2s 46ms/step - loss: 0.1383 - acc: 0.9707 - val_loss: 2.4836 - val_acc: 0.7135\n",
      "Epoch 118/1000\n",
      "37/37 [==============================] - 2s 46ms/step - loss: 0.1453 - acc: 0.9710 - val_loss: 2.3113 - val_acc: 0.7309\n",
      "Epoch 119/1000\n",
      "37/37 [==============================] - 2s 47ms/step - loss: 0.1240 - acc: 0.9765 - val_loss: 2.4192 - val_acc: 0.7335\n",
      "Epoch 120/1000\n",
      "37/37 [==============================] - 2s 46ms/step - loss: 0.1209 - acc: 0.9798 - val_loss: 2.5932 - val_acc: 0.7342\n",
      "Epoch 121/1000\n",
      "37/37 [==============================] - 2s 46ms/step - loss: 0.1278 - acc: 0.9784 - val_loss: 2.6882 - val_acc: 0.7342\n",
      "Epoch 122/1000\n",
      "37/37 [==============================] - 2s 46ms/step - loss: 0.1168 - acc: 0.9793 - val_loss: 2.6490 - val_acc: 0.7329\n",
      "Epoch 123/1000\n"
     ]
    },
    {
     "name": "stdout",
     "output_type": "stream",
     "text": [
      "37/37 [==============================] - 2s 46ms/step - loss: 0.4973 - acc: 0.9433 - val_loss: 5.9896 - val_acc: 0.4955\n",
      "Epoch 124/1000\n",
      "37/37 [==============================] - 2s 46ms/step - loss: 2.0385 - acc: 0.6215 - val_loss: 0.8840 - val_acc: 0.6701\n",
      "Epoch 125/1000\n",
      "37/37 [==============================] - 2s 46ms/step - loss: 0.4673 - acc: 0.8406 - val_loss: 1.3073 - val_acc: 0.6805\n",
      "Epoch 126/1000\n",
      "37/37 [==============================] - 2s 46ms/step - loss: 0.4325 - acc: 0.8658 - val_loss: 1.3768 - val_acc: 0.6843\n",
      "Epoch 127/1000\n",
      "37/37 [==============================] - 2s 46ms/step - loss: 0.3850 - acc: 0.8710 - val_loss: 1.3811 - val_acc: 0.6779\n",
      "Epoch 128/1000\n",
      "37/37 [==============================] - 2s 46ms/step - loss: 0.3470 - acc: 0.8927 - val_loss: 1.5615 - val_acc: 0.6876\n",
      "Epoch 129/1000\n",
      "37/37 [==============================] - 2s 46ms/step - loss: 0.3214 - acc: 0.9008 - val_loss: 0.8789 - val_acc: 0.6734\n",
      "Epoch 130/1000\n",
      "37/37 [==============================] - 2s 46ms/step - loss: 0.3558 - acc: 0.8730 - val_loss: 0.6520 - val_acc: 0.6708\n",
      "Epoch 131/1000\n",
      "37/37 [==============================] - 2s 46ms/step - loss: 0.3641 - acc: 0.8642 - val_loss: 1.1997 - val_acc: 0.6837\n",
      "Epoch 132/1000\n",
      "37/37 [==============================] - 2s 46ms/step - loss: 0.3240 - acc: 0.9013 - val_loss: 1.5369 - val_acc: 0.6902\n",
      "Epoch 133/1000\n",
      "37/37 [==============================] - 2s 46ms/step - loss: 0.3119 - acc: 0.9127 - val_loss: 1.6367 - val_acc: 0.6889\n",
      "Epoch 134/1000\n",
      "37/37 [==============================] - 2s 46ms/step - loss: 0.2791 - acc: 0.9220 - val_loss: 1.7491 - val_acc: 0.6915\n",
      "Epoch 135/1000\n",
      "37/37 [==============================] - 2s 47ms/step - loss: 0.2751 - acc: 0.9250 - val_loss: 1.7312 - val_acc: 0.6902\n",
      "Epoch 136/1000\n",
      "37/37 [==============================] - 2s 46ms/step - loss: 0.2536 - acc: 0.9338 - val_loss: 1.8297 - val_acc: 0.6934\n",
      "Epoch 137/1000\n",
      "37/37 [==============================] - 2s 46ms/step - loss: 0.2467 - acc: 0.9363 - val_loss: 1.8966 - val_acc: 0.6934\n",
      "Epoch 138/1000\n",
      "37/37 [==============================] - 2s 46ms/step - loss: 0.2457 - acc: 0.9363 - val_loss: 1.9133 - val_acc: 0.6979\n",
      "Epoch 139/1000\n",
      "37/37 [==============================] - 2s 46ms/step - loss: 0.2351 - acc: 0.9419 - val_loss: 1.9262 - val_acc: 0.6986\n",
      "Epoch 140/1000\n",
      "37/37 [==============================] - 2s 46ms/step - loss: 0.2237 - acc: 0.9434 - val_loss: 1.9319 - val_acc: 0.6979\n",
      "Epoch 141/1000\n",
      "37/37 [==============================] - 2s 47ms/step - loss: 0.2134 - acc: 0.9444 - val_loss: 1.9450 - val_acc: 0.7005\n",
      "Epoch 142/1000\n",
      "37/37 [==============================] - 2s 46ms/step - loss: 0.2088 - acc: 0.9461 - val_loss: 1.9501 - val_acc: 0.7025\n",
      "Epoch 143/1000\n",
      "37/37 [==============================] - 2s 46ms/step - loss: 0.1965 - acc: 0.9528 - val_loss: 1.9747 - val_acc: 0.7044\n",
      "Epoch 144/1000\n",
      "37/37 [==============================] - 2s 46ms/step - loss: 0.1883 - acc: 0.9527 - val_loss: 1.9403 - val_acc: 0.7050\n",
      "Epoch 145/1000\n",
      "37/37 [==============================] - 2s 46ms/step - loss: 0.1813 - acc: 0.9561 - val_loss: 1.9991 - val_acc: 0.7070\n",
      "Epoch 146/1000\n",
      "37/37 [==============================] - 2s 46ms/step - loss: 0.1678 - acc: 0.9610 - val_loss: 2.0014 - val_acc: 0.7109\n",
      "Epoch 147/1000\n",
      "37/37 [==============================] - 2s 46ms/step - loss: 0.1593 - acc: 0.9622 - val_loss: 2.0405 - val_acc: 0.7160\n",
      "Epoch 148/1000\n",
      "37/37 [==============================] - 2s 46ms/step - loss: 0.1434 - acc: 0.9690 - val_loss: 2.0489 - val_acc: 0.7264\n",
      "Epoch 149/1000\n",
      "37/37 [==============================] - 2s 46ms/step - loss: 0.1349 - acc: 0.9691 - val_loss: 2.0672 - val_acc: 0.7309\n",
      "Epoch 150/1000\n",
      "37/37 [==============================] - 2s 46ms/step - loss: 0.1362 - acc: 0.9712 - val_loss: 2.0926 - val_acc: 0.7374\n",
      "Epoch 151/1000\n",
      "37/37 [==============================] - 2s 46ms/step - loss: 0.1345 - acc: 0.9712 - val_loss: 2.1291 - val_acc: 0.7413\n",
      "Epoch 152/1000\n",
      "37/37 [==============================] - 2s 46ms/step - loss: 0.1291 - acc: 0.9730 - val_loss: 2.1832 - val_acc: 0.7406\n",
      "Epoch 153/1000\n",
      "37/37 [==============================] - 2s 46ms/step - loss: 0.1311 - acc: 0.9748 - val_loss: 2.6159 - val_acc: 0.7419\n",
      "Epoch 154/1000\n",
      "37/37 [==============================] - 2s 46ms/step - loss: 0.1330 - acc: 0.9775 - val_loss: 2.7750 - val_acc: 0.7426\n",
      "Epoch 155/1000\n",
      "37/37 [==============================] - 2s 46ms/step - loss: 0.1230 - acc: 0.9726 - val_loss: 2.8246 - val_acc: 0.7380\n",
      "Epoch 156/1000\n",
      "37/37 [==============================] - 2s 46ms/step - loss: 0.1208 - acc: 0.9759 - val_loss: 2.8913 - val_acc: 0.7296\n",
      "Epoch 157/1000\n",
      "37/37 [==============================] - 2s 47ms/step - loss: 0.1240 - acc: 0.9727 - val_loss: 2.9721 - val_acc: 0.7245\n",
      "Epoch 158/1000\n",
      "37/37 [==============================] - 2s 46ms/step - loss: 0.1349 - acc: 0.9699 - val_loss: 2.8349 - val_acc: 0.7361\n",
      "Epoch 159/1000\n",
      "37/37 [==============================] - 2s 46ms/step - loss: 0.1144 - acc: 0.9737 - val_loss: 2.9284 - val_acc: 0.7393\n",
      "Epoch 160/1000\n",
      "37/37 [==============================] - 2s 46ms/step - loss: 0.1133 - acc: 0.9786 - val_loss: 2.9426 - val_acc: 0.7426\n",
      "Epoch 161/1000\n",
      "37/37 [==============================] - 2s 46ms/step - loss: 0.1119 - acc: 0.9769 - val_loss: 3.0288 - val_acc: 0.7374\n",
      "Epoch 162/1000\n",
      "37/37 [==============================] - 2s 46ms/step - loss: 0.1137 - acc: 0.9778 - val_loss: 2.9838 - val_acc: 0.7354\n",
      "Epoch 163/1000\n",
      "37/37 [==============================] - 2s 46ms/step - loss: 0.1107 - acc: 0.9788 - val_loss: 2.9917 - val_acc: 0.7400\n",
      "Epoch 164/1000\n",
      "37/37 [==============================] - 2s 46ms/step - loss: 0.1070 - acc: 0.9796 - val_loss: 2.9779 - val_acc: 0.7413\n",
      "Epoch 165/1000\n",
      "37/37 [==============================] - 2s 46ms/step - loss: 0.1176 - acc: 0.9786 - val_loss: 2.9887 - val_acc: 0.7413\n",
      "Epoch 166/1000\n",
      "37/37 [==============================] - 2s 46ms/step - loss: 0.1138 - acc: 0.9792 - val_loss: 3.0478 - val_acc: 0.7413\n",
      "Epoch 167/1000\n",
      "37/37 [==============================] - 2s 46ms/step - loss: 0.1150 - acc: 0.9794 - val_loss: 3.0880 - val_acc: 0.7413\n",
      "Epoch 168/1000\n",
      "37/37 [==============================] - 2s 46ms/step - loss: 0.1127 - acc: 0.9796 - val_loss: 3.2200 - val_acc: 0.7186\n",
      "Epoch 169/1000\n",
      "37/37 [==============================] - 2s 46ms/step - loss: 0.1602 - acc: 0.9719 - val_loss: 2.9908 - val_acc: 0.7419\n",
      "Epoch 170/1000\n",
      "37/37 [==============================] - 2s 46ms/step - loss: 0.1124 - acc: 0.9791 - val_loss: 3.0484 - val_acc: 0.7387\n",
      "Epoch 171/1000\n",
      "37/37 [==============================] - 2s 46ms/step - loss: 0.1074 - acc: 0.9808 - val_loss: 3.0648 - val_acc: 0.7419\n",
      "Epoch 172/1000\n",
      "37/37 [==============================] - 2s 46ms/step - loss: 0.1122 - acc: 0.9789 - val_loss: 3.0880 - val_acc: 0.7419\n",
      "Epoch 173/1000\n",
      "37/37 [==============================] - 2s 46ms/step - loss: 0.1128 - acc: 0.9798 - val_loss: 3.0716 - val_acc: 0.7393\n",
      "Epoch 174/1000\n",
      "37/37 [==============================] - 2s 46ms/step - loss: 0.1078 - acc: 0.9819 - val_loss: 3.1054 - val_acc: 0.7426\n",
      "Epoch 175/1000\n",
      "37/37 [==============================] - 2s 46ms/step - loss: 0.1092 - acc: 0.9820 - val_loss: 3.1229 - val_acc: 0.7426\n",
      "Epoch 176/1000\n",
      "37/37 [==============================] - 2s 46ms/step - loss: 0.1138 - acc: 0.9787 - val_loss: 3.1189 - val_acc: 0.7426\n",
      "Epoch 177/1000\n",
      "37/37 [==============================] - 2s 47ms/step - loss: 0.1095 - acc: 0.9783 - val_loss: 3.1217 - val_acc: 0.7400\n",
      "Epoch 178/1000\n",
      "37/37 [==============================] - 2s 46ms/step - loss: 0.1118 - acc: 0.9820 - val_loss: 3.1503 - val_acc: 0.7406\n",
      "Epoch 179/1000\n",
      "37/37 [==============================] - 2s 46ms/step - loss: 0.1234 - acc: 0.9846 - val_loss: 3.1666 - val_acc: 0.7426\n",
      "Epoch 180/1000\n",
      "37/37 [==============================] - 2s 46ms/step - loss: 0.1121 - acc: 0.9812 - val_loss: 3.1489 - val_acc: 0.7400\n",
      "Epoch 181/1000\n",
      "37/37 [==============================] - 2s 46ms/step - loss: 0.1057 - acc: 0.9817 - val_loss: 3.1522 - val_acc: 0.7393\n",
      "Epoch 182/1000\n",
      "37/37 [==============================] - 2s 46ms/step - loss: 0.1049 - acc: 0.9807 - val_loss: 3.1395 - val_acc: 0.7406\n",
      "Epoch 183/1000\n",
      "37/37 [==============================] - 2s 46ms/step - loss: 0.1067 - acc: 0.9809 - val_loss: 3.1629 - val_acc: 0.7367\n"
     ]
    },
    {
     "name": "stdout",
     "output_type": "stream",
     "text": [
      "Epoch 184/1000\n",
      "37/37 [==============================] - 2s 46ms/step - loss: 0.1052 - acc: 0.9834 - val_loss: 3.1274 - val_acc: 0.7380\n",
      "Epoch 185/1000\n",
      "37/37 [==============================] - 2s 46ms/step - loss: 0.1023 - acc: 0.9824 - val_loss: 3.1554 - val_acc: 0.7380\n",
      "Epoch 186/1000\n",
      "37/37 [==============================] - 2s 46ms/step - loss: 0.1041 - acc: 0.9824 - val_loss: 3.1925 - val_acc: 0.7400\n",
      "Epoch 187/1000\n",
      "37/37 [==============================] - 2s 46ms/step - loss: 0.1095 - acc: 0.9840 - val_loss: 3.2053 - val_acc: 0.7393\n",
      "Epoch 188/1000\n",
      "37/37 [==============================] - 2s 46ms/step - loss: 0.1054 - acc: 0.9829 - val_loss: 3.1643 - val_acc: 0.7367\n",
      "Epoch 189/1000\n",
      "37/37 [==============================] - 2s 46ms/step - loss: 0.1198 - acc: 0.9822 - val_loss: 3.1913 - val_acc: 0.7374\n",
      "Epoch 190/1000\n",
      "37/37 [==============================] - 2s 46ms/step - loss: 0.1411 - acc: 0.9791 - val_loss: 2.8671 - val_acc: 0.7102\n",
      "Epoch 191/1000\n",
      "37/37 [==============================] - 2s 47ms/step - loss: 0.1251 - acc: 0.9751 - val_loss: 2.6994 - val_acc: 0.7322\n",
      "Epoch 192/1000\n",
      "37/37 [==============================] - 2s 46ms/step - loss: 0.1104 - acc: 0.9803 - val_loss: 2.8535 - val_acc: 0.7400\n",
      "Epoch 193/1000\n",
      "37/37 [==============================] - 2s 46ms/step - loss: 0.1110 - acc: 0.9794 - val_loss: 3.0205 - val_acc: 0.7439\n",
      "Epoch 194/1000\n",
      "37/37 [==============================] - 2s 47ms/step - loss: 0.1073 - acc: 0.9789 - val_loss: 3.0872 - val_acc: 0.7432\n",
      "Epoch 195/1000\n",
      "37/37 [==============================] - 2s 46ms/step - loss: 0.1054 - acc: 0.9836 - val_loss: 3.1146 - val_acc: 0.7400\n",
      "Epoch 196/1000\n",
      "37/37 [==============================] - 2s 46ms/step - loss: 0.1069 - acc: 0.9853 - val_loss: 3.1478 - val_acc: 0.7439\n",
      "Epoch 197/1000\n",
      "37/37 [==============================] - 2s 46ms/step - loss: 0.1026 - acc: 0.9822 - val_loss: 3.1682 - val_acc: 0.7432\n",
      "Epoch 198/1000\n",
      "37/37 [==============================] - 2s 46ms/step - loss: 0.1027 - acc: 0.9825 - val_loss: 3.2130 - val_acc: 0.7387\n",
      "Epoch 199/1000\n",
      "37/37 [==============================] - 2s 46ms/step - loss: 0.1025 - acc: 0.9849 - val_loss: 3.2418 - val_acc: 0.7393\n",
      "Epoch 200/1000\n",
      "37/37 [==============================] - 2s 46ms/step - loss: 0.0987 - acc: 0.9866 - val_loss: 3.2696 - val_acc: 0.7296\n",
      "Epoch 201/1000\n",
      "37/37 [==============================] - 2s 46ms/step - loss: 0.2666 - acc: 0.9754 - val_loss: 3.0308 - val_acc: 0.7406\n",
      "Epoch 202/1000\n",
      "37/37 [==============================] - 2s 47ms/step - loss: 0.1063 - acc: 0.9834 - val_loss: 3.0730 - val_acc: 0.7387\n",
      "Epoch 203/1000\n",
      "37/37 [==============================] - 2s 46ms/step - loss: 0.1038 - acc: 0.9828 - val_loss: 3.1322 - val_acc: 0.7374\n",
      "Epoch 204/1000\n",
      "37/37 [==============================] - 2s 46ms/step - loss: 0.1036 - acc: 0.9835 - val_loss: 3.1535 - val_acc: 0.7367\n",
      "Epoch 205/1000\n",
      "37/37 [==============================] - 2s 46ms/step - loss: 0.1016 - acc: 0.9838 - val_loss: 2.7853 - val_acc: 0.7374\n",
      "Epoch 206/1000\n",
      "37/37 [==============================] - 2s 46ms/step - loss: 0.1125 - acc: 0.9837 - val_loss: 1.9733 - val_acc: 0.7393\n",
      "Epoch 207/1000\n",
      "37/37 [==============================] - 2s 46ms/step - loss: 0.1083 - acc: 0.9846 - val_loss: 2.8207 - val_acc: 0.7451\n",
      "Epoch 208/1000\n",
      "37/37 [==============================] - 2s 46ms/step - loss: 0.1004 - acc: 0.9850 - val_loss: 3.1633 - val_acc: 0.7374\n",
      "Epoch 209/1000\n",
      "37/37 [==============================] - 2s 46ms/step - loss: 0.0992 - acc: 0.9870 - val_loss: 3.2340 - val_acc: 0.7426\n",
      "Epoch 210/1000\n",
      "37/37 [==============================] - 2s 46ms/step - loss: 0.0975 - acc: 0.9864 - val_loss: 3.2571 - val_acc: 0.7426\n",
      "Epoch 211/1000\n",
      "37/37 [==============================] - 2s 46ms/step - loss: 0.0969 - acc: 0.9870 - val_loss: 3.2895 - val_acc: 0.7432\n",
      "Epoch 212/1000\n",
      "37/37 [==============================] - 2s 46ms/step - loss: 0.0938 - acc: 0.9865 - val_loss: 3.3148 - val_acc: 0.7270\n",
      "Epoch 213/1000\n",
      "37/37 [==============================] - 2s 46ms/step - loss: 0.2145 - acc: 0.9691 - val_loss: 2.9177 - val_acc: 0.7413\n",
      "Epoch 214/1000\n",
      "37/37 [==============================] - 2s 46ms/step - loss: 0.1005 - acc: 0.9831 - val_loss: 3.0232 - val_acc: 0.7387\n",
      "Epoch 215/1000\n",
      "37/37 [==============================] - 2s 46ms/step - loss: 0.1006 - acc: 0.9846 - val_loss: 3.1950 - val_acc: 0.7413\n",
      "Epoch 216/1000\n",
      "37/37 [==============================] - 2s 46ms/step - loss: 0.0953 - acc: 0.9850 - val_loss: 3.1883 - val_acc: 0.7400\n",
      "Epoch 217/1000\n",
      "37/37 [==============================] - 2s 46ms/step - loss: 0.0984 - acc: 0.9862 - val_loss: 3.2463 - val_acc: 0.7380\n",
      "Epoch 218/1000\n",
      "37/37 [==============================] - 2s 46ms/step - loss: 0.0968 - acc: 0.9829 - val_loss: 3.2577 - val_acc: 0.7387\n",
      "Epoch 219/1000\n",
      "37/37 [==============================] - 2s 46ms/step - loss: 0.0979 - acc: 0.9854 - val_loss: 3.2749 - val_acc: 0.7400\n",
      "Epoch 220/1000\n",
      "37/37 [==============================] - 2s 46ms/step - loss: 0.0976 - acc: 0.9871 - val_loss: 3.3115 - val_acc: 0.7400\n",
      "Epoch 221/1000\n",
      "37/37 [==============================] - 2s 46ms/step - loss: 0.0948 - acc: 0.9872 - val_loss: 3.3125 - val_acc: 0.7445\n",
      "Epoch 222/1000\n",
      "37/37 [==============================] - 2s 47ms/step - loss: 0.0964 - acc: 0.9862 - val_loss: 3.3300 - val_acc: 0.7367\n",
      "Epoch 223/1000\n",
      "37/37 [==============================] - 2s 46ms/step - loss: 0.0964 - acc: 0.9852 - val_loss: 3.3431 - val_acc: 0.7348\n",
      "Epoch 224/1000\n",
      "37/37 [==============================] - 2s 47ms/step - loss: 0.0957 - acc: 0.9862 - val_loss: 3.2930 - val_acc: 0.7335\n",
      "Epoch 225/1000\n",
      "37/37 [==============================] - 2s 46ms/step - loss: 0.0966 - acc: 0.9851 - val_loss: 3.3610 - val_acc: 0.7419\n",
      "Epoch 226/1000\n",
      "37/37 [==============================] - 2s 46ms/step - loss: 0.0999 - acc: 0.9861 - val_loss: 3.3874 - val_acc: 0.7419\n",
      "Epoch 227/1000\n",
      "37/37 [==============================] - 2s 46ms/step - loss: 0.1067 - acc: 0.9832 - val_loss: 3.3260 - val_acc: 0.7290\n",
      "Epoch 228/1000\n",
      "37/37 [==============================] - 2s 46ms/step - loss: 0.0978 - acc: 0.9858 - val_loss: 3.1941 - val_acc: 0.7380\n",
      "Epoch 229/1000\n",
      "37/37 [==============================] - 2s 46ms/step - loss: 0.0950 - acc: 0.9871 - val_loss: 3.1665 - val_acc: 0.7432\n",
      "Epoch 230/1000\n",
      "37/37 [==============================] - 2s 46ms/step - loss: 0.0947 - acc: 0.9847 - val_loss: 3.2399 - val_acc: 0.7380\n",
      "Epoch 231/1000\n",
      "37/37 [==============================] - 2s 47ms/step - loss: 0.0934 - acc: 0.9874 - val_loss: 3.3059 - val_acc: 0.7419\n",
      "Epoch 232/1000\n",
      "37/37 [==============================] - 2s 46ms/step - loss: 0.1012 - acc: 0.9842 - val_loss: 3.3068 - val_acc: 0.7374\n",
      "Epoch 233/1000\n",
      "37/37 [==============================] - 2s 46ms/step - loss: 0.0935 - acc: 0.9879 - val_loss: 3.3327 - val_acc: 0.7348\n",
      "Epoch 234/1000\n",
      "37/37 [==============================] - 2s 46ms/step - loss: 0.0918 - acc: 0.9882 - val_loss: 3.3570 - val_acc: 0.7361\n",
      "Epoch 235/1000\n",
      "37/37 [==============================] - 2s 47ms/step - loss: 0.0932 - acc: 0.9878 - val_loss: 3.3700 - val_acc: 0.7367\n",
      "Epoch 236/1000\n",
      "37/37 [==============================] - 2s 46ms/step - loss: 0.0935 - acc: 0.9854 - val_loss: 3.4261 - val_acc: 0.7393\n",
      "Epoch 237/1000\n",
      "37/37 [==============================] - 2s 46ms/step - loss: 0.0920 - acc: 0.9866 - val_loss: 3.4437 - val_acc: 0.7380\n",
      "Epoch 238/1000\n",
      "37/37 [==============================] - 2s 46ms/step - loss: 0.0905 - acc: 0.9885 - val_loss: 3.4326 - val_acc: 0.7348\n",
      "Epoch 239/1000\n",
      "37/37 [==============================] - 2s 46ms/step - loss: 0.0938 - acc: 0.9868 - val_loss: 3.4436 - val_acc: 0.7426\n",
      "Epoch 240/1000\n",
      "37/37 [==============================] - 2s 46ms/step - loss: 0.0931 - acc: 0.9879 - val_loss: 3.4569 - val_acc: 0.7348\n",
      "Epoch 241/1000\n",
      "37/37 [==============================] - 2s 46ms/step - loss: 0.0922 - acc: 0.9883 - val_loss: 3.4591 - val_acc: 0.7374\n",
      "Epoch 242/1000\n",
      "37/37 [==============================] - 2s 46ms/step - loss: 0.0915 - acc: 0.9870 - val_loss: 3.4646 - val_acc: 0.7361\n",
      "Epoch 243/1000\n",
      "37/37 [==============================] - 2s 46ms/step - loss: 0.1006 - acc: 0.9859 - val_loss: 3.5065 - val_acc: 0.7354\n",
      "Epoch 244/1000\n",
      "37/37 [==============================] - 2s 46ms/step - loss: 0.0913 - acc: 0.9864 - val_loss: 3.4546 - val_acc: 0.7361\n"
     ]
    },
    {
     "name": "stdout",
     "output_type": "stream",
     "text": [
      "Epoch 245/1000\n",
      "37/37 [==============================] - 2s 46ms/step - loss: 0.0906 - acc: 0.9885 - val_loss: 3.4542 - val_acc: 0.7335\n",
      "Epoch 246/1000\n",
      "37/37 [==============================] - 2s 46ms/step - loss: 0.0921 - acc: 0.9883 - val_loss: 3.4535 - val_acc: 0.7329\n",
      "Epoch 247/1000\n",
      "37/37 [==============================] - 2s 46ms/step - loss: 0.0890 - acc: 0.9894 - val_loss: 3.5011 - val_acc: 0.7348\n",
      "Epoch 248/1000\n",
      "37/37 [==============================] - 2s 46ms/step - loss: 0.0886 - acc: 0.9900 - val_loss: 3.5242 - val_acc: 0.7380\n",
      "Epoch 249/1000\n",
      "37/37 [==============================] - 2s 46ms/step - loss: 0.0953 - acc: 0.9904 - val_loss: 3.5266 - val_acc: 0.7361\n",
      "Epoch 250/1000\n",
      "37/37 [==============================] - 2s 46ms/step - loss: 0.0888 - acc: 0.9903 - val_loss: 3.4641 - val_acc: 0.7322\n",
      "Epoch 251/1000\n",
      "37/37 [==============================] - 2s 46ms/step - loss: 0.0892 - acc: 0.9881 - val_loss: 3.5311 - val_acc: 0.7342\n",
      "Epoch 252/1000\n",
      "37/37 [==============================] - 2s 46ms/step - loss: 0.0871 - acc: 0.9902 - val_loss: 3.5468 - val_acc: 0.7361\n",
      "Epoch 253/1000\n",
      "37/37 [==============================] - 2s 46ms/step - loss: 0.0822 - acc: 0.9907 - val_loss: 3.5612 - val_acc: 0.7374\n",
      "Epoch 254/1000\n",
      "37/37 [==============================] - 2s 46ms/step - loss: 0.0883 - acc: 0.9905 - val_loss: 3.5564 - val_acc: 0.7348\n",
      "Epoch 255/1000\n",
      "37/37 [==============================] - 2s 46ms/step - loss: 0.0960 - acc: 0.9887 - val_loss: 3.5897 - val_acc: 0.7225\n",
      "Epoch 256/1000\n",
      "37/37 [==============================] - 2s 47ms/step - loss: 0.1082 - acc: 0.9847 - val_loss: 3.4501 - val_acc: 0.7270\n",
      "Epoch 257/1000\n",
      "37/37 [==============================] - 2s 46ms/step - loss: 0.0901 - acc: 0.9892 - val_loss: 3.4524 - val_acc: 0.7257\n",
      "Epoch 258/1000\n",
      "37/37 [==============================] - 2s 46ms/step - loss: 0.0920 - acc: 0.9880 - val_loss: 3.3414 - val_acc: 0.7277\n",
      "Epoch 259/1000\n",
      "37/37 [==============================] - 2s 46ms/step - loss: 0.0949 - acc: 0.9870 - val_loss: 3.4484 - val_acc: 0.7290\n",
      "Epoch 260/1000\n",
      "37/37 [==============================] - 2s 46ms/step - loss: 0.0871 - acc: 0.9916 - val_loss: 3.5472 - val_acc: 0.7335\n",
      "Epoch 261/1000\n",
      "37/37 [==============================] - 2s 46ms/step - loss: 0.0871 - acc: 0.9903 - val_loss: 3.5820 - val_acc: 0.7354\n",
      "Epoch 262/1000\n",
      "37/37 [==============================] - 2s 46ms/step - loss: 0.0857 - acc: 0.9916 - val_loss: 3.6122 - val_acc: 0.7354\n",
      "Epoch 263/1000\n",
      "37/37 [==============================] - 2s 46ms/step - loss: 0.0868 - acc: 0.9900 - val_loss: 3.6123 - val_acc: 0.7316\n",
      "Epoch 264/1000\n",
      "37/37 [==============================] - 2s 46ms/step - loss: 0.0872 - acc: 0.9910 - val_loss: 3.6368 - val_acc: 0.7329\n",
      "Epoch 265/1000\n",
      "37/37 [==============================] - 2s 47ms/step - loss: 0.0874 - acc: 0.9898 - val_loss: 3.6429 - val_acc: 0.7303\n",
      "Epoch 266/1000\n",
      "37/37 [==============================] - 2s 46ms/step - loss: 0.0861 - acc: 0.9904 - val_loss: 3.6650 - val_acc: 0.7335\n",
      "Epoch 267/1000\n",
      "37/37 [==============================] - 2s 46ms/step - loss: 0.0842 - acc: 0.9919 - val_loss: 3.6709 - val_acc: 0.7335\n",
      "Epoch 268/1000\n",
      "37/37 [==============================] - 2s 46ms/step - loss: 0.0843 - acc: 0.9918 - val_loss: 3.7085 - val_acc: 0.7219\n",
      "Epoch 269/1000\n",
      "37/37 [==============================] - 2s 46ms/step - loss: 0.1239 - acc: 0.9844 - val_loss: 3.5919 - val_acc: 0.7367\n",
      "Epoch 270/1000\n",
      "37/37 [==============================] - 2s 46ms/step - loss: 0.0869 - acc: 0.9903 - val_loss: 3.5905 - val_acc: 0.7374\n",
      "Epoch 271/1000\n",
      "37/37 [==============================] - 2s 46ms/step - loss: 0.0856 - acc: 0.9899 - val_loss: 3.5684 - val_acc: 0.7335\n",
      "Epoch 272/1000\n",
      "37/37 [==============================] - 2s 46ms/step - loss: 0.0843 - acc: 0.9914 - val_loss: 3.5981 - val_acc: 0.7342\n",
      "Epoch 273/1000\n",
      "37/37 [==============================] - 2s 46ms/step - loss: 0.0835 - acc: 0.9904 - val_loss: 3.7068 - val_acc: 0.7303\n",
      "Epoch 274/1000\n",
      "37/37 [==============================] - 2s 46ms/step - loss: 0.0914 - acc: 0.9912 - val_loss: 3.6675 - val_acc: 0.7290\n",
      "Epoch 275/1000\n",
      "37/37 [==============================] - 2s 46ms/step - loss: 0.3237 - acc: 0.9767 - val_loss: 3.3923 - val_acc: 0.7309\n",
      "Epoch 276/1000\n",
      "37/37 [==============================] - 2s 46ms/step - loss: 0.0945 - acc: 0.9891 - val_loss: 3.5015 - val_acc: 0.7329\n",
      "Epoch 277/1000\n",
      "37/37 [==============================] - 2s 46ms/step - loss: 0.0940 - acc: 0.9904 - val_loss: 3.5347 - val_acc: 0.7374\n",
      "Epoch 278/1000\n",
      "37/37 [==============================] - 2s 46ms/step - loss: 0.0853 - acc: 0.9911 - val_loss: 3.5173 - val_acc: 0.7400\n",
      "Epoch 279/1000\n",
      "37/37 [==============================] - 2s 46ms/step - loss: 0.0979 - acc: 0.9903 - val_loss: 3.5434 - val_acc: 0.7380\n",
      "Epoch 280/1000\n",
      "37/37 [==============================] - 2s 46ms/step - loss: 0.0842 - acc: 0.9912 - val_loss: 3.5352 - val_acc: 0.7380\n",
      "Epoch 281/1000\n",
      "37/37 [==============================] - 2s 46ms/step - loss: 0.0903 - acc: 0.9920 - val_loss: 3.5465 - val_acc: 0.7348\n",
      "Epoch 282/1000\n",
      "37/37 [==============================] - 2s 46ms/step - loss: 0.0820 - acc: 0.9924 - val_loss: 3.5548 - val_acc: 0.7335\n",
      "Epoch 283/1000\n",
      "37/37 [==============================] - 2s 46ms/step - loss: 0.0835 - acc: 0.9927 - val_loss: 3.5487 - val_acc: 0.7335\n",
      "Epoch 284/1000\n",
      "37/37 [==============================] - 2s 46ms/step - loss: 0.0861 - acc: 0.9919 - val_loss: 3.5520 - val_acc: 0.7348\n",
      "Epoch 285/1000\n",
      "37/37 [==============================] - 2s 46ms/step - loss: 0.0814 - acc: 0.9918 - val_loss: 3.5586 - val_acc: 0.7367\n",
      "Epoch 286/1000\n",
      "37/37 [==============================] - 2s 46ms/step - loss: 0.0821 - acc: 0.9929 - val_loss: 3.5770 - val_acc: 0.7354\n",
      "Epoch 287/1000\n",
      "37/37 [==============================] - 2s 46ms/step - loss: 0.0841 - acc: 0.9912 - val_loss: 3.6258 - val_acc: 0.7348\n",
      "Epoch 288/1000\n",
      "37/37 [==============================] - 2s 46ms/step - loss: 0.0834 - acc: 0.9915 - val_loss: 3.6321 - val_acc: 0.7393\n",
      "Epoch 289/1000\n",
      "37/37 [==============================] - 2s 46ms/step - loss: 0.0814 - acc: 0.9928 - val_loss: 3.6536 - val_acc: 0.7367\n",
      "Epoch 290/1000\n",
      "37/37 [==============================] - 2s 46ms/step - loss: 0.1730 - acc: 0.9828 - val_loss: 3.7620 - val_acc: 0.7128\n",
      "Epoch 291/1000\n",
      "37/37 [==============================] - 2s 46ms/step - loss: 0.1998 - acc: 0.9697 - val_loss: 3.0468 - val_acc: 0.7303\n",
      "Epoch 292/1000\n",
      "37/37 [==============================] - 2s 46ms/step - loss: 0.1085 - acc: 0.9874 - val_loss: 3.3139 - val_acc: 0.7335\n",
      "Epoch 293/1000\n",
      "37/37 [==============================] - 2s 46ms/step - loss: 0.1017 - acc: 0.9896 - val_loss: 3.3178 - val_acc: 0.7316\n",
      "Epoch 294/1000\n",
      "37/37 [==============================] - 2s 46ms/step - loss: 0.0934 - acc: 0.9896 - val_loss: 3.4714 - val_acc: 0.7290\n",
      "Epoch 295/1000\n",
      "37/37 [==============================] - 2s 46ms/step - loss: 0.0884 - acc: 0.9912 - val_loss: 3.5154 - val_acc: 0.7303\n",
      "Epoch 296/1000\n",
      "37/37 [==============================] - 2s 46ms/step - loss: 0.0861 - acc: 0.9919 - val_loss: 3.5058 - val_acc: 0.7303\n",
      "Epoch 297/1000\n",
      "37/37 [==============================] - 2s 46ms/step - loss: 0.0847 - acc: 0.9918 - val_loss: 3.5318 - val_acc: 0.7296\n",
      "Epoch 298/1000\n",
      "37/37 [==============================] - 2s 46ms/step - loss: 0.0841 - acc: 0.9918 - val_loss: 3.5370 - val_acc: 0.7335\n",
      "Epoch 299/1000\n",
      "37/37 [==============================] - 2s 46ms/step - loss: 0.0849 - acc: 0.9917 - val_loss: 3.5663 - val_acc: 0.7270\n",
      "Epoch 300/1000\n",
      "37/37 [==============================] - 2s 46ms/step - loss: 0.0834 - acc: 0.9929 - val_loss: 3.5745 - val_acc: 0.7296\n",
      "Epoch 301/1000\n",
      "37/37 [==============================] - 2s 46ms/step - loss: 0.0830 - acc: 0.9926 - val_loss: 3.5673 - val_acc: 0.7257\n",
      "Epoch 302/1000\n",
      "37/37 [==============================] - 2s 46ms/step - loss: 0.0833 - acc: 0.9925 - val_loss: 3.5851 - val_acc: 0.7264\n",
      "Epoch 303/1000\n",
      "37/37 [==============================] - 2s 47ms/step - loss: 0.0838 - acc: 0.9922 - val_loss: 3.6369 - val_acc: 0.7290\n",
      "Epoch 304/1000\n",
      "37/37 [==============================] - 2s 46ms/step - loss: 0.0813 - acc: 0.9931 - val_loss: 3.6374 - val_acc: 0.7270\n",
      "Epoch 305/1000\n",
      "37/37 [==============================] - 2s 47ms/step - loss: 0.0820 - acc: 0.9927 - val_loss: 3.6661 - val_acc: 0.7270\n"
     ]
    },
    {
     "name": "stdout",
     "output_type": "stream",
     "text": [
      "Epoch 306/1000\n",
      "37/37 [==============================] - 2s 46ms/step - loss: 0.0963 - acc: 0.9898 - val_loss: 3.6391 - val_acc: 0.7296\n",
      "Epoch 307/1000\n",
      "37/37 [==============================] - 2s 46ms/step - loss: 0.0837 - acc: 0.9924 - val_loss: 3.6306 - val_acc: 0.7264\n",
      "Epoch 308/1000\n",
      "37/37 [==============================] - 2s 46ms/step - loss: 0.0812 - acc: 0.9936 - val_loss: 3.6603 - val_acc: 0.7283\n",
      "Epoch 309/1000\n",
      "37/37 [==============================] - 2s 47ms/step - loss: 0.0811 - acc: 0.9932 - val_loss: 3.6764 - val_acc: 0.7290\n",
      "Epoch 310/1000\n",
      "37/37 [==============================] - 2s 46ms/step - loss: 0.0847 - acc: 0.9917 - val_loss: 3.7016 - val_acc: 0.7335\n",
      "Epoch 311/1000\n",
      "37/37 [==============================] - 2s 46ms/step - loss: 0.0831 - acc: 0.9920 - val_loss: 3.6627 - val_acc: 0.7277\n",
      "Epoch 312/1000\n",
      "37/37 [==============================] - 2s 46ms/step - loss: 0.0803 - acc: 0.9928 - val_loss: 3.6742 - val_acc: 0.7277\n",
      "Epoch 313/1000\n",
      "37/37 [==============================] - 2s 46ms/step - loss: 0.0804 - acc: 0.9932 - val_loss: 3.7058 - val_acc: 0.7264\n",
      "Epoch 314/1000\n",
      "37/37 [==============================] - 2s 46ms/step - loss: 0.0805 - acc: 0.9931 - val_loss: 3.7850 - val_acc: 0.7270\n",
      "Epoch 315/1000\n",
      "37/37 [==============================] - 2s 46ms/step - loss: 0.0803 - acc: 0.9936 - val_loss: 3.7880 - val_acc: 0.7270\n",
      "Epoch 316/1000\n",
      "37/37 [==============================] - 2s 46ms/step - loss: 0.0858 - acc: 0.9938 - val_loss: 3.7914 - val_acc: 0.7264\n",
      "Epoch 317/1000\n",
      "37/37 [==============================] - 2s 46ms/step - loss: 0.0794 - acc: 0.9934 - val_loss: 3.7989 - val_acc: 0.7251\n",
      "Epoch 318/1000\n",
      "37/37 [==============================] - 2s 46ms/step - loss: 0.0797 - acc: 0.9939 - val_loss: 3.7837 - val_acc: 0.7296\n",
      "Epoch 319/1000\n",
      "37/37 [==============================] - 2s 46ms/step - loss: 0.0812 - acc: 0.9918 - val_loss: 3.8067 - val_acc: 0.7290\n",
      "Epoch 320/1000\n",
      "37/37 [==============================] - 2s 46ms/step - loss: 0.0782 - acc: 0.9946 - val_loss: 3.7872 - val_acc: 0.7277\n",
      "Epoch 321/1000\n",
      "37/37 [==============================] - 2s 46ms/step - loss: 0.0797 - acc: 0.9933 - val_loss: 3.7737 - val_acc: 0.7270\n",
      "Epoch 322/1000\n",
      "37/37 [==============================] - 2s 46ms/step - loss: 0.0792 - acc: 0.9941 - val_loss: 3.8049 - val_acc: 0.7290\n",
      "Epoch 323/1000\n",
      "37/37 [==============================] - 2s 46ms/step - loss: 0.0810 - acc: 0.9925 - val_loss: 3.7865 - val_acc: 0.7245\n",
      "Epoch 324/1000\n",
      "37/37 [==============================] - 2s 47ms/step - loss: 0.0801 - acc: 0.9934 - val_loss: 3.8172 - val_acc: 0.7264\n",
      "Epoch 325/1000\n",
      "37/37 [==============================] - 2s 46ms/step - loss: 0.0784 - acc: 0.9943 - val_loss: 3.8500 - val_acc: 0.7251\n",
      "Epoch 326/1000\n",
      "37/37 [==============================] - 2s 46ms/step - loss: 0.0776 - acc: 0.9949 - val_loss: 3.8736 - val_acc: 0.7238\n",
      "Epoch 327/1000\n",
      "37/37 [==============================] - 2s 47ms/step - loss: 0.0782 - acc: 0.9938 - val_loss: 3.8585 - val_acc: 0.7238\n",
      "Epoch 328/1000\n",
      "37/37 [==============================] - 2s 46ms/step - loss: 0.0785 - acc: 0.9945 - val_loss: 3.8769 - val_acc: 0.7257\n",
      "Epoch 329/1000\n",
      "37/37 [==============================] - 2s 47ms/step - loss: 0.0776 - acc: 0.9950 - val_loss: 3.9178 - val_acc: 0.7251\n",
      "Epoch 330/1000\n",
      "37/37 [==============================] - 2s 47ms/step - loss: 0.0788 - acc: 0.9933 - val_loss: 3.9089 - val_acc: 0.7238\n",
      "Epoch 331/1000\n",
      "37/37 [==============================] - 2s 47ms/step - loss: 0.0773 - acc: 0.9950 - val_loss: 3.9216 - val_acc: 0.7212\n",
      "Epoch 332/1000\n",
      "37/37 [==============================] - 2s 46ms/step - loss: 0.0773 - acc: 0.9948 - val_loss: 3.9112 - val_acc: 0.7257\n",
      "Epoch 333/1000\n",
      "37/37 [==============================] - 2s 46ms/step - loss: 0.0787 - acc: 0.9946 - val_loss: 3.9387 - val_acc: 0.7251\n",
      "Epoch 334/1000\n",
      "37/37 [==============================] - 2s 46ms/step - loss: 0.0780 - acc: 0.9943 - val_loss: 3.8884 - val_acc: 0.7257\n",
      "Epoch 335/1000\n",
      "37/37 [==============================] - 2s 47ms/step - loss: 0.0847 - acc: 0.9943 - val_loss: 3.9209 - val_acc: 0.7245\n",
      "Epoch 336/1000\n",
      "37/37 [==============================] - 2s 47ms/step - loss: 0.0800 - acc: 0.9939 - val_loss: 3.8302 - val_acc: 0.7277\n",
      "Epoch 337/1000\n",
      "37/37 [==============================] - 2s 47ms/step - loss: 0.0903 - acc: 0.9932 - val_loss: 3.8486 - val_acc: 0.7303\n",
      "Epoch 338/1000\n",
      "37/37 [==============================] - 2s 46ms/step - loss: 0.0897 - acc: 0.9937 - val_loss: 3.8858 - val_acc: 0.7232\n",
      "Epoch 339/1000\n",
      "37/37 [==============================] - 2s 46ms/step - loss: 0.0773 - acc: 0.9949 - val_loss: 3.9083 - val_acc: 0.7251\n",
      "Epoch 340/1000\n",
      "37/37 [==============================] - 2s 46ms/step - loss: 0.0785 - acc: 0.9939 - val_loss: 3.9389 - val_acc: 0.7238\n",
      "Epoch 341/1000\n",
      "37/37 [==============================] - 2s 47ms/step - loss: 0.0787 - acc: 0.9943 - val_loss: 3.9353 - val_acc: 0.7277\n",
      "Epoch 342/1000\n",
      "37/37 [==============================] - 2s 46ms/step - loss: 0.0786 - acc: 0.9946 - val_loss: 3.9486 - val_acc: 0.7238\n",
      "Epoch 343/1000\n",
      "37/37 [==============================] - 2s 46ms/step - loss: 0.0771 - acc: 0.9950 - val_loss: 3.9136 - val_acc: 0.7225\n",
      "Epoch 344/1000\n",
      "37/37 [==============================] - 2s 46ms/step - loss: 0.0766 - acc: 0.9950 - val_loss: 4.0037 - val_acc: 0.7245\n",
      "Epoch 345/1000\n",
      "37/37 [==============================] - 2s 47ms/step - loss: 0.0771 - acc: 0.9950 - val_loss: 3.9940 - val_acc: 0.7245\n",
      "Epoch 346/1000\n",
      "37/37 [==============================] - 2s 46ms/step - loss: 0.0774 - acc: 0.9950 - val_loss: 3.9820 - val_acc: 0.7219\n",
      "Epoch 347/1000\n",
      "37/37 [==============================] - 2s 46ms/step - loss: 0.0771 - acc: 0.9950 - val_loss: 3.9637 - val_acc: 0.7251\n",
      "Epoch 348/1000\n",
      "37/37 [==============================] - 2s 46ms/step - loss: 0.0766 - acc: 0.9950 - val_loss: 3.9814 - val_acc: 0.7251\n",
      "Epoch 349/1000\n",
      "37/37 [==============================] - 2s 46ms/step - loss: 0.0773 - acc: 0.9950 - val_loss: 3.9844 - val_acc: 0.7245\n",
      "Epoch 350/1000\n",
      "37/37 [==============================] - 2s 46ms/step - loss: 0.0781 - acc: 0.9940 - val_loss: 4.0244 - val_acc: 0.7232\n",
      "Epoch 351/1000\n",
      "37/37 [==============================] - 2s 46ms/step - loss: 0.0767 - acc: 0.9950 - val_loss: 4.0330 - val_acc: 0.7225\n",
      "Epoch 352/1000\n",
      "37/37 [==============================] - 2s 46ms/step - loss: 0.0768 - acc: 0.9950 - val_loss: 3.9886 - val_acc: 0.7206\n",
      "Epoch 353/1000\n",
      "37/37 [==============================] - 2s 46ms/step - loss: 0.0832 - acc: 0.9914 - val_loss: 3.9448 - val_acc: 0.7238\n",
      "Epoch 354/1000\n",
      "37/37 [==============================] - 2s 47ms/step - loss: 0.0791 - acc: 0.9935 - val_loss: 3.8723 - val_acc: 0.7270\n",
      "Epoch 355/1000\n",
      "37/37 [==============================] - 2s 47ms/step - loss: 0.0771 - acc: 0.9949 - val_loss: 3.9347 - val_acc: 0.7303\n",
      "Epoch 356/1000\n",
      "37/37 [==============================] - 2s 47ms/step - loss: 0.0767 - acc: 0.9950 - val_loss: 3.9244 - val_acc: 0.7316\n",
      "Epoch 357/1000\n",
      "37/37 [==============================] - 2s 46ms/step - loss: 0.0768 - acc: 0.9950 - val_loss: 3.9835 - val_acc: 0.7296\n",
      "Epoch 358/1000\n",
      "37/37 [==============================] - 2s 46ms/step - loss: 0.0852 - acc: 0.9932 - val_loss: 3.9267 - val_acc: 0.7257\n",
      "Epoch 359/1000\n",
      "37/37 [==============================] - 2s 47ms/step - loss: 0.0769 - acc: 0.9949 - val_loss: 3.9447 - val_acc: 0.7245\n",
      "Epoch 360/1000\n",
      "37/37 [==============================] - 2s 47ms/step - loss: 0.0765 - acc: 0.9950 - val_loss: 3.9464 - val_acc: 0.7316\n",
      "Epoch 361/1000\n",
      "37/37 [==============================] - 2s 46ms/step - loss: 0.0765 - acc: 0.9950 - val_loss: 3.9410 - val_acc: 0.7316\n",
      "Epoch 362/1000\n",
      "37/37 [==============================] - 2s 47ms/step - loss: 0.0765 - acc: 0.9950 - val_loss: 3.9676 - val_acc: 0.7303\n",
      "Epoch 363/1000\n",
      "37/37 [==============================] - 2s 46ms/step - loss: 0.0767 - acc: 0.9950 - val_loss: 3.9759 - val_acc: 0.7283\n",
      "Epoch 364/1000\n",
      "37/37 [==============================] - 2s 46ms/step - loss: 0.0766 - acc: 0.9949 - val_loss: 3.9852 - val_acc: 0.7290\n",
      "Epoch 365/1000\n",
      "37/37 [==============================] - 2s 46ms/step - loss: 0.0766 - acc: 0.9949 - val_loss: 3.8944 - val_acc: 0.7290\n",
      "Epoch 366/1000\n"
     ]
    },
    {
     "name": "stdout",
     "output_type": "stream",
     "text": [
      "37/37 [==============================] - 2s 46ms/step - loss: 0.0765 - acc: 0.9950 - val_loss: 3.9250 - val_acc: 0.7290\n",
      "Epoch 367/1000\n",
      "37/37 [==============================] - 2s 46ms/step - loss: 0.0765 - acc: 0.9950 - val_loss: 3.9388 - val_acc: 0.7290\n",
      "Epoch 368/1000\n",
      "37/37 [==============================] - 2s 46ms/step - loss: 0.0773 - acc: 0.9946 - val_loss: 3.9446 - val_acc: 0.7329\n",
      "Epoch 369/1000\n",
      "37/37 [==============================] - 2s 46ms/step - loss: 0.0768 - acc: 0.9950 - val_loss: 3.9511 - val_acc: 0.7296\n",
      "Epoch 370/1000\n",
      "37/37 [==============================] - 2s 46ms/step - loss: 0.0827 - acc: 0.9943 - val_loss: 3.9917 - val_acc: 0.7277\n",
      "Epoch 371/1000\n",
      "37/37 [==============================] - 2s 47ms/step - loss: 0.0770 - acc: 0.9950 - val_loss: 3.9439 - val_acc: 0.7264\n",
      "Epoch 372/1000\n",
      "37/37 [==============================] - 2s 46ms/step - loss: 0.0767 - acc: 0.9950 - val_loss: 3.9365 - val_acc: 0.7257\n",
      "Epoch 373/1000\n",
      "37/37 [==============================] - 2s 46ms/step - loss: 0.0765 - acc: 0.9950 - val_loss: 3.9732 - val_acc: 0.7290\n",
      "Epoch 374/1000\n",
      "37/37 [==============================] - 2s 47ms/step - loss: 0.0767 - acc: 0.9950 - val_loss: 3.9606 - val_acc: 0.7290\n",
      "Epoch 375/1000\n",
      "37/37 [==============================] - 2s 47ms/step - loss: 0.0798 - acc: 0.9938 - val_loss: 4.1026 - val_acc: 0.7219\n",
      "Epoch 376/1000\n",
      "37/37 [==============================] - 2s 46ms/step - loss: 0.1060 - acc: 0.9906 - val_loss: 4.0137 - val_acc: 0.7257\n",
      "Epoch 377/1000\n",
      "37/37 [==============================] - 2s 46ms/step - loss: 1.1117 - acc: 0.9196 - val_loss: 3.7912 - val_acc: 0.7342\n",
      "Epoch 378/1000\n",
      "37/37 [==============================] - 2s 46ms/step - loss: 0.9726 - acc: 0.9209 - val_loss: 3.1348 - val_acc: 0.7180\n",
      "Epoch 379/1000\n",
      "37/37 [==============================] - 2s 47ms/step - loss: 0.7707 - acc: 0.9281 - val_loss: 1.9736 - val_acc: 0.7393\n",
      "Epoch 380/1000\n",
      "37/37 [==============================] - 2s 47ms/step - loss: 0.3435 - acc: 0.9566 - val_loss: 2.0002 - val_acc: 0.7335\n",
      "Epoch 381/1000\n",
      "37/37 [==============================] - 2s 46ms/step - loss: 0.1750 - acc: 0.9643 - val_loss: 2.7799 - val_acc: 0.7354\n",
      "Epoch 382/1000\n",
      "37/37 [==============================] - 2s 46ms/step - loss: 0.1409 - acc: 0.9806 - val_loss: 3.1876 - val_acc: 0.7374\n",
      "Epoch 383/1000\n",
      "37/37 [==============================] - 2s 47ms/step - loss: 0.1284 - acc: 0.9846 - val_loss: 3.3326 - val_acc: 0.7348\n",
      "Epoch 384/1000\n",
      "37/37 [==============================] - 2s 46ms/step - loss: 0.1239 - acc: 0.9889 - val_loss: 3.4498 - val_acc: 0.7348\n",
      "Epoch 385/1000\n",
      "37/37 [==============================] - 2s 47ms/step - loss: 0.1236 - acc: 0.9886 - val_loss: 3.2903 - val_acc: 0.7348\n",
      "Epoch 386/1000\n",
      "37/37 [==============================] - 2s 46ms/step - loss: 0.1185 - acc: 0.9888 - val_loss: 3.3559 - val_acc: 0.7361\n",
      "Epoch 387/1000\n",
      "37/37 [==============================] - 2s 47ms/step - loss: 0.1176 - acc: 0.9907 - val_loss: 3.5277 - val_acc: 0.7245\n",
      "Epoch 388/1000\n",
      "37/37 [==============================] - 2s 47ms/step - loss: 0.1333 - acc: 0.9801 - val_loss: 3.5000 - val_acc: 0.7270\n",
      "Epoch 389/1000\n",
      "37/37 [==============================] - 2s 47ms/step - loss: 0.1091 - acc: 0.9919 - val_loss: 3.5801 - val_acc: 0.7303\n",
      "Epoch 390/1000\n",
      "37/37 [==============================] - 2s 46ms/step - loss: 0.1032 - acc: 0.9917 - val_loss: 3.5853 - val_acc: 0.7283\n",
      "Epoch 391/1000\n",
      "37/37 [==============================] - 2s 46ms/step - loss: 0.1096 - acc: 0.9924 - val_loss: 3.6096 - val_acc: 0.7296\n",
      "Epoch 392/1000\n",
      "37/37 [==============================] - 2s 46ms/step - loss: 0.1023 - acc: 0.9922 - val_loss: 3.6446 - val_acc: 0.7283\n",
      "Epoch 393/1000\n",
      "37/37 [==============================] - 2s 46ms/step - loss: 0.1005 - acc: 0.9923 - val_loss: 3.7026 - val_acc: 0.7303\n",
      "Epoch 394/1000\n",
      "37/37 [==============================] - 2s 46ms/step - loss: 0.1014 - acc: 0.9921 - val_loss: 3.7443 - val_acc: 0.7309\n",
      "Epoch 395/1000\n",
      "37/37 [==============================] - 2s 47ms/step - loss: 0.1002 - acc: 0.9935 - val_loss: 3.7503 - val_acc: 0.7309\n",
      "Epoch 396/1000\n",
      "37/37 [==============================] - 2s 46ms/step - loss: 0.1009 - acc: 0.9931 - val_loss: 3.7537 - val_acc: 0.7303\n",
      "Epoch 397/1000\n",
      "37/37 [==============================] - 2s 47ms/step - loss: 0.0992 - acc: 0.9935 - val_loss: 3.7647 - val_acc: 0.7303\n",
      "Epoch 398/1000\n",
      "37/37 [==============================] - 2s 47ms/step - loss: 0.1013 - acc: 0.9922 - val_loss: 3.7425 - val_acc: 0.7290\n",
      "Epoch 399/1000\n",
      "37/37 [==============================] - 2s 47ms/step - loss: 0.0997 - acc: 0.9931 - val_loss: 3.7805 - val_acc: 0.7296\n",
      "Epoch 400/1000\n",
      "37/37 [==============================] - 2s 46ms/step - loss: 0.0994 - acc: 0.9929 - val_loss: 3.7732 - val_acc: 0.7290\n",
      "Epoch 401/1000\n",
      "37/37 [==============================] - 2s 46ms/step - loss: 0.0989 - acc: 0.9934 - val_loss: 3.8303 - val_acc: 0.7303\n",
      "Epoch 402/1000\n",
      "37/37 [==============================] - 2s 47ms/step - loss: 0.0985 - acc: 0.9931 - val_loss: 3.7869 - val_acc: 0.7264\n",
      "Epoch 403/1000\n",
      "37/37 [==============================] - 2s 47ms/step - loss: 0.0985 - acc: 0.9932 - val_loss: 3.7894 - val_acc: 0.7257\n",
      "Epoch 404/1000\n",
      "37/37 [==============================] - 2s 47ms/step - loss: 0.0979 - acc: 0.9936 - val_loss: 3.8063 - val_acc: 0.7270\n",
      "Epoch 405/1000\n",
      "37/37 [==============================] - 2s 47ms/step - loss: 0.0979 - acc: 0.9937 - val_loss: 3.8298 - val_acc: 0.7264\n",
      "Epoch 406/1000\n",
      "37/37 [==============================] - 2s 47ms/step - loss: 0.0980 - acc: 0.9936 - val_loss: 3.8305 - val_acc: 0.7245\n",
      "Epoch 407/1000\n",
      "37/37 [==============================] - 2s 47ms/step - loss: 0.0980 - acc: 0.9937 - val_loss: 3.8303 - val_acc: 0.7251\n",
      "Epoch 408/1000\n",
      "37/37 [==============================] - 2s 46ms/step - loss: 0.0982 - acc: 0.9936 - val_loss: 3.8248 - val_acc: 0.7257\n",
      "Epoch 409/1000\n",
      "37/37 [==============================] - 2s 46ms/step - loss: 0.0979 - acc: 0.9936 - val_loss: 3.8527 - val_acc: 0.7238\n",
      "Epoch 410/1000\n",
      "37/37 [==============================] - 2s 47ms/step - loss: 0.0984 - acc: 0.9932 - val_loss: 3.8212 - val_acc: 0.7264\n",
      "Epoch 411/1000\n",
      "37/37 [==============================] - 2s 46ms/step - loss: 0.0974 - acc: 0.9935 - val_loss: 3.8401 - val_acc: 0.7283\n",
      "Epoch 412/1000\n",
      "37/37 [==============================] - 2s 46ms/step - loss: 0.0977 - acc: 0.9936 - val_loss: 3.8229 - val_acc: 0.7251\n",
      "Epoch 413/1000\n",
      "37/37 [==============================] - 2s 46ms/step - loss: 0.0977 - acc: 0.9937 - val_loss: 3.8468 - val_acc: 0.7270\n",
      "Restoring model weights from the end of the best epoch.\n",
      "Epoch 00413: early stopping\n"
     ]
    },
    {
     "name": "stderr",
     "output_type": "stream",
     "text": [
      "\r",
      " 67%|██████▋   | 2/3 [17:54<09:27, 567.73s/it]"
     ]
    },
    {
     "name": "stdout",
     "output_type": "stream",
     "text": [
      "정확도 : 0.7631067961165049\n",
      "Epoch 1/1000\n",
      "37/37 [==============================] - 6s 71ms/step - loss: 1.3006 - acc: 0.5089 - val_loss: 0.6670 - val_acc: 0.6177\n",
      "Epoch 2/1000\n",
      "37/37 [==============================] - 2s 46ms/step - loss: 0.9530 - acc: 0.5512 - val_loss: 0.6719 - val_acc: 0.6177\n",
      "Epoch 3/1000\n",
      "37/37 [==============================] - 2s 46ms/step - loss: 0.7605 - acc: 0.5361 - val_loss: 0.6616 - val_acc: 0.6177\n",
      "Epoch 4/1000\n",
      "37/37 [==============================] - 2s 46ms/step - loss: 0.7046 - acc: 0.5623 - val_loss: 0.6517 - val_acc: 0.6177\n",
      "Epoch 5/1000\n",
      "37/37 [==============================] - 2s 46ms/step - loss: 0.6935 - acc: 0.5996 - val_loss: 0.6171 - val_acc: 0.6177\n",
      "Epoch 6/1000\n",
      "37/37 [==============================] - 2s 46ms/step - loss: 0.6489 - acc: 0.6197 - val_loss: 0.5613 - val_acc: 0.7549\n",
      "Epoch 7/1000\n",
      "37/37 [==============================] - 2s 46ms/step - loss: 0.5793 - acc: 0.7240 - val_loss: 0.5058 - val_acc: 0.7730\n",
      "Epoch 8/1000\n",
      "37/37 [==============================] - 2s 45ms/step - loss: 0.6030 - acc: 0.7675 - val_loss: 0.6245 - val_acc: 0.6177\n",
      "Epoch 9/1000\n",
      "37/37 [==============================] - 2s 46ms/step - loss: 0.6394 - acc: 0.6991 - val_loss: 0.5313 - val_acc: 0.7626\n",
      "Epoch 10/1000\n",
      "37/37 [==============================] - 2s 46ms/step - loss: 0.5062 - acc: 0.7832 - val_loss: 0.5101 - val_acc: 0.7658\n",
      "Epoch 11/1000\n",
      "37/37 [==============================] - 2s 46ms/step - loss: 0.4802 - acc: 0.8219 - val_loss: 0.7636 - val_acc: 0.7613\n",
      "Epoch 12/1000\n",
      "37/37 [==============================] - 2s 46ms/step - loss: 0.5573 - acc: 0.7977 - val_loss: 0.5162 - val_acc: 0.7542\n",
      "Epoch 13/1000\n",
      "37/37 [==============================] - 2s 46ms/step - loss: 0.4479 - acc: 0.8406 - val_loss: 0.5503 - val_acc: 0.7807\n",
      "Epoch 14/1000\n",
      "37/37 [==============================] - 2s 46ms/step - loss: 0.4113 - acc: 0.8599 - val_loss: 0.9574 - val_acc: 0.7704\n",
      "Epoch 15/1000\n",
      "37/37 [==============================] - 2s 46ms/step - loss: 0.4676 - acc: 0.8655 - val_loss: 1.1032 - val_acc: 0.7749\n",
      "Epoch 16/1000\n",
      "37/37 [==============================] - 2s 46ms/step - loss: 0.4783 - acc: 0.8793 - val_loss: 1.0737 - val_acc: 0.7451\n",
      "Epoch 17/1000\n",
      "37/37 [==============================] - 2s 46ms/step - loss: 0.4773 - acc: 0.8554 - val_loss: 0.7432 - val_acc: 0.6953\n",
      "Epoch 18/1000\n",
      "37/37 [==============================] - 2s 46ms/step - loss: 0.5046 - acc: 0.7552 - val_loss: 1.0105 - val_acc: 0.7510\n",
      "Epoch 19/1000\n",
      "37/37 [==============================] - 2s 46ms/step - loss: 0.3729 - acc: 0.8822 - val_loss: 1.1242 - val_acc: 0.7697\n",
      "Epoch 20/1000\n",
      "37/37 [==============================] - 2s 45ms/step - loss: 0.4087 - acc: 0.8873 - val_loss: 0.8721 - val_acc: 0.7257\n",
      "Epoch 21/1000\n",
      "37/37 [==============================] - 2s 46ms/step - loss: 0.3717 - acc: 0.8810 - val_loss: 1.1940 - val_acc: 0.7574\n",
      "Epoch 22/1000\n",
      "37/37 [==============================] - 2s 46ms/step - loss: 0.3817 - acc: 0.9016 - val_loss: 1.4427 - val_acc: 0.7704\n",
      "Epoch 23/1000\n",
      "37/37 [==============================] - 2s 46ms/step - loss: 0.9163 - acc: 0.7590 - val_loss: 0.6662 - val_acc: 0.6177\n",
      "Epoch 24/1000\n",
      "37/37 [==============================] - 2s 46ms/step - loss: 0.5873 - acc: 0.6534 - val_loss: 0.6387 - val_acc: 0.6177\n",
      "Epoch 25/1000\n",
      "37/37 [==============================] - 2s 46ms/step - loss: 0.5312 - acc: 0.7025 - val_loss: 0.5871 - val_acc: 0.7206\n",
      "Epoch 26/1000\n",
      "37/37 [==============================] - 2s 46ms/step - loss: 0.5043 - acc: 0.7622 - val_loss: 0.7943 - val_acc: 0.7206\n",
      "Epoch 27/1000\n",
      "37/37 [==============================] - 2s 46ms/step - loss: 0.4806 - acc: 0.8022 - val_loss: 0.9253 - val_acc: 0.7193\n",
      "Epoch 28/1000\n",
      "37/37 [==============================] - 2s 46ms/step - loss: 0.4532 - acc: 0.8266 - val_loss: 1.0353 - val_acc: 0.7154\n",
      "Epoch 29/1000\n",
      "37/37 [==============================] - 2s 46ms/step - loss: 0.4228 - acc: 0.8471 - val_loss: 1.3081 - val_acc: 0.7238\n",
      "Epoch 30/1000\n",
      "37/37 [==============================] - 2s 46ms/step - loss: 0.4228 - acc: 0.8562 - val_loss: 1.3664 - val_acc: 0.7212\n",
      "Epoch 31/1000\n",
      "37/37 [==============================] - 2s 46ms/step - loss: 0.4082 - acc: 0.8763 - val_loss: 1.4298 - val_acc: 0.7212\n",
      "Epoch 32/1000\n",
      "37/37 [==============================] - 2s 46ms/step - loss: 0.3662 - acc: 0.8864 - val_loss: 1.5264 - val_acc: 0.7251\n",
      "Epoch 33/1000\n",
      "37/37 [==============================] - 2s 46ms/step - loss: 0.3584 - acc: 0.8927 - val_loss: 1.5891 - val_acc: 0.7251\n",
      "Epoch 34/1000\n",
      "37/37 [==============================] - 2s 46ms/step - loss: 0.3402 - acc: 0.8991 - val_loss: 1.6302 - val_acc: 0.7277\n",
      "Epoch 35/1000\n",
      "37/37 [==============================] - 2s 46ms/step - loss: 0.3344 - acc: 0.9107 - val_loss: 1.6453 - val_acc: 0.7335\n",
      "Epoch 36/1000\n",
      "37/37 [==============================] - 2s 46ms/step - loss: 0.3217 - acc: 0.9096 - val_loss: 1.6731 - val_acc: 0.7354\n",
      "Epoch 37/1000\n",
      "37/37 [==============================] - 2s 46ms/step - loss: 0.3066 - acc: 0.9177 - val_loss: 1.3954 - val_acc: 0.7257\n",
      "Epoch 38/1000\n",
      "37/37 [==============================] - 2s 46ms/step - loss: 0.3240 - acc: 0.9095 - val_loss: 1.4896 - val_acc: 0.7367\n",
      "Epoch 39/1000\n",
      "37/37 [==============================] - 2s 46ms/step - loss: 0.2882 - acc: 0.9211 - val_loss: 1.6191 - val_acc: 0.7406\n",
      "Epoch 40/1000\n",
      "37/37 [==============================] - 2s 46ms/step - loss: 0.2858 - acc: 0.9263 - val_loss: 1.7125 - val_acc: 0.7393\n",
      "Epoch 41/1000\n",
      "37/37 [==============================] - 2s 46ms/step - loss: 0.2792 - acc: 0.9309 - val_loss: 1.7118 - val_acc: 0.7426\n",
      "Epoch 42/1000\n",
      "37/37 [==============================] - 2s 46ms/step - loss: 0.2663 - acc: 0.9350 - val_loss: 1.8616 - val_acc: 0.7458\n",
      "Epoch 43/1000\n",
      "37/37 [==============================] - 2s 46ms/step - loss: 0.2710 - acc: 0.9379 - val_loss: 1.7395 - val_acc: 0.7490\n",
      "Epoch 44/1000\n",
      "37/37 [==============================] - 2s 46ms/step - loss: 0.2674 - acc: 0.9435 - val_loss: 1.7956 - val_acc: 0.7503\n",
      "Epoch 45/1000\n",
      "37/37 [==============================] - 2s 46ms/step - loss: 0.2642 - acc: 0.9358 - val_loss: 1.7912 - val_acc: 0.7451\n",
      "Epoch 46/1000\n",
      "37/37 [==============================] - 2s 46ms/step - loss: 0.2454 - acc: 0.9440 - val_loss: 1.8984 - val_acc: 0.7471\n",
      "Epoch 47/1000\n",
      "37/37 [==============================] - 2s 46ms/step - loss: 0.2423 - acc: 0.9471 - val_loss: 1.8953 - val_acc: 0.7490\n",
      "Epoch 48/1000\n",
      "37/37 [==============================] - 2s 46ms/step - loss: 0.2357 - acc: 0.9500 - val_loss: 1.8891 - val_acc: 0.7484\n",
      "Epoch 49/1000\n",
      "37/37 [==============================] - 2s 47ms/step - loss: 0.2313 - acc: 0.9548 - val_loss: 1.9684 - val_acc: 0.7490\n",
      "Epoch 50/1000\n",
      "37/37 [==============================] - 2s 46ms/step - loss: 0.2293 - acc: 0.9538 - val_loss: 2.0225 - val_acc: 0.7477\n",
      "Epoch 51/1000\n",
      "37/37 [==============================] - 2s 46ms/step - loss: 0.2192 - acc: 0.9590 - val_loss: 2.2245 - val_acc: 0.7400\n",
      "Epoch 52/1000\n",
      "37/37 [==============================] - 2s 46ms/step - loss: 0.2272 - acc: 0.9550 - val_loss: 1.8923 - val_acc: 0.7516\n",
      "Epoch 53/1000\n",
      "37/37 [==============================] - 2s 46ms/step - loss: 0.2486 - acc: 0.9590 - val_loss: 2.0427 - val_acc: 0.7432\n",
      "Epoch 54/1000\n",
      "37/37 [==============================] - 2s 46ms/step - loss: 0.2154 - acc: 0.9634 - val_loss: 2.0646 - val_acc: 0.7451\n",
      "Epoch 55/1000\n",
      "37/37 [==============================] - 2s 46ms/step - loss: 0.2195 - acc: 0.9656 - val_loss: 2.1954 - val_acc: 0.7380\n",
      "Epoch 56/1000\n",
      "37/37 [==============================] - 2s 46ms/step - loss: 0.2315 - acc: 0.9420 - val_loss: 2.0486 - val_acc: 0.7335\n",
      "Epoch 57/1000\n",
      "37/37 [==============================] - 2s 46ms/step - loss: 0.2103 - acc: 0.9593 - val_loss: 1.9442 - val_acc: 0.7374\n",
      "Epoch 58/1000\n",
      "37/37 [==============================] - 2s 46ms/step - loss: 0.2142 - acc: 0.9620 - val_loss: 1.4504 - val_acc: 0.7464\n",
      "Epoch 59/1000\n",
      "37/37 [==============================] - 2s 46ms/step - loss: 0.3378 - acc: 0.9393 - val_loss: 1.7241 - val_acc: 0.7432\n",
      "Epoch 60/1000\n",
      "37/37 [==============================] - 2s 46ms/step - loss: 0.2902 - acc: 0.9479 - val_loss: 2.2480 - val_acc: 0.7083\n",
      "Epoch 61/1000\n",
      "37/37 [==============================] - 2s 46ms/step - loss: 0.3781 - acc: 0.9182 - val_loss: 1.9796 - val_acc: 0.7154\n",
      "Epoch 62/1000\n"
     ]
    },
    {
     "name": "stdout",
     "output_type": "stream",
     "text": [
      "37/37 [==============================] - 2s 46ms/step - loss: 0.2390 - acc: 0.9541 - val_loss: 1.9410 - val_acc: 0.7329\n",
      "Epoch 63/1000\n",
      "37/37 [==============================] - 2s 46ms/step - loss: 0.2046 - acc: 0.9624 - val_loss: 1.9908 - val_acc: 0.7354\n",
      "Epoch 64/1000\n",
      "37/37 [==============================] - 2s 46ms/step - loss: 0.2040 - acc: 0.9653 - val_loss: 2.0153 - val_acc: 0.7406\n",
      "Epoch 65/1000\n",
      "37/37 [==============================] - 2s 46ms/step - loss: 0.2245 - acc: 0.9659 - val_loss: 2.2085 - val_acc: 0.7354\n",
      "Epoch 66/1000\n",
      "37/37 [==============================] - 2s 46ms/step - loss: 0.1954 - acc: 0.9679 - val_loss: 1.8724 - val_acc: 0.7322\n",
      "Epoch 67/1000\n",
      "37/37 [==============================] - 2s 46ms/step - loss: 0.1645 - acc: 0.9689 - val_loss: 2.0977 - val_acc: 0.7419\n",
      "Epoch 68/1000\n",
      "37/37 [==============================] - 2s 46ms/step - loss: 0.2672 - acc: 0.9398 - val_loss: 1.7006 - val_acc: 0.7122\n",
      "Epoch 69/1000\n",
      "37/37 [==============================] - 2s 46ms/step - loss: 0.2115 - acc: 0.9477 - val_loss: 1.9088 - val_acc: 0.7290\n",
      "Epoch 70/1000\n",
      "37/37 [==============================] - 2s 46ms/step - loss: 0.1926 - acc: 0.9641 - val_loss: 1.8776 - val_acc: 0.7419\n",
      "Epoch 71/1000\n",
      "37/37 [==============================] - 2s 46ms/step - loss: 0.1685 - acc: 0.9688 - val_loss: 1.9004 - val_acc: 0.7387\n",
      "Epoch 72/1000\n",
      "37/37 [==============================] - 2s 46ms/step - loss: 0.1826 - acc: 0.9695 - val_loss: 1.9268 - val_acc: 0.7380\n"
     ]
    }
   ],
   "source": [
    "# pa_list = [30, 50, 80, 100, 150]\n",
    "pa_list = [200, 400, 600]\n",
    "정확도_list = []\n",
    "\n",
    "seed_num = 42\n",
    "import random\n",
    "random.seed(seed_num) # data shuffle할 때의 random seed \n",
    "\n",
    "x = np.load('/project/LSH/x_(7727,10,4069).npy')\n",
    "y = np.load('/project/LSH/y_(7727,1).npy')\n",
    "\n",
    "idx = list(range(len(x)))\n",
    "random.shuffle(idx)\n",
    "\n",
    "i = round(x.shape[0]*0.8)\n",
    "X_train, y_train = x[idx[:i],:,:], y[idx[:i]]\n",
    "X_test, y_test = x[idx[i:],:,:], y[idx[i:]]\n",
    "\n",
    "\n",
    "from keras.models import Sequential\n",
    "from keras.layers import Dense\n",
    "from keras.layers import LSTM\n",
    "from keras.layers import Dropout\n",
    "from keras.layers import InputLayer\n",
    "import tensorflow as tf\n",
    "from tqdm import tqdm\n",
    "from sklearn import metrics \n",
    "\n",
    "def lstm2(pa, seed_num):\n",
    "    \n",
    "    tf.random.set_seed(seed_num) # 초기 weight를 어떻게 줄 것인가 \n",
    "\n",
    "    lstm = Sequential()\n",
    "    lstm.add(InputLayer(input_shape=(X_train.shape[1],X_train.shape[2])))\n",
    "    lstm.add(LSTM(units=128, activation='sigmoid', return_sequences=True))\n",
    "    lstm.add(LSTM(units=64, activation='sigmoid', return_sequences=True))\n",
    "    lstm.add(Dropout(0.2))\n",
    "    lstm.add(LSTM(units=64, activation='sigmoid', return_sequences=True))\n",
    "    lstm.add(LSTM(units=32, activation='sigmoid', return_sequences=False))\n",
    "    lstm.add(Dropout(0.2))\n",
    "    lstm.add(Dense(units=1))\n",
    "#     lstm.summary()\n",
    "\n",
    "    import sklearn.metrics\n",
    "    from keras.callbacks import EarlyStopping\n",
    "\n",
    "    # -------- 수정할 부분 ---------\n",
    "    ep = 1000\n",
    "#     pa = 30\n",
    "    # -----------------------------\n",
    "\n",
    "    early_stop = EarlyStopping(monitor='val_acc', patience=pa, verbose=1, restore_best_weights=True)\n",
    "    lstm.compile(optimizer= \"adam\", loss = \"binary_crossentropy\", metrics=['acc'])\n",
    "    history = lstm.fit(X_train, y_train, validation_split=0.25, batch_size=128, epochs=ep,  callbacks=[early_stop], shuffle=False)\n",
    "\n",
    "    preds = lstm.predict(X_test)\n",
    "\n",
    "    preds[preds>0.5]=1\n",
    "    preds[preds<=0.5]=0\n",
    "\n",
    "#     from sklearn import metrics \n",
    "    print('정확도 :', metrics.accuracy_score(y_test, preds))\n",
    "    return metrics.accuracy_score(y_test, preds)\n",
    "\n",
    "\n",
    "for i in tqdm(pa_list):\n",
    "    pred = lstm2(i, seed_num)\n",
    "    정확도_list.append(pred)"
   ]
  },
  {
   "cell_type": "code",
   "execution_count": null,
   "id": "3d543db5",
   "metadata": {
    "scrolled": true
   },
   "outputs": [],
   "source": [
    "정확도_list"
   ]
  },
  {
   "cell_type": "code",
   "execution_count": null,
   "id": "110a13b3",
   "metadata": {},
   "outputs": [],
   "source": []
  },
  {
   "cell_type": "code",
   "execution_count": null,
   "id": "d3028a55",
   "metadata": {},
   "outputs": [],
   "source": []
  },
  {
   "cell_type": "markdown",
   "id": "2bafb774",
   "metadata": {},
   "source": [
    "## LSTM 2"
   ]
  },
  {
   "cell_type": "code",
   "execution_count": 85,
   "id": "8540d3ed",
   "metadata": {
    "scrolled": true
   },
   "outputs": [
    {
     "name": "stdout",
     "output_type": "stream",
     "text": [
      "Epoch 1/500\n",
      "37/37 [==============================] - 12s 212ms/step - loss: 10.6661 - acc: 0.3085 - val_loss: 7.6426 - val_acc: 0.5045\n",
      "Epoch 2/500\n",
      "37/37 [==============================] - 7s 184ms/step - loss: 10.6661 - acc: 0.3085 - val_loss: 7.6426 - val_acc: 0.5045\n",
      "Epoch 3/500\n",
      "37/37 [==============================] - 7s 185ms/step - loss: 10.6661 - acc: 0.3085 - val_loss: 7.6426 - val_acc: 0.5045\n",
      "Epoch 4/500\n",
      "37/37 [==============================] - 7s 185ms/step - loss: 10.6661 - acc: 0.3085 - val_loss: 7.6426 - val_acc: 0.5045\n",
      "Epoch 5/500\n",
      "37/37 [==============================] - 7s 185ms/step - loss: 10.6661 - acc: 0.3085 - val_loss: 7.6426 - val_acc: 0.5045\n",
      "Epoch 6/500\n",
      "37/37 [==============================] - 7s 186ms/step - loss: 10.6661 - acc: 0.3085 - val_loss: 7.6426 - val_acc: 0.5045\n",
      "Epoch 7/500\n",
      "37/37 [==============================] - 7s 186ms/step - loss: 10.6661 - acc: 0.3085 - val_loss: 7.6426 - val_acc: 0.5045\n",
      "Epoch 8/500\n",
      "37/37 [==============================] - 7s 184ms/step - loss: 10.6661 - acc: 0.3085 - val_loss: 7.6426 - val_acc: 0.5045\n",
      "Epoch 9/500\n",
      "37/37 [==============================] - 7s 185ms/step - loss: 10.6661 - acc: 0.3085 - val_loss: 7.6426 - val_acc: 0.5045\n",
      "Epoch 10/500\n",
      "37/37 [==============================] - 7s 185ms/step - loss: 10.6661 - acc: 0.3085 - val_loss: 7.6426 - val_acc: 0.5045\n",
      "Epoch 11/500\n",
      "37/37 [==============================] - 7s 186ms/step - loss: 10.6661 - acc: 0.3085 - val_loss: 7.6426 - val_acc: 0.5045\n",
      "Epoch 12/500\n",
      "37/37 [==============================] - 7s 185ms/step - loss: 10.6661 - acc: 0.3085 - val_loss: 7.6426 - val_acc: 0.5045\n",
      "Epoch 13/500\n",
      "37/37 [==============================] - 7s 185ms/step - loss: 10.6661 - acc: 0.3085 - val_loss: 7.6426 - val_acc: 0.5045\n",
      "Epoch 14/500\n",
      "37/37 [==============================] - 7s 184ms/step - loss: 10.6661 - acc: 0.3085 - val_loss: 7.6426 - val_acc: 0.5045\n",
      "Epoch 15/500\n",
      "37/37 [==============================] - 7s 185ms/step - loss: 10.6661 - acc: 0.3085 - val_loss: 7.6426 - val_acc: 0.5045\n",
      "Epoch 16/500\n",
      "37/37 [==============================] - 7s 184ms/step - loss: 10.6661 - acc: 0.3085 - val_loss: 7.6426 - val_acc: 0.5045\n",
      "Epoch 17/500\n",
      "37/37 [==============================] - 7s 185ms/step - loss: 10.6661 - acc: 0.3085 - val_loss: 7.6426 - val_acc: 0.5045\n",
      "Epoch 18/500\n",
      "37/37 [==============================] - 7s 186ms/step - loss: 10.6661 - acc: 0.3085 - val_loss: 7.6426 - val_acc: 0.5045\n",
      "Epoch 19/500\n",
      "37/37 [==============================] - 7s 185ms/step - loss: 10.6661 - acc: 0.3085 - val_loss: 7.6426 - val_acc: 0.5045\n",
      "Epoch 20/500\n",
      "37/37 [==============================] - 7s 185ms/step - loss: 10.6661 - acc: 0.3085 - val_loss: 7.6426 - val_acc: 0.5045\n",
      "Epoch 21/500\n",
      "37/37 [==============================] - 7s 185ms/step - loss: 10.6661 - acc: 0.3085 - val_loss: 7.6426 - val_acc: 0.5045\n",
      "Epoch 22/500\n",
      "37/37 [==============================] - 7s 185ms/step - loss: 10.6661 - acc: 0.3085 - val_loss: 7.6426 - val_acc: 0.5045\n",
      "Epoch 23/500\n",
      "37/37 [==============================] - 7s 184ms/step - loss: 10.6661 - acc: 0.3085 - val_loss: 7.6426 - val_acc: 0.5045\n",
      "Epoch 24/500\n",
      "37/37 [==============================] - 7s 185ms/step - loss: 10.6661 - acc: 0.3085 - val_loss: 7.6426 - val_acc: 0.5045\n",
      "Epoch 25/500\n",
      "37/37 [==============================] - 7s 185ms/step - loss: 10.6661 - acc: 0.3085 - val_loss: 7.6426 - val_acc: 0.5045\n",
      "Epoch 26/500\n",
      "37/37 [==============================] - 7s 185ms/step - loss: 10.6661 - acc: 0.3085 - val_loss: 7.6426 - val_acc: 0.5045\n",
      "Epoch 27/500\n",
      "37/37 [==============================] - 7s 185ms/step - loss: 10.6661 - acc: 0.3085 - val_loss: 7.6426 - val_acc: 0.5045\n",
      "Epoch 28/500\n",
      "37/37 [==============================] - 7s 184ms/step - loss: 10.6661 - acc: 0.3085 - val_loss: 7.6426 - val_acc: 0.5045\n",
      "Epoch 29/500\n",
      "37/37 [==============================] - 7s 184ms/step - loss: 10.6661 - acc: 0.3085 - val_loss: 7.6426 - val_acc: 0.5045\n",
      "Epoch 30/500\n",
      "37/37 [==============================] - 7s 185ms/step - loss: 10.6661 - acc: 0.3085 - val_loss: 7.6426 - val_acc: 0.5045\n",
      "Epoch 31/500\n",
      "37/37 [==============================] - 7s 186ms/step - loss: 10.6661 - acc: 0.3085 - val_loss: 7.6426 - val_acc: 0.5045\n",
      "Restoring model weights from the end of the best epoch.\n",
      "Epoch 00031: early stopping\n",
      "정확도 : 0.5093851132686085\n"
     ]
    }
   ],
   "source": [
    "x = np.load('/project/LSH/x_(7727,10,4069).npy')\n",
    "y = np.load('/project/LSH/y_(7727,1).npy')\n",
    "\n",
    "i = round(x.shape[0]*0.8)\n",
    "X_train, y_train = x[:i,:,:], y[:i]\n",
    "X_test, y_test = x[i:,:,:], y[i:]\n",
    "\n",
    "from keras.models import Sequential\n",
    "from keras.layers import Dense\n",
    "from keras.layers import LSTM\n",
    "from keras.layers import Dropout\n",
    "from keras.layers import *\n",
    "\n",
    "lstm2 = Sequential()\n",
    "lstm2.add(InputLayer(input_shape=(X_train.shape[1],X_train.shape[2])))\n",
    "lstm2.add(LSTM(units=512, activation='tanh', return_sequences=True))\n",
    "lstm2.add(LSTM(units=256, activation='tanh', return_sequences=True))\n",
    "lstm2.add(LSTM(units=128, activation='tanh', return_sequences=True))\n",
    "lstm2.add(LSTM(units=64, activation='sigmoid', return_sequences=True))\n",
    "lstm2.add(LSTM(units=32, activation='sigmoid', return_sequences=False))\n",
    "lstm2.add(Dense(units=1))\n",
    "# lstm2.summary()\n",
    "\n",
    "\n",
    "import sklearn.metrics \n",
    "from keras.callbacks import EarlyStopping\n",
    "\n",
    "# -------- 수정할 부분 ---------\n",
    "ep = 500\n",
    "pa = 30\n",
    "# -----------------------------\n",
    "\n",
    "early_stop = EarlyStopping(monitor='val_acc', patience=pa, verbose=1, restore_best_weights=True)\n",
    "lstm2.compile(optimizer= \"adam\", loss = \"binary_crossentropy\", metrics=['acc'])\n",
    "history = lstm2.fit(X_train, y_train, validation_split=0.25, batch_size=128, epochs=ep,  callbacks=[early_stop], shuffle=False)\n",
    "\n",
    "preds = lstm2.predict(X_test)\n",
    "\n",
    "preds[preds>0.5]=1\n",
    "preds[preds<=0.5]=0\n",
    "\n",
    "from sklearn import metrics \n",
    "print('정확도 :', metrics.accuracy_score(y_test, preds))"
   ]
  },
  {
   "cell_type": "markdown",
   "id": "cf483541",
   "metadata": {},
   "source": [
    "## LSTM 3 (guri)"
   ]
  },
  {
   "cell_type": "code",
   "execution_count": 143,
   "id": "1195f9bc",
   "metadata": {
    "scrolled": true
   },
   "outputs": [
    {
     "name": "stdout",
     "output_type": "stream",
     "text": [
      "Epoch 1/30\n",
      "37/37 [==============================] - 5s 59ms/step - loss: 1.3046 - acc: 0.5013 - val_loss: 0.6364 - val_acc: 0.6171\n",
      "Epoch 2/30\n",
      "37/37 [==============================] - 1s 39ms/step - loss: 0.6095 - acc: 0.6787 - val_loss: 0.5935 - val_acc: 0.7083\n",
      "Epoch 3/30\n",
      "37/37 [==============================] - 1s 40ms/step - loss: 0.5697 - acc: 0.7235 - val_loss: 0.7068 - val_acc: 0.7445\n",
      "Epoch 4/30\n",
      "37/37 [==============================] - 1s 40ms/step - loss: 0.4877 - acc: 0.8145 - val_loss: 1.1898 - val_acc: 0.7484\n",
      "Epoch 5/30\n",
      "37/37 [==============================] - 1s 40ms/step - loss: 0.4274 - acc: 0.8522 - val_loss: 1.2030 - val_acc: 0.7432\n",
      "Epoch 6/30\n",
      "37/37 [==============================] - 1s 40ms/step - loss: 0.3806 - acc: 0.8860 - val_loss: 1.6623 - val_acc: 0.7387\n",
      "Epoch 7/30\n",
      "37/37 [==============================] - 1s 40ms/step - loss: 0.3301 - acc: 0.9075 - val_loss: 2.2775 - val_acc: 0.7167\n",
      "Epoch 8/30\n",
      "37/37 [==============================] - 1s 40ms/step - loss: 0.4236 - acc: 0.8862 - val_loss: 1.7584 - val_acc: 0.7523\n",
      "Epoch 9/30\n",
      "37/37 [==============================] - 1s 40ms/step - loss: 0.4324 - acc: 0.8885 - val_loss: 1.7403 - val_acc: 0.7147\n",
      "Epoch 10/30\n",
      "37/37 [==============================] - 1s 40ms/step - loss: 0.4128 - acc: 0.9043 - val_loss: 2.3006 - val_acc: 0.7296\n",
      "Epoch 11/30\n",
      "37/37 [==============================] - 1s 40ms/step - loss: 0.4395 - acc: 0.8807 - val_loss: 1.9451 - val_acc: 0.7038\n",
      "Epoch 12/30\n",
      "37/37 [==============================] - 1s 40ms/step - loss: 0.3894 - acc: 0.9210 - val_loss: 1.9927 - val_acc: 0.7329\n",
      "Epoch 13/30\n",
      "37/37 [==============================] - 1s 40ms/step - loss: 0.2850 - acc: 0.9427 - val_loss: 1.8505 - val_acc: 0.6934\n",
      "Epoch 14/30\n",
      "37/37 [==============================] - 1s 39ms/step - loss: 0.2764 - acc: 0.9426 - val_loss: 2.2613 - val_acc: 0.7303\n",
      "Epoch 15/30\n",
      "37/37 [==============================] - 1s 40ms/step - loss: 0.2493 - acc: 0.9536 - val_loss: 2.1685 - val_acc: 0.7290\n",
      "Epoch 16/30\n",
      "37/37 [==============================] - 1s 40ms/step - loss: 0.2081 - acc: 0.9635 - val_loss: 2.3793 - val_acc: 0.7270\n",
      "Epoch 17/30\n",
      "37/37 [==============================] - 1s 40ms/step - loss: 0.1979 - acc: 0.9668 - val_loss: 2.4718 - val_acc: 0.7296\n",
      "Epoch 18/30\n",
      "37/37 [==============================] - 1s 40ms/step - loss: 0.1745 - acc: 0.9728 - val_loss: 2.7575 - val_acc: 0.7309\n",
      "Epoch 19/30\n",
      "37/37 [==============================] - 1s 40ms/step - loss: 0.1668 - acc: 0.9745 - val_loss: 2.9258 - val_acc: 0.7277\n",
      "Epoch 20/30\n",
      "37/37 [==============================] - 1s 40ms/step - loss: 0.1622 - acc: 0.9767 - val_loss: 2.8645 - val_acc: 0.7387\n",
      "Epoch 21/30\n",
      "37/37 [==============================] - 1s 40ms/step - loss: 0.1640 - acc: 0.9771 - val_loss: 3.0680 - val_acc: 0.7277\n",
      "Epoch 22/30\n",
      "37/37 [==============================] - 1s 40ms/step - loss: 0.1597 - acc: 0.9778 - val_loss: 3.4590 - val_acc: 0.7193\n",
      "Epoch 23/30\n",
      "37/37 [==============================] - 1s 40ms/step - loss: 0.2463 - acc: 0.9612 - val_loss: 2.5432 - val_acc: 0.7167\n",
      "Epoch 24/30\n",
      "37/37 [==============================] - 1s 40ms/step - loss: 0.1701 - acc: 0.9737 - val_loss: 2.6319 - val_acc: 0.7257\n",
      "Epoch 25/30\n",
      "37/37 [==============================] - 1s 40ms/step - loss: 0.1478 - acc: 0.9813 - val_loss: 2.8023 - val_acc: 0.7270\n",
      "Epoch 26/30\n",
      "37/37 [==============================] - 1s 40ms/step - loss: 0.1436 - acc: 0.9813 - val_loss: 2.7877 - val_acc: 0.7264\n",
      "Epoch 27/30\n",
      "37/37 [==============================] - 1s 40ms/step - loss: 0.1376 - acc: 0.9855 - val_loss: 2.9043 - val_acc: 0.7296\n",
      "Epoch 28/30\n",
      "37/37 [==============================] - 1s 40ms/step - loss: 0.1350 - acc: 0.9862 - val_loss: 2.9920 - val_acc: 0.7309\n",
      "Epoch 29/30\n",
      "37/37 [==============================] - 1s 40ms/step - loss: 0.1326 - acc: 0.9879 - val_loss: 3.1772 - val_acc: 0.7245\n",
      "Epoch 30/30\n",
      "37/37 [==============================] - 1s 39ms/step - loss: 0.1311 - acc: 0.9893 - val_loss: 3.1779 - val_acc: 0.7316\n",
      "정확도 : 0.7546925566343042\n"
     ]
    }
   ],
   "source": [
    "import random\n",
    "seed_num = 42\n",
    "random.seed(seed_num)\n",
    "\n",
    "x = np.load('/project/LSH/x_(7727,10,4069).npy')\n",
    "y = np.load('/project/LSH/y_(7727,1).npy')\n",
    "\n",
    "idx = list(range(len(x)))\n",
    "random.shuffle(idx)\n",
    "\n",
    "i = round(x.shape[0]*0.8)\n",
    "X_train, y_train = x[idx[:i],:,:], y[idx[:i]]\n",
    "X_test, y_test = x[idx[i:],:,:], y[idx[i:]]\n",
    "\n",
    "from keras.models import Sequential\n",
    "from keras.layers import Dense\n",
    "from keras.layers import LSTM\n",
    "from keras.layers import Dropout\n",
    "from keras.layers import *\n",
    "\n",
    "seed_num = 42 \n",
    "tf.random.set_seed(seed_num)\n",
    "\n",
    "lstm2 = Sequential()\n",
    "lstm2.add(InputLayer(input_shape=(X_train.shape[1],X_train.shape[2])))\n",
    "lstm2.add(LSTM(units=128, activation='relu', return_sequences=True))\n",
    "lstm2.add(LSTM(units=64, activation='relu', return_sequences=True))\n",
    "lstm2.add(LSTM(units=32, activation='tanh', return_sequences=False))\n",
    "lstm2.add(Dense(units=1))\n",
    "# lstm2.summary()\n",
    "\n",
    "\n",
    "from keras.callbacks import EarlyStopping\n",
    "\n",
    "# -------- 수정할 부분 ---------\n",
    "ep = 30\n",
    "pa = 100\n",
    "# -----------------------------\n",
    "\n",
    "early_stop = EarlyStopping(monitor='val_acc', patience=pa, verbose=1, restore_best_weights=True)\n",
    "lstm2.compile(optimizer= \"adam\", loss = \"binary_crossentropy\", metrics=['acc'])\n",
    "history = lstm2.fit(X_train, y_train, validation_split=0.25, batch_size=128, epochs=ep,  callbacks=[early_stop], shuffle=False)\n",
    "\n",
    "preds = lstm2.predict(X_test)\n",
    "\n",
    "preds[preds>0.5]=1\n",
    "preds[preds<=0.5]=0\n",
    "\n",
    "import sklearn.metrics \n",
    "from sklearn.metrics import accuracy_score\n",
    "\n",
    "print('정확도 :', metrics.accuracy_score(y_test, preds))"
   ]
  }
 ],
 "metadata": {
  "kernelspec": {
   "display_name": "Python 3",
   "language": "python",
   "name": "python3"
  },
  "language_info": {
   "codemirror_mode": {
    "name": "ipython",
    "version": 3
   },
   "file_extension": ".py",
   "mimetype": "text/x-python",
   "name": "python",
   "nbconvert_exporter": "python",
   "pygments_lexer": "ipython3",
   "version": "3.8.5"
  },
  "toc": {
   "base_numbering": 1,
   "nav_menu": {},
   "number_sections": true,
   "sideBar": true,
   "skip_h1_title": false,
   "title_cell": "Table of Contents",
   "title_sidebar": "Contents",
   "toc_cell": false,
   "toc_position": {
    "height": "calc(100% - 180px)",
    "left": "10px",
    "top": "150px",
    "width": "279.491px"
   },
   "toc_section_display": true,
   "toc_window_display": true
  }
 },
 "nbformat": 4,
 "nbformat_minor": 5
}
