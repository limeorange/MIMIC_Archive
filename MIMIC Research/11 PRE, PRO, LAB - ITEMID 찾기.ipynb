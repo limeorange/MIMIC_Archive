{
 "cells": [
  {
   "cell_type": "code",
   "execution_count": 2,
   "id": "b89a4f36",
   "metadata": {},
   "outputs": [],
   "source": [
    "import numpy as np, os\n",
    "import pandas as pd\n",
    "import tensorflow as tf\n",
    "from tqdm import tqdm\n",
    "\n",
    "# 결과 확인을 용이하게 하기 위한 코드\n",
    "from IPython.core.interactiveshell import InteractiveShell\n",
    "InteractiveShell.ast_node_interactivity = 'all'"
   ]
  },
  {
   "cell_type": "code",
   "execution_count": 3,
   "id": "34f875cd",
   "metadata": {},
   "outputs": [
    {
     "name": "stderr",
     "output_type": "stream",
     "text": [
      "/usr/local/lib/python3.8/dist-packages/IPython/core/interactiveshell.py:3169: DtypeWarning: Columns (11) have mixed types.Specify dtype option on import or set low_memory=False.\n",
      "  has_raised = await self.run_ast_nodes(code_ast.body, cell_name,\n"
     ]
    }
   ],
   "source": [
    "mimic_path = '/data/MIMIC_III/'\n",
    "lab = pd.read_csv(mimic_path + 'D_LABITEMS.csv')\n",
    "pro = pd.read_csv(mimic_path + 'D_ITEMS.csv')\n",
    "pre = pd.read_csv(mimic_path + 'PRESCRIPTIONS.csv') #코드만 있기 때문에 필요 없음"
   ]
  },
  {
   "cell_type": "code",
   "execution_count": 23,
   "id": "1153c9f8",
   "metadata": {},
   "outputs": [],
   "source": [
    "all_df = pd.read_csv('df_all_best.csv')\n",
    "all_df = all_df.sort_values(by='diff',ascending=False)\n",
    "# all_df"
   ]
  },
  {
   "cell_type": "markdown",
   "id": "ed674f00",
   "metadata": {},
   "source": [
    "# pre"
   ]
  },
  {
   "cell_type": "code",
   "execution_count": 13,
   "id": "daea6181",
   "metadata": {},
   "outputs": [
    {
     "data": {
      "text/plain": [
       "array(['Verapamil HCl', 'Verapamil'], dtype=object)"
      ]
     },
     "execution_count": 13,
     "metadata": {},
     "output_type": "execute_result"
    },
    {
     "data": {
      "text/plain": [
       "2"
      ]
     },
     "execution_count": 13,
     "metadata": {},
     "output_type": "execute_result"
    },
    {
     "data": {
      "text/plain": [
       "array(['VERA40'], dtype=object)"
      ]
     },
     "execution_count": 13,
     "metadata": {},
     "output_type": "execute_result"
    }
   ],
   "source": [
    "pre[pre['NDC']==591040401]['DRUG'].unique()\n",
    "len(pre[pre['NDC']==591040401]['DRUG'].unique())\n",
    "pre[pre['NDC']==591040401]['FORMULARY_DRUG_CD'].unique()"
   ]
  },
  {
   "cell_type": "markdown",
   "id": "ce298d64",
   "metadata": {},
   "source": [
    "# lab"
   ]
  },
  {
   "cell_type": "code",
   "execution_count": 34,
   "id": "333985b5",
   "metadata": {},
   "outputs": [
    {
     "data": {
      "text/plain": [
       "194    Amylase\n",
       "Name: LABEL, dtype: object"
      ]
     },
     "execution_count": 34,
     "metadata": {},
     "output_type": "execute_result"
    }
   ],
   "source": [
    "# lab[lab['ITEMID'].isin([51148,51200,51148])]\n",
    "lab[lab['ITEMID']==50867]['LABEL']"
   ]
  },
  {
   "cell_type": "markdown",
   "id": "a993c8c5",
   "metadata": {},
   "source": [
    "# pro"
   ]
  },
  {
   "cell_type": "code",
   "execution_count": 24,
   "id": "9ac189f1",
   "metadata": {
    "scrolled": true
   },
   "outputs": [
    {
     "data": {
      "text/plain": [
       "9360    Chest X-Ray\n",
       "Name: LABEL, dtype: object"
      ]
     },
     "execution_count": 24,
     "metadata": {},
     "output_type": "execute_result"
    }
   ],
   "source": [
    "pro[pro['ITEMID']==225459]['LABEL']"
   ]
  }
 ],
 "metadata": {
  "kernelspec": {
   "display_name": "Python 3",
   "language": "python",
   "name": "python3"
  },
  "language_info": {
   "codemirror_mode": {
    "name": "ipython",
    "version": 3
   },
   "file_extension": ".py",
   "mimetype": "text/x-python",
   "name": "python",
   "nbconvert_exporter": "python",
   "pygments_lexer": "ipython3",
   "version": "3.8.5"
  },
  "toc": {
   "base_numbering": 1,
   "nav_menu": {},
   "number_sections": true,
   "sideBar": true,
   "skip_h1_title": false,
   "title_cell": "Table of Contents",
   "title_sidebar": "Contents",
   "toc_cell": false,
   "toc_position": {},
   "toc_section_display": true,
   "toc_window_display": false
  }
 },
 "nbformat": 4,
 "nbformat_minor": 5
}
